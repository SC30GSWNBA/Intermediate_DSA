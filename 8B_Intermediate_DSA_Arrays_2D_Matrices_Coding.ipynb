{
  "nbformat": 4,
  "nbformat_minor": 0,
  "metadata": {
    "colab": {
      "provenance": [],
      "collapsed_sections": []
    },
    "kernelspec": {
      "name": "python3",
      "display_name": "Python 3"
    },
    "language_info": {
      "name": "python"
    }
  },
  "cells": [
    {
      "cell_type": "markdown",
      "source": [
        "**Q1. Add the matrices**\n",
        "\n",
        "**Problem Description**\n",
        "\n",
        "You are given two matrices A & B of same size, you have to return another matrix which is the sum of A and B.\n",
        "\n",
        "**Problem Constraints**\n",
        "\n",
        "1 <= A.size(), B.size() <= 1000\n",
        "\n",
        "1 <= A[i].size(), B[i].size() <= 1000\n",
        "\n",
        "1 <= A[i][j], B[i][j] <= 1000\n",
        "\n",
        "**Input Format**\n",
        "\n",
        "First argument is vector of vector of integers representing matrix A.\n",
        "\n",
        "Second argument is vecotor of vector of integers representing matrix B.\n",
        "\n",
        "**Output Format**\n",
        "\n",
        "You have to return a vector of vector of integers after doing required operations.\n",
        "\n",
        "**Example Input**\n",
        "\n",
        "Input 1:\n",
        "\n",
        "A = [[1, 2, 3],[4, 5, 6],[7, 8, 9]]\n",
        "\n",
        "B = [[9, 8, 7],[6, 5, 4],[3, 2, 1]]\n",
        "\n",
        "**Example Output**\n",
        "\n",
        "Output 1:\n",
        "\n",
        "[[10, 10, 10], [10, 10, 10], [10, 10, 10]]\n",
        "\n",
        "**Example Explanation**\n",
        "\n",
        "Explanation 1:\n",
        "\n",
        "A + B = [[1+9, 2+8, 3+7],[4+6, 5+5, 6+4],[7+3, 8+2, 9+1]] = [[10, 10, 10], [10, 10, 10], [10, 10, 10]]."
      ],
      "metadata": {
        "id": "JCvAPnLpFwTn"
      }
    },
    {
      "cell_type": "code",
      "execution_count": null,
      "metadata": {
        "colab": {
          "base_uri": "https://localhost:8080/"
        },
        "id": "XbDb9wLZFlvA",
        "outputId": "d54ef2b8-ffa0-4f75-d3dd-8f1c7c17e4b8"
      },
      "outputs": [
        {
          "output_type": "stream",
          "name": "stdout",
          "text": [
            "[[10, 10, 10], [10, 10, 10], [10, 10, 10]]\n"
          ]
        }
      ],
      "source": [
        "class Solution:\n",
        "  # param A : list of list of integers\n",
        "  # param B : list of list of integers\n",
        "  # return a list of list of integers\n",
        "  def solve(self, A, B):\n",
        "\n",
        "    for i in range(len(A)):\n",
        "\n",
        "      for j in range(len(A[0])):\n",
        "\n",
        "        A[i][j] = A[i][j] + B[i][j]\n",
        "\n",
        "    return A\n",
        "\n",
        "X = Solution()\n",
        "\n",
        "print(X.solve([[1, 2, 3],[4, 5, 6],[7, 8, 9]], [[9, 8, 7],[6, 5, 4],[3, 2, 1]]))"
      ]
    },
    {
      "cell_type": "markdown",
      "source": [
        "**Q2. Column Sum**\n",
        "\n",
        "**Problem Description**\n",
        "\n",
        "You are given a 2D integer matrix A, return a 1D integer array containing column-wise sums of original matrix.\n",
        "\n",
        "**Problem Constraints**\n",
        "\n",
        "1 <= A.size() <= 103\n",
        "\n",
        "1 <= A[i].size() <= 103\n",
        "\n",
        "1 <= A[i][j] <= 103\n",
        "\n",
        "\n",
        "**Input Format**\n",
        "\n",
        "First argument is a 2D array of integers.(2D matrix).\n",
        "\n",
        "\n",
        "**Output Format**\n",
        "\n",
        "Return an array conatining column-wise sums of original matrix.\n",
        "\n",
        "\n",
        "**Example Input**\n",
        "\n",
        "Input 1:\n",
        "\n",
        "[1,2,3,4]\n",
        "\n",
        "[5,6,7,8]\n",
        "\n",
        "[9,2,3,4]\n",
        "\n",
        "**Example Output**\n",
        "\n",
        "Output 1:\n",
        "\n",
        "{15,10,13,16}\n",
        "\n",
        "**Example Explanation**\n",
        "\n",
        "Explanation 1\n",
        "\n",
        "Column 1 = 1+5+9 = 15\n",
        "\n",
        "Column 2 = 2+6+2 = 10\n",
        "\n",
        "Column 3 = 3+7+3 = 13\n",
        "\n",
        "Column 4 = 4+8+4 = 16"
      ],
      "metadata": {
        "id": "23eBPGxzG1Km"
      }
    },
    {
      "cell_type": "code",
      "source": [
        "class Solution:\n",
        "  # param A : list of list of integers\n",
        "  # return a list of integers\n",
        "  def solve(self, A):\n",
        "\n",
        "    output = []\n",
        "\n",
        "    for i in range(len(A[0])):\n",
        "\n",
        "      total = 0\n",
        "\n",
        "      for j in range(len(A)):\n",
        "\n",
        "        total += A[j][i]\n",
        "\n",
        "      output.append(total)\n",
        "\n",
        "    return output\n",
        "\n",
        "\n",
        "X = Solution()\n",
        "\n",
        "X.solve([[1,2,3,4],[5,6,7,8],[9,2,3,4]])"
      ],
      "metadata": {
        "colab": {
          "base_uri": "https://localhost:8080/"
        },
        "id": "x8IQqkwMHI5m",
        "outputId": "a50fe164-5289-4b65-b468-40ab972e885e"
      },
      "execution_count": null,
      "outputs": [
        {
          "output_type": "execute_result",
          "data": {
            "text/plain": [
              "[15, 10, 13, 16]"
            ]
          },
          "metadata": {},
          "execution_count": 5
        }
      ]
    },
    {
      "cell_type": "markdown",
      "source": [
        "**Q3. Matrix Multiplication**\n",
        "\n",
        "**Problem Description**\n",
        "\n",
        "You are given two integer matrices A(having M X N size) and B(having N X P). You have to multiply matrix A with B and return the resultant matrix. (i.e. return the matrix AB).\n",
        "\n",
        "**Problem Constraints**\n",
        "\n",
        "1 <= M, N, P <= 100\n",
        "\n",
        "-100 <= A[i][j], B[i][j] <= 100\n",
        "\n",
        "\n",
        "**Input Format**\n",
        "\n",
        "First argument is a 2D integer matrix A.\n",
        "\n",
        "Second argument is a 2D integer matrix B.\n",
        "\n",
        "\n",
        "**Output Format**\n",
        "\n",
        "Return a 2D integer matrix denoting AB.\n",
        "\n",
        "\n",
        "**Example Input**\n",
        "\n",
        "Input 1:\n",
        "\n",
        " A = [[1, 2], [3, 4]]           \n",
        " B = [[5, 6], [7, 8]] \n",
        "\n",
        "Input 2:\n",
        "\n",
        " A = [[1, 1]]            \n",
        " B = [[2],[3]] \n",
        "\n",
        "\n",
        "**Example Output**\n",
        "\n",
        "Output 1:\n",
        "\n",
        " [[19, 22],\n",
        "  [43, 50]]\n",
        "  \n",
        "Output 2:\n",
        "\n",
        " [[5]]"
      ],
      "metadata": {
        "id": "mQ-kEgXfOdcC"
      }
    },
    {
      "cell_type": "code",
      "source": [
        "class Solution:\n",
        "  # param A : list of list of integers\n",
        "  # param B : list of list of integers\n",
        "  # return a list of list of integers\n",
        "  def solve(self, A, B):\n",
        "\n",
        "    X = []\n",
        "\n",
        "    for i in range(len(A)):\n",
        "\n",
        "      X.append([0]*len(B[0]))\n",
        "\n",
        "    for i in range(len(A)):\n",
        "\n",
        "      for j in range(len(B[0])):\n",
        "\n",
        "        for k in range(len(B)):\n",
        "\n",
        "          X[i][j] += A[i][k] * B[k][j]\n",
        "\n",
        "    return X\n",
        "\n",
        "\n",
        "\n",
        "X = Solution()\n",
        "\n",
        "print(X.solve([[1,2],[3,4]],[[5,6],[7,8]]))"
      ],
      "metadata": {
        "colab": {
          "base_uri": "https://localhost:8080/"
        },
        "id": "lfor0xa-PGL7",
        "outputId": "cd7e940e-b3b2-4bfe-bfac-6213aa913a8e"
      },
      "execution_count": 1,
      "outputs": [
        {
          "output_type": "stream",
          "name": "stdout",
          "text": [
            "[[19, 22], [43, 50]]\n"
          ]
        }
      ]
    },
    {
      "cell_type": "markdown",
      "source": [
        "**Q4. Anti Diagonals**\n",
        "\n",
        "**Problem Description**\n",
        "\n",
        "Give a N * N square matrix A, return an array of its anti-diagonals. Look at the example for more details.\n",
        "\n",
        "**Problem Constraints**\n",
        "\n",
        "1<= N <= 1000\n",
        "\n",
        "1<= A[i][j] <= 1e9\n",
        "\n",
        "**Input Format**\n",
        "\n",
        "First argument is an integer N, denoting the size of square 2D matrix.\n",
        "Second argument is a 2D array A of size N * N.\n",
        "\n",
        "**Output Format**\n",
        "\n",
        "Return a 2D integer array of size (2 * N-1) * N, representing the anti-diagonals of input array A.\n",
        "The vacant spaces in the grid should be assigned to 0.\n",
        "\n",
        "**Example Input**\n",
        "\n",
        "Input 1:\n",
        "\n",
        "3\n",
        "\n",
        "1 2 3\n",
        "\n",
        "4 5 6\n",
        "\n",
        "7 8 9\n",
        "\n",
        "Input 2:\n",
        "\n",
        "1 2\n",
        "\n",
        "3 4\n",
        "\n",
        "**Example Output**\n",
        "\n",
        "Output 1:\n",
        "\n",
        "1 0 0\n",
        "\n",
        "2 4 0\n",
        "\n",
        "3 5 7\n",
        "\n",
        "6 8 0\n",
        "\n",
        "9 0 0\n",
        "\n",
        "**Output 2:**\n",
        "\n",
        "1 0\n",
        "\n",
        "2 3\n",
        "\n",
        "4 0"
      ],
      "metadata": {
        "id": "pg3RVDWqcS8N"
      }
    },
    {
      "cell_type": "code",
      "source": [
        "class Solution:\n",
        "  # param A : list of list of integers\n",
        "  # return a list of list of integers\n",
        "  def diagonal(self, A):\n",
        "\n",
        "    n = len(A)\n",
        "\n",
        "    final_output = []\n",
        "\n",
        "    for k in range(2*n-1):\n",
        "\n",
        "      output = []\n",
        "\n",
        "      for i in range(k+1):\n",
        "\n",
        "        j = k-i\n",
        "\n",
        "        if i < n and j < n and j >= 0:\n",
        "\n",
        "          output.append(A[i][j])\n",
        "\n",
        "      while len(output) < n:\n",
        "\n",
        "        output.append(0)\n",
        "\n",
        "      final_output.append(output)\n",
        "\n",
        "    return final_output\n",
        "\n",
        "X = Solution()\n",
        "print(X.diagonal([[1,2,3],[4,5,6],[7,8,9]]))\n",
        "print(X.diagonal([[1,2],[3,4]]))"
      ],
      "metadata": {
        "colab": {
          "base_uri": "https://localhost:8080/"
        },
        "id": "9eof7446cuFA",
        "outputId": "2834053e-0d46-4e1b-f4bc-7f152a59f75c"
      },
      "execution_count": 21,
      "outputs": [
        {
          "output_type": "stream",
          "name": "stdout",
          "text": [
            "[[1, 0, 0], [2, 4, 0], [3, 5, 7], [6, 8, 0], [9, 0, 0]]\n",
            "[[1, 0], [2, 3], [4, 0]]\n"
          ]
        }
      ]
    },
    {
      "cell_type": "markdown",
      "source": [
        "**Q5. Matrix Transpose**\n",
        "\n",
        "**Problem Description**\n",
        "\n",
        "You are given a matrix A, you have to return another matrix which is the transpose of A.\n",
        "\n",
        "**NOTE:** Transpose of a matrix A is defined as - AT[i][j] = A[j][i] ; Where 1 ≤ i ≤ col and 1 ≤ j ≤ row\n",
        "\n",
        "**Problem Constraints**\n",
        "\n",
        "1 <= A.size() <= 1000\n",
        "\n",
        "1 <= A[i].size() <= 1000\n",
        "\n",
        "1 <= A[i][j] <= 1000\n",
        "\n",
        "**Input Format**\n",
        "\n",
        "First argument is vector of vector of integers A representing matrix.\n",
        "\n",
        "**Output Format**\n",
        "\n",
        "You have to return a vector of vector of integers after doing required operations.\n",
        "\n",
        "**Example Input**\n",
        "\n",
        "Input 1:\n",
        "\n",
        "A = [[1, 2, 3],[4, 5, 6],[7, 8, 9]]\n",
        "\n",
        "Input 2:\n",
        "\n",
        "A = [[1, 2],[1, 2],[1, 2]]\n",
        "\n",
        "**Example Output**\n",
        "\n",
        "Output 1:\n",
        "\n",
        "[[1, 4, 7], [2, 5, 8], [3, 6, 9]]\n",
        "\n",
        "Output 2:\n",
        "\n",
        "[[1, 1, 1], [2, 2, 2]]\n",
        "\n",
        "**Example Explanation**\n",
        "\n",
        "Explanation 1:\n",
        "\n",
        "Cearly after converting rows to column and columns to rows of [[1, 2, 3],[4, 5, 6],[7, 8, 9]]\n",
        " we will get [[1, 4, 7], [2, 5, 8], [3, 6, 9]]."
      ],
      "metadata": {
        "id": "6ZWSXiLzkIXh"
      }
    },
    {
      "cell_type": "code",
      "source": [
        "class Solution:\n",
        "  # param A : list of list of integers\n",
        "  # return a list of list of integers\n",
        "  def solve(self, A):\n",
        "\n",
        "    n = len(A)\n",
        "\n",
        "    m = len(A[0])\n",
        "\n",
        "    output = []\n",
        "\n",
        "    for i in range(m):\n",
        "\n",
        "      temp = []\n",
        "\n",
        "      for j in range(n):\n",
        "\n",
        "        temp.append(A[j][i])\n",
        "\n",
        "      output.append(temp)\n",
        "\n",
        "    return output\n",
        "\n",
        "X = Solution()\n",
        "print(X.solve([[1, 2, 3],[4, 5, 6],[7, 8, 9]]))\n",
        "print(X.solve([[1, 2],[1, 2],[1, 2]]))"
      ],
      "metadata": {
        "colab": {
          "base_uri": "https://localhost:8080/"
        },
        "id": "a3p6T7kIkbJc",
        "outputId": "8aa2d693-62ef-416d-b14e-2d1da213311d"
      },
      "execution_count": 22,
      "outputs": [
        {
          "output_type": "stream",
          "name": "stdout",
          "text": [
            "[[1, 4, 7], [2, 5, 8], [3, 6, 9]]\n",
            "[[1, 1, 1], [2, 2, 2]]\n"
          ]
        }
      ]
    },
    {
      "cell_type": "markdown",
      "source": [
        "**Q6. Matrix Subtraction**\n",
        "\n",
        "**Problem Description**\n",
        "\n",
        "You are given two integer matrices A and B having same size(Both having same number of rows (N) and columns (M)). You have to subtract matrix A from B and return the resultant matrix. (i.e. return the matrix A - B).\n",
        "\n",
        "If X and Y are two matrices of the same order (same dimensions). Then X - Y is a matrix of the same order as X and Y and its elements are obtained by subtracting the elements of Y from the corresponding elements of X. \n",
        "\n",
        "Thus if Z = [z[i][j]] = X - Y, then [z[i][j]] = [x[i][j]] – [y[i][j]].\n",
        "\n",
        "**Problem Constraints**\n",
        "\n",
        "1 <= N, M <= 103\n",
        "\n",
        "-109 <= A[i][j], B[i][j] <= 109\n",
        "\n",
        "**Input Format**\n",
        "\n",
        "First argument is a 2D integer matrix A.\n",
        "\n",
        "Second argument is a 2D integer matrix B.\n",
        "\n",
        "**Output Format**\n",
        "\n",
        "Return a 2D matrix denoting A - B.\n",
        "\n",
        "**Example Input**\n",
        "\n",
        "Input 1:\n",
        "\n",
        " A = [[1, 2, 3],[4, 5, 6],[7, 8, 9]]            \n",
        " B = [[9, 8, 7],[6, 5, 4],[3, 2, 1]]\n",
        "\n",
        "Input 2:\n",
        "\n",
        " A = [[1, 1]]               \n",
        " B = [[2, 3]]\n",
        "\n",
        "**Example Output**\n",
        "\n",
        "Output 1:\n",
        "\n",
        " [[-8, -6, -4],\n",
        "  [-2, 0, 2],\n",
        "  [4, 6, 8]]\n",
        "  \n",
        "Output 2:\n",
        "\n",
        " [[-1, -2]]"
      ],
      "metadata": {
        "id": "UTELh_45lu7O"
      }
    },
    {
      "cell_type": "code",
      "source": [
        "class Solution:\n",
        "  # param A : list of list of integers\n",
        "  # param B : list of list of integers\n",
        "  # return a list of list of integers\n",
        "  def solve(self, A, B):\n",
        "\n",
        "    for i in range(len(A)):\n",
        "\n",
        "      for j in range(len(A[0])):\n",
        "\n",
        "        A[i][j] = A[i][j] - B[i][j]\n",
        "\n",
        "    return A\n",
        "\n",
        "X = Solution()\n",
        "\n",
        "print(X.solve([[1, 2, 3],[4, 5, 6],[7, 8, 9]], [[9, 8, 7],[6, 5, 4],[3, 2, 1]]))"
      ],
      "metadata": {
        "colab": {
          "base_uri": "https://localhost:8080/"
        },
        "id": "kMH-hVKFnS7u",
        "outputId": "88b4c0f0-ef8a-4235-d874-b3b82c1662f9"
      },
      "execution_count": 23,
      "outputs": [
        {
          "output_type": "stream",
          "name": "stdout",
          "text": [
            "[[-8, -6, -4], [-2, 0, 2], [4, 6, 8]]\n"
          ]
        }
      ]
    },
    {
      "cell_type": "markdown",
      "source": [
        "**Q7. Matrix Scaler Product**\n",
        "\n",
        "**Problem Description**\n",
        "\n",
        "You are given a matrix A and and an integer B, you have to perform scalar multiplication of matrix A with an integer B.\n",
        "\n",
        "**Problem Constraints**\n",
        "\n",
        "1 <= A.size() <= 1000\n",
        "\n",
        "1 <= A[i].size() <= 1000\n",
        "\n",
        "1 <= A[i][j] <= 1000\n",
        "\n",
        "1 <= B <= 1000\n",
        "\n",
        "**Input Format**\n",
        "\n",
        "First argument is 2D array of integers A representing matrix.\n",
        "\n",
        "Second argument is an integer B.\n",
        "\n",
        "**Output Format**\n",
        "\n",
        "You have to return a 2D array of integers after doing required operations.\n",
        "\n",
        "**Example Input**\n",
        "\n",
        "Input 1:\n",
        "\n",
        "A = [[1, 2, 3],[4, 5, 6],[7, 8, 9]]\n",
        "\n",
        "B = 2 \n",
        "\n",
        "**Example Output**\n",
        "\n",
        "Output 1:\n",
        "\n",
        "[[2, 4, 6], [8, 10, 12], [14, 16, 18]]"
      ],
      "metadata": {
        "id": "KhatBXT8ncrY"
      }
    },
    {
      "cell_type": "code",
      "source": [
        "class Solution:\n",
        "  # param A : list of list of integers\n",
        "  # param B : integer\n",
        "  # return a list of list of integers\n",
        "  def solve(self, A, B):\n",
        "\n",
        "    for i in range(len(A)):\n",
        "\n",
        "      for j in range(len(A[i])):\n",
        "\n",
        "        A[i][j] = B*A[i][j]\n",
        "\n",
        "    return A\n",
        "\n",
        "X = Solution()\n",
        "\n",
        "print(X.solve([[1, 2, 3],[4, 5, 6],[7, 8, 9]], 6))"
      ],
      "metadata": {
        "colab": {
          "base_uri": "https://localhost:8080/"
        },
        "id": "DClxGAR-nzbv",
        "outputId": "524d2ee8-b1f7-4123-ec5d-c21626b6daf0"
      },
      "execution_count": 26,
      "outputs": [
        {
          "output_type": "stream",
          "name": "stdout",
          "text": [
            "[[6, 12, 18], [24, 30, 36], [42, 48, 54]]\n"
          ]
        }
      ]
    },
    {
      "cell_type": "markdown",
      "source": [
        "**Q8. Row Sum**\n",
        "\n",
        "**Problem Description**\n",
        "\n",
        "You are given a 2D integer matrix A, return a 1D integer array containing row-wise sums of original matrix.\n",
        "\n",
        "**Problem Constraints**\n",
        "\n",
        "1 <= A.size() <= 103\n",
        "\n",
        "1 <= A[i].size() <= 103\n",
        "\n",
        "1 <= A[i][j] <= 103\n",
        "\n",
        "**Input Format**\n",
        "\n",
        "First argument A is a 2D array of integers.(2D matrix).\n",
        "\n",
        "**Output Format**\n",
        "\n",
        "Return an array conatining row-wise sums of original matrix.\n",
        "\n",
        "**Example Input**\n",
        "\n",
        "Input 1:\n",
        "\n",
        "[1,2,3,4]\n",
        "\n",
        "[5,6,7,8]\n",
        "\n",
        "[9,2,3,4]\n",
        "\n",
        "**Example Output**\n",
        "\n",
        "Output 1:\n",
        "\n",
        "{10,26,18}"
      ],
      "metadata": {
        "id": "r9ja971VoHG2"
      }
    },
    {
      "cell_type": "code",
      "source": [
        "class Solution:\n",
        "  # param A : list of list of integers\n",
        "  # return a list of integers\n",
        "  def solve(self, A):\n",
        "\n",
        "    output = []\n",
        "\n",
        "    for i in range(len(A)):\n",
        "\n",
        "      output.append(sum(A[i]))\n",
        "\n",
        "    return output\n",
        "\n",
        "X = Solution()\n",
        "\n",
        "print(X.solve([[1, 2, 3],[4, 5, 6],[7, 8, 9]]))"
      ],
      "metadata": {
        "colab": {
          "base_uri": "https://localhost:8080/"
        },
        "id": "8aMm0Frcohk0",
        "outputId": "7fb91de9-b20a-4ff6-88f3-0a1a315fbad0"
      },
      "execution_count": 27,
      "outputs": [
        {
          "output_type": "stream",
          "name": "stdout",
          "text": [
            "[6, 15, 24]\n"
          ]
        }
      ]
    },
    {
      "cell_type": "markdown",
      "source": [
        "**Q9. Row to Column Zero**\n",
        "\n",
        "**Problem Description**\n",
        "\n",
        "You are given a 2D integer matrix A, make all the elements in a row or column zero if the A[i][j] = 0. Specifically, make entire ith row and jth column zero.\n",
        "\n",
        "**Problem Constraints**\n",
        "\n",
        "1 <= A.size() <= 103\n",
        "\n",
        "1 <= A[i].size() <= 103\n",
        "\n",
        "0 <= A[i][j] <= 103\n",
        "\n",
        "**Input Format**\n",
        "\n",
        "First argument is a vector of vector of integers.(2D matrix).\n",
        "\n",
        "**Output Format**\n",
        "\n",
        "Return a vector of vector after doing required operations.\n",
        "\n",
        "**Example Input**\n",
        "\n",
        "Input 1:\n",
        "\n",
        "[1,2,3,4]\n",
        "\n",
        "[5,6,7,0]\n",
        "\n",
        "[9,2,0,4]\n",
        "\n",
        "**Example Output**\n",
        "\n",
        "Output 1:\n",
        "\n",
        "[1,2,0,0]\n",
        "\n",
        "[0,0,0,0]\n",
        "\n",
        "[0,0,0,0]\n",
        "\n",
        "**Example Explanation**\n",
        "\n",
        "Explanation 1:\n",
        "\n",
        "A[2][4] = A[3][3] = 0, so make 2nd row, 3rd row, 3rd column and 4th column zero."
      ],
      "metadata": {
        "id": "Uy3R6ezBot9D"
      }
    },
    {
      "cell_type": "code",
      "source": [
        "class Solution:\n",
        "  # param A : list of list of integers\n",
        "  # return a list of list of integers\n",
        "  def solve(self, A):\n",
        "\n",
        "    row_ind = []\n",
        "\n",
        "    col_ind = []\n",
        "\n",
        "    for i in range(len(A)):\n",
        "\n",
        "      if 0 in A[i]:\n",
        "\n",
        "        row_ind.append(0)\n",
        "\n",
        "      else:\n",
        "\n",
        "        row_ind.append(1)\n",
        "\n",
        "    for i in range(len(A[0])):\n",
        "\n",
        "      flag = 1\n",
        "\n",
        "      for j in range(len(A)):\n",
        "\n",
        "        if A[j][i] == 0:\n",
        "\n",
        "          flag = 0\n",
        "          break\n",
        "\n",
        "      col_ind.append(flag)\n",
        "\n",
        "    #return row_ind, col_ind\n",
        "\n",
        "    for i in range(len(A)):\n",
        "\n",
        "      for j in range(len(A[i])):\n",
        "\n",
        "        if row_ind[i] == 1 and col_ind[j] == 1:\n",
        "\n",
        "          continue\n",
        "        \n",
        "        else:\n",
        "\n",
        "          A[i][j] = 0\n",
        "\n",
        "    return A\n",
        "\n",
        "X = Solution()\n",
        "\n",
        "X.solve([[1,2,3,4],[5,6,7,0],[9,2,0,4]])"
      ],
      "metadata": {
        "colab": {
          "base_uri": "https://localhost:8080/"
        },
        "id": "USlHNBuopHyf",
        "outputId": "d8677d80-b822-4752-c845-353670623c4b"
      },
      "execution_count": 42,
      "outputs": [
        {
          "output_type": "execute_result",
          "data": {
            "text/plain": [
              "[[1, 2, 0, 0], [0, 0, 0, 0], [0, 0, 0, 0]]"
            ]
          },
          "metadata": {},
          "execution_count": 42
        }
      ]
    },
    {
      "cell_type": "markdown",
      "source": [
        "**Q10. Are Matrices Same ?**\n",
        "\n",
        "**Problem Description**\n",
        "\n",
        "You are given two matrices A & B of equal dimensions and you have to check whether two matrices are equal or not.\n",
        "\n",
        "NOTE: Both matrices are equal if A[i][j] == B[i][j] for all i and j in the given range.\n",
        "\n",
        "**Problem Constraints**\n",
        "\n",
        "1 <= A.size(), B.size() <= 1000\n",
        "\n",
        "1 <= A[i].size(), B[i].size() <= 1000\n",
        "\n",
        "1 <= A[i][j], B[i][j] <= 1000\n",
        "\n",
        "**Input Format**\n",
        "\n",
        "First argument is vector of vector of integers representing matrix A.\n",
        "\n",
        "Second argument is vector of vector of integers representing matrix B.\n",
        "\n",
        "**Output Format**\n",
        "\n",
        "Return 1 if both matrices are equal or return 0.\n",
        "\n",
        "**Example Input**\n",
        "\n",
        "Input 1:\n",
        "\n",
        "A = [[1, 2, 3],[4, 5, 6],[7, 8, 9]]\n",
        "\n",
        "B = [[1, 2, 3],[4, 5, 6],[7, 8, 9]]\n",
        "\n",
        "Input 2:\n",
        "\n",
        "A = [[1, 2, 3],[4, 5, 6],[7, 8, 9]]\n",
        "\n",
        "B = [[1, 2, 3],[7, 8, 9],[4, 5, 6]]\n",
        "\n",
        "**Example Output**\n",
        "\n",
        "Output 1:\n",
        "\n",
        "1\n",
        "\n",
        "Output 2:\n",
        "\n",
        "0\n",
        "\n",
        "**Example Explanation**\n",
        "\n",
        "Explanation 1:\n",
        "\n",
        "==> Clearly all the elements of both matrices are equal at respective positions.\n",
        "\n",
        "Explanation 2:\n",
        "\n",
        "==> Clearly all the elements of both matrices are not equal at respective positions."
      ],
      "metadata": {
        "id": "ThPFy0Eqsog7"
      }
    },
    {
      "cell_type": "code",
      "source": [
        "class Solution:\n",
        "  # param A : list of list of integers\n",
        "  # param B : list of list of integers\n",
        "  # return an integer\n",
        "  def solve(self, A, B):\n",
        "\n",
        "    flag = 1\n",
        "\n",
        "    for i in range(len(A)):\n",
        "\n",
        "      for j in range(len(A[i])):\n",
        "\n",
        "        if A[i][j] != B[i][j]:\n",
        "\n",
        "          flag = 0\n",
        "          break\n",
        "\n",
        "      if flag == 0:\n",
        "\n",
        "        break\n",
        "\n",
        "    return flag\n",
        "\n",
        "\n",
        "X = Solution()\n",
        "print(X.solve([[1, 2, 3],[4, 5, 6],[7, 8, 9]], [[1, 2, 3],[4, 5, 6],[7, 8, 9]]))\n",
        "print(X.solve([[1, 2, 3],[4, 5, 6],[7, 8, 9]], [[1, 2, 3],[4, 5, 16],[7, 8, 9]]))"
      ],
      "metadata": {
        "colab": {
          "base_uri": "https://localhost:8080/"
        },
        "id": "tEDU-ibSs-ah",
        "outputId": "8fa51e5e-94b5-4d4f-ed69-fadbabf23cc0"
      },
      "execution_count": 36,
      "outputs": [
        {
          "output_type": "stream",
          "name": "stdout",
          "text": [
            "1\n",
            "0\n"
          ]
        }
      ]
    },
    {
      "cell_type": "markdown",
      "source": [
        "**Q11. Minor Diagonal Sum**\n",
        "\n",
        "**Problem Description**\n",
        "\n",
        "You are given a N X N integer matrix. You have to find the sum of all the minor diagonal elements of A.\n",
        "\n",
        "Minor diagonal of a M X M matrix A is a collection of elements A[i, j] such that i + j = M + 1 (where i, j are 1-based).\n",
        "\n",
        "**Problem Constraints**\n",
        "\n",
        "1 <= N <= 103\n",
        "\n",
        "-1000 <= A[i][j] <= 1000\n",
        "\n",
        "**Input Format**\n",
        "\n",
        "First and only argument is a 2D integer matrix A.\n",
        "\n",
        "**Output Format**\n",
        "\n",
        "Return an integer denoting the sum of minor diagonal elements.\n",
        "\n",
        "**Example Input**\n",
        "\n",
        "Input 1:\n",
        "\n",
        " A = [[1, -2, -3],\n",
        "      [-4, 5, -6],\n",
        "      [-7, -8, 9]]\n",
        "\n",
        "Input 2:\n",
        "\n",
        " A = [[3, 2],\n",
        "      [2, 3]]\n",
        "\n",
        "**Example Output**\n",
        "\n",
        "Output 1:\n",
        "\n",
        " -5 \n",
        "\n",
        "Output 2:\n",
        "\n",
        " 4 \n",
        "\n",
        "**Example Explanation**\n",
        "\n",
        "Explanation 1:\n",
        "\n",
        " A[1][3] + A[2][2] + A[3][1] = (-3) + 5 + (-7) = -5\n",
        "\n",
        "Explanation 2:\n",
        "\n",
        " A[1][2] + A[2][1] = 2 + 2 = 4"
      ],
      "metadata": {
        "id": "sfuN2jD-thok"
      }
    },
    {
      "cell_type": "code",
      "source": [
        "class Solution:\n",
        "  # param A : tuple of list of integers\n",
        "  # return an integer\n",
        "  def solve(self, A):\n",
        "\n",
        "    len_row = len(A)-1\n",
        "\n",
        "    total = 0\n",
        "\n",
        "    for i in range(len(A)):\n",
        "\n",
        "      total += A[i][len_row]\n",
        "      len_row -= 1\n",
        "\n",
        "    return total\n",
        "\n",
        "X = Solution()\n",
        "print(X.solve([[1, -2, -3], [-4, 5, -6], [-7, -8, 9]]))\n",
        "print(X.solve([[3, 2], [2, 3]]))"
      ],
      "metadata": {
        "colab": {
          "base_uri": "https://localhost:8080/"
        },
        "id": "ZVzAuVEet0Gu",
        "outputId": "07e829a6-df46-46d2-9720-a251a96cedc0"
      },
      "execution_count": 37,
      "outputs": [
        {
          "output_type": "stream",
          "name": "stdout",
          "text": [
            "-5\n",
            "4\n"
          ]
        }
      ]
    },
    {
      "cell_type": "markdown",
      "source": [
        "**Q12. Main Diagonal Sum**\n",
        "\n",
        "**Problem Description**\n",
        "\n",
        "You are given a N X N integer matrix. You have to find the sum of all the main diagonal elements of A.\n",
        "\n",
        "Main diagonal of a matrix A is a collection of elements A[i, j] such that i = j.\n",
        "\n",
        "\n",
        "**Problem Constraints**\n",
        "\n",
        "1 <= N <= 103\n",
        "\n",
        "-1000 <= A[i][j] <= 1000\n",
        "\n",
        "**Input Format**\n",
        "\n",
        "First and only argument is a 2D integer matrix A.\n",
        "\n",
        "**Output Format**\n",
        "\n",
        "Return an integer denoting the sum of main diagonal elements.\n",
        "\n",
        "**Example Input**\n",
        "\n",
        "Input 1:\n",
        "\n",
        " A = [[1, -2, -3],\n",
        "      [-4, 5, -6],\n",
        "      [-7, -8, 9]]\n",
        "\n",
        "Input 2:\n",
        "\n",
        " A = [[3, 2],\n",
        "      [2, 3]]\n",
        "\n",
        "**Example Output**\n",
        "\n",
        "Output 1:\n",
        "\n",
        " 15 \n",
        "\n",
        "Output 2:\n",
        "\n",
        " 6 \n",
        "\n",
        "**Example Explanation**\n",
        "\n",
        "Explanation 1:\n",
        "\n",
        " A[1][1] + A[2][2] + A[3][3] = 1 + 5 + 9 = 15\n",
        "\n",
        "Explanation 2:\n",
        "\n",
        " A[1][1] + A[2][2] = 3 + 3 = 6"
      ],
      "metadata": {
        "id": "dCuzbrk4uL7c"
      }
    },
    {
      "cell_type": "code",
      "source": [
        "class Solution:\n",
        "  # param A : tuple of list of integers\n",
        "  # return an integer\n",
        "  def solve(self, A):\n",
        "\n",
        "    total = 0\n",
        "\n",
        "    for i in range(len(A)):\n",
        "\n",
        "      total += A[i][i]\n",
        "\n",
        "    return total\n",
        "\n",
        "X = Solution()\n",
        "print(X.solve([[1, -2, -3], [-4, 5, -6], [-7, -8, 9]]))\n",
        "print(X.solve([[3, 2], [2, 3]]))"
      ],
      "metadata": {
        "colab": {
          "base_uri": "https://localhost:8080/"
        },
        "id": "vv16jlMKubyA",
        "outputId": "2b62edea-96c9-4e80-818c-4bd86f850205"
      },
      "execution_count": 38,
      "outputs": [
        {
          "output_type": "stream",
          "name": "stdout",
          "text": [
            "15\n",
            "6\n"
          ]
        }
      ]
    }
  ]
}