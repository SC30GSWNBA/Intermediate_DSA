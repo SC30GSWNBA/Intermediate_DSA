{
  "nbformat": 4,
  "nbformat_minor": 0,
  "metadata": {
    "colab": {
      "provenance": [],
      "collapsed_sections": []
    },
    "kernelspec": {
      "name": "python3",
      "display_name": "Python 3"
    },
    "language_info": {
      "name": "python"
    }
  },
  "cells": [
    {
      "cell_type": "markdown",
      "source": [
        "### **Agenda**\n",
        "\n",
        "> Intro - What & Why ?\n",
        "\n",
        "> Minimum Cost to Remove\n",
        "\n",
        "> Minimum Difference\n",
        "\n",
        "> Noble Element\n",
        "\n",
        "> Comparators"
      ],
      "metadata": {
        "id": "Gg2BMyoPLON9"
      }
    },
    {
      "cell_type": "markdown",
      "source": [
        "**Question1:** What is Sorting?\n",
        "\n",
        "**Answer:** Arranging data in some orderly manner based on some parameter.\n",
        "\n",
        "**Examples:** Is this array sorted ? [1, 7, 9, 15, 20]\n",
        "\n",
        "The above array can be considered as sorted in ascending/increasing order based on absolute value of elements.\n",
        "\n",
        "Similarly, we can say that array: [19, 15, 13, 12, 5] is sorted in decreasing/descending order based on absolute value of elements."
      ],
      "metadata": {
        "id": "WToeguSiLmNv"
      }
    },
    {
      "cell_type": "markdown",
      "source": [
        "**Question2:** Can you think some parameter based on which we can say that array [0, 0, -1, -1, 2, 4] is sorted ?\n",
        "\n",
        "**Answer:** If we consider the absolute value of elements than we can say that array [0, 0, -1, -1, 2, 4] is sorted."
      ],
      "metadata": {
        "id": "OJg0EBxxQW6N"
      }
    },
    {
      "cell_type": "markdown",
      "source": [
        "**Question3:** Can you think some parameter based on which we can say that array [1, 7, 4, 6] is sorted ?\n",
        "\n",
        "**Answer:** Possibly ascending order based on number of factors.\n",
        "\n",
        "    Element 1 will have 1 factors\n",
        "\n",
        "    Element 7 will have 2 factors\n",
        "\n",
        "    Element 4 will have 3 factors\n",
        "\n",
        "    Element 6 will have 4 factors"
      ],
      "metadata": {
        "id": "zXdeaCUpQXcP"
      }
    },
    {
      "cell_type": "markdown",
      "source": [
        "**Real life applications of Sorting**\n",
        "\n",
        "> Arranging students according to their heights\n",
        "\n",
        "> Ticket Reservation\n",
        "\n",
        "> Sorting elements in desktop folder based on Items, Size etc.\n",
        "\n",
        "> Top Selling Products in Retail\n",
        "\n",
        "> Revenue\n",
        "\n",
        "> 100 most influential people in World"
      ],
      "metadata": {
        "id": "A3_jNzKgQv1G"
      }
    },
    {
      "cell_type": "markdown",
      "source": [
        "**Benefit of Sorting:** Searching of elements is easier in a sorted data.\n",
        "\n",
        "**Example:** Easier to find words in a dictionary because dictionary is sorted alphabetically\n",
        "\n"
      ],
      "metadata": {
        "id": "bzh-72daRzS1"
      }
    },
    {
      "cell_type": "markdown",
      "source": [
        "**l.sort():** sorts an array in ascending order based on the value of elements.\n",
        "\n",
        "Placing a parameter **reverse = True** inside l.sort(), will sort an array in descending order based on the value of elements."
      ],
      "metadata": {
        "id": "221_B-tKTmyK"
      }
    },
    {
      "cell_type": "markdown",
      "source": [
        "**Time Complexity of l.sort():** O(NLogN)\n",
        "\n",
        "Different Sorting Algorithms and their associated time complexities:\n",
        "\n",
        "    Insertion Sort: O(N^2)\n",
        "\n",
        "    Selection Sort: O(N^2)\n",
        "\n",
        "    Bubble Sort: O(N^2)\n",
        "\n",
        "    Heap Sort: O(NLogN)\n",
        "\n",
        "    Merge Sort: O(NLogN)\n",
        "\n",
        "    Quick Sort: O(NLogN)\n",
        "\n",
        "    Radix Sort: O(N)"
      ],
      "metadata": {
        "id": "mUcvNH3FTtDb"
      }
    },
    {
      "cell_type": "markdown",
      "source": [
        "**Class Question1:** Minimum cost to remove all elements. We are given N elements, Empty the list. Cost of removing an element is equal to sum of values of all other elements present in the array.\n",
        "\n",
        "Example: for an array [2, 1, 4]\n",
        "\n",
        "    Remove 2, the cost : 7\n",
        "\n",
        "    Remove 1, the cost : 5\n",
        "\n",
        "    Remove 4, the cost: 4\n",
        "\n",
        "So, total cost of removing all elements = 7 + 5 + 4 = 16. We have to minimize this cost. So, the optimized path would be -\n",
        "\n",
        "    Remove 4, the cost : 7\n",
        "\n",
        "    Remove 2, the cost : 3\n",
        "\n",
        "    Remove 1, the cost: 1\n",
        "\n",
        "The total cost in the above case = 7 + 3 + 1 = 11."
      ],
      "metadata": {
        "id": "VzNEGpSmXGP-"
      }
    },
    {
      "cell_type": "markdown",
      "source": [
        "In short if a3, a2 and a1 are three elements in descending order, the min cost = 3 x a1 + 2 x a2 + 3 x a3"
      ],
      "metadata": {
        "id": "V1g5nsqRYrT0"
      }
    },
    {
      "cell_type": "code",
      "source": [
        "# Code Implementation\n",
        "\n",
        "def MinCost(A):\n",
        "\n",
        "  A.sort(reverse = True)\n",
        "\n",
        "  min_cost = 0\n",
        "\n",
        "  for i in range(len(A)):\n",
        "\n",
        "    min_cost += (i+1)*A[i]\n",
        "\n",
        "  return min_cost\n",
        "\n",
        "print(MinCost([2, 1, 4]))\n",
        "print(MinCost([5, 4, 7, 1]))"
      ],
      "metadata": {
        "colab": {
          "base_uri": "https://localhost:8080/"
        },
        "id": "uxxXS8FEahez",
        "outputId": "872b45cb-f30a-400b-ecca-8eeca195ef67"
      },
      "execution_count": null,
      "outputs": [
        {
          "output_type": "stream",
          "name": "stdout",
          "text": [
            "11\n",
            "33\n"
          ]
        }
      ]
    },
    {
      "cell_type": "markdown",
      "source": [
        "**Class Question2:** Minimum Difference\n",
        "\n",
        "Given an array of N elements. Find the minimum absolute value of (A[i]-A[j]), where i and j are distinct indices. A = [1, -5, 3, 5, -10, 4]"
      ],
      "metadata": {
        "id": "fXSSjwiQbZPa"
      }
    },
    {
      "cell_type": "code",
      "source": [
        "# Code Implementation\n",
        "\n",
        "def MinDiff(A):\n",
        "\n",
        "  A.sort()\n",
        "\n",
        "  min_diff = float('inf')\n",
        "\n",
        "  for i in range(0, len(A)-1):\n",
        "\n",
        "    min_diff = min(min_diff, A[i+1]-A[i])\n",
        "\n",
        "  return min_diff\n",
        "\n",
        "print(MinDiff([1, -5, 3, 5, -10, 4]))\n",
        "print(MinDiff([9, 14, 21, 7, -3, 4, 26, 10]))"
      ],
      "metadata": {
        "colab": {
          "base_uri": "https://localhost:8080/"
        },
        "id": "y21e0vATcM20",
        "outputId": "e8aa8319-800c-4690-a6ff-f42125e8f0e9"
      },
      "execution_count": null,
      "outputs": [
        {
          "output_type": "stream",
          "name": "stdout",
          "text": [
            "1\n",
            "1\n"
          ]
        }
      ]
    },
    {
      "cell_type": "markdown",
      "source": [
        "**Class Question3:** Given an array [1, -5, 3, 5, -10, 4], find all the noble elments in the array.\n",
        "\n",
        "Noble Elements: A noble element is an element whose value is equal to the number of elements strictly smaller than that number. In the array [-1, 0, 2, 3], 2 and 3 are noble elements because they have exactly 2 and 3 elements smaller than themselves."
      ],
      "metadata": {
        "id": "NkaXIzzeez33"
      }
    },
    {
      "cell_type": "code",
      "source": [
        "# Code Implementation\n",
        "\n",
        "def CountNobleElements(A):\n",
        "\n",
        "  A.sort()\n",
        "\n",
        "  count = 0\n",
        "\n",
        "  for i in range(len(A)):\n",
        "\n",
        "    if i == 0 and A[i] == 0:\n",
        "\n",
        "      count += 1\n",
        "\n",
        "    elif A[i] == i:\n",
        "\n",
        "      count += 1\n",
        "\n",
        "  return count\n",
        "\n",
        "print(CountNobleElements([1, -5, 3, 5, -10, 4]))"
      ],
      "metadata": {
        "colab": {
          "base_uri": "https://localhost:8080/"
        },
        "id": "Lu11Ul2MgKEs",
        "outputId": "8f26cfed-4edc-45f9-9bce-84cad25c2e91"
      },
      "execution_count": null,
      "outputs": [
        {
          "output_type": "stream",
          "name": "stdout",
          "text": [
            "3\n"
          ]
        }
      ]
    },
    {
      "cell_type": "markdown",
      "source": [
        "**Another variation of above problem:** What if we have duplicates in the array or for an array with non-distinct elements ? A = [-10, 1, 1, 3, 3, 5, 9]"
      ],
      "metadata": {
        "id": "oX-vaiUwpaao"
      }
    },
    {
      "cell_type": "code",
      "source": [
        "# Code Implementation\n",
        "\n",
        "def CountNobleElements(A):\n",
        "\n",
        "  A.sort()\n",
        "\n",
        "  store_value_index = [0]\n",
        "\n",
        "  for i in range(1, len(A)):\n",
        "\n",
        "    if A[i] == A[i-1]:\n",
        "\n",
        "      store_value_index.append(store_value_index[i-1])\n",
        "\n",
        "    else:\n",
        "\n",
        "      store_value_index.append(i)\n",
        "\n",
        "  count = 0\n",
        "\n",
        "  for i in range(len(A)):\n",
        "\n",
        "    if A[i] == store_value_index[i]:\n",
        "\n",
        "      count += 1\n",
        "\n",
        "  return count\n",
        "\n",
        "print(CountNobleElements([1, -5, 3, 5, -10, 4]))\n",
        "print(CountNobleElements([0, 0, 2, 2, 4, 6, 6, 7]))"
      ],
      "metadata": {
        "colab": {
          "base_uri": "https://localhost:8080/"
        },
        "id": "1Qyb5t1rpnz-",
        "outputId": "052a0895-79f1-46f1-8a00-4a102ecd3fb9"
      },
      "execution_count": 2,
      "outputs": [
        {
          "output_type": "stream",
          "name": "stdout",
          "text": [
            "3\n",
            "6\n"
          ]
        }
      ]
    },
    {
      "cell_type": "markdown",
      "source": [
        "**Class Quiz1:** Count the no of noble integers in the array. A = [-3, -0, 2 , 5 ]\n",
        "\n",
        "**Answer:** 1"
      ],
      "metadata": {
        "id": "4RmafY6df39U"
      }
    },
    {
      "cell_type": "markdown",
      "source": [
        "**Class Quiz2:** Count the no of noble integers in the array. A = [-10, 1, 1, 2, 4, 4, 4, 8, 10]\n",
        "\n",
        "**Answer:** 5"
      ],
      "metadata": {
        "id": "skMWA_1Sz7xD"
      }
    },
    {
      "cell_type": "markdown",
      "source": [
        "**Class Quiz3:** Count the no of noble integers in the array. A = [-3, 0, 2, 2, 5, 5, 5, 5, 8, 8, 10, 10, 10, 14]\n",
        "\n",
        "**Answer:** 7"
      ],
      "metadata": {
        "id": "UykPWiSUz9Zo"
      }
    },
    {
      "cell_type": "markdown",
      "source": [
        "**Important Note:** **key** parameter inside sort() function allows users to sort the array according to a parameter."
      ],
      "metadata": {
        "id": "Xi1dUWumOsBt"
      }
    },
    {
      "cell_type": "markdown",
      "source": [
        "**Class Question4:** Sort array according to factors of the elements in an array. Given array, A = [12, 7, 6, 3, 1]"
      ],
      "metadata": {
        "id": "WdCzoMwlNS0O"
      }
    },
    {
      "cell_type": "code",
      "source": [
        "# Code Implementation\n",
        "\n",
        "# Defining function to find total number of factors of a number\n",
        "\n",
        "def CountFactors(n):\n",
        "\n",
        "  count = 0\n",
        "\n",
        "  for i in range(1, n+1):\n",
        "\n",
        "    if n%i == 0:\n",
        "\n",
        "      count += 1\n",
        "\n",
        "  return count\n",
        "\n",
        "A = [12, 7, 6, 3, 1]\n",
        "A.sort(key=CountFactors)\n",
        "print(A)"
      ],
      "metadata": {
        "colab": {
          "base_uri": "https://localhost:8080/"
        },
        "id": "QAzG43TBNk68",
        "outputId": "5e259578-5bea-4d5c-cbe4-21acaa6a6aff"
      },
      "execution_count": null,
      "outputs": [
        {
          "output_type": "stream",
          "name": "stdout",
          "text": [
            "[1, 7, 3, 6, 12]\n"
          ]
        }
      ]
    }
  ]
}