{
  "nbformat": 4,
  "nbformat_minor": 0,
  "metadata": {
    "colab": {
      "provenance": [],
      "collapsed_sections": []
    },
    "kernelspec": {
      "name": "python3",
      "display_name": "Python 3"
    },
    "language_info": {
      "name": "python"
    }
  },
  "cells": [
    {
      "cell_type": "markdown",
      "source": [
        "# Agenda\n",
        "\n",
        "\n",
        "\n",
        "> Revisit Bitwise Opeartors\n",
        "\n",
        "> Setting/Unsetting/Toggling\n",
        "\n",
        "> Shift Operators\n",
        "\n",
        "> Count Set Bits\n",
        "\n",
        "\n",
        "\n",
        "\n",
        "\n",
        "\n",
        "\n"
      ],
      "metadata": {
        "id": "uVGnJNqpTdws"
      }
    },
    {
      "cell_type": "markdown",
      "source": [
        "For 3 bit space, we can represent 8 (2^3) numbers - 000, 001, 010, 011, 100, 101, 110 and 111\n",
        "\n",
        "Similarly for 8 bit space, we can represent 256 (2^8) numbers"
      ],
      "metadata": {
        "id": "7F_Ou2ReVg4g"
      }
    },
    {
      "cell_type": "markdown",
      "source": [
        "**Class Question1:** I have a number 56. I want to switch on its first bit. Which bitwise operation should I perform - AND(&), OR(|) or XOR(^).\n",
        "\n",
        "**Ans:** We should perform OR operation to set the last bit. As XOR of 1 with 56 (111000) will toggle the last bit."
      ],
      "metadata": {
        "id": "TixlarybZN_h"
      }
    },
    {
      "cell_type": "markdown",
      "source": [
        "**Class Question2:** I have a number 38. I want to switch on its fourth bit. Which bitwise operation should I perform - AND(&), OR(|) or XOR(^).\n",
        "\n",
        "**Ans:** We should perform OR operation with 8(2^3) i.e 1000 to set the fourth bit of 38 (100110)"
      ],
      "metadata": {
        "id": "q79jVeRAbEMF"
      }
    },
    {
      "cell_type": "markdown",
      "source": [
        "**Class Question3:** I have a number 167. I want to switch on its fifth bit. Which bitwise operation should I perform - AND(&), OR(|) or XOR(^).\n",
        "\n",
        "**Ans:** We should perform OR operation with 16(2^4) i.e 10000 to set the fifth bit of 167 (10100111)"
      ],
      "metadata": {
        "id": "ftdCMp0VbzBL"
      }
    },
    {
      "cell_type": "markdown",
      "source": [
        "So, to set the bit at nth position, perform OR operation with 2^(k-1).\n",
        "\n",
        "\n",
        "    Set the 1st bit, take OR with 2^0 or 1\n",
        "    Set the 2nd bit, take OR with 2^1 or 2\n",
        "    Set the 3rd bit, take OR with 2^2 or 4\n",
        "    Set the 4th bit, take OR with 2^3 or 8, and so on..."
      ],
      "metadata": {
        "id": "sefFQczgcfKv"
      }
    },
    {
      "cell_type": "markdown",
      "source": [
        "Given a number x, to unset some bit, AND with 0.\n",
        "\n",
        "For Ex: for 14 i.e 1110. To unset the 3rd bit, perform AND operation with 1011.\n",
        "\n",
        "      1 1 1 0\n",
        "    & 1 0 1 1\n",
        "    ----------\n",
        "      1 0 1 0"
      ],
      "metadata": {
        "id": "hsZGxBKWd6VL"
      }
    },
    {
      "cell_type": "markdown",
      "source": [
        "Given a number x, to toggle some bit, XOR with 1.\n",
        "\n",
        "For Ex: for 22 i.e 10110. To set the 3rd bit, perform XOR operation with 00100 (2^2)\n",
        "\n",
        "      1 0 1 1 0\n",
        "    & 0 0 1 0 0\n",
        "    ------------\n",
        "      1 0 0 1 0"
      ],
      "metadata": {
        "id": "zd8agxRXfjyc"
      }
    },
    {
      "cell_type": "markdown",
      "source": [
        "So, to toggle a bit at nth position, perform XOR operation with 2^(k-1)."
      ],
      "metadata": {
        "id": "XqQs_mm-RwCk"
      }
    },
    {
      "cell_type": "markdown",
      "source": [
        "**AND operator -** UNSET a bit\n",
        "\n",
        "**OR operator -** SET a bit\n",
        "\n",
        "**XOR operator -** Toggle a bit"
      ],
      "metadata": {
        "id": "sXyb3cMYRVm4"
      }
    },
    {
      "cell_type": "markdown",
      "source": [
        "**Shift Operators:** Shift bits in some direction by some places.\n",
        "\n",
        "Shift 1 towards left by 2 places = 1 0 0"
      ],
      "metadata": {
        "id": "nZ1nVaPjgi3I"
      }
    },
    {
      "cell_type": "code",
      "execution_count": null,
      "metadata": {
        "colab": {
          "base_uri": "https://localhost:8080/"
        },
        "id": "e2RjDoKjSojy",
        "outputId": "c2fbb7d8-9f81-4785-98fe-a3fb351e754f"
      },
      "outputs": [
        {
          "output_type": "stream",
          "name": "stdout",
          "text": [
            "4\n"
          ]
        }
      ],
      "source": [
        "# Left shifting 1 towards left by 2 places gives us 4 i.e 100\n",
        "\n",
        "print(1<<2)"
      ]
    },
    {
      "cell_type": "markdown",
      "source": [
        "**Class Question4:** Set the 4th bit of a number (10110) i.e 22"
      ],
      "metadata": {
        "id": "HjQ3pT8lhbUS"
      }
    },
    {
      "cell_type": "code",
      "source": [
        "print(22 | (1<<3))"
      ],
      "metadata": {
        "colab": {
          "base_uri": "https://localhost:8080/"
        },
        "id": "rMuFmhYvhr6O",
        "outputId": "b96b3e52-1b3f-4e08-9de2-54240f648ade"
      },
      "execution_count": null,
      "outputs": [
        {
          "output_type": "stream",
          "name": "stdout",
          "text": [
            "30\n"
          ]
        }
      ]
    },
    {
      "cell_type": "markdown",
      "source": [
        "**Class Question5**: Shift 11 by 2 places to the left"
      ],
      "metadata": {
        "id": "P-YyeuDmibgT"
      }
    },
    {
      "cell_type": "code",
      "source": [
        "print(11<<2)"
      ],
      "metadata": {
        "colab": {
          "base_uri": "https://localhost:8080/"
        },
        "id": "snVP9ptsigtF",
        "outputId": "630ac130-846f-4bf6-83d6-e762033739d4"
      },
      "execution_count": null,
      "outputs": [
        {
          "output_type": "stream",
          "name": "stdout",
          "text": [
            "44\n"
          ]
        }
      ]
    },
    {
      "cell_type": "markdown",
      "source": [
        "So, shifting a number by n places is equal to multiplying that number by 2^n"
      ],
      "metadata": {
        "id": "HTtJ5Seqi0t_"
      }
    },
    {
      "cell_type": "markdown",
      "source": [
        "**Class Question6:** Toggle the K-th bit of a number x\n",
        "\n",
        "**Ans:** x^(1<<(k-1))"
      ],
      "metadata": {
        "id": "8kDLYf4Ci-xJ"
      }
    },
    {
      "cell_type": "markdown",
      "source": [
        "**Class Question5:** Shift 44 by 2 places to the left"
      ],
      "metadata": {
        "id": "PqkNakv1pK3p"
      }
    },
    {
      "cell_type": "code",
      "source": [
        "print(44>>2) # i.e convert 101100 to 1011 by right shifting the number"
      ],
      "metadata": {
        "colab": {
          "base_uri": "https://localhost:8080/"
        },
        "id": "8lkAbpXQpO3S",
        "outputId": "aae51b04-ab62-47aa-8063-cd58909294fe"
      },
      "execution_count": null,
      "outputs": [
        {
          "output_type": "stream",
          "name": "stdout",
          "text": [
            "11\n"
          ]
        }
      ]
    },
    {
      "cell_type": "markdown",
      "source": [
        "**Observation:** Please note right shifting a number by 2 places, is same as floor division of the number by 2, twice.\n",
        "\n",
        "**For example:** Right shifting 18 by one place is 9 (18//2), and then right shifting it again gives 4 (9//2)"
      ],
      "metadata": {
        "id": "slPHX7nadH9Y"
      }
    },
    {
      "cell_type": "markdown",
      "source": [
        "**Class Question7:** Given a number x. Count the number of set bits in the number."
      ],
      "metadata": {
        "id": "8_HJPY7ZlWhI"
      }
    },
    {
      "cell_type": "code",
      "source": [
        "# Solution - 1\n",
        "\n",
        "def CountSetBits(x):\n",
        "\n",
        "  count = 0\n",
        "\n",
        "  while x != 0:\n",
        "\n",
        "    count += x&1\n",
        "    x = x>>1\n",
        "\n",
        "  return count\n",
        "\n",
        "print(CountSetBits(44))\n",
        "print(CountSetBits(31))"
      ],
      "metadata": {
        "colab": {
          "base_uri": "https://localhost:8080/"
        },
        "id": "CnRheSFyoJsQ",
        "outputId": "a3977a66-1e71-477e-b8dd-7fc66fce18bd"
      },
      "execution_count": null,
      "outputs": [
        {
          "output_type": "stream",
          "name": "stdout",
          "text": [
            "3\n",
            "5\n"
          ]
        }
      ]
    },
    {
      "cell_type": "markdown",
      "source": [
        "For the above problem, **T.C.** is O(LogN) and **S.C.** is O(1)"
      ],
      "metadata": {
        "id": "BuLrBrF0qnKt"
      }
    },
    {
      "cell_type": "code",
      "source": [
        "# Solution - 2\n",
        "\n",
        "def CountSetBits(x):\n",
        "\n",
        "  count = 0\n",
        "\n",
        "  for i in range(32):\n",
        "\n",
        "    if x & (1<<i) != 0:\n",
        "\n",
        "      count += 1\n",
        "\n",
        "  return count\n",
        "\n",
        "print(CountSetBits(44))\n",
        "print(CountSetBits(31))"
      ],
      "metadata": {
        "colab": {
          "base_uri": "https://localhost:8080/"
        },
        "id": "ZOi1fGtlbx8b",
        "outputId": "a9ea14b6-0309-48d9-aaec-ba72fe86c1cb"
      },
      "execution_count": null,
      "outputs": [
        {
          "output_type": "stream",
          "name": "stdout",
          "text": [
            "3\n",
            "5\n"
          ]
        }
      ]
    },
    {
      "cell_type": "markdown",
      "source": [
        "For the above problem, **T.C.** is O(LogN) and **S.C.** is O(1)"
      ],
      "metadata": {
        "id": "Cf6CWDGFcNYu"
      }
    },
    {
      "cell_type": "markdown",
      "source": [
        "**Class Question8:** You are given an array containing 0s and 1s. Find the longest sequence of 1s in the array."
      ],
      "metadata": {
        "id": "NDToRjZ5sVy1"
      }
    },
    {
      "cell_type": "code",
      "source": [
        "def LongestSequence(x):\n",
        "\n",
        "  count = 0\n",
        "\n",
        "  max_len = 0\n",
        "\n",
        "  for ele in x:\n",
        "\n",
        "    if ele&1 == 1: # or ele == 1 will also work here\n",
        "\n",
        "      count += 1\n",
        "      max_len = max(max_len, count)\n",
        "\n",
        "    else:\n",
        "\n",
        "      count = 0\n",
        "\n",
        "  return max_len\n",
        "\n",
        "print(LongestSequence([0, 0, 1, 1, 1, 0, 1, 1, 1, 0, 0, 1, 1, 1, 1]))"
      ],
      "metadata": {
        "colab": {
          "base_uri": "https://localhost:8080/"
        },
        "id": "aVyfesI_sjE7",
        "outputId": "ca7a2988-2d62-495c-9691-4bdf9a2c42d1"
      },
      "execution_count": null,
      "outputs": [
        {
          "output_type": "stream",
          "name": "stdout",
          "text": [
            "4\n"
          ]
        }
      ]
    },
    {
      "cell_type": "markdown",
      "source": [
        "**Another variation of question 8:** You are given a decimal number 7631 (1110111001111 in binary). Find the longest sequence of 1s in the binary representation of 7631"
      ],
      "metadata": {
        "id": "FNELQssSfVNF"
      }
    },
    {
      "cell_type": "code",
      "source": [
        "def LongestSequence(x):\n",
        "\n",
        "  count = 0\n",
        "\n",
        "  max_len = 0\n",
        "\n",
        "  for i in range(32):\n",
        "\n",
        "    if x & (1<<i) != 0:\n",
        "\n",
        "      count += 1\n",
        "      max_len = max(max_len, count)\n",
        "\n",
        "    else:\n",
        "\n",
        "      count = 0\n",
        "\n",
        "  return max_len\n",
        "\n",
        "print(LongestSequence(7631))"
      ],
      "metadata": {
        "colab": {
          "base_uri": "https://localhost:8080/"
        },
        "id": "1AxrzBZNgcS2",
        "outputId": "b2cd5ba0-4f47-455e-c378-82440e1ff68f"
      },
      "execution_count": null,
      "outputs": [
        {
          "output_type": "stream",
          "name": "stdout",
          "text": [
            "4\n"
          ]
        }
      ]
    },
    {
      "cell_type": "markdown",
      "source": [
        "For the above problem, **T.C.** is O(LogN) and **S.C.** is O(1)"
      ],
      "metadata": {
        "id": "vCQZtiSyi-Xm"
      }
    },
    {
      "cell_type": "markdown",
      "source": [
        "**Class Question9:** You are given an array of 0s and 1s. Return the number of subarrays with bitwise OR as 0\n",
        "\n",
        "For 1001, the subarrays are 1,10,100,1001,0,00,001,0,01,1. Out of them only 0,00,0 have bitwise OR as 0.\n",
        "\n",
        "So, all subarrays with 0 will have bitwise OR as 0.\n",
        "\n",
        "In other words, all subarrays with 0 as the element will have (n*(n+1)//2)bitwise OR as 0 where 'n' is the number of elements in the subarray.\n",
        "\n",
        "For Example: 10001, will have 6 subarrays with bitwise OR as 0.\n",
        "\n",
        "10010001, will have 3+6=9 subarrays with bitwise OR as 0.\n"
      ],
      "metadata": {
        "id": "3VmRCdoStddH"
      }
    },
    {
      "cell_type": "code",
      "source": [
        "def TotalSubarrays(x):\n",
        "\n",
        "  count = 0\n",
        "  total = 0\n",
        "\n",
        "  for ele in x:\n",
        "\n",
        "    if ele&1 == 0:\n",
        "\n",
        "      count += 1\n",
        "\n",
        "    else:\n",
        "\n",
        "      total += (count*(count+1)//2)\n",
        "      count = 0\n",
        "\n",
        "  return total\n",
        "\n",
        "print(TotalSubarrays([0, 0, 1, 1, 1, 0, 1, 1, 1, 0, 0, 1, 1, 1, 1]))\n",
        "print(TotalSubarrays([1, 0, 0, 1, 0, 0, 0, 1]))"
      ],
      "metadata": {
        "colab": {
          "base_uri": "https://localhost:8080/"
        },
        "id": "SnptluBbw97q",
        "outputId": "6f465f9a-77d8-44d7-9127-a44ce861ffd1"
      },
      "execution_count": null,
      "outputs": [
        {
          "output_type": "stream",
          "name": "stdout",
          "text": [
            "7\n",
            "9\n"
          ]
        }
      ]
    },
    {
      "cell_type": "markdown",
      "source": [
        "For the above problem, **T.C.** is O(N) and **S.C.** is O(1)"
      ],
      "metadata": {
        "id": "i2x7tlyfjFva"
      }
    },
    {
      "cell_type": "markdown",
      "source": [
        "**Class Question10:** You are given an array of 0s and 1s. Return the number of subarrays with bitwise OR as 1\n",
        "\n",
        "**Hint:** (Total Subarrays possible) - (Count of subarray with bitwise OR as 0)"
      ],
      "metadata": {
        "id": "e3BlMZHZx3DG"
      }
    },
    {
      "cell_type": "code",
      "source": [
        "def TotalSubarrays(x):\n",
        "\n",
        "  count = 0\n",
        "  total = 0\n",
        "\n",
        "  for ele in x:\n",
        "\n",
        "    if ele&1 == 0:\n",
        "\n",
        "      count += 1\n",
        "\n",
        "    else:\n",
        "\n",
        "      total += (count*(count+1)//2)\n",
        "      count = 0\n",
        "\n",
        "  return (len(x)*(len(x)+1)//2) - total\n",
        "\n",
        "print(TotalSubarrays([0, 0, 1, 1, 1, 0, 1, 1, 1, 0, 0, 1, 1, 1, 1]))\n",
        "print(TotalSubarrays([1, 0, 0, 1, 0, 0, 0, 1]))"
      ],
      "metadata": {
        "colab": {
          "base_uri": "https://localhost:8080/"
        },
        "id": "CApzApm-yP1M",
        "outputId": "0bc2cc6b-61aa-4588-a6ec-4d2055985a00"
      },
      "execution_count": null,
      "outputs": [
        {
          "output_type": "stream",
          "name": "stdout",
          "text": [
            "113\n",
            "27\n"
          ]
        }
      ]
    },
    {
      "cell_type": "markdown",
      "source": [
        "For the above problem, **T.C.** is O(N) and **S.C.** is O(1)"
      ],
      "metadata": {
        "id": "QehLNCVZjI9h"
      }
    }
  ]
}