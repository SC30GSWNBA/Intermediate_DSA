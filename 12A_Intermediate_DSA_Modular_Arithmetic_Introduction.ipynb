{
  "nbformat": 4,
  "nbformat_minor": 0,
  "metadata": {
    "colab": {
      "provenance": [],
      "collapsed_sections": []
    },
    "kernelspec": {
      "name": "python3",
      "display_name": "Python 3"
    },
    "language_info": {
      "name": "python"
    }
  },
  "cells": [
    {
      "cell_type": "markdown",
      "source": [
        "**Modular Arithmetic**\n",
        "\n",
        "Dividend = Divisor * Quoitent + Remainder\n",
        "\n",
        "50 = 7 * 7 + 1\n",
        "\n",
        "Here,\n",
        "\n",
        "      50 is the dividend\n",
        "      7 is the divisor\n",
        "      7 is the quoitent\n",
        "      1 is the remainder\n",
        "\n"
      ],
      "metadata": {
        "id": "Lhw26GZLOkg6"
      }
    },
    {
      "cell_type": "markdown",
      "source": [
        "**Note:** Remainder can never be negative"
      ],
      "metadata": {
        "id": "4_zvgCvWRUfc"
      }
    },
    {
      "cell_type": "markdown",
      "source": [
        "**Quiz 1:** 150 % 11 = ?\n",
        "\n",
        "**Ans:** 7"
      ],
      "metadata": {
        "id": "1uItIjIHRli2"
      }
    },
    {
      "cell_type": "markdown",
      "source": [
        "**Quiz 2:** -40 % 7\n",
        "\n",
        "**Ans:** 2"
      ],
      "metadata": {
        "id": "_MnUPssXRroF"
      }
    },
    {
      "cell_type": "markdown",
      "source": [
        "**Quiz 3:** -60 % 9\n",
        "\n",
        "**Ans:** 3"
      ],
      "metadata": {
        "id": "lKuPdSd0R1KJ"
      }
    },
    {
      "cell_type": "markdown",
      "source": [
        "**Class Question 1:** What is the greater value of a remainder for a divisor = D ?\n",
        "\n",
        "**Ans:** D-1"
      ],
      "metadata": {
        "id": "1yhsXTJoR8V5"
      }
    },
    {
      "cell_type": "markdown",
      "source": [
        "**Modular Addition:**\n",
        "\n",
        "(a+b)%M = (a%M + b%M)%M\n",
        "\n",
        "Let a = (M x q1) + r1, and b = (M x q2) + r2\n",
        "\n",
        "Then (a+b)%M \n",
        "\n",
        "      = ((M x q1) + r1 + (M x q2) + r2)%M\n",
        "      \n",
        "      = ( M x (q1 + q2) + (r1 + r2) )%M\n",
        "\n",
        "      = (r1 + r2)%M\n",
        "\n",
        "      = (a%M + b%M)%M"
      ],
      "metadata": {
        "id": "4hy-1t67SH9n"
      }
    },
    {
      "cell_type": "markdown",
      "source": [
        "**Modular Multiplication:**\n",
        "\n",
        "(a*b)%M = (a%M * b%M)%M\n",
        "\n",
        "Let a = (M x q1) + r1, and b = (M x q2) + r2\n",
        "\n",
        "Then (a*b)%M\n",
        "\n",
        "    = (((M x q1) + r1) * ((M x q2) + r2))%M\n",
        "\n",
        "    = ( M x (q1 * q2) + (r1 * r2) )%M\n",
        "\n",
        "    = (r1 * r2)%M\n",
        "\n",
        "    = (a%M * b%M)%M"
      ],
      "metadata": {
        "id": "2gm24nybXHeu"
      }
    },
    {
      "cell_type": "markdown",
      "source": [
        "**Class Question2:** Find (a^p)%M\n",
        "\n",
        "(a^p)%M = ((a%M) x (a%M) x ...... x (a%M))%M"
      ],
      "metadata": {
        "id": "Ge2XM7jAXnf1"
      }
    },
    {
      "cell_type": "code",
      "source": [
        "# BruteForce Approach\n",
        "\n",
        "def power(a, b, M):\n",
        "\n",
        "  ans = 1\n",
        "\n",
        "  for i in range(b):\n",
        "\n",
        "    ans = ans * a\n",
        "\n",
        "  return ans%M"
      ],
      "metadata": {
        "id": "Y8Jv1VHalzFo"
      },
      "execution_count": null,
      "outputs": []
    },
    {
      "cell_type": "code",
      "source": [
        "%%time\n",
        "\n",
        "power(244,10000000,5)"
      ],
      "metadata": {
        "colab": {
          "base_uri": "https://localhost:8080/"
        },
        "id": "rf62_hbLock9",
        "outputId": "7453ed72-77a5-4c25-c4bb-b5303db219d3"
      },
      "execution_count": null,
      "outputs": [
        {
          "output_type": "stream",
          "name": "stdout",
          "text": [
            "CPU times: user 950 ms, sys: 7.9 ms, total: 958 ms\n",
            "Wall time: 959 ms\n"
          ]
        },
        {
          "output_type": "execute_result",
          "data": {
            "text/plain": [
              "1"
            ]
          },
          "metadata": {},
          "execution_count": 14
        }
      ]
    },
    {
      "cell_type": "code",
      "source": [
        "# Better Approach\n",
        "\n",
        "def power(a, b, M):\n",
        "\n",
        "  ans = 1\n",
        "\n",
        "  for i in range(b):\n",
        "\n",
        "    ans = ans*(a%M)\n",
        "\n",
        "    ans = ans % M\n",
        "\n",
        "  return ans"
      ],
      "metadata": {
        "id": "_fXS3Z9tmBfg"
      },
      "execution_count": null,
      "outputs": []
    },
    {
      "cell_type": "code",
      "source": [
        "%%time\n",
        "\n",
        "power(244,10000000,5)"
      ],
      "metadata": {
        "colab": {
          "base_uri": "https://localhost:8080/"
        },
        "id": "4gmUUNCYoraX",
        "outputId": "0cd74e2c-11f4-4bfd-d0f5-1d3c57c5d0c8"
      },
      "execution_count": null,
      "outputs": [
        {
          "output_type": "stream",
          "name": "stdout",
          "text": [
            "CPU times: user 957 ms, sys: 2.86 ms, total: 960 ms\n",
            "Wall time: 971 ms\n"
          ]
        },
        {
          "output_type": "execute_result",
          "data": {
            "text/plain": [
              "1"
            ]
          },
          "metadata": {},
          "execution_count": 15
        }
      ]
    },
    {
      "cell_type": "markdown",
      "source": [
        "**Class Question 3:** Given an array of integers. Find the number of pairs (i, j) such that i < j and (a[ i ]+a[ j ])%M == 0\n",
        "\n",
        "arr = [1, 10, 7, 23, 8, 17, 19, 15, 4]"
      ],
      "metadata": {
        "id": "TukOhk2iqOnw"
      }
    },
    {
      "cell_type": "code",
      "source": [
        "# BruteForce Approach\n",
        "\n",
        "def CountPairs(A, M):\n",
        "\n",
        "  cnt = 0\n",
        "\n",
        "  for i in range(len(A)):\n",
        "\n",
        "    for j in range(i+1, len(A)):\n",
        "\n",
        "      if (A[i] + A[j])%M == 0:\n",
        "\n",
        "        cnt += 1\n",
        "\n",
        "\n",
        "  return cnt\n",
        "\n",
        "arr = [1, 10, 7, 23, 8, 17, 19, 15, 4]\n",
        "\n",
        "print(CountPairs(arr, 6))\n"
      ],
      "metadata": {
        "colab": {
          "base_uri": "https://localhost:8080/"
        },
        "id": "9Jk4mdEoqk3j",
        "outputId": "19bd335f-2551-41ee-d21b-ae79546874fb"
      },
      "execution_count": null,
      "outputs": [
        {
          "output_type": "stream",
          "name": "stdout",
          "text": [
            "8\n"
          ]
        }
      ]
    },
    {
      "cell_type": "markdown",
      "source": [
        "For the above problem, **T.C.** is O(N^2) and **S.C.** is O(1)"
      ],
      "metadata": {
        "id": "UBk92x9SyCH_"
      }
    },
    {
      "cell_type": "code",
      "source": [
        "# Optimized Approach\n",
        "\n",
        "def CountPairs(A, M):\n",
        "\n",
        "  cnt = 0\n",
        "\n",
        "  for i in range(len(A)):\n",
        "\n",
        "    A[i] = A[i]%M\n",
        "\n",
        "  rem_arr = [0]*M\n",
        "\n",
        "  for i in range(len(A)):\n",
        "\n",
        "    rem_arr[A[i]%M] += 1\n",
        "\n",
        "  i = 1\n",
        "  j = len(rem_arr)-1\n",
        "\n",
        "  pair_cnt = 0\n",
        "\n",
        "  while i < j:\n",
        "\n",
        "    pair_cnt += rem_arr[i]*rem_arr[j]\n",
        "\n",
        "    i += 1\n",
        "    j -= 1\n",
        "\n",
        "  return pair_cnt\n",
        "\n",
        "arr = [1, 10, 7, 23, 8, 17, 19, 15, 4]\n",
        "\n",
        "print(CountPairs(arr, 6))"
      ],
      "metadata": {
        "colab": {
          "base_uri": "https://localhost:8080/"
        },
        "id": "chl7rOXbwIuf",
        "outputId": "e87da75b-aa41-4094-d2d2-302bb6c99aa2"
      },
      "execution_count": null,
      "outputs": [
        {
          "output_type": "stream",
          "name": "stdout",
          "text": [
            "8\n"
          ]
        }
      ]
    },
    {
      "cell_type": "markdown",
      "source": [
        "For the above problem, **T.C.** is O(N) and **S.C.** is O(N)"
      ],
      "metadata": {
        "id": "0JFpTlYyx9zo"
      }
    },
    {
      "cell_type": "markdown",
      "source": [
        "### Divisibility Rules"
      ],
      "metadata": {
        "id": "C4yC1uyVyqRa"
      }
    },
    {
      "cell_type": "markdown",
      "source": [
        "**Divisibility by 3 :** Sum of all the digits of the number should be divisible by 3\n",
        "\n",
        "**Divisibility by 4 :** The last 2 digits of the number should be divisible by 4\n",
        "\n",
        "**Divisibility by 5 :** The last digit of the number should be divisible by 0 or 5\n",
        "\n",
        "**Divisibility by 6 :** The last digit of the number should be divisible by 2 or 3\n",
        "\n",
        "**Divisibility by 8 :** The last 3 digits of the number should be divisible by 8\n",
        "\n",
        "**Divisibility by 9 :** Sum of all the digits of the number should be divisible by 9\n",
        "\n",
        "**Divisibility by 11 :** Diffference of the sum of the digits of the number at even places and at odd places should be divisible by 11."
      ],
      "metadata": {
        "id": "c-M0AtVpytkl"
      }
    }
  ]
}