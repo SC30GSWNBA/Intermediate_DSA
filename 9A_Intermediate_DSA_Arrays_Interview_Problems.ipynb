{
  "nbformat": 4,
  "nbformat_minor": 0,
  "metadata": {
    "colab": {
      "name": "Intermediate DSA : Arrays : Interview Problems.ipynb",
      "provenance": [],
      "collapsed_sections": []
    },
    "kernelspec": {
      "name": "python3",
      "display_name": "Python 3"
    },
    "language_info": {
      "name": "python"
    }
  },
  "cells": [
    {
      "cell_type": "markdown",
      "source": [
        "**Class Question1:** Given an array of 0's and 1's. Find the length of the longest consecutive 1's in the array."
      ],
      "metadata": {
        "id": "wDVSEu8w6zQZ"
      }
    },
    {
      "cell_type": "code",
      "execution_count": null,
      "metadata": {
        "colab": {
          "base_uri": "https://localhost:8080/"
        },
        "id": "_4qJSIsr4ow_",
        "outputId": "866d676b-efcf-4adc-bdc9-18d6aab48769"
      },
      "outputs": [
        {
          "output_type": "stream",
          "name": "stdout",
          "text": [
            "4\n",
            "4\n"
          ]
        }
      ],
      "source": [
        "# Method-1\n",
        "\n",
        "def LongestConsecutive1s(A):\n",
        "\n",
        "  length = 0\n",
        "\n",
        "  max_val = 0\n",
        "\n",
        "  for i in range(0, len(A)):\n",
        "\n",
        "    if A[i] == 1:\n",
        "\n",
        "      length += 1\n",
        "      max_val = max(max_val, length)\n",
        "\n",
        "    else:\n",
        "\n",
        "      length = 0\n",
        "\n",
        "  return max_val\n",
        "\n",
        "\n",
        "arr = [0, 1, 1, 0, 1, 1, 1, 0, 1, 0, 0, 0, 1, 1, 1, 1]\n",
        "print(LongestConsecutive1s(arr))\n",
        "arr = [1, 1, 1, 0, 1, 1, 1, 1, 0, 1, 1, 0, 0, 1, 1, 1]\n",
        "print(LongestConsecutive1s(arr))"
      ]
    },
    {
      "cell_type": "markdown",
      "source": [
        "For the above problem, **T.C** -> O(N), **S.C** -> O(1)"
      ],
      "metadata": {
        "id": "C_xJu3sGPX6O"
      }
    },
    {
      "cell_type": "markdown",
      "source": [
        "**Class Question2:** Given an array of 0's and 1's. Find the length of the longest consecutive 1's in the array from a particular index position"
      ],
      "metadata": {
        "id": "UwS6BiAqA1hx"
      }
    },
    {
      "cell_type": "code",
      "source": [
        "# Method-1\n",
        "\n",
        "def LongestConsecutive1s(A, index):\n",
        "\n",
        "  length = 0\n",
        "\n",
        "  max_val = 0\n",
        "\n",
        "  for i in range(index, len(A)):\n",
        "\n",
        "    if A[i] == 1:\n",
        "\n",
        "      length += 1\n",
        "      max_val = max(max_val, length)\n",
        "\n",
        "    else:\n",
        "\n",
        "      length = 0\n",
        "\n",
        "  return max_val\n",
        "\n",
        "\n",
        "arr = [0, 1, 1, 0, 1, 1, 1, 0, 1, 0, 0, 0, 1, 1, 1, 1]\n",
        "print(LongestConsecutive1s(arr, 5))\n",
        "arr = [1, 1, 1, 0, 1, 1, 1, 1, 0, 1, 1, 0, 0, 1, 1, 1]\n",
        "print(LongestConsecutive1s(arr, 5))"
      ],
      "metadata": {
        "colab": {
          "base_uri": "https://localhost:8080/"
        },
        "id": "G7z_6TcGA7GU",
        "outputId": "1e946445-b8bd-4763-e18b-b29eeefc21f9"
      },
      "execution_count": null,
      "outputs": [
        {
          "output_type": "stream",
          "name": "stdout",
          "text": [
            "4\n",
            "3\n"
          ]
        }
      ]
    },
    {
      "cell_type": "markdown",
      "source": [
        "For the above problem, **T.C** -> O(N), **S.C** -> O(1)"
      ],
      "metadata": {
        "id": "fogJjTbpRID2"
      }
    },
    {
      "cell_type": "markdown",
      "source": [
        "**Class Question3:** Given an array of 0's and 1's. Find the length of the longest consecutive 1's in the array such that you can replace atmost 1 zero with one in the array."
      ],
      "metadata": {
        "id": "eHEzwUBCE7te"
      }
    },
    {
      "cell_type": "code",
      "source": [
        "# Method 1 - Bruteforce Approach\n",
        "\n",
        "def LongestConsecutive1sWithReplacement(A):\n",
        "\n",
        "  def LongestConsecutive1s(X):\n",
        "\n",
        "    length = 0\n",
        "\n",
        "    max_val = 0\n",
        "\n",
        "    for i in range(0, len(X)):\n",
        "\n",
        "      if X[i] == 1:\n",
        "\n",
        "        length += 1\n",
        "        max_val = max(max_val, length)\n",
        "\n",
        "      else:\n",
        "\n",
        "        length = 0\n",
        "\n",
        "    return max_val\n",
        "\n",
        "  ans = LongestConsecutive1s(A)\n",
        "\n",
        "  for i in range(len(A)):\n",
        "\n",
        "    if A[i] == 0:\n",
        "\n",
        "      A[i] = 1\n",
        "\n",
        "      ans = max(ans, LongestConsecutive1s(A))\n",
        "\n",
        "      A[i] = 0\n",
        "\n",
        "  return ans\n",
        "\n",
        "\n",
        "arr = [1, 1, 0, 1, 1, 0, 0, 1, 1, 1, 1, 1, 0, 0]\n",
        "\n",
        "print(LongestConsecutive1sWithReplacement(arr))\n",
        "\n",
        "arr = [0, 1, 1, 0, 1, 1, 1, 0, 1, 1, 1, 0, 1, 1, 1, 1]\n",
        "\n",
        "print(LongestConsecutive1sWithReplacement(arr))"
      ],
      "metadata": {
        "colab": {
          "base_uri": "https://localhost:8080/"
        },
        "id": "eVpjiGNHM9f1",
        "outputId": "ae8123b8-804b-472a-81ed-46caa0635e99"
      },
      "execution_count": null,
      "outputs": [
        {
          "output_type": "stream",
          "name": "stdout",
          "text": [
            "6\n",
            "8\n"
          ]
        }
      ]
    },
    {
      "cell_type": "markdown",
      "source": [
        "For the above problem, **T.C** -> O(N^2), **S.C** -> O(1)"
      ],
      "metadata": {
        "id": "BpPaTkYgRJhd"
      }
    },
    {
      "cell_type": "code",
      "source": [
        "# Method 2 - Using Prefix Array and Suffix Array\n",
        "\n",
        "def LongestConsecutive1sWithReplacement(A):\n",
        "\n",
        "  if len(A) == 1:\n",
        "\n",
        "    return 1\n",
        "\n",
        "  total = 0\n",
        "\n",
        "  PS = []\n",
        "\n",
        "  for i in range(0, len(A)):\n",
        "\n",
        "    if A[i] == 1:\n",
        "\n",
        "      total += 1\n",
        "      PS.append(total)\n",
        "\n",
        "    else:\n",
        "\n",
        "      total = 0\n",
        "      PS.append(total)\n",
        "\n",
        "  total = 0\n",
        "\n",
        "  SS = [0] * len(A)\n",
        "\n",
        "  for i in range(len(A)-1, -1, -1):\n",
        "\n",
        "    if A[i] == 1:\n",
        "\n",
        "      total += 1\n",
        "      SS[i] = total\n",
        "\n",
        "    else:\n",
        "\n",
        "      total = 0\n",
        "      SS[i] = total\n",
        "  \n",
        "\n",
        "  print(f'Prefix Sum: {PS}')\n",
        "  print(f'Suffix Sum: {SS}')\n",
        "\n",
        "  max_len = 0\n",
        "\n",
        "  temp = 0\n",
        "\n",
        "\n",
        "  for i in range(len(A)):\n",
        "\n",
        "    if i == 0 and A[i] == 0:\n",
        "\n",
        "      temp = SS[i+1] + 1\n",
        "      max_len = max(max_len, temp)\n",
        "\n",
        "    elif i == len(A)-1 and A[i] == 0:\n",
        "\n",
        "      temp = PS[i-1] + 1\n",
        "      max_len = max(max_len, temp)\n",
        "\n",
        "    elif A[i] == 0:\n",
        "\n",
        "      temp = PS[i-1] + SS[i+1] + 1\n",
        "      max_len = max(max_len, temp)\n",
        "\n",
        "    else:\n",
        "\n",
        "      pass\n",
        "\n",
        "  return max_len\n",
        "\n",
        "\n",
        "\n",
        "arr = [1, 1, 0, 1, 1, 0, 0, 1, 1, 1, 1, 1, 0, 0]\n",
        "print(LongestConsecutive1sWithReplacement(arr))\n",
        "\n",
        "arr = [0, 1, 1, 0, 1, 1, 1, 0, 1, 1, 1, 0, 1, 1, 1, 1]\n",
        "print(LongestConsecutive1sWithReplacement(arr))"
      ],
      "metadata": {
        "colab": {
          "base_uri": "https://localhost:8080/"
        },
        "id": "xK4lsSz4FqC5",
        "outputId": "b9283ecd-7404-4656-f739-5e9a41bba86b"
      },
      "execution_count": null,
      "outputs": [
        {
          "output_type": "stream",
          "name": "stdout",
          "text": [
            "Prefix Sum: [1, 2, 0, 1, 2, 0, 0, 1, 2, 3, 4, 5, 0, 0]\n",
            "Suffix Sum: [2, 1, 0, 2, 1, 0, 0, 5, 4, 3, 2, 1, 0, 0]\n",
            "6\n",
            "Prefix Sum: [0, 1, 2, 0, 1, 2, 3, 0, 1, 2, 3, 0, 1, 2, 3, 4]\n",
            "Suffix Sum: [0, 2, 1, 0, 3, 2, 1, 0, 3, 2, 1, 0, 4, 3, 2, 1]\n",
            "8\n"
          ]
        }
      ]
    },
    {
      "cell_type": "markdown",
      "source": [
        "For the above problem, **T.C** -> O(N), **S.C** -> O(N)"
      ],
      "metadata": {
        "id": "mmSwxUkSRNGj"
      }
    },
    {
      "cell_type": "markdown",
      "source": [
        "**Class Question4:** Given an array of length >= 3. Find triplets of indexes (i,j,k) such that i < j < k and A[i] < A[j] < A[k]"
      ],
      "metadata": {
        "id": "ukDdiM6eSk2y"
      }
    },
    {
      "cell_type": "code",
      "source": [
        "# Method 1 - Bruteforce Approach\n",
        "\n",
        "def CountTriplets(A):\n",
        "\n",
        "  cnt = 0\n",
        "\n",
        "  n = len(A)\n",
        "\n",
        "  for i in range(n):\n",
        "\n",
        "    for j in range(i+1, n):\n",
        "\n",
        "      for k in range(j+1, n):\n",
        "\n",
        "        if A[i] < A[j] and A[j] < A[k]:\n",
        "\n",
        "          print(f'A[i]: {A[i]}, A[j]: {A[j]}, A[k]: {A[k]}')\n",
        "\n",
        "          cnt += 1\n",
        "\n",
        "\n",
        "  return cnt\n",
        "\n",
        "arr = [4, 1, 2, 6, 9, 7]\n",
        "\n",
        "print(CountTriplets(arr))"
      ],
      "metadata": {
        "colab": {
          "base_uri": "https://localhost:8080/"
        },
        "id": "HtYUmhuMTAR7",
        "outputId": "80fe9c3f-604a-4da8-9d8c-c28594e8c52a"
      },
      "execution_count": null,
      "outputs": [
        {
          "output_type": "stream",
          "name": "stdout",
          "text": [
            "A[i]: 4, A[j]: 6, A[k]: 9\n",
            "A[i]: 4, A[j]: 6, A[k]: 7\n",
            "A[i]: 1, A[j]: 2, A[k]: 6\n",
            "A[i]: 1, A[j]: 2, A[k]: 9\n",
            "A[i]: 1, A[j]: 2, A[k]: 7\n",
            "A[i]: 1, A[j]: 6, A[k]: 9\n",
            "A[i]: 1, A[j]: 6, A[k]: 7\n",
            "A[i]: 2, A[j]: 6, A[k]: 9\n",
            "A[i]: 2, A[j]: 6, A[k]: 7\n",
            "9\n"
          ]
        }
      ]
    },
    {
      "cell_type": "markdown",
      "source": [
        "For the above problem, **T.C** -> O(N^3), **S.C** -> O(1)"
      ],
      "metadata": {
        "id": "ntgr6YdJtTzl"
      }
    },
    {
      "cell_type": "code",
      "source": [
        "# Method 2 - For every 'j', count the number of 'i' elements less than j to the left and \n",
        "# for every 'j', count the number of 'k' elements more than j to the right\n",
        "\n",
        "def CountTriplets(A):\n",
        "\n",
        "  cnt = 0\n",
        "\n",
        "  n = len(A)\n",
        "\n",
        "  for j in range(n):\n",
        "\n",
        "    left = 0\n",
        "\n",
        "    for i in range(j):\n",
        "\n",
        "      if A[i] < A[j]:\n",
        "\n",
        "        left += 1\n",
        "\n",
        "    right = 0\n",
        "\n",
        "    for k in range(j+1, n):\n",
        "\n",
        "      if A[j] < A[k]:\n",
        "\n",
        "        right += 1\n",
        "\n",
        "    cnt += left*right\n",
        "  \n",
        "  return cnt\n",
        "\n",
        "arr = [4, 1, 2, 6, 9, 7]\n",
        "\n",
        "print(CountTriplets(arr))"
      ],
      "metadata": {
        "colab": {
          "base_uri": "https://localhost:8080/"
        },
        "id": "mDDta4KmtY-b",
        "outputId": "d8c80172-447e-4c41-ceb8-6d72cfd28950"
      },
      "execution_count": null,
      "outputs": [
        {
          "output_type": "stream",
          "name": "stdout",
          "text": [
            "9\n"
          ]
        }
      ]
    },
    {
      "cell_type": "markdown",
      "source": [
        "For the above problem, **T.C** -> O(N^2), **S.C** -> O(1)"
      ],
      "metadata": {
        "id": "JAg1flxGzx5K"
      }
    },
    {
      "cell_type": "markdown",
      "source": [
        "**Class Problem5:** Print 2D matrix in the spiral order:\n",
        "\n",
        "![print-matrix-spiral-order.jpeg](data:image/jpeg;base64,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)"
      ],
      "metadata": {
        "id": "1b_o-giCztp_"
      }
    },
    {
      "cell_type": "code",
      "source": [
        ""
      ],
      "metadata": {
        "id": "dFt92lDR0BXz"
      },
      "execution_count": null,
      "outputs": []
    }
  ]
}