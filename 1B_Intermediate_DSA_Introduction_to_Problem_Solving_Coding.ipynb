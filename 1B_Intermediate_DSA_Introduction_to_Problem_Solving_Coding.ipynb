{
  "nbformat": 4,
  "nbformat_minor": 0,
  "metadata": {
    "colab": {
      "provenance": [],
      "collapsed_sections": []
    },
    "kernelspec": {
      "name": "python3",
      "display_name": "Python 3"
    },
    "language_info": {
      "name": "python"
    }
  },
  "cells": [
    {
      "cell_type": "markdown",
      "source": [
        "**Q1. Problem Description:**\n",
        "\n",
        "Given an integer A, you have to tell whether it is a prime number or not.\n",
        "\n",
        "A prime number is a natural number greater than 1 which is divisible only by 1 and itself.\n",
        "\n",
        "**Problem Constraints:**\n",
        "\n",
        "1 <= **A** <= 10^6\n",
        "\n",
        "**Input Format:**\n",
        "\n",
        "First and only line of the input contains a single integer A.\n",
        "\n",
        "**Output Format:**\n",
        "\n",
        "Print **YES** if A is a prime, else print **NO**."
      ],
      "metadata": {
        "id": "yAUKGNVxAvz8"
      }
    },
    {
      "cell_type": "code",
      "execution_count": null,
      "metadata": {
        "colab": {
          "base_uri": "https://localhost:8080/"
        },
        "id": "PydC1whI9mgf",
        "outputId": "43a0d72c-4578-41a1-ac51-8f56ea55362b"
      },
      "outputs": [
        {
          "output_type": "stream",
          "name": "stdout",
          "text": [
            "1000000007\n",
            "YES\n"
          ]
        }
      ],
      "source": [
        "def main():\n",
        "    # YOUR CODE GOES HERE\n",
        "    # Please take input and print output to standard input/output (stdin/stdout)\n",
        "    # E.g. 'input()/raw_input()' for input & 'print' for output\n",
        "\n",
        "    A = int(input())\n",
        "\n",
        "    cnt = 0\n",
        "\n",
        "    for i in range(1, int(A**0.5)+1):\n",
        "\n",
        "      if A%i == 0 and A//i == i:\n",
        "\n",
        "        cnt += 1\n",
        "\n",
        "      elif A%i == 0 and A//i != i:\n",
        "\n",
        "        cnt += 2\n",
        "\n",
        "      else:\n",
        "\n",
        "        pass\n",
        "\n",
        "      if cnt > 2:\n",
        "\n",
        "        break\n",
        "\n",
        "    if cnt == 2:\n",
        "\n",
        "      print('YES')\n",
        "\n",
        "    else:\n",
        "\n",
        "      print('NO')\n",
        "\n",
        "    return 0\n",
        "\n",
        "if __name__ == '__main__':\n",
        "    main()"
      ]
    },
    {
      "cell_type": "markdown",
      "source": [
        "**Q2. Problem Description:**\n",
        "\n",
        "You are given **N** positive integers.\n",
        "\n",
        "For each given integer **A**, you have to tell whether it is a **perfect number** or not.\n",
        "\n",
        "**Perfect number** is a positive integer which is equal to the sum of its proper positive divisors.\n",
        "\n",
        "**Problem Constraints:**\n",
        "\n",
        "1 <= **N** <= 10\n",
        "\n",
        "1 <= **A** <= 10^6\n",
        "\n",
        "**Input Format:**\n",
        "\n",
        "First line of the input contains a single integer N.\n",
        "\n",
        "Each of the next N lines contains a single integer A.\n",
        "\n",
        "**Output Format:**\n",
        "\n",
        "In a seperate line, print **YES** if a given integer is perfect, else print **NO**.\n",
        "\n",
        "**Example Input**\n",
        "\n",
        "Input 1:\n",
        "\n",
        " 2\n",
        " 4\n",
        " 6 \n",
        "Input 2:\n",
        "\n",
        " 1\n",
        " 3 \n",
        "\n",
        "\n",
        "**Example Output**\n",
        "\n",
        "Output 1:\n",
        "\n",
        " NO\n",
        "\n",
        " YES\n",
        "\n",
        "Output 2:\n",
        "\n",
        " NO \n",
        "\n",
        "\n",
        "**Example Explanation**\n",
        "\n",
        "Explanation 1:\n",
        "\n",
        " For A = 4, the answer is \"NO\" as sum of its proper divisors = 1 + 2 = 3, is not equal to 4.\n",
        "\n",
        " For A = 6, the answer is \"YES\" as sum of its proper divisors = 1 + 2 + 3 = 6, is equal to 6.\n",
        "\n",
        "Explanation 2:\n",
        "\n",
        " For A = 3, the answer is \"NO\" as sum of its proper divisors = 1, is not equal to 3."
      ],
      "metadata": {
        "id": "z92cs9vBC_Ir"
      }
    },
    {
      "cell_type": "code",
      "source": [
        "def main():\n",
        "    # YOUR CODE GOES HERE\n",
        "    # Please take input and print output to standard input/output (stdin/stdout)\n",
        "    # E.g. 'input()/raw_input()' for input & 'print' for output\n",
        "\n",
        "    N = int(input())\n",
        "\n",
        "    for i in range(N):\n",
        "\n",
        "      A = int(input())\n",
        "\n",
        "      total = 0\n",
        "\n",
        "      for j in range(1, int(A**0.5)+1):\n",
        "\n",
        "        if A%j == 0 and j == 1:\n",
        "\n",
        "          total += j\n",
        "\n",
        "        elif A%j == 0:\n",
        "\n",
        "          total += j\n",
        "          total += (A//j)\n",
        "\n",
        "        else:\n",
        "\n",
        "          pass\n",
        "\n",
        "        #print(total)\n",
        "\n",
        "      if total == A:\n",
        "\n",
        "        print('YES')\n",
        "\n",
        "      else:\n",
        "\n",
        "        print(\"NO\")\n",
        "\n",
        "    return 0\n",
        "\n",
        "if __name__ == '__main__':\n",
        "    main()"
      ],
      "metadata": {
        "colab": {
          "base_uri": "https://localhost:8080/"
        },
        "id": "7TTdYRYEDsw3",
        "outputId": "7c29b5c7-e70b-4b1d-fb5a-7e2e574a87a3"
      },
      "execution_count": null,
      "outputs": [
        {
          "output_type": "stream",
          "name": "stdout",
          "text": [
            "3\n",
            "6\n",
            "YES\n",
            "28\n",
            "YES\n",
            "34\n",
            "NO\n"
          ]
        }
      ]
    },
    {
      "cell_type": "markdown",
      "source": [
        "**Q3. Problem Description**\n",
        "\n",
        "Write a program to find sum all Natural numbers from 1 to N where you have to take N as input from user\n",
        "\n",
        "\n",
        "\n",
        "**Problem Constraints**\n",
        "\n",
        "1 <= N <= 1000\n",
        "\n",
        "\n",
        "\n",
        "**Input Format**\n",
        "\n",
        "A single line representing N\n",
        "\n",
        "\n",
        "\n",
        "**Output Format**\n",
        "\n",
        "A single integer showing sum of all Natural numbers from 1 to N"
      ],
      "metadata": {
        "id": "E_6bfz6fGwTz"
      }
    },
    {
      "cell_type": "code",
      "source": [
        "# Use formula where possible\n",
        "\n",
        "def main():\n",
        "    # YOUR CODE GOES HERE\n",
        "    # Please take input and print output to standard input/output (stdin/stdout)\n",
        "    # E.g. 'input()/raw_input()' for input & 'print' for output\n",
        "\n",
        "    N = int(input())\n",
        "\n",
        "    print((N * (N + 1))//2)\n",
        "\n",
        "    return 0\n",
        "\n",
        "if __name__ == '__main__':\n",
        "    main()"
      ],
      "metadata": {
        "colab": {
          "base_uri": "https://localhost:8080/"
        },
        "id": "cYyZvc7iG3O5",
        "outputId": "af56421b-4bbc-44a5-e5be-da79eeadbcc5"
      },
      "execution_count": null,
      "outputs": [
        {
          "output_type": "stream",
          "name": "stdout",
          "text": [
            "11\n",
            "66\n"
          ]
        }
      ]
    },
    {
      "cell_type": "markdown",
      "source": [
        "**Q4. Problem Description:**\n",
        "\n",
        "Given a number A. Return square root of the number if it is perfect square otherwise return -1.\n",
        "\n",
        "\n",
        "\n",
        "**Problem Constraints:**\n",
        "\n",
        "1 <= **A** <= 10^8\n",
        "\n",
        "\n",
        "\n",
        "**Input Format:**\n",
        "\n",
        "First argument is an integer A.\n",
        "\n",
        "\n",
        "\n",
        "**Output Format**\n",
        "\n",
        "Return an integer which is the square root of A if A is perfect square otherwise return -1."
      ],
      "metadata": {
        "id": "yjQ-08QOHbnJ"
      }
    },
    {
      "cell_type": "code",
      "source": [
        "# Method1 - Binary Search\n",
        "\n",
        "class Solution:\n",
        "  # A : integer\n",
        "  # return an integer\n",
        "  def solve(self, A):\n",
        "\n",
        "    lb = 1 # Lower Bound = 1\n",
        "    ub = A # Upper Bound = A\n",
        "    ans = None\n",
        "\n",
        "    while lb <= ub:\n",
        "\n",
        "      mid_val = int((lb+ub)/2)\n",
        "\n",
        "      if mid_val*mid_val == A:\n",
        "        ans = mid_val\n",
        "        break\n",
        "\n",
        "        return mid_val\n",
        "\n",
        "      elif mid_val*mid_val < A:\n",
        "\n",
        "        lb = mid_val + 1\n",
        "        ans = mid_val\n",
        "\n",
        "      else:\n",
        "\n",
        "        ub = mid_val - 1\n",
        "\n",
        "    if ans*ans == A:\n",
        "\n",
        "      return ans\n",
        "\n",
        "    else:\n",
        "\n",
        "      return -1\n",
        "\n",
        "Sol = Solution()\n",
        "\n",
        "print(Sol.solve(10))\n",
        "print(Sol.solve(100))\n",
        "print(Sol.solve(36))"
      ],
      "metadata": {
        "colab": {
          "base_uri": "https://localhost:8080/"
        },
        "id": "-9mUwz6iJBx_",
        "outputId": "637c5c73-722e-43fb-8702-171b26a6e6d4"
      },
      "execution_count": null,
      "outputs": [
        {
          "output_type": "stream",
          "name": "stdout",
          "text": [
            "-1\n",
            "10\n",
            "6\n"
          ]
        }
      ]
    },
    {
      "cell_type": "code",
      "source": [
        "# Method1 - Binary Search\n",
        "\n",
        "class Solution:\n",
        "  # A : integer\n",
        "  # return an integer\n",
        "  def solve(self, A):\n",
        "\n",
        "    lb = 1 # Lower Bound = 1\n",
        "    ub = A # Upper Bound = A\n",
        "    ans = None\n",
        "\n",
        "    while lb <= ub:\n",
        "\n",
        "      mid_val = int((lb+ub)/2)\n",
        "\n",
        "      if mid_val*mid_val == A:\n",
        "        ans = mid_val\n",
        "        break\n",
        "\n",
        "        return mid_val\n",
        "\n",
        "      elif mid_val*mid_val < A:\n",
        "\n",
        "        lb = mid_val + 1\n",
        "        ans = mid_val\n",
        "\n",
        "      else:\n",
        "\n",
        "        ub = mid_val - 1\n",
        "\n",
        "    if ans*ans == A:\n",
        "\n",
        "      return ans\n",
        "\n",
        "    else:\n",
        "\n",
        "      return -1\n",
        "\n",
        "Sol = Solution()\n",
        "\n",
        "print(Sol.solve(10))\n",
        "print(Sol.solve(100))\n",
        "print(Sol.solve(36))\n",
        "print(Sol.solve(961))"
      ],
      "metadata": {
        "colab": {
          "base_uri": "https://localhost:8080/"
        },
        "id": "oIGoxgkJN9Fb",
        "outputId": "29cdc813-0914-4a1a-81cf-9afbc2f7b674"
      },
      "execution_count": null,
      "outputs": [
        {
          "output_type": "stream",
          "name": "stdout",
          "text": [
            "-1\n",
            "10\n",
            "6\n",
            "31\n"
          ]
        }
      ]
    },
    {
      "cell_type": "code",
      "source": [
        "# Basic Method\n",
        "\n",
        "class Solution:\n",
        "  # A : integer\n",
        "  # return an integer\n",
        "  def solve(self, A):\n",
        "\n",
        "    A_sqrt = int(A ** 0.5)\n",
        "\n",
        "    if A_sqrt ** 2 == A:\n",
        "\n",
        "      return A_sqrt\n",
        "\n",
        "    else:\n",
        "\n",
        "      return -1\n",
        "\n",
        "print(Sol.solve(10))\n",
        "print(Sol.solve(100))\n",
        "print(Sol.solve(36))\n",
        "print(Sol.solve(961))"
      ],
      "metadata": {
        "colab": {
          "base_uri": "https://localhost:8080/"
        },
        "id": "QdWnLT51Rrk2",
        "outputId": "8484c758-1e50-4115-d6cb-25408036c7a3"
      },
      "execution_count": null,
      "outputs": [
        {
          "output_type": "stream",
          "name": "stdout",
          "text": [
            "-1\n",
            "10\n",
            "6\n",
            "31\n"
          ]
        }
      ]
    },
    {
      "cell_type": "markdown",
      "source": [
        "**Q5. Problem Description:**\n",
        "\n",
        "You are given an integer N you need to print all the Armstrong Numbers between 1 to N.\n",
        "\n",
        "If sum of cubes of each digit of the number is equal to the number itself, then the number is called an Armstrong number.\n",
        "\n",
        "For example, 153 = ( 1 * 1 * 1 ) + ( 5 * 5 * 5 ) + ( 3 * 3 * 3 ).\n",
        "\n",
        "\n",
        "\n",
        "**Problem Constraints:**\n",
        "\n",
        "1 <= N <= 500\n",
        "\n",
        "\n",
        "\n",
        "**Input Format:**\n",
        "\n",
        "First and only line of input contains an integer N.\n",
        "\n",
        "\n",
        "\n",
        "**Output Format:**\n",
        "\n",
        "Output all the Armstrong numbers in range [1,N] each in a new line."
      ],
      "metadata": {
        "id": "QYlQ5zzCSMCy"
      }
    },
    {
      "cell_type": "code",
      "source": [
        "def main():\n",
        "    # YOUR CODE GOES HERE\n",
        "    # Please take input and print output to standard input/output (stdin/stdout)\n",
        "    # E.g. 'input()/raw_input()' for input & 'print' for output\n",
        "\n",
        "    N = int(input())\n",
        "\n",
        "    total = 0\n",
        "\n",
        "    A = N\n",
        "\n",
        "    while N != 0:\n",
        "\n",
        "      rem = N%10\n",
        "\n",
        "      total += rem**3\n",
        "\n",
        "      N //= 10\n",
        "\n",
        "    if A == total:\n",
        "\n",
        "      print('YES')\n",
        "\n",
        "    else:\n",
        "\n",
        "      print('NO')\n",
        "\n",
        "\n",
        "\n",
        "    return 0\n",
        "\n",
        "if __name__ == '__main__':\n",
        "    main()"
      ],
      "metadata": {
        "colab": {
          "base_uri": "https://localhost:8080/"
        },
        "id": "0WS9wHoASmcM",
        "outputId": "4333064d-9593-4d77-e3f9-d2393ca46da9"
      },
      "execution_count": null,
      "outputs": [
        {
          "output_type": "stream",
          "name": "stdout",
          "text": [
            "371\n",
            "YES\n"
          ]
        }
      ]
    },
    {
      "cell_type": "markdown",
      "source": [
        "**Q6. Problem Description:**\n",
        "\n",
        "For a given number A, print its multiplication table having the first 10 multiples.\n",
        "\n",
        "\n",
        "\n",
        "**Problem Constraints:**\n",
        "\n",
        "1 <= A <= 1000\n",
        "\n",
        "\n",
        "\n",
        "**Input Format:**\n",
        "\n",
        "First line contains a single integer A.\n",
        "\n",
        "\n",
        "\n",
        "**Output Format:**\n",
        "\n",
        "Print 10 lines, ith line containing ith multiple."
      ],
      "metadata": {
        "id": "XdKnaz5pYTiQ"
      }
    },
    {
      "cell_type": "code",
      "source": [
        "def main():\n",
        "    # YOUR CODE GOES HERE\n",
        "    # Please take input and print output to standard input/output (stdin/stdout)\n",
        "    # E.g. 'input()/raw_input()' for input & 'print' for output\n",
        "\n",
        "    A = int(input())\n",
        "\n",
        "    for i in range(1, 11):\n",
        "\n",
        "        print(str(A) + ' * ' + str(i) + ' = ' + str(A*i))\n",
        "\n",
        "    return 0\n",
        "\n",
        "if __name__ == '__main__':\n",
        "    main()"
      ],
      "metadata": {
        "colab": {
          "base_uri": "https://localhost:8080/"
        },
        "id": "2qXBWNCNYgXc",
        "outputId": "e5edf10a-6cc2-4a48-dfa6-038dd48e28cb"
      },
      "execution_count": null,
      "outputs": [
        {
          "output_type": "stream",
          "name": "stdout",
          "text": [
            "10\n",
            "10 * 1 = 10\n",
            "10 * 2 = 20\n",
            "10 * 3 = 30\n",
            "10 * 4 = 40\n",
            "10 * 5 = 50\n",
            "10 * 6 = 60\n",
            "10 * 7 = 70\n",
            "10 * 8 = 80\n",
            "10 * 9 = 90\n",
            "10 * 10 = 100\n"
          ]
        }
      ]
    }
  ]
}