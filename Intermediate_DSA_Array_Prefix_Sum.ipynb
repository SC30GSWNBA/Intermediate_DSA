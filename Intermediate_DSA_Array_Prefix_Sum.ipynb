{
  "nbformat": 4,
  "nbformat_minor": 0,
  "metadata": {
    "colab": {
      "name": "Intermediate DSA : Array - Prefix Sum.ipynb",
      "provenance": [],
      "collapsed_sections": []
    },
    "kernelspec": {
      "name": "python3",
      "display_name": "Python 3"
    },
    "language_info": {
      "name": "python"
    }
  },
  "cells": [
    {
      "cell_type": "markdown",
      "source": [
        "## Agenda\n",
        "\n",
        "\n",
        "> Range Sum\n",
        "\n",
        "> Equilibrium Index\n",
        "\n",
        "> Range Sum - Odd/Even"
      ],
      "metadata": {
        "id": "m4oK59X8ZFBs"
      }
    },
    {
      "cell_type": "markdown",
      "source": [
        "**Class Question 1:** Given an array of size N. Find the sum of the elements from index s to e.\n",
        "\n",
        "arr = [6, 2, 4, 5, 2, 8, -9, 3, 1]"
      ],
      "metadata": {
        "id": "vwClSsGKc5qt"
      }
    },
    {
      "cell_type": "markdown",
      "source": [
        "Normal List Operation for the above question will take O(N) operation"
      ],
      "metadata": {
        "id": "jFPCYo9TdrQA"
      }
    },
    {
      "cell_type": "markdown",
      "source": [
        "**Follow up on Class Question 1:**\n",
        "\n",
        "Instead of finding the sum for index s to e, we now to find the sum of the range of 'q' indexes - [e1, s1], [e2, s2], [e3, s3], ........ [eq, sq]\n",
        "\n",
        "This will take O(N*q) operation"
      ],
      "metadata": {
        "id": "iYQnsDZMd4fD"
      }
    },
    {
      "cell_type": "markdown",
      "source": [
        "To **optimize or reduce the time complexity of class question 1**, we need to closely follow the concept of prefix sum, which could be understood from the below exercise"
      ],
      "metadata": {
        "id": "CmRKKKqdfZIb"
      }
    },
    {
      "cell_type": "markdown",
      "source": [
        "**Quiz1:** Given the scores of the last 10 overs of a cricket match:\n",
        "\n",
        "288, 312, 330, 349, 360, 383, 394, 406, 436, 439\n",
        "\n",
        "How many runs were scored in the last over?"
      ],
      "metadata": {
        "id": "HssxjKZOfUr6"
      }
    },
    {
      "cell_type": "markdown",
      "source": [
        "**Ans:** 439-436 = 3"
      ],
      "metadata": {
        "id": "9cxrOXkaf4YZ"
      }
    },
    {
      "cell_type": "markdown",
      "source": [
        "**Quiz2:** Given the scores of the last 10 overs of a cricket match:\n",
        "\n",
        "288, 312, 330, 349, 360, 383, 394, 406, 436, 439\n",
        "\n",
        "How many runs were scored in the 49th over (2nd last over) ?"
      ],
      "metadata": {
        "id": "ErewNotmgJcs"
      }
    },
    {
      "cell_type": "markdown",
      "source": [
        "**Ans:** 436 - 406 = 30"
      ],
      "metadata": {
        "id": "D-owlh3EgOJm"
      }
    },
    {
      "cell_type": "markdown",
      "source": [
        "**Quiz3:** Given the scores of the last 10 overs of a cricket match:\n",
        "\n",
        "288, 312, 330, 349, 360, 383, 394, 406, 436, 439\n",
        "\n",
        "How many runs were scored in the last 5 overs?"
      ],
      "metadata": {
        "id": "g-cdX-17gSta"
      }
    },
    {
      "cell_type": "markdown",
      "source": [
        "**Ans:** 439 - 360"
      ],
      "metadata": {
        "id": "2OsvPb8Qgb6A"
      }
    },
    {
      "cell_type": "markdown",
      "source": [
        "**Quiz4:** Given the scores of the last 10 overs of a cricket match :\n",
        "\n",
        "288, 312, 330, 349, 360, 383, 394, 406, 436, 439\n",
        "\n",
        "How many runs were scored from 42nd to 45th over (both included) ?"
      ],
      "metadata": {
        "id": "ALEWNKWNge2O"
      }
    },
    {
      "cell_type": "markdown",
      "source": [
        "**Ans:** 360 - 288 = 72"
      ],
      "metadata": {
        "id": "gy8rGpN0gru_"
      }
    },
    {
      "cell_type": "markdown",
      "source": [
        "The above concept of runs scored in a particular over in a cricket match can now be applied to the Class Question 1 by buidling a prefix sum array PS for arr = [6, 2, 4, 5, 2, 8, -9, 3, 1]\n",
        "\n",
        "PS[0] = arr[0]\n",
        "\n",
        "PS[1] = arr[0] + arr[1]\n",
        "\n",
        "PS[2] = arr[0] + arr[1] + arr[2]\n",
        "\n",
        "...\n",
        "\n",
        "PS[n] = arr[0] + arr[1] + arr[2] + ... + arr[n-1] + arr[n]"
      ],
      "metadata": {
        "id": "FkqNkSgKhHtJ"
      }
    },
    {
      "cell_type": "markdown",
      "source": [
        "![Prefix_Sum.JPG](data:image/jpeg;base64,/9j/4AAQSkZJRgABAQEAYABgAAD/4RD6RXhpZgAATU0AKgAAAAgABAE7AAIAAAAQAAAISodpAAQAAAABAAAIWpydAAEAAAAgAAAQ0uocAAcAAAgMAAAAPgAAAAAc6gAAAAgAAAAAAAAAAAAAAAAAAAAAAAAAAAAAAAAAAAAAAAAAAAAAAAAAAAAAAAAAAAAAAAAAAAAAAAAAAAAAAAAAAAAAAAAAAAAAAAAAAAAAAAAAAAAAAAAAAAAAAAAAAAAAAAAAAAAAAAAAAAAAAAAAAAAAAAAAAAAAAAAAAAAAAAAAAAAAAAAAAAAAAAAAAAAAAAAAAAAAAAAAAAAAAAAAAAAAAAAAAAAAAAAAAAAAAAAAAAAAAAAAAAAAAAAAAAAAAAAAAAAAAAAAAAAAAAAAAAAAAAAAAAAAAAAAAAAAAAAAAAAAAAAAAAAAAAAAAAAAAAAAAAAAAAAAAAAAAAAAAAAAAAAAAAAAAAAAAAAAAAAAAAAAAAAAAAAAAAAAAAAAAAAAAAAAAAAAAAAAAAAAAAAAAAAAAAAAAAAAAAAAAAAAAAAAAAAAAAAAAAAAAAAAAAAAAAAAAAAAAAAAAAAAAAAAAAAAAAAAAAAAAAAAAAAAAAAAAAAAAAAAAAAAAAAAAAAAAAAAAAAAAAAAAAAAAAAAAAAAAAAAAAAAAAAAAAAAAAAAAAAAAAAAAAAAAAAAAAAAAAAAAAAAAAAAAAAAAAAAAAAAAAAAAAAAAAAAAAAAAAAAAAAAAAAAAAAAAAAAAAAAAAAAAAAAAAAAAAAAAAAAAAAAAAAAAAAAAAAAAAAAAAAAAAAAAAAAAAAAAAAAAAAAAAAAAAAAAAAAAAAAAAAAAAAAAAAAAAAAAAAAAAAAAAAAAAAAAAAAAAAAAAAAAAAAAAAAAAAAAAAAAAAAAAAAAAAAAAAAAAAAAAAAAAAAAAAAAAAAAAAAAAAAAAAAAAAAAAAAAAAAAAAAAAAAAAAAAAAAAAAAAAAAAAAAAAAAAAAAAAAAAAAAAAAAAAAAAAAAAAAAAAAAAAAAAAAAAAAAAAAAAAAAAAAAAAAAAAAAAAAAAAAAAAAAAAAAAAAAAAAAAAAAAAAAAAAAAAAAAAAAAAAAAAAAAAAAAAAAAAAAAAAAAAAAAAAAAAAAAAAAAAAAAAAAAAAAAAAAAAAAAAAAAAAAAAAAAAAAAAAAAAAAAAAAAAAAAAAAAAAAAAAAAAAAAAAAAAAAAAAAAAAAAAAAAAAAAAAAAAAAAAAAAAAAAAAAAAAAAAAAAAAAAAAAAAAAAAAAAAAAAAAAAAAAAAAAAAAAAAAAAAAAAAAAAAAAAAAAAAAAAAAAAAAAAAAAAAAAAAAAAAAAAAAAAAAAAAAAAAAAAAAAAAAAAAAAAAAAAAAAAAAAAAAAAAAAAAAAAAAAAAAAAAAAAAAAAAAAAAAAAAAAAAAAAAAAAAAAAAAAAAAAAAAAAAAAAAAAAAAAAAAAAAAAAAAAAAAAAAAAAAAAAAAAAAAAAAAAAAAAAAAAAAAAAAAAAAAAAAAAAAAAAAAAAAAAAAAAAAAAAAAAAAAAAAAAAAAAAAAAAAAAAAAAAAAAAAAAAAAAAAAAAAAAAAAAAAAAAAAAAAAAAAAAAAAAAAAAAAAAAAAAAAAAAAAAAAAAAAAAAAAAAAAAAAAAAAAAAAAAAAAAAAAAAAAAAAAAAAAAAAAAAAAAAAAAAAAAAAAAAAAAAAAAAAAAAAAAAAAAAAAAAAAAAAAAAAAAAAAAAAAAAAAAAAAAAAAAAAAAAAAAAAAAAAAAAAAAAAAAAAAAAAAAAAAAAAAAAAAAAAAAAAAAAAAAAAAAAAAAAAAAAAAAAAAAAAAAAAAAAAAAAAAAAAAAAAAAAAAAAAAAAAAAAAAAAAAAAAAAAAAAAAAAAAAAAAAAAAAAAAAAAAAAAAAAAAAAAAAAAAAAAAAAAAAAAAAAAAAAAAAAAAAAAAAAAAAAAAAAAAAAAAAAAAAAAAAAAAAAAAAAAAAAAAAAAAAAAAAAAAAAAAAAAAAAAAAAAAAAAAAAAAAAAAAAAAAAAAAAAAAAAAAAAAAAAAAAAAAAAAAAAAAAAAAAAAAAAAAAAAAAAAAAAAAAAAAAAAAAAAAAAAAAAAAAAAAAAAAAAAAAAAAAAAAAAAAAAAAAAAAAAAAAAAAAAAAAAAAAAAAAAAAAAAAAAAAAAAAAAAAAAAAAAAAAAAAAAAAAAAAAAAAAAAAAAAAAAAAAAAAAAAAAAAAAAAAAAAAAAAAAAAAAAAAAAAAAAAAAAAAAAAAAAAAAAAAAAAAAAAAAAAAAAAAAAAAAAAAAAAAAAAAAAAAAAAAAAAAAAAAAAAAAAAAAAAAAAAAAAAAAAAAAAAAAAAAAAAAAAAAAAAAAAAAAAAAAAAAAAAAAAAAAAAAAAAAAAAAAAAAAAAAAAAAAAAAAAAAAAAAAAAAAAAAAAAAAAAAAAAAAAAAAAAAAAAAAAAAAAAAAAAAAAAAAAAAAAAAAAAAAAAAAAAAAAAAAAAAAAAAAAAAAAAAAAAAAAAAAAAAAAAAAAAAAAAAAAAAAAAAAAAAAAAAAAAAAAAAAAAAAAAAAAAAAAAAAAAAAAAAAAAAAAAAAAAAAAAAAAAAAAAAAAAAAAAAAAAAAAAAAAAAAAAAAAAAAAAAAAAAAAAAAAAAAAAAAAAAAAAAAAAAAAAAAAAAAAAAAAAAAAAAAAAAAAAAAAAAAAAAAAAAAAAAAAAAAAAAAAAAAAAAAAAAAAAAAAAAAAAAAAAAAAAAAAAAAAAAAAAAAAAAAAAAAAAAAAAAAAAAAAAAAAAAAAAAAAAAAAAAAAAAAAAAAAAAAAAAAAAAAAAAAAAAAAAAAAAAAAAAAAAAAAAAAAAAAAEJpbGxpb25haXJlU1JveQAABZADAAIAAAAUAAAQqJAEAAIAAAAUAAAQvJKRAAIAAAADOTYAAJKSAAIAAAADOTYAAOocAAcAAAgMAAAInAAAAAAc6gAAAAgAAAAAAAAAAAAAAAAAAAAAAAAAAAAAAAAAAAAAAAAAAAAAAAAAAAAAAAAAAAAAAAAAAAAAAAAAAAAAAAAAAAAAAAAAAAAAAAAAAAAAAAAAAAAAAAAAAAAAAAAAAAAAAAAAAAAAAAAAAAAAAAAAAAAAAAAAAAAAAAAAAAAAAAAAAAAAAAAAAAAAAAAAAAAAAAAAAAAAAAAAAAAAAAAAAAAAAAAAAAAAAAAAAAAAAAAAAAAAAAAAAAAAAAAAAAAAAAAAAAAAAAAAAAAAAAAAAAAAAAAAAAAAAAAAAAAAAAAAAAAAAAAAAAAAAAAAAAAAAAAAAAAAAAAAAAAAAAAAAAAAAAAAAAAAAAAAAAAAAAAAAAAAAAAAAAAAAAAAAAAAAAAAAAAAAAAAAAAAAAAAAAAAAAAAAAAAAAAAAAAAAAAAAAAAAAAAAAAAAAAAAAAAAAAAAAAAAAAAAAAAAAAAAAAAAAAAAAAAAAAAAAAAAAAAAAAAAAAAAAAAAAAAAAAAAAAAAAAAAAAAAAAAAAAAAAAAAAAAAAAAAAAAAAAAAAAAAAAAAAAAAAAAAAAAAAAAAAAAAAAAAAAAAAAAAAAAAAAAAAAAAAAAAAAAAAAAAAAAAAAAAAAAAAAAAAAAAAAAAAAAAAAAAAAAAAAAAAAAAAAAAAAAAAAAAAAAAAAAAAAAAAAAAAAAAAAAAAAAAAAAAAAAAAAAAAAAAAAAAAAAAAAAAAAAAAAAAAAAAAAAAAAAAAAAAAAAAAAAAAAAAAAAAAAAAAAAAAAAAAAAAAAAAAAAAAAAAAAAAAAAAAAAAAAAAAAAAAAAAAAAAAAAAAAAAAAAAAAAAAAAAAAAAAAAAAAAAAAAAAAAAAAAAAAAAAAAAAAAAAAAAAAAAAAAAAAAAAAAAAAAAAAAAAAAAAAAAAAAAAAAAAAAAAAAAAAAAAAAAAAAAAAAAAAAAAAAAAAAAAAAAAAAAAAAAAAAAAAAAAAAAAAAAAAAAAAAAAAAAAAAAAAAAAAAAAAAAAAAAAAAAAAAAAAAAAAAAAAAAAAAAAAAAAAAAAAAAAAAAAAAAAAAAAAAAAAAAAAAAAAAAAAAAAAAAAAAAAAAAAAAAAAAAAAAAAAAAAAAAAAAAAAAAAAAAAAAAAAAAAAAAAAAAAAAAAAAAAAAAAAAAAAAAAAAAAAAAAAAAAAAAAAAAAAAAAAAAAAAAAAAAAAAAAAAAAAAAAAAAAAAAAAAAAAAAAAAAAAAAAAAAAAAAAAAAAAAAAAAAAAAAAAAAAAAAAAAAAAAAAAAAAAAAAAAAAAAAAAAAAAAAAAAAAAAAAAAAAAAAAAAAAAAAAAAAAAAAAAAAAAAAAAAAAAAAAAAAAAAAAAAAAAAAAAAAAAAAAAAAAAAAAAAAAAAAAAAAAAAAAAAAAAAAAAAAAAAAAAAAAAAAAAAAAAAAAAAAAAAAAAAAAAAAAAAAAAAAAAAAAAAAAAAAAAAAAAAAAAAAAAAAAAAAAAAAAAAAAAAAAAAAAAAAAAAAAAAAAAAAAAAAAAAAAAAAAAAAAAAAAAAAAAAAAAAAAAAAAAAAAAAAAAAAAAAAAAAAAAAAAAAAAAAAAAAAAAAAAAAAAAAAAAAAAAAAAAAAAAAAAAAAAAAAAAAAAAAAAAAAAAAAAAAAAAAAAAAAAAAAAAAAAAAAAAAAAAAAAAAAAAAAAAAAAAAAAAAAAAAAAAAAAAAAAAAAAAAAAAAAAAAAAAAAAAAAAAAAAAAAAAAAAAAAAAAAAAAAAAAAAAAAAAAAAAAAAAAAAAAAAAAAAAAAAAAAAAAAAAAAAAAAAAAAAAAAAAAAAAAAAAAAAAAAAAAAAAAAAAAAAAAAAAAAAAAAAAAAAAAAAAAAAAAAAAAAAAAAAAAAAAAAAAAAAAAAAAAAAAAAAAAAAAAAAAAAAAAAAAAAAAAAAAAAAAAAAAAAAAAAAAAAAAAAAAAAAAAAAAAAAAAAAAAAAAAAAAAAAAAAAAAAAAAAAAAAAAAAAAAAAAAAAAAAAAAAAAAAAAAAAAAAAAAAAAAAAAAAAAAAAAAAAAAAAAAAAAAAAAAAAAAAAAAAAAAAAAAAAAAAAAAAAAAAAAAAAAAAAAAAAAAAAAAAAAAAAAAAAAAAAAAAAAAAAAAAAAAAAAAAAAAAAAAAAAAAAAAAAAAAAAAAAAAAAAAAAAAAAAAAAAAAAAAAAAAAAAAAAAAAAAAAAAAAAAAAAAAAAAAAAAAAAAAAAAAAAAAAAAAAAAAAAAAAAAAAAAAAAAAAAAAAAAAAAAAAAAAAAAAAAAAAAAAAAAAAAAAAAAAAAAAAAAAAAAAAAAAAAAAAAAAAAAAAAAAAAAAAAAAAAAAAAAAAAAAAAAAAAAAAAAAAAAAAAAAAAAAAAAAAAAAAAAAAAAAAAAAAAAAAAAAAAAAAAAAAAAAAAAAAAAAAAAAAAAAAAAAAAAAAAAAAAAAAAAAAAAAAAAAAAAAAAAAAAAAAAAAAAAAAAAAAAAAAAAAAAAAAAAAAAAAAAAAAAAAAAAAAAAAAAAAAAAAAAAAAAAAAAAAAAAAAAAAAAAAAAAAAAAAAAAAAAAAAAAAAAAAAAAAAAAAAAAAAAAAAAAAAAAAAAAAAAAAAAAAAAAAAAAAAAAAAAAAAAAAAAAAAAAAAAAAAAAAAAAAAAAAAAAAAAAAAAAAAAAAAAAAAAAAAAAAAAAAAAAAAAAAAAAAAAAAAAAAAAAAAAAAAAAAAAAAAAAAAAAAAAAAAAAAADIwMjI6MDc6MDIgMDc6MDc6MTQAMjAyMjowNzowMiAwNzowNzoxNAAAAEIAaQBsAGwAaQBvAG4AYQBpAHIAZQBTAFIAbwB5AAAA/+ELImh0dHA6Ly9ucy5hZG9iZS5jb20veGFwLzEuMC8APD94cGFja2V0IGJlZ2luPSfvu78nIGlkPSdXNU0wTXBDZWhpSHpyZVN6TlRjemtjOWQnPz4NCjx4OnhtcG1ldGEgeG1sbnM6eD0iYWRvYmU6bnM6bWV0YS8iPjxyZGY6UkRGIHhtbG5zOnJkZj0iaHR0cDovL3d3dy53My5vcmcvMTk5OS8wMi8yMi1yZGYtc3ludGF4LW5zIyI+PHJkZjpEZXNjcmlwdGlvbiByZGY6YWJvdXQ9InV1aWQ6ZmFmNWJkZDUtYmEzZC0xMWRhLWFkMzEtZDMzZDc1MTgyZjFiIiB4bWxuczpkYz0iaHR0cDovL3B1cmwub3JnL2RjL2VsZW1lbnRzLzEuMS8iLz48cmRmOkRlc2NyaXB0aW9uIHJkZjphYm91dD0idXVpZDpmYWY1YmRkNS1iYTNkLTExZGEtYWQzMS1kMzNkNzUxODJmMWIiIHhtbG5zOnhtcD0iaHR0cDovL25zLmFkb2JlLmNvbS94YXAvMS4wLyI+PHhtcDpDcmVhdGVEYXRlPjIwMjItMDctMDJUMDc6MDc6MTQuOTYwPC94bXA6Q3JlYXRlRGF0ZT48L3JkZjpEZXNjcmlwdGlvbj48cmRmOkRlc2NyaXB0aW9uIHJkZjphYm91dD0idXVpZDpmYWY1YmRkNS1iYTNkLTExZGEtYWQzMS1kMzNkNzUxODJmMWIiIHhtbG5zOmRjPSJodHRwOi8vcHVybC5vcmcvZGMvZWxlbWVudHMvMS4xLyI+PGRjOmNyZWF0b3I+PHJkZjpTZXEgeG1sbnM6cmRmPSJodHRwOi8vd3d3LnczLm9yZy8xOTk5LzAyLzIyLXJkZi1zeW50YXgtbnMjIj48cmRmOmxpPkJpbGxpb25haXJlU1JveTwvcmRmOmxpPjwvcmRmOlNlcT4NCgkJCTwvZGM6Y3JlYXRvcj48L3JkZjpEZXNjcmlwdGlvbj48L3JkZjpSREY+PC94OnhtcG1ldGE+DQogICAgICAgICAgICAgICAgICAgICAgICAgICAgICAgICAgICAgICAgICAgICAgICAgICAgICAgICAgICAgICAgICAgICAgICAgICAgICAgICAgICAgICAgICAgICAgICAgICAgCiAgICAgICAgICAgICAgICAgICAgICAgICAgICAgICAgICAgICAgICAgICAgICAgICAgICAgICAgICAgICAgICAgICAgICAgICAgICAgICAgICAgICAgICAgICAgICAgICAgICAKICAgICAgICAgICAgICAgICAgICAgICAgICAgICAgICAgICAgICAgICAgICAgICAgICAgICAgICAgICAgICAgICAgICAgICAgICAgICAgICAgICAgICAgICAgICAgICAgICAgIAogICAgICAgICAgICAgICAgICAgICAgICAgICAgICAgICAgICAgICAgICAgICAgICAgICAgICAgICAgICAgICAgICAgICAgICAgICAgICAgICAgICAgICAgICAgICAgICAgICAgCiAgICAgICAgICAgICAgICAgICAgICAgICAgICAgICAgICAgICAgICAgICAgICAgICAgICAgICAgICAgICAgICAgICAgICAgICAgICAgICAgICAgICAgICAgICAgICAgICAgICAKICAgICAgICAgICAgICAgICAgICAgICAgICAgICAgICAgICAgICAgICAgICAgICAgICAgICAgICAgICAgICAgICAgICAgICAgICAgICAgICAgICAgICAgICAgICAgICAgICAgIAogICAgICAgICAgICAgICAgICAgICAgICAgICAgICAgICAgICAgICAgICAgICAgICAgICAgICAgICAgICAgICAgICAgICAgICAgICAgICAgICAgICAgICAgICAgICAgICAgICAgCiAgICAgICAgICAgICAgICAgICAgICAgICAgICAgICAgICAgICAgICAgICAgICAgICAgICAgICAgICAgICAgICAgICAgICAgICAgICAgICAgICAgICAgICAgICAgICAgICAgICAKICAgICAgICAgICAgICAgICAgICAgICAgICAgICAgICAgICAgICAgICAgICAgICAgICAgICAgICAgICAgICAgICAgICAgICAgICAgICAgICAgICAgICAgICAgICAgICAgICAgIAogICAgICAgICAgICAgICAgICAgICAgICAgICAgICAgICAgICAgICAgICAgICAgICAgICAgICAgICAgICAgICAgICAgICAgICAgICAgICAgICAgICAgICAgICAgICAgICAgICAgCiAgICAgICAgICAgICAgICAgICAgICAgICAgICAgICAgICAgICAgICAgICAgICAgICAgICAgICAgICAgICAgICAgICAgICAgICAgICAgICAgICAgICAgICAgICAgICAgICAgICAKICAgICAgICAgICAgICAgICAgICAgICAgICAgICAgICAgICAgICAgICAgICAgICAgICAgICAgICAgICAgICAgICAgICAgICAgICAgICAgICAgICAgICAgICAgICAgICAgICAgIAogICAgICAgICAgICAgICAgICAgICAgICAgICAgICAgICAgICAgICAgICAgICAgICAgICAgICAgICAgICAgICAgICAgICAgICAgICAgICAgICAgICAgICAgICAgICAgICAgICAgCiAgICAgICAgICAgICAgICAgICAgICAgICAgICAgICAgICAgICAgICAgICAgICAgICAgICAgICAgICAgICAgICAgICAgICAgICAgICAgICAgICAgICAgICAgICAgICAgICAgICAKICAgICAgICAgICAgICAgICAgICAgICAgICAgICAgICAgICAgICAgICAgICAgICAgICAgICAgICAgICAgICAgICAgICAgICAgICAgICAgICAgICAgICAgICAgICAgICAgICAgIAogICAgICAgICAgICAgICAgICAgICAgICAgICAgICAgICAgICAgICAgICAgICAgICAgICAgICAgICAgICAgICAgICAgICAgICAgICAgICAgICAgICAgICAgICAgICAgICAgICAgCiAgICAgICAgICAgICAgICAgICAgICAgICAgICAgICAgICAgICAgICAgICAgICAgICAgICAgICAgICAgICAgICAgICAgICAgICAgICAgICAgICAgICAgICAgICAgICAgICAgICAKICAgICAgICAgICAgICAgICAgICAgICAgICAgICAgICAgICAgICAgICAgICAgICAgICAgICAgICAgICAgICAgICAgICAgICAgICAgICAgICAgICAgICAgICAgICAgICAgICAgIAogICAgICAgICAgICAgICAgICAgICAgICAgICAgICAgICAgICAgICAgICAgICAgICAgICAgICAgICAgICAgICAgICAgICAgICAgICAgICAgICAgICAgICAgICAgICAgICAgICAgCiAgICAgICAgICAgICAgICAgICAgICAgICAgICAgICAgICAgICAgICAgICAgICAgICAgICAgICAgICAgICAgICAgICAgICAgICAgICAgICAgICAgICAgICAgICAgICAgICAgICAKICAgICAgICAgICAgICAgICAgICAgICAgICAgIDw/eHBhY2tldCBlbmQ9J3cnPz7/2wBDAAcFBQYFBAcGBQYIBwcIChELCgkJChUPEAwRGBUaGRgVGBcbHichGx0lHRcYIi4iJSgpKywrGiAvMy8qMicqKyr/2wBDAQcICAoJChQLCxQqHBgcKioqKioqKioqKioqKioqKioqKioqKioqKioqKioqKioqKioqKioqKioqKioqKioqKir/wAARCAC2AeQDASIAAhEBAxEB/8QAHwAAAQUBAQEBAQEAAAAAAAAAAAECAwQFBgcICQoL/8QAtRAAAgEDAwIEAwUFBAQAAAF9AQIDAAQRBRIhMUEGE1FhByJxFDKBkaEII0KxwRVS0fAkM2JyggkKFhcYGRolJicoKSo0NTY3ODk6Q0RFRkdISUpTVFVWV1hZWmNkZWZnaGlqc3R1dnd4eXqDhIWGh4iJipKTlJWWl5iZmqKjpKWmp6ipqrKztLW2t7i5usLDxMXGx8jJytLT1NXW19jZ2uHi4+Tl5ufo6erx8vP09fb3+Pn6/8QAHwEAAwEBAQEBAQEBAQAAAAAAAAECAwQFBgcICQoL/8QAtREAAgECBAQDBAcFBAQAAQJ3AAECAxEEBSExBhJBUQdhcRMiMoEIFEKRobHBCSMzUvAVYnLRChYkNOEl8RcYGRomJygpKjU2Nzg5OkNERUZHSElKU1RVVldYWVpjZGVmZ2hpanN0dXZ3eHl6goOEhYaHiImKkpOUlZaXmJmaoqOkpaanqKmqsrO0tba3uLm6wsPExcbHyMnK0tPU1dbX2Nna4uPk5ebn6Onq8vP09fb3+Pn6/9oADAMBAAIRAxEAPwD6RooooAKKKKACiiigAooooAKKKKACiiigAooooAKKKKACiiigAooooAKKKKACiiigAooooAKKKKACiiigAooooAKKKKACiiigAooooAKKKKACiiigAooooAKKKKACiiigAooooAKKKKACiiigAooooAKKKKACiiigAooooAKKKKACiiigAooooAKKKKACiiigAooPQ1594d0ltR8MaZe3Wq6s09xaRSyEX8gBZkBPGfU1pCHMB6DRXIf8I7H/ANBPV/8AwYS/40f8I7H/ANBPV/8AwYS/41fsfMR19Fch/wAI7H/0E9X/APBhL/jR/wAI7H/0E9X/APBhL/jR7HzA6+ivOpdMdfGNtYDVdW+zyWEszL9vkzuWSMA5z6Ma1f8AhHY/+gnq/wD4MJf8afsfMLnYUVyH/COx/wDQT1f/AMGEv+NH/COx/wDQT1f/AMGEv+NL2PmFzr6K5D/hHY/+gnq//gwl/wAar32grDp9xLHqmrB0iZlP9oSdQD70ex8wudvRXC6Von2rSLSebVNWMkkKsxF/IMkj61b/AOEdj/6Cer/+DCX/ABo9j5hc6+iuQ/4R2P8A6Cer/wDgwl/xo/4R2P8A6Cer/wDgwl/xo9l5hc6+iuQ/4R2P/oJ6v/4MJf8AGsg6Y/8AwmQsP7V1b7P9iE237fJndvIznPoKPY36hc9GorkP+Edj/wCgnq//AIMJf8aP+Edj/wCgnq//AIMJf8aPY+YXOvorkP8AhHY/+gnq/wD4MJf8aP8AhHY/+gnq/wD4MJf8aPY+YXOvorhdV0QWujXtxDqmrCSK3d0J1CQ4IUkd6fYaEs+m20smqasXeJWY/wBoSdSPrR7HzC529Fch/wAI7H/0E9X/APBhL/jR/wAI7H/0E9X/APBhL/jR7HzC519Fch/wjsf/AEE9X/8ABhL/AI0f8I7H/wBBPV//AAYS/wCNHsfMLnX0V52mlufF0lidV1byFsxKF+3yZ3b8dc+lav8Awjsf/QT1f/wYSf40/Y+YXOvorkP+Edj/AOgnq/8A4MJP8aP+Edj/AOgnq/8A4MJP8aXsfMLnX0VyH/COx/8AQT1f/wAGEn+NVNV0f7HpNzcwapqwkijLKTfyEZHtmj2PmFzuqKgsHZ9OtnclmaJSSe5wKnrAYUUUUAFFFFABRRRQAUUUUAFFFFABRRRQAUUUUAFFFFABRRRQAUUUUAFFMlEhhcQkLIVOwsMgHtmvGPEXivWfCrJqR8c2urXkU8S3Wkw248nazBSFYZIxnPJppXE3Y9qorzzxlr/iGPx1oOieHLiKBNUtZTI8qbvLxj58dyB2qnr1/wCLdD8SeGPDOnawt5c6lFcia8uogMbcNv2j+6M4Hfinyhc9PorN0WwvtM0VLbUtUfUrpdxa7ljCFskkcDjgVzL3Ovb2x430JRngG3Xj/wAfpWGdwehrjvB//IkaJ/2D4P8A0WK6DRGuX0hGvdQt9Rmy2bi2UKjcnGACenTrXP8Ag/8A5EjRP+wfB/6LFb0tmBs01pETG9lXPTJxmnVxHjuw8M2qvq/ilb65DLshiieQrGVGcqqYwfc1sJnb0VzXw8F9/wAK/wBKOqTm4uTESZDIHJUsSoLDqQuAfcV0tAzBm/5KJZ/9gqf/ANGxVu1hTf8AJRLP/sFT/wDo2Kt2mxBRnPSormAXVrLAZJIhIhXfG2GXPcHsa474bWzWX/CTWRurm6S11qSON7qUyPt8qM4yfrSEdtVbUv8AkEXn/XB//QTVmq2pf8gi8/64P/6CaBkWhf8AIv2H/Xun/oIq/VDQv+RfsP8Ar3T/ANBFX6T3EIWVfvMB9TSggjIOR7V5v4uiiuviIn9q6fql3p0GnDaLLzMby5JJ2kdq6/wlcaRc+GbaTw87PYfNs8xmZlO47lbcScg54NAjZrAP/JRB/wBg0f8Aow1v1gH/AJKIP+waP/RhpoZv0UdOtQQ31pcSFLe5hlcdVSQMR+VAE5IHWivPfiVYtBqnhrVYb+9jkbWrW2aBJysTISScqOp4FehUCKGu/wDIu6l/16y/+gGpdL/5A9n/ANcE/wDQRUWu/wDIu6l/16y/+gGpdL/5A9n/ANcE/wDQRT6DLVIzqi5dgo9ScUted+PZrKHxfpQ8SmWXRJIJAYYWb5ZcjDuqnJXHfoKQj0QHIyORRXJfDh2k8MvLHO81i91K1iZJN7LBu+UE9enrXW0DMKP/AJKBL/2Dh/6MrdrCj/5KBL/2Dh/6MrdpsAJwMngUiurrlGDD1BzVDWtHi1yxFncz3EUJcM4gkKGQD+Ekc4PtXI+GrK30n4kahpvh5pF0uG0U3MJlZ0imJ425JwSOopAd9Wd4g/5F6+/64tWjWd4g/wCRevv+uLULcDoNO/5Bdr/1xT/0EVZqtp3/ACC7X/rin/oIqzXCUFFFFABRRRQAUUUUAFFFFABRRRQAUUUUAFFFFABRRRQAUUUUAFFFFAGZ4ksLrVPC2p2GnT/Z7u5tJIoZc42OykA5+pryafwv4r1P4cReFrbwhaaS1sIRPdPdI5umjYEsgXn5iMkse9e2UU07CaOL1Pw7qNz8SfDerwxKbOxs5Yp33DKs2Mcd+lP17w/qF98UPC+s28StZafFcrcOWAKl0wvHfmuxoouFhrKHUqwypGCD3Fc03w38HOxZvDmnkk5J8rrXTUUXaGVNN0ux0bT1stKtY7S2QkrFEuFGTk/qa5rwf/yJGif9g+D/ANFiuwPSuP8AB/8AyJGif9g+D/0WK3o7MDZrmNZ1XxLY6hNFbeGY9YspMCF4bpY2UY5Egf3zyO3aunorYDnPAmhXnh7wulpqJjFxJPLO0cJykO9i2xfYZro6KKBIwZv+SiWf/YKn/wDRsVbtYU3/ACUSz/7BU/8A6NirdpsCtqM9zbafLNY2n2y4QZSASBN5z03HpXHeC4/EdhreqjVPD/2a21XUJLwzi8R/JBjUBSoGTynX3ruqM0hBVbUv+QRef9cH/wDQTVmq2pf8gi8/64P/AOgmgZFoX/Iv2H/Xun/oIq/VDQv+RfsP+vdP/QRV+k9xHNaxrHibTdQkWw8OJq1o+PKeC6WJ0453h/fuPyp3gfQrzQdAlTVDF9tvLua8nSH7kbyNnavsOK6OigQVgH/kog/7Bo/9GGt+sA/8lEH/AGDR/wCjDTQzeIDKQRkEYNZmm+GdF0e6e50vTbe1mcYZ40wSK1KKAOC+IFt4i1a60220nQvtMGn6jb332g3ap5mzJKbSOOvWu0064ubrT4pr60+xXDgl7cyB9hz/AHhwfWrNFAihrv8AyLupf9esv/oBqXS/+QPZ/wDXBP8A0EVFrv8AyLupf9esv/oBqXS/+QPZ/wDXBP8A0EU+gy1XHavZavpfjOXXbDShrVvcWi27W6yqkkJBJyu7gg555rsaKQHL+BtFvdJtNSm1C3is21C9e5SzifctupAG3PTPGTjjJrqKKKAMKP8A5KBL/wBg4f8Aoyt2sKP/AJKBL/2Dh/6MrdpsDC8Xz69D4flHhW0S51CQ7FLuFEYPVuepHpWP4Gg1XSY00+68NvaJJmW4v5L5JXlkPVmAGTn9K7WikIKzvEH/ACL19/1xatGs7xB/yL19/wBcWoW4zoNO/wCQXa/9cU/9BFWarad/yC7X/rin/oIqzXCUFFFFABRRRQAUUUUAFFFFABRRRQAUUUUAFFFFABRRRQAUUUUAFFFFABRRRQAUUUUAJRRRQAHpXB6DPq2meHdOsJ/D960lraxwuVK4JVQDjn2rvKKuM3EDkv7V1L/oXr7/AMd/xo/tXUv+hevv/Hf8a62ir9s+wHJf2rqX/QvX3/jv+NH9q6l/0L19/wCO/wCNdbRR7Z9gPP5JNXfxVBqQ0C98mOylgIyudzOjDv6Ka0/7U1L/AKF++/8AHf8AGutoo9s+wrHJf2pqX/Qv33/jv+NH9qal/wBC/ff+O/411tFHtn2CxyX9qal/0L99/wCO/wCNQ3l/qk9jPCnh++DSRsozt6kY9a7Oij2z7BY4nTbzVLPS7W3k8P3peKJUbBXqBj1q1/ampf8AQv33/jv+NdZRR7V9gscn/ampf9C/ff8Ajv8AjR/ampf9C/ff+O/411lFHtX2Cxyf9qal/wBC/ff+O/41ll9X/wCEqGpf2BeeV9j8jGVzu3k+vvXoFFCrNdAscl/aupf9C9ff+O/40f2rqX/QvX3/AI7/AI11tFP2z7BY5L+1dS/6F6+/8d/xo/tXUv8AoXr7/wAd/wAa62ij2z7BY4nU7zVLzSbu2j8P3weaB41J24yVI9adZX+qW9hbwv4fvi0caocFeoGPWu0oo9s+wWOS/tXUv+hevv8Ax3/Gj+1dS/6F6+/8d/xrraKPbPsFjkv7V1L/AKF6+/8AHf8AGj+1dS/6F6+/8d/xrraKXtn2CxwCyauPFD6ifD975TWghAyuc7s+taX9q6l/0L19/wCO/wCNdbRT9s+wWOS/tXUv+hevv/Hf8aP7V1L/AKF6+/8AHf8AGutoo9s+wWOS/tXUv+hevv8Ax3/Gqup3eq32mXFrHoF6rSoVBYrgZ/Gu3oo9s+wWIbJGi0+3jcYZIlUj0IFT0lFYDFopKKAFopKKAFopKKAFopKKAFopKKAFopKKAFopKKAFopKKAFooooAKKKKACiiigAooooASiiigAooooAKKKKACiiigAooooAKKKKACiimTSpb28k0hwkalmPsBmgB9Fc7H4zspY1kisNUdHGVYWbYI9ad/wl9r/wBA7Vf/AADar5JdgOgorn/+Evtf+gdqv/gG1H/CX2v/AEDtV/8AANqOSXYDoKK5/wD4S+1/6B2q/wDgG1RHxzp4vPsv2LU/P2eZ5f2Rs7c4z+dHJLsB0tFc/wD8Jfa/9A7Vf/ANqP8AhL7X/oHar/4BtRyS7AdBRXP/APCX2v8A0DtV/wDANqP+Evtf+gdqv/gG1HJLsB0FFc7L40soYXllsNUSNFLMxs2wAOppU8Z2ckaumn6oysAVIs25FHs5dgOhorn/APhMLX/oHap/4BtR/wAJha/9A7VP/ANqPZy7AdBRXP8A/CYWv/QO1T/wDaj/AITC1/6B2qf+AbUezl2A6Ciua/4TnTzdG2FlqfnBN5T7I2ducZqX/hMLX/oHap/4BtR7OXYDoKK5/wD4TC1/6B2qf+AbUf8ACYWv/QO1T/wDaj2cuwHQUVz/APwmFr/0DtU/8A2pkvjWxghaWaw1REQZZjZtgCj2cuwHR0Vzy+MbR0V00/VCrDIIs25FO/4S+2/6Buq/+AbUckuwG/RWB/wl9t/0DdV/8A2o/wCEvtv+gbqv/gG1HJLsBv0Vgf8ACX23/QN1X/wDaoh43sDdNbix1PzlUOU+xtkA8Zo5JdgOkorn/wDhL7X/AKB2q/8AgG1H/CX2v/QO1X/wDajkl2A6Ciuf/wCEvtf+gdqv/gG1H/CX2v8A0DtV/wDANqOSXYDoKK5yfxtYWtvJPcWWpxRRqXd2tGAUDqTXRg5UEdDScWtwCiiipAKKKKACiiigBaKKKACiiigAooooAKKKKAEoorirXx5qOp+J9QsdH8NS3ml6bKYbrUPtaq28KWISIjL9h1HJp2uB2tFZ2g6v/bujQ6gbC90/zc/6PfReXKuCRyuT1xke1aNIAooooAKKKKACiiigAooooAKqat/yBb3/AK95P/QTVuqmrf8AIFvf+veT/wBBNNbgYmh/8i/Yf9e6f+gir9UND/5F+w/690/9BFX67HuSFFYOq+KTp19Na2+g6xqTQReZK9nbrsUegZ2Xc3suTV/Q9asvEOi22q6XIZLW5XchZcEYOCCOxBBB+lAi/XPt/wAlFH/YMH/ow10Fc+f+Sij/ALBg/wDRhpxGdBRRRQAUVz+keNNK1vxNqOiaf50k+nqDLNtHlMSSMKc5JBBB4roKAKGu/wDIu6j/ANesv/oBqXTP+QRZ/wDXBP8A0EVFrv8AyLuo/wDXrL/6Aal0z/kEWf8A1wT/ANBFHQC1RRXOap40trDVLiwtNM1HVZ7SIS3IsY0YQA9ASzLk98Lk0AdHRVPStUtNa0uDUNOl823nXcjYwfoR2PtVygDBj/5KBN/2Dl/9GVvVgx/8lAn/AOwcv/oyt6mwCiq2o39vpWm3F/fSeXb28ZkkfGcKBzWHp3jW3vb+xtbrStS006ghezkvI4ws+BnA2uxBxzhgDikB0tZviL/kXL//AK4N/KtKs3xF/wAi5f8A/XBv5ULcRZsP+Qbbf9cU/kKsZqvYf8g22/64p/IVDq+qxaLpsl5cQXU6p/yztLd5nY4J+6oPp1OB6mgovZozWbo+uWmteG7bW4BJDaXEPnDzgAyr74JH61laZ43g1e4g+x6LrDWVxIUi1A2y+S+P4uG3BT2YqBQB0+axov8Akdrn/ryT/wBDNbNY0P8AyO1z/wBeSf8AoZpoDZoorAi8Z6VN4uXw5F9pa+KSMS1uyRrsxkbmxu6/w5FIDforD1vxVbaNfwWCWV7qV/MhkW1sYg7hB1Y7iAB9Tz2q5omt2niDTFvbDzAhYo8cqbHjccFWHYigRX8Xf8iXrP8A14zf+gGuvi/1a/QVyHi7/kS9Z/68Zv8A0A118X+rX6Csa2yH1FooornGFFFFABRRRQAtFFFABRRRQBT1eaS20S+nhbbJHbyOjehCkg15d4ftfGXiX4X2viV/GFzFqclp50EUUEaxfLn74IyxbHJ4A7CvTte/5FzUv+vSX/0A15L4Ii8d33wg0rTNHg0pLO5tAkd88zCSKNid2UxgsM8c1a2EzR1Xx3ruofD3whrGiypa3urXKQzBlBQk5U5B7ZGeKl8U6rqvgyHSNCm8Uym71y6kabV7qJT9kjRAW2IBjk8AHPWtPU/h9PF4c8K6PorRGLRbuOWRpW27lX7xHHUknitHx34UvddfStV0OWFNX0WdprZbgZimVhteNvQEcZ7UXQtTndC8RNB48stG0rxNca9p2pW0oZp1UyWcqDcG3BRkNzwfSqPw007UbG48XXZ1y6mFteTK0TRoFlcJkSHAzn2HFd1oJ8RyakG1nR9KsLVYvvW0xkkaTPb5QAuM+9UvC/hbUNIg8TJdmHOqXcs0Gx8/Ky4GeODRcDD0/U/Fes/Bmy1zS9RZ9atyblldEC3ao53RNxxlR1GDmr/gjxVe+Pten1zT55Lfw5bwrBFbsq5uJyAzljjIC5C8YyeaqweC/EcPwv0vwlFNBbmSXy9TuI5TlLcsS4j45Zhx2xzWjpnhqTwV4sur3S5LW18MXcAe7hlk8sWsqKAHXPGCBzyPWjQDt68++JGs6hpmtaHDJfXeleH7hpBf39nGGdWx8ikkHYvU7sdq6f8A4TPwv/0Mmk/+B0f/AMVVLVL/AFu9ktrnwrFpGt6PNGyzo9xgscnlXG5SO2COxqVoNnP63q15ovwm1DVNE8UPq7eYHtb4rGWRCVAQ4GDjnkjPNXPiB4g1PR/Bei3um3TQXFzqFnFLIFB3I5+YcjvWVa/DXU5vBvimzumtLC71yczw2tsS0FsR93sM5xk8VHqvhnx74o0PTNO1eHSbOPTrm3mPkTM5nMbDnJHyjGTjuavS4tTS8Wal4gl+Jeh+HtE1b+zre/0+eSd/JVypUg7lz/F2GeOTwaybCPxUfiNqXgv/AISq4NjHaR363bxI1wqFipjBxjk9yOldZqHhu+ufijoniCMxfYrGxnt5QW+fc+MYGORSWnhq+h+Lt94kcxfYJ9Jjs0Ab596ybjkY6Y96m+gdSl8N9V1Sa98R6JrN++ovo9/5EV1IoV3QqGG7HGRmrXi+3vptUha08dL4cQQgG2MET7zuPz5c59vwqTwl4avtE8UeKb+8MXk6rfCe32Nk7dgHzDHB4ro7rStPvpBJe2NtcOBtDTQq5A9MkUN6jOT8KW19FrO668frr6bD/ogghT/gWVOeK6rVv+QNe/8AXvJ/6CaW20nTrKXzbOwtbeTGN8UKqcfUCk1b/kDXv/XvJ/6CaXUZiaH/AMi/Yf8AXun/AKCKv1Q0P/kX7D/r3T/0EVfrse5JieJrfXr3TzF4W1G0s7gZEjXEZfqOMEfdP1BrO+GVxZTeAbGLTrZrVLVpLeSJn34kVyHO7vlsnPvVy/8ABunX+oXF5599ay3SbJ/st00YkHuB39609I0my0PS4dO0yEQ20Iwij8ySe5J5zQIu1z5/5KKP+wYP/RhroK58/wDJRR/2DB/6MNOIzoK5zxve6ra+HzFodpcXFzcuIjJbpuMCn7z49h0966OigDyzwY9tp/xNuNPstNv7eIaZDGPPgKkEFiXf6nv3NepVRj0Wzi1+fWEVvtk8Kwu27gqpJHH41eoBFHXP+Re1H/r1l/8AQDUumf8AIIs/+uCf+giotc/5F7Uf+vWX/wBANS6Z/wAgiz/64J/6CKOgFquNn0jX9G8TanqGhJYXFtqhR5vtUjIYGVcbuAcjHauyrB1bwfp+sXc09zPfR+egjmjgumRJFHYqKBGV8KkkXwMhlIIe7uHRlXaGUysQQPQ9q7OobS0gsLOK1tIlighUIiKMBQKmoGYMf/JQJ/8AsHL/AOjK3qwY/wDkoE//AGDl/wDRlb1NgYHjm7s7TwVqTajE01vJF5TRq20sW+UDPbk9a4+K11vQvE3hmPxddQahYoTBZvCuHimK8F/72AMAjFejajp9rq2nTWN/Es1vOpR0buKx7PwXptpfWl0817dyWa4txdXLSLFxjIB7470hHQ1m+Iv+Rcv/APrg38q0qzfEX/IuX/8A1wb+VC3As2H/ACDbb/rin8hTr3/jwuP+uTfypth/yDbb/rin8hVTXNBttftkgvJ7qJEJP+jTmMnIxgkdRQM4a083/hmtPs+TJ/ZBwB16VNHqWveGdK8O30t/aXen3slvaGzit9vlq64Uq+cnHfIrqPD/AIN0vw3ZyWlg11JbSR+X5NzOZFVfQA9KisfAuj2N3azR/apFs2Z7aCa4Z4oSe6qeB7elAjo6xof+R2uf+vJP/QzWyaxof+R2uf8AryT/ANDNNDNmuO1n/kr3hn/rwvf/AGnXY1ztz4JsbvV4tTlv9U+1wh1ikW8YeWr43AegOB+VIGYevR6ne/EVT4Slgt9TsbH/AEp7sExSxu3ypgc5yuc9qv8Aw3mV9FvYLiNo9TgvZF1AEggzE5JXH8OCMVpap4StdRvkv4bu8sb5YhCbm1m2s6A5w3r/APXq5oeg2Xh+ye3sFc+ZIZZZJXLPI56sxPU0CIPF/wDyJes/9eM3/oBrr4v9Wv0Fch4v/wCRL1n/AK8Zv/QDXXxf6tfoKxrbIrqLRRRXOMKKKKACiiigBaKKKACiiigCO4gjuraW3nXdHKhRxnGQRgiqujaPZaBo9tpelRGGztU2RRly20emSST+NXqKACiiigAooooAKRlDqVYBgeoI60tFAEP2O1/59ov++BUiosahY1CqOgUYFOpDQAUuaSigBc0ZpKKAFzRmkooAXNU9W/5A17/17yf+gmrdRzwrc20kEmdkiFGx1wRigDndD/5F+w/690/9BFX6pxeDvs8KQw69q6RxqFVQ0PAHQf6un/8ACKSf9DDq/wD31D/8arq9pEks0VW/4RST/oYdX/76h/8AjVH/AAikn/Qw6v8A99Q//GqXtIgWa58/8lFH/YMH/ow1r/8ACKSf9DDq/wD31D/8aqA+B4zf/bf7d1f7R5flb98P3c5x/q/WmqkUBoUVW/4RST/oYdX/AO+of/jVH/CKSf8AQw6v/wB9Q/8Axqj2kQLNJVf/AIRST/oYdX/76h/+NUf8IpJ/0MOr/wDfUP8A8ao9pECHXP8AkXtR/wCvWX/0A1Lpn/IIs/8Argn/AKCKZN4O+0W8kM2v6u0cilHXdDyCMEf6ulj8INFEkcfiDV1RFCqN0PAH/bKj2kQLlFVf+EUk/wChh1j/AL6h/wDjVH/CKSf9DDrH/fUP/wAao9pEC1RVX/hFJP8AoYdY/wC+of8A41R/wikn/Qw6x/31D/8AGqPaRAy4/wDkoE//AGDl/wDRlb1Z48EIL43g13V/tDR+WX3w/dznH+r9an/4RST/AKGHWP8AvqH/AONU3UiBZoqt/wAIpJ/0MOsf99Q//GqP+EUk/wChh1j/AL6h/wDjVL2kQLNZviL/AJFy/wD+uDfyqz/wikn/AEMOsf8AfUP/AMaqOfwb9qt3gn1/V3jkG1lLw8j/AL90e0iFiSw/5Btt/wBcU/kKsVVTwg0caoniDVwqgADdDwP+/VL/AMInJ/0MOsf99Q//ABqj2kQLNFVv+ETk/wChh1j/AL6h/wDjVH/CJyf9DDrH/fUP/wAao9pEZZrGh/5Ha5/68k/9DNaH/CJyf9DDrH/fUP8A8aqIeCVW8a6Gu6uJ2QIX3w8qDnH+rpqpEReoqt/wicn/AEMOsf8AfUP/AMao/wCETk/6GHWP++of/jVL2kRlmiq3/CJyf9DDrH/fUP8A8ao/4ROT/oYdY/76h/8AjVHtIgUPF3/Il6z/ANeM3/oBrr4v9Wv0Fc1c+ClvbSW2utd1eWCZCkiF4QGUjBHEddMo2qAOgFZ1JKSVgCiiisRhRRRQAUUUUALRRRQAUUUUAFFFFABRRRQAUUUUAFFFFABSGlpDQAUUUUAFFFFABRRRQAUUUUAFGaKKADNGaKKADNGaKKADNGaKKADNGaKKADNGaKKADNGaKKADNGaKKADNGaKKADNGaKKADNGaKKADNGaKKADNGaKKADNGaKKADNGaKKADNGaKKADNGaKKACiiigAooooAKKKKAFooooAKKKKACiiigAooooAKKKKACiiigApDS0hoAKKKKACiiigAooooAKKKKACiiigAooooAKKKKACiiigAooooAKKKKACiiigAooooAKKKKACiiigAooooAKKKKACiiigAooooAKKKKACiiigAooooAKKKKACiiigAooooAWiiigAooooAKKKKACiiigAooooAKKKKACkNFFABRRRQAUUUUAFFFFABRRRQAUUUUAFFFFABRRRQAUUUUAFFFFABRRRQAUUUUAFFFFABRRRQAUUUUAFFFFABRRRQAUUUUAFFFFABRRRQAUUUUAFFFFABRRRQAUUUUAFFFFAH/9k=)"
      ],
      "metadata": {
        "id": "mDqIerU5joWS"
      }
    },
    {
      "cell_type": "markdown",
      "source": [
        "So to find sum of the indexes from 1 to 4, it is nothing but a[1] + a[2] + a[3]+ a[4],\n",
        "\n",
        "which can now be achieved by prefix sum array very easily by the below operation -\n",
        "\n",
        "PS[4] - PS[0] = a[0] + a[1] + a[2] + a[3] + a[4] - a[0]\n",
        "\n",
        "              = a[1] + a[2] + a[3] + a[4]\n",
        "\n",
        "So, in short to find the sum of the elements from index s to e, it is PS[e] - PS[s-1]"
      ],
      "metadata": {
        "id": "yN59B6AdkrzI"
      }
    },
    {
      "cell_type": "code",
      "execution_count": null,
      "metadata": {
        "colab": {
          "base_uri": "https://localhost:8080/"
        },
        "id": "G9d34vWlYFNe",
        "outputId": "8d8ed19f-0e0a-4a61-a0af-0955aaf3bafe"
      },
      "outputs": [
        {
          "output_type": "stream",
          "name": "stdout",
          "text": [
            "Prefix Sum Array: [6, 8, 12, 17, 19, 27, 18, 21, 22]\n",
            "13\n",
            "Prefix Sum Array: [6, 8, 12, 17, 19, 27, 18, 21, 22]\n",
            "19\n"
          ]
        }
      ],
      "source": [
        "# Prefix Sum from index S to E\n",
        "\n",
        "arr = [6, 2, 4, 5, 2, 8, -9, 3, 1]\n",
        "\n",
        "def PrefixSum(a,x,y):\n",
        "  sum = 0\n",
        "  PS = []\n",
        "  for i in range(len(a)):\n",
        "    sum += a[i]\n",
        "    PS.append(sum)\n",
        "\n",
        "  print(f'Prefix Sum Array: {PS}')\n",
        "\n",
        "  if x == 0:\n",
        "    return PS[y]\n",
        "  else:\n",
        "    return PS[y]-PS[x-1]\n",
        "s1 = 1\n",
        "e1 = 4\n",
        "print(PrefixSum(arr,s1,e1))\n",
        "s2 = 0\n",
        "e2 = 4\n",
        "print(PrefixSum(arr,s2,e2))"
      ]
    },
    {
      "cell_type": "markdown",
      "source": [
        "For the above problem, **T.C** -> O(N), **S.C** -> O(N)"
      ],
      "metadata": {
        "id": "-FBKe1H-uD9K"
      }
    },
    {
      "cell_type": "code",
      "source": [
        "# Prefix Sum from index S1 to E1, S2 to E2, ...... Sq to Eq\n",
        "\n",
        "arr = [6, 2, 4, 5, 2, 8, -9, 3, 1]\n",
        "\n",
        "def PrefixSum(a, queries):\n",
        "  #print(len(queries))\n",
        "  sum = 0\n",
        "  PS = []\n",
        "\n",
        "  for i in range(len(a)):\n",
        "\n",
        "    sum += a[i]\n",
        "    PS.append(sum)\n",
        "\n",
        "  print(f'Prefix Sum Array: {PS}')\n",
        "\n",
        "  output_list = []\n",
        "\n",
        "  for i in range(len(queries)):\n",
        "\n",
        "    #print(queries[i][0])\n",
        "    #print(queries[i][1])\n",
        "\n",
        "    if queries[i][0] == 0:\n",
        "\n",
        "      output_list.append(PS[queries[i][1]])\n",
        "\n",
        "    else:\n",
        "\n",
        "      output_list.append(PS[queries[i][1]] - PS[queries[i][0]])\n",
        "\n",
        "    #print(output_list)\n",
        "\n",
        "  return output_list\n",
        "\n",
        "\n",
        "PrefixSum(arr,([1,3],[0,5],[3,7]))"
      ],
      "metadata": {
        "colab": {
          "base_uri": "https://localhost:8080/"
        },
        "id": "i4h85WHtog5L",
        "outputId": "3c8407e2-c3ec-4602-ae1b-bae235aaf684"
      },
      "execution_count": null,
      "outputs": [
        {
          "output_type": "stream",
          "name": "stdout",
          "text": [
            "Prefix Sum Array: [6, 8, 12, 17, 19, 27, 18, 21, 22]\n"
          ]
        },
        {
          "output_type": "execute_result",
          "data": {
            "text/plain": [
              "[9, 27, 4]"
            ]
          },
          "metadata": {},
          "execution_count": 18
        }
      ]
    },
    {
      "cell_type": "markdown",
      "source": [
        "For the above problem, **T.C** -> O(N), **S.C** -> O(N)"
      ],
      "metadata": {
        "id": "l54PEK2UuQvm"
      }
    },
    {
      "cell_type": "markdown",
      "source": [
        "**Equilibrium Index**\n",
        "\n",
        "**Q.** What is Equilibrium Index ?\n",
        "\n",
        "**Ans:** For an array A having N elements if there exists an element with ith index such that,\n",
        "\n",
        "A[0] + A[1] + ..... + A[i-1] = A[i+1] + A[i+2] + ...... + A[N-1],\n",
        "\n",
        "then 'i' is the equilibrium index in the array A.\n",
        "\n",
        "**For Example:** In the array [1, 2, 3, 4, 8, 10], 4th index is the equilibrium index, because sum of elements to the left of 8 is equal to the sum of elements to the right of 8 in the array.\n",
        "\n",
        "Similarly in the array [-7, 1, 5, 2, -4, 3, 0], indexes 3 and 6 are the equilibrium indexes."
      ],
      "metadata": {
        "id": "s6E6mQ3luoH-"
      }
    },
    {
      "cell_type": "markdown",
      "source": [
        "**Class Problem 2:** Given an array of N elements. Return 'True' if the array has an equilibrium index\n",
        "\n",
        "**Hint:** Create a Prefix Sum and iterate over all elements of the Prefix Sum array and check if there exist an index 'i' such that PS[i-1] = PS[N-1] - PS[i]"
      ],
      "metadata": {
        "id": "zjBxMFwVuRrg"
      }
    },
    {
      "cell_type": "code",
      "source": [
        "# Implementation\n",
        "\n",
        "def EquilibriumIndex(a):\n",
        "\n",
        "  sum = 0\n",
        "  PS = []\n",
        "  for i in range(len(a)):\n",
        "    sum += a[i]\n",
        "    PS.append(sum)\n",
        "\n",
        "  print(f'Prefix Sum Array: {PS}')\n",
        "\n",
        "  for i in range(len(PS)):\n",
        "\n",
        "    if i == 0 and PS[len(PS)-1]-PS[i] == 0:\n",
        "      \n",
        "      return True\n",
        "\n",
        "    elif i == len(PS)-1 and PS[len(PS)-2] == 0:\n",
        "\n",
        "      return True\n",
        "\n",
        "    elif PS[i-1] == PS[len(PS)-1] - PS[i]:\n",
        "\n",
        "      return True\n",
        "\n",
        "    else:\n",
        "\n",
        "      continue\n",
        "\n",
        "  return False\n",
        "\n",
        "print(EquilibriumIndex([1, 2, 3, 4, 8, 10]))\n",
        "print(EquilibriumIndex([-7, 1, 5, 2, -4, 3, 0]))\n",
        "print(EquilibriumIndex([1, 2, 3, 4, 5, 6]))\n",
        "print(EquilibriumIndex([1]))\n",
        "print(EquilibriumIndex([1, 0]))\n",
        "print(EquilibriumIndex([0, 1]))\n",
        "print(EquilibriumIndex([5, 1, 2, 3, 4, -10]))\n",
        "print(EquilibriumIndex([1, 2, 3, 4, -10, 6]))"
      ],
      "metadata": {
        "colab": {
          "base_uri": "https://localhost:8080/"
        },
        "id": "8DaxK-uUWc3M",
        "outputId": "6e227435-6ea0-48f1-fa0b-6124865aa8ea"
      },
      "execution_count": null,
      "outputs": [
        {
          "output_type": "stream",
          "name": "stdout",
          "text": [
            "Prefix Sum Array: [1, 3, 6, 10, 18, 28]\n",
            "True\n",
            "Prefix Sum Array: [-7, -6, -1, 1, -3, 0, 0]\n",
            "True\n",
            "Prefix Sum Array: [1, 3, 6, 10, 15, 21]\n",
            "False\n",
            "Prefix Sum Array: [1]\n",
            "True\n",
            "Prefix Sum Array: [1, 1]\n",
            "True\n",
            "Prefix Sum Array: [0, 1]\n",
            "True\n",
            "Prefix Sum Array: [5, 6, 8, 11, 15, 5]\n",
            "True\n",
            "Prefix Sum Array: [1, 3, 6, 10, 0, 6]\n",
            "True\n"
          ]
        }
      ]
    },
    {
      "cell_type": "markdown",
      "source": [
        "**Class Problem 3:** Given an array of N elements. Find -\n",
        "\n",
        "\n",
        "\n",
        "a.   Sum of elements at even indexes in the array\n",
        "\n",
        "b.   Sum of elements at odd indexes in the array\n",
        "\n"
      ],
      "metadata": {
        "id": "9VGoIUfNb9lj"
      }
    },
    {
      "cell_type": "markdown",
      "source": [
        "**Hint:** Create a separate prefix sum array for even indexed elements and odd indexed elements"
      ],
      "metadata": {
        "id": "M2kER14ifL_E"
      }
    },
    {
      "cell_type": "code",
      "source": [
        "def OddEvenPrefixSum(a):\n",
        "\n",
        "  sum_even = 0\n",
        "  sum_odd = 0\n",
        "\n",
        "  PSe = []\n",
        "  PSo = []\n",
        "\n",
        "  for i in range(0, len(a)):\n",
        "\n",
        "    if i%2 == 0:\n",
        "\n",
        "      sum_even += a[i]\n",
        "\n",
        "    else:\n",
        "\n",
        "      sum_odd += a[i]\n",
        "\n",
        "    PSe.append(sum_even)\n",
        "    PSo.append(sum_odd)\n",
        "\n",
        "  print(f'Even Prefix Sum Array : {PSe}')\n",
        "  print(f'Odd Prefix Sum Array  : {PSo}')\n",
        "\n",
        "\n",
        "print(OddEvenPrefixSum([1, 2, 3, 4, 8, 10]))\n",
        "print(OddEvenPrefixSum([-7, 1, 5, 2, -4, 3, 0]))\n",
        "print(OddEvenPrefixSum([5]))\n",
        "print(OddEvenPrefixSum([1, 0]))\n",
        "      "
      ],
      "metadata": {
        "colab": {
          "base_uri": "https://localhost:8080/"
        },
        "id": "3BuPlwUdffdS",
        "outputId": "1f572166-6e28-4336-dcf5-c5a25620f79c"
      },
      "execution_count": null,
      "outputs": [
        {
          "output_type": "stream",
          "name": "stdout",
          "text": [
            "Even Prefix Sum Array : [1, 1, 4, 4, 12, 12]\n",
            "Odd Prefix Sum Array  : [0, 2, 2, 6, 6, 16]\n",
            "None\n",
            "Even Prefix Sum Array : [-7, -7, -2, -2, -6, -6, -6]\n",
            "Odd Prefix Sum Array  : [0, 1, 1, 3, 3, 6, 6]\n",
            "None\n",
            "Even Prefix Sum Array : [5]\n",
            "Odd Prefix Sum Array  : [0]\n",
            "None\n",
            "Even Prefix Sum Array : [1, 1]\n",
            "Odd Prefix Sum Array  : [0, 0]\n",
            "None\n"
          ]
        }
      ]
    },
    {
      "cell_type": "markdown",
      "source": [
        "**Quiz5:** Construct the prefix sum for even indexed elements for the given array [2, 4, 3, 1, 5]\n",
        "\n",
        "**Ans:** [2, 2, 5, 5, 10]"
      ],
      "metadata": {
        "id": "JmRiFgCrcK0Y"
      }
    },
    {
      "cell_type": "markdown",
      "source": [
        "**Quiz6:** Construct the prefix sum for odd indexed elements for the given array: [2, 4, 3, 1, 5]\n",
        "\n",
        "**Ans:** [0, 4, 4, 5, 5]"
      ],
      "metadata": {
        "id": "mtCzet0ZeziP"
      }
    }
  ]
}