{
  "nbformat": 4,
  "nbformat_minor": 0,
  "metadata": {
    "colab": {
      "provenance": [],
      "collapsed_sections": []
    },
    "kernelspec": {
      "name": "python3",
      "display_name": "Python 3"
    },
    "language_info": {
      "name": "python"
    }
  },
  "cells": [
    {
      "cell_type": "markdown",
      "source": [
        "**Q1.** What is the time complexity of the following code:\n",
        "\n"
      ],
      "metadata": {
        "id": "3m8zLtzas9rK"
      }
    },
    {
      "cell_type": "code",
      "execution_count": null,
      "metadata": {
        "id": "vlzGmDl2s08K"
      },
      "outputs": [],
      "source": [
        "def solve():\n",
        "   for i in range(n):\n",
        "        for j in range(i // 2):\n",
        "            # O(1) operation"
      ]
    },
    {
      "cell_type": "markdown",
      "source": [
        "**Ans:** O(N*N)"
      ],
      "metadata": {
        "id": "wkNvRcZktHAr"
      }
    },
    {
      "cell_type": "markdown",
      "source": [
        "**Q2.** What is the time complexity of the following code:"
      ],
      "metadata": {
        "id": "yUNaVvRP23aH"
      }
    },
    {
      "cell_type": "code",
      "source": [
        "k = 0\n",
        "for i in range(n//2, n+1):\n",
        "    j = 2\n",
        "    while j<=n:\n",
        "         k = k + n//2\n",
        "         j = j * 2"
      ],
      "metadata": {
        "id": "tDLFQ3JA3FEK"
      },
      "execution_count": null,
      "outputs": []
    },
    {
      "cell_type": "markdown",
      "source": [
        "**Ans:** O(N * Log N)"
      ],
      "metadata": {
        "id": "2KpYE0qi3F34"
      }
    },
    {
      "cell_type": "markdown",
      "source": [
        "**Q3**. What is the time complexity of the following code:"
      ],
      "metadata": {
        "id": "ngBKjger9Ar3"
      }
    },
    {
      "cell_type": "code",
      "source": [
        "int a = 0, i = N; \n",
        "while (i > 0) { \n",
        "    a += i; \n",
        "    i /= 2; \n",
        "}"
      ],
      "metadata": {
        "id": "PQ2KtZqs9P2I"
      },
      "execution_count": null,
      "outputs": []
    },
    {
      "cell_type": "markdown",
      "source": [
        "**Ans:** O(Log N)"
      ],
      "metadata": {
        "id": "Of2zapx79Zw6"
      }
    },
    {
      "cell_type": "markdown",
      "source": [
        "**Q4.** The complexity of Binary search algorithm is"
      ],
      "metadata": {
        "id": "SRCZ6eEj9oD4"
      }
    },
    {
      "cell_type": "markdown",
      "source": [
        "**Ans:** O(Log N)"
      ],
      "metadata": {
        "id": "t6xbe745925F"
      }
    },
    {
      "cell_type": "markdown",
      "source": [
        "**Q5**. If for an algorithm time complexity is given by O(1) then complexityof it is:"
      ],
      "metadata": {
        "id": "oULMhMXV96FJ"
      }
    },
    {
      "cell_type": "markdown",
      "source": [
        "**Ans**: Constant"
      ],
      "metadata": {
        "id": "2ObfPUdL-Dto"
      }
    },
    {
      "cell_type": "markdown",
      "source": [
        "**Q6.** If for an algorithm time complexity is given by O(log2n) then complexity will:"
      ],
      "metadata": {
        "id": "mxTTFcW1-GmP"
      }
    },
    {
      "cell_type": "markdown",
      "source": [
        "**Ans:** Logarithmic"
      ],
      "metadata": {
        "id": "vqVyNtr8-Ze_"
      }
    },
    {
      "cell_type": "markdown",
      "source": [
        "**Q7**. If for an algorithm time complexity is given by O(n) then complexityof it is:"
      ],
      "metadata": {
        "id": "EKCjnLE_-byV"
      }
    },
    {
      "cell_type": "markdown",
      "source": [
        "**Ans:** Linear"
      ],
      "metadata": {
        "id": "sqL1kePd-g-1"
      }
    },
    {
      "cell_type": "markdown",
      "source": [
        "**Q8.** If for an algorithm time complexity is given by O((3/2)^n) then complexity will:"
      ],
      "metadata": {
        "id": "SvXxZYHC-vAr"
      }
    },
    {
      "cell_type": "markdown",
      "source": [
        "**Ans:** Exponential"
      ],
      "metadata": {
        "id": "QR46BUhI-0J-"
      }
    },
    {
      "cell_type": "markdown",
      "source": [
        "**Q9**. What will be the Time Complexity if solve() function is called?"
      ],
      "metadata": {
        "id": "UYzIvz19_QIj"
      }
    },
    {
      "cell_type": "code",
      "source": [
        "def solve():\n",
        "  i = n\n",
        "  while i > 0:\n",
        "    if i%2 == 0:\n",
        "      for j in range(1, n*n+1, 2):\n",
        "        # O(1) operation\n",
        "\n",
        "    i = i//2"
      ],
      "metadata": {
        "id": "7CzlG38A_koq"
      },
      "execution_count": null,
      "outputs": []
    },
    {
      "cell_type": "markdown",
      "source": [
        "**Ans:** O(N^2 * Log N)"
      ],
      "metadata": {
        "id": "IkwXc43k_QUH"
      }
    }
  ]
}