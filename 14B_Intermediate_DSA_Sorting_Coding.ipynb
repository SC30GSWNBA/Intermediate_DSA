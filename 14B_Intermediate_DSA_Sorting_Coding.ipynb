{
  "nbformat": 4,
  "nbformat_minor": 0,
  "metadata": {
    "colab": {
      "provenance": [],
      "collapsed_sections": []
    },
    "kernelspec": {
      "name": "python3",
      "display_name": "Python 3"
    },
    "language_info": {
      "name": "python"
    }
  },
  "cells": [
    {
      "cell_type": "markdown",
      "source": [
        "**Q1. Noble Integer**\n",
        "\n",
        "**Problem Description**\n",
        "\n",
        "Given an integer array A, find if an integer p exists in the array such that the number of integers greater than p in the array equals p.\n",
        "\n",
        "**Problem Constraints**\n",
        "\n",
        "    1 <= |A| <= 2*10^5\n",
        "    1 <= A[i] <= 10^7\n",
        "\n",
        "**Input Format**\n",
        "\n",
        "First and only argument is an integer array A.\n",
        "\n",
        "**Output Format**\n",
        "\n",
        "Return 1 if any such integer p is present else, return -1.\n",
        "\n",
        "**Example Input**\n",
        "\n",
        "Input 1:\n",
        "\n",
        " A = [3, 2, 1, 3]\n",
        "\n",
        "Input 2:\n",
        "\n",
        " A = [1, 1, 3, 3]\n",
        "\n",
        "**Example Output**\n",
        "\n",
        "Output 1:\n",
        "\n",
        " 1\n",
        "\n",
        "Output 2:\n",
        "\n",
        " -1\n",
        "\n",
        "**Example Explanation**\n",
        "\n",
        "Explanation 1:\n",
        "\n",
        " For integer 2, there are 2 greater elements in the array..\n",
        " \n",
        "Explanation 2:\n",
        "\n",
        " There exist no integer satisfying the required conditions."
      ],
      "metadata": {
        "id": "6OES-L20Ki3Y"
      }
    },
    {
      "cell_type": "code",
      "execution_count": 5,
      "metadata": {
        "colab": {
          "base_uri": "https://localhost:8080/"
        },
        "id": "PKEMzWXQKg8U",
        "outputId": "f4342930-2973-4b3e-fdf7-1d33b1bfe7e9"
      },
      "outputs": [
        {
          "output_type": "stream",
          "name": "stdout",
          "text": [
            "1\n",
            "-1\n",
            "-1\n",
            "-1\n"
          ]
        }
      ],
      "source": [
        "class Solution:\n",
        "  # param A : list of integers\n",
        "  # return an integer\n",
        "  def solve(self, A):\n",
        "\n",
        "    A.sort(reverse=True)\n",
        "\n",
        "    store_value_index = [0]\n",
        "\n",
        "    for i in range(1, len(A)):\n",
        "\n",
        "      if A[i] == A[i-1]:\n",
        "\n",
        "        store_value_index.append(store_value_index[i-1])\n",
        "\n",
        "      else:\n",
        "\n",
        "        store_value_index.append(i)\n",
        "\n",
        "    count = 0\n",
        "\n",
        "    for i in range(len(A)):\n",
        "\n",
        "      if A[i] == store_value_index[i]:\n",
        "\n",
        "        count += 1\n",
        "        return 1\n",
        "\n",
        "    return -1\n",
        "\n",
        "X = Solution()\n",
        "\n",
        "print(X.solve([3, 2, 1, 3]))\n",
        "print(X.solve([1, 1, 3, 3]))\n",
        "print(X.solve([1, -5, 3, 5, -10, 4]))\n",
        "print(X.solve([0, 0, 2, 2, 4, 6, 6, 7]))"
      ]
    },
    {
      "cell_type": "markdown",
      "source": [
        "**Q2. Elements Removal**\n",
        "\n",
        "**Problem Description**\n",
        "\n",
        "Given an integer array A of size N. You can remove any element from the array in one operation.\n",
        "\n",
        "The cost of this operation is the sum of all elements in the array present before this operation.\n",
        "\n",
        "Find the minimum cost to remove all elements from the array.\n",
        "\n",
        "**Problem Constraints**\n",
        "\n",
        "    0 <= N <= 1000\n",
        "    1 <= A[i] <= 10^3\n",
        "\n",
        "**Input Format**\n",
        "\n",
        "First and only argument is an integer array A.\n",
        "\n",
        "**Output Format**\n",
        "\n",
        "Return an integer denoting the total cost of removing all elements from the array.\n",
        "\n",
        "**Example Input**\n",
        "\n",
        "Input 1:\n",
        "\n",
        " A = [2, 1]\n",
        "\n",
        "Input 2:\n",
        "\n",
        " A = [5]\n",
        "\n",
        "**Example Output**\n",
        "\n",
        "Output 1:\n",
        "\n",
        " 4\n",
        "\n",
        "Output 2:\n",
        "\n",
        " 5\n",
        "\n",
        "**Example Explanation**\n",
        "\n",
        "Explanation 1:\n",
        "\n",
        " Given array A = [2, 1]\n",
        " Remove 2 from the array => [1]. Cost of this operation is (2 + 1) = 3.\n",
        " Remove 1 from the array => []. Cost of this operation is (1) = 1.\n",
        " So, total cost is = 3 + 1 = 4.\n",
        "\n",
        "Explanation 2:\n",
        "\n",
        " There is only one element in the array. So, cost of removing is 5."
      ],
      "metadata": {
        "id": "vWEh3I1GO2uU"
      }
    },
    {
      "cell_type": "code",
      "source": [
        "class Solution:\n",
        "  # param A : list of integers\n",
        "  # return an integer\n",
        "  def solve(self, A):\n",
        "\n",
        "    A.sort(reverse = True)\n",
        "\n",
        "    min_cost = 0\n",
        "\n",
        "    for i in range(len(A)):\n",
        "\n",
        "      min_cost += (i+1)*A[i]\n",
        "\n",
        "    return min_cost\n",
        "\n",
        "X = Solution()\n",
        "\n",
        "print(X.solve([2, 1]))\n",
        "print(X.solve([5]))\n",
        "print(X.solve([2, 1, 4]))\n",
        "print(X.solve([5, 4, 7, 1]))"
      ],
      "metadata": {
        "colab": {
          "base_uri": "https://localhost:8080/"
        },
        "id": "pEf200XWPJad",
        "outputId": "4e4d7efa-5009-4fa2-a376-32644a70e344"
      },
      "execution_count": 6,
      "outputs": [
        {
          "output_type": "stream",
          "name": "stdout",
          "text": [
            "4\n",
            "5\n",
            "11\n",
            "33\n"
          ]
        }
      ]
    },
    {
      "cell_type": "markdown",
      "source": [
        "**Q3. Largest Number**\n",
        "\n",
        "**Problem Description**\n",
        "\n",
        "Given an array A of non-negative integers, arrange them such that they form the largest number.\n",
        "\n",
        "**Note:** The result may be very large, so you need to return a string instead of an integer.\n",
        "\n",
        "**Problem Constraints**\n",
        "\n",
        "    1 <= len(A) <= 100000\n",
        "    0 <= A[i] <= 2*10^9\n",
        "\n",
        "**Input Format**\n",
        "\n",
        "The first argument is an array of integers.\n",
        "\n",
        "**Output Format**\n",
        "\n",
        "Return a string representing the largest number.\n",
        "\n",
        "**Example Input**\n",
        "\n",
        "Input 1:\n",
        "\n",
        " A = [3, 30, 34, 5, 9]\n",
        "\n",
        "Input 2:\n",
        "\n",
        " A = [2, 3, 9, 0]\n",
        "\n",
        "**Example Output**\n",
        "\n",
        "Output 1:\n",
        "\n",
        " \"9534330\"\n",
        "\n",
        "Output 2:\n",
        "\n",
        " \"9320\"\n",
        "\n",
        "**Example Explanation**\n",
        "\n",
        "Explanation 1:\n",
        "\n",
        "Reorder the numbers to [9, 5, 34, 3, 30] to form the largest number.\n",
        "\n",
        "Explanation 2:\n",
        "\n",
        "Reorder the numbers to [9, 3, 2, 0] to form the largest number 9320."
      ],
      "metadata": {
        "id": "RYN35x2IPjLz"
      }
    },
    {
      "cell_type": "code",
      "source": [
        "from functools import cmp_to_key\n",
        "\n",
        "class Solution:\n",
        "  # param A : tuple of integers\n",
        "  # return a strings\n",
        "  def largestNumber(self, A):\n",
        "\n",
        "    A = [str(x) for x in A]\n",
        "\n",
        "    def compare(a, b):\n",
        "\n",
        "      if a + b > b + a:\n",
        "        return -1\n",
        "      if a + b < b + a:\n",
        "        return 1\n",
        "      return 0\n",
        "\n",
        "    A.sort(key=cmp_to_key(compare))\n",
        "\n",
        "    result = ''.join(A)\n",
        "\n",
        "    if result=='0'*len(result): # Edge Case where all the elements of the array is zeros\n",
        "\n",
        "      return '0'\n",
        "\n",
        "    else:\n",
        "            \n",
        "      return result\n",
        "\n",
        "X = Solution()\n",
        "\n",
        "print(X.largestNumber([3, 30, 34, 5, 9]))\n",
        "print(X.largestNumber([2, 3, 9, 0]))\n",
        "print(X.largestNumber([0, 0, 0, 0]))"
      ],
      "metadata": {
        "colab": {
          "base_uri": "https://localhost:8080/"
        },
        "id": "fPF9UXRdP0z0",
        "outputId": "4f755059-c4c3-4439-9752-4ad05ff5c072"
      },
      "execution_count": 9,
      "outputs": [
        {
          "output_type": "stream",
          "name": "stdout",
          "text": [
            "9534330\n",
            "9320\n",
            "0\n"
          ]
        }
      ]
    },
    {
      "cell_type": "markdown",
      "source": [
        "**Q4. Arithmetic Progression?**\n",
        "\n",
        "**Problem Description**\n",
        "\n",
        "Given an integer array A of size N. Return 1 if the array can be arranged to form an arithmetic progression, otherwise return 0.\n",
        "\n",
        "A sequence of numbers is called an arithmetic progression if the difference between any two consecutive elements is the same.\n",
        "\n",
        "**Problem Constraints**\n",
        "\n",
        "    2 <= N <= 10^5\n",
        "\n",
        "    -10^9 <= A[i] <= 10^9\n",
        "\n",
        "**Input Format**\n",
        "\n",
        "The first and only argument is an integer array A of size N.\n",
        "\n",
        "**Output Format**\n",
        "\n",
        "Return 1 if the array can be rearranged to form an arithmetic progression, otherwise return 0.\n",
        "\n",
        "**Example Input**\n",
        "\n",
        "Input 1:\n",
        "\n",
        " A = [3, 5, 1]\n",
        "\n",
        "Input 2:\n",
        "\n",
        " A = [2, 4, 1]\n",
        "\n",
        "**Example Output**\n",
        "\n",
        "Output 1:\n",
        "\n",
        " 1\n",
        "\n",
        "Output 2:\n",
        "\n",
        " 0\n",
        "\n",
        "**Example Explanation**\n",
        "\n",
        "Explanation 1:\n",
        "\n",
        " We can reorder the elements as [1,3,5] or [5,3,1] with differences 2 and -2 respectively, between each consecutive elements.\n",
        "\n",
        "Explanation 2:\n",
        "\n",
        " There is no way to reorder the elements to obtain an arithmetic progression."
      ],
      "metadata": {
        "id": "5JKOGEN6Ql6n"
      }
    },
    {
      "cell_type": "code",
      "source": [
        "class Solution:\n",
        "  # param A : list of integers\n",
        "  # return an integer\n",
        "  def solve(self, A):\n",
        "\n",
        "    A.sort()\n",
        "\n",
        "    diff = A[0] - A[1]\n",
        "\n",
        "    for i in range(1, len(A)-1):\n",
        "            \n",
        "      if diff != (A[i] - A[i+1]):\n",
        "                \n",
        "        return 0\n",
        "\n",
        "    return 1\n",
        "\n",
        "X = Solution()\n",
        "\n",
        "print(X.solve([3, 5, 1]))\n",
        "print(X.solve([2, 1, 4]))\n",
        "print(X.solve([5, 3, 7, 1]))"
      ],
      "metadata": {
        "colab": {
          "base_uri": "https://localhost:8080/"
        },
        "id": "ubAIq615RKy8",
        "outputId": "f65ba0c2-1800-4ae5-8280-0902b3bd348c"
      },
      "execution_count": 10,
      "outputs": [
        {
          "output_type": "stream",
          "name": "stdout",
          "text": [
            "1\n",
            "0\n",
            "1\n"
          ]
        }
      ]
    },
    {
      "cell_type": "markdown",
      "source": [
        "**Q5. Sort by Color**\n",
        "\n",
        "**Problem Description**\n",
        "\n",
        "Given an array with N objects colored red, white, or blue, sort them so that objects of the same color are adjacent, with the colors in the order red, white, and blue.\n",
        "\n",
        "We will use the integers 0, 1, and 2 to represent red, white, and blue, respectively.\n",
        "\n",
        "**Note:** Using the library sort function is not allowed.\n",
        "\n",
        "**Problem Constraints**\n",
        "    1 <= N <= 1000000\n",
        "    0 <= A[i] <= 2\n",
        "\n",
        "**Input Format**\n",
        "\n",
        "First and only argument of input contains an integer array A.\n",
        "\n",
        "**Output Format**\n",
        "\n",
        "Return an integer array in asked order\n",
        "\n",
        "**Example Input**\n",
        "\n",
        "Input 1 :\n",
        "\n",
        "A = [0 1 2 0 1 2]\n",
        "\n",
        "Input 2:\n",
        "\n",
        "A = [0]\n",
        "\n",
        "**Example Output**\n",
        "\n",
        "Output 1:\n",
        "\n",
        "[0 0 1 1 2 2]\n",
        "\n",
        "Output 2:\n",
        "\n",
        "[0]\n",
        "\n",
        "**Example Explanation**\n",
        "\n",
        "Explanation 1:\n",
        "\n",
        "[0 0 1 1 2 2] is the required order."
      ],
      "metadata": {
        "id": "GKzKrYVQRbCN"
      }
    },
    {
      "cell_type": "code",
      "source": [
        "class Solution:\n",
        "  # param A : list of integers\n",
        "  # return a list of integers\n",
        "  def sortColors(self, A):\n",
        "\n",
        "    from functools import cmp_to_key\n",
        "\n",
        "    def compare(a, b):\n",
        "      if a < b:\n",
        "        return -1\n",
        "      if a > b:\n",
        "        return 1\n",
        "      return 0\n",
        "\n",
        "    A.sort(key=cmp_to_key(compare))\n",
        "\n",
        "    return A\n",
        "\n",
        "X = Solution()\n",
        "\n",
        "print(X.sortColors([0, 1, 2, 0, 1, 2]))\n",
        "print(X.sortColors([0]))"
      ],
      "metadata": {
        "colab": {
          "base_uri": "https://localhost:8080/"
        },
        "id": "XQ0ftyteRsg8",
        "outputId": "5ad61be8-115d-4ad7-90c5-cccdd6a54321"
      },
      "execution_count": 11,
      "outputs": [
        {
          "output_type": "stream",
          "name": "stdout",
          "text": [
            "[0, 0, 1, 1, 2, 2]\n",
            "[0]\n"
          ]
        }
      ]
    }
  ]
}