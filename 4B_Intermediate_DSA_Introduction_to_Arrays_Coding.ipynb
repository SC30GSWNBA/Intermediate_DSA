{
  "nbformat": 4,
  "nbformat_minor": 0,
  "metadata": {
    "colab": {
      "provenance": [],
      "collapsed_sections": []
    },
    "kernelspec": {
      "name": "python3",
      "display_name": "Python 3"
    },
    "language_info": {
      "name": "python"
    }
  },
  "cells": [
    {
      "cell_type": "markdown",
      "source": [
        "**Q1. Problem Description:**\n",
        "\n",
        "Given an integer array A of size N and an integer B, you have to print the same array after rotating it B times towards the right.\n",
        "\n",
        "\n",
        "**Problem Constraints:**\n",
        "\n",
        "1 <= N <= 106\n",
        "\n",
        "1 <= A[i] <=108\n",
        "\n",
        "1 <= B <= 109\n",
        "\n",
        "\n",
        "**Input Format**\n",
        "\n",
        "There are 2 lines in the input\n",
        "\n",
        "**Line 1:** The first number is the size N of the array A. Then N numbers follow which indicate the elements in the array A.\n",
        "\n",
        "**Line 2:** A single integer B.\n",
        "\n",
        "\n",
        "**Output Format**\n",
        "\n",
        "Print array A after rotating it B times towards the right.\n",
        "\n",
        "\n",
        "**Example Input**\n",
        "\n",
        "Input 1 :\n",
        "\n",
        "4 1 2 3 4\n",
        "\n",
        "2\n",
        "\n",
        "\n",
        "**Example Output**\n",
        "\n",
        "Output 1 :\n",
        "\n",
        "3 4 1 2\n",
        "\n",
        "\n",
        "**Example Explanation**\n",
        "\n",
        "Example 1 :\n",
        "\n",
        "N = 4, A = [1, 2, 3, 4] and B = 2.\n",
        "\n",
        "Rotate towards the right 2 times - [1, 2, 3, 4] => [4, 1, 2, 3] => [3, 4, 1, 2]\n",
        "\n",
        "Final array = [3, 4, 1, 2]"
      ],
      "metadata": {
        "id": "EfySRHycjzv5"
      }
    },
    {
      "cell_type": "code",
      "execution_count": null,
      "metadata": {
        "colab": {
          "base_uri": "https://localhost:8080/"
        },
        "id": "LRjnwUO4jKUU",
        "outputId": "d1e4d701-3a42-49b1-b397-db1d10ae6787"
      },
      "outputs": [
        {
          "output_type": "stream",
          "name": "stdout",
          "text": [
            "5 1 2 3 4 5\n",
            "8\n",
            "3 4 5 1 2 "
          ]
        }
      ],
      "source": [
        "def main():\n",
        "    # YOUR CODE GOES HERE\n",
        "    # Please take input and print output to standard input/output (stdin/stdout)\n",
        "    # E.g. 'input()/raw_input()' for input & 'print' for output\n",
        "\n",
        "    A = list(map(int, input().split()))\n",
        "\n",
        "    temp_list = A[1:]\n",
        "\n",
        "    B = int(input())\n",
        "\n",
        "    x = len(temp_list)\n",
        "\n",
        "    B = B%x\n",
        "\n",
        "    temp_list = temp_list[x-B:] + temp_list[:x-B]\n",
        "\n",
        "\n",
        "    for i in temp_list:\n",
        "\n",
        "        print(i, end = ' ')\n",
        "\n",
        "\n",
        "\n",
        "    return 0\n",
        "\n",
        "if __name__ == '__main__':\n",
        "    main()"
      ]
    },
    {
      "cell_type": "markdown",
      "source": [
        "**Q2. Problem Description:**\n",
        "\n",
        "Given an array A and an integer B. A pair(i, j) in the array is a good pair if i != j and (A[i] + A[j] == B). Check if any good pair exist or not.\n",
        "\n",
        "\n",
        "\n",
        "**Problem Constraints:**\n",
        "\n",
        "1 <= A.size() <= 104\n",
        "\n",
        "1 <= A[i] <= 109\n",
        "\n",
        "1 <= B <= 109\n",
        "\n",
        "\n",
        "\n",
        "**Input Format:**\n",
        "\n",
        "First argument is an integer array A.\n",
        "\n",
        "Second argument is an integer B.\n",
        "\n",
        "\n",
        "\n",
        "**Output Format:**\n",
        "\n",
        "Return 1 if good pair exist otherwise return 0.\n",
        "\n",
        "\n",
        "\n",
        "**Example Input:**\n",
        "\n",
        "Input 1:\n",
        "\n",
        "A = [1,2,3,4]\n",
        "\n",
        "B = 7\n",
        "\n",
        "Input 2:\n",
        "\n",
        "A = [1,2,4]\n",
        "\n",
        "B = 4\n",
        "\n",
        "Input 3:\n",
        "\n",
        "A = [1,2,2]\n",
        "\n",
        "B = 4\n",
        "\n",
        "\n",
        "**Example Output**\n",
        "\n",
        "Output 1:\n",
        "\n",
        "1\n",
        "\n",
        "Output 2:\n",
        "\n",
        "0\n",
        "\n",
        "Output 3:\n",
        "\n",
        "1\n",
        "\n",
        "\n",
        "**Example Explanation**\n",
        "\n",
        "Explanation 1:\n",
        "\n",
        " (i,j) = (3,4)\n",
        "\n",
        "Explanation 2:\n",
        "\n",
        "No pair has sum equal to 4.\n",
        "\n",
        "Explanation 3:\n",
        "\n",
        " (i,j) = (2,3)"
      ],
      "metadata": {
        "id": "CA_CjRsynOGT"
      }
    },
    {
      "cell_type": "code",
      "source": [
        "class Solution:\n",
        "  # param A : list of integers\n",
        "  # param B : integer\n",
        "  # return an integer\n",
        "  def solve(self, A, B):\n",
        "\n",
        "    T = set()\n",
        "\n",
        "    for i in range(len(A)):\n",
        "\n",
        "      if B-A[i] in T:\n",
        "\n",
        "        return 1\n",
        "\n",
        "      if A[i] not in T:\n",
        "\n",
        "        T.add(A[i])\n",
        "        #print(T)\n",
        "\n",
        "    return 0\n",
        "\n",
        "\n",
        "X = Solution()\n",
        "print(X.solve([1, 2, 3, 4], 7))\n",
        "print(X.solve([1, 2, 4], 4))\n",
        "print(X.solve([1, 2, 2], 4))"
      ],
      "metadata": {
        "colab": {
          "base_uri": "https://localhost:8080/"
        },
        "id": "zhJgpQ_GnNAi",
        "outputId": "7918c6f3-6c8c-48ba-f48e-81b874ec3b27"
      },
      "execution_count": null,
      "outputs": [
        {
          "output_type": "stream",
          "name": "stdout",
          "text": [
            "1\n",
            "0\n",
            "1\n"
          ]
        }
      ]
    },
    {
      "cell_type": "code",
      "source": [
        "# Alternate Solution with TC - O(N^2)\n",
        "\n",
        "class Solution:\n",
        "  # param A : list of integers\n",
        "  # param B : an integer\n",
        "  # return an integer(0 or 1)\n",
        "  def solve(self, A, B):\n",
        "    for i in range(len(A)):\n",
        "      for j in range(len(A)):\n",
        "        if i == j: \n",
        "          continue\n",
        "        if A[i] + A[j] == B:\n",
        "          return 1\n",
        "                    \n",
        "    return 0\n",
        "\n",
        "\n",
        "X = Solution()\n",
        "print(X.solve([1, 2, 3, 4], 7))\n",
        "print(X.solve([1, 2, 4], 4))\n",
        "print(X.solve([1, 2, 2], 4))"
      ],
      "metadata": {
        "colab": {
          "base_uri": "https://localhost:8080/"
        },
        "id": "GQtC-4z3u3Ko",
        "outputId": "ac5d81e0-427b-474f-82ba-1fba76b6ebbe"
      },
      "execution_count": null,
      "outputs": [
        {
          "output_type": "stream",
          "name": "stdout",
          "text": [
            "1\n",
            "0\n",
            "1\n"
          ]
        }
      ]
    },
    {
      "cell_type": "markdown",
      "source": [
        "**Q3. Problem Description**\n",
        "\n",
        "Write a program to print maximum and minimum elements of the input array A of size N where you have to take integer N and other N elements as input from the user.\n",
        "\n",
        "\n",
        "\n",
        "**Problem Constraints:**\n",
        "\n",
        "1 <= N <= 1000\n",
        "\n",
        "1 <= A <= 1000\n",
        "\n",
        "\n",
        "\n",
        "**Input Format**\n",
        "\n",
        "A single line representing N followed by N integers of the array A\n",
        "\n",
        "\n",
        "\n",
        "**Output Format**\n",
        "\n",
        "A single line containing two space separated integers representing maximum and minimum elements of the input array."
      ],
      "metadata": {
        "id": "QrUgWMPYaj2S"
      }
    },
    {
      "cell_type": "code",
      "source": [
        "def main():\n",
        "    # YOUR CODE GOES HERE\n",
        "    # Please take input and print output to standard input/output (stdin/stdout)\n",
        "    # E.g. 'input()/raw_input()' for input & 'print' for output\n",
        "\n",
        "    l = list(map(int, input().split()))\n",
        "\n",
        "    print(max(l[1:]), min(l[1:]))\n",
        "\n",
        "    return 0\n",
        "\n",
        "if __name__ == '__main__':\n",
        "    main()"
      ],
      "metadata": {
        "colab": {
          "base_uri": "https://localhost:8080/"
        },
        "id": "MpjMdz5yatwX",
        "outputId": "049f5ab2-6091-4eb7-b805-31af868071ab"
      },
      "execution_count": null,
      "outputs": [
        {
          "output_type": "stream",
          "name": "stdout",
          "text": [
            "5 1 2 3 4 5\n",
            "5 1\n"
          ]
        }
      ]
    },
    {
      "cell_type": "code",
      "source": [
        "# Alternate Solution\n",
        "\n",
        "def main():\n",
        "\n",
        "    # YOUR CODE GOES HERE\n",
        "    # Please take input and print output to standard input/output (stdin/stdout)\n",
        "    # E.g. 'input()/raw_input()' for input & 'print' for output\n",
        "\n",
        "    l = list(map(int, input().split()))\n",
        "\n",
        "    n = l[0]\n",
        "\n",
        "    l = l[1:]\n",
        "\n",
        "    max_ele = l[-1]\n",
        "    min_ele = l[-1]\n",
        "\n",
        "    for i in range(n-2, -1, -1):\n",
        "\n",
        "      if l[i] > max_ele:\n",
        "\n",
        "        max_ele = l[i]\n",
        "\n",
        "      if l[i] < min_ele:\n",
        "\n",
        "        min_ele = l[i]\n",
        "\n",
        "    print(max_ele, min_ele)\n",
        "\n",
        "\n",
        "    return 0\n",
        "\n",
        "if __name__ == '__main__':\n",
        "    main()"
      ],
      "metadata": {
        "colab": {
          "base_uri": "https://localhost:8080/"
        },
        "id": "xZO1mMJubITP",
        "outputId": "c26336ec-7987-46cf-9192-05d30ca42727"
      },
      "execution_count": null,
      "outputs": [
        {
          "output_type": "stream",
          "name": "stdout",
          "text": [
            "5 23 34 45 56 67\n",
            "67 23\n"
          ]
        }
      ]
    },
    {
      "cell_type": "markdown",
      "source": [
        "**Q4. Problem Description:**\n",
        "\n",
        "You are given a constant array A.\n",
        "\n",
        "You are required to return another array which is the reversed form of the input array.\n",
        "\n",
        "\n",
        "\n",
        "**Problem Constraints:**\n",
        "\n",
        "1 <= A.size() <= 10000\n",
        "\n",
        "1 <= A[i] <= 10000\n",
        "\n",
        "\n",
        "\n",
        "**Input Format:**\n",
        "\n",
        "First argument is a constant array A.\n",
        "\n",
        "\n",
        "\n",
        "**Output Format:**\n",
        "\n",
        "Return an integer array."
      ],
      "metadata": {
        "id": "Eel5S-DucPYt"
      }
    },
    {
      "cell_type": "code",
      "source": [
        "class Solution:\n",
        "  # param A : tuple of integers\n",
        "  # return a list of integers\n",
        "  def solve(self, A):\n",
        "\n",
        "    A = list(A)\n",
        "\n",
        "    i = 0\n",
        "    j = len(A)-1\n",
        "\n",
        "    while i < j:\n",
        "\n",
        "      A[i],A[j] = A[j],A[i]\n",
        "      i += 1\n",
        "      j -= 1\n",
        "\n",
        "    return A\n",
        "\n",
        "\n",
        "X = Solution()\n",
        "\n",
        "print(X.solve((1, 3, 4, 5, 6)))\n",
        "print(X.solve((1, 3, 4, 5)))\n",
        "print(X.solve((1,)))"
      ],
      "metadata": {
        "colab": {
          "base_uri": "https://localhost:8080/"
        },
        "id": "A94p8Eg0cWam",
        "outputId": "570f40cb-0476-4ef7-8de1-926447cb09c8"
      },
      "execution_count": null,
      "outputs": [
        {
          "output_type": "stream",
          "name": "stdout",
          "text": [
            "[6, 5, 4, 3, 1]\n",
            "[5, 4, 3, 1]\n",
            "[1]\n"
          ]
        }
      ]
    },
    {
      "cell_type": "markdown",
      "source": [
        "**Q5. Problem Description:**\n",
        "\n",
        "You are given an integer T (number of test cases). You are given array A and an integer B for each test case. You have to tell whether B is present in array A or not.\n",
        "\n",
        "\n",
        "\n",
        "**Problem Constraints:**\n",
        "\n",
        "1 <= T <= 10\n",
        "\n",
        "1 <= |A| <= 105\n",
        "\n",
        "1 <= A[i], B <= 109\n",
        "\n",
        "\n",
        "\n",
        "**Input Format:**\n",
        "\n",
        "First line of the input contains a single integer T.\n",
        "\n",
        "Next, each of the test case consists of 2 lines:\n",
        "\n",
        "First line begins with an integer |A| denoting the length of array, and then |A| integers denote the array elements.\n",
        "Second line contains a single integer B\n",
        "\n",
        "\n",
        "**Output Format:**\n",
        "\n",
        "For each test case, print on a separate line 1 if the element exists, else print 0."
      ],
      "metadata": {
        "id": "K4cZxRKvfK77"
      }
    },
    {
      "cell_type": "code",
      "source": [
        "def main():\n",
        "  # YOUR CODE GOES HERE\n",
        "  # Please take input and print output to standard input/output (stdin/stdout)\n",
        "  # E.g. 'input()/raw_input()' for input & 'print' for output\n",
        "\n",
        "  T = int(input())\n",
        "\n",
        "  for i in range(T):\n",
        "\n",
        "    A = list(map(int, input().split()))\n",
        "\n",
        "    B = int(input())\n",
        "\n",
        "    if B in A[1:]:\n",
        "\n",
        "      print(1)\n",
        "\n",
        "    else:\n",
        "\n",
        "      print(0)\n",
        "\n",
        "\n",
        "\n",
        "  return 0\n",
        "\n",
        "if __name__ == '__main__':\n",
        "    main()"
      ],
      "metadata": {
        "colab": {
          "base_uri": "https://localhost:8080/"
        },
        "id": "Cy_MOyuNfhNM",
        "outputId": "9e61498e-21f3-4f1b-e576-6935a176dfdc"
      },
      "execution_count": null,
      "outputs": [
        {
          "output_type": "stream",
          "name": "stdout",
          "text": [
            "2\n",
            "5 12 23 34 45 56\n",
            "34\n",
            "1\n",
            "6 12 23 34 45 56 67\n",
            "67\n",
            "1\n"
          ]
        }
      ]
    },
    {
      "cell_type": "markdown",
      "source": [
        "**Q6. Problem Description:**\n",
        "\n",
        "Little Ponny is given an array, A, of N integers. In a particular operation, he can set any element of the array equal to -1.\n",
        "\n",
        "He wants your help in finding out the minimum number of operations required such that the maximum element of the resulting array is B. If it is not possible, then return -1.\n",
        "\n",
        "\n",
        "\n",
        "**Problem Constraints:**\n",
        "\n",
        "1 <= |A| <= 105\n",
        "\n",
        "1 <= A[i] <= 109\n",
        "\n",
        "\n",
        "\n",
        "**Input Format:**\n",
        "\n",
        "The first argument of input contains an integer array, A.\n",
        "\n",
        "The second argument of input contains an integer, B.\n",
        "\n",
        "\n",
        "\n",
        "**Output Format:**\n",
        "\n",
        "Return an integer representing the answer."
      ],
      "metadata": {
        "id": "2TzQrMm9gy1m"
      }
    },
    {
      "cell_type": "code",
      "source": [
        "class Solution:\n",
        "  # param A : list of integers\n",
        "  # param B : integer\n",
        "  # return an integer\n",
        "  def solve(self, A, B):\n",
        "\n",
        "    if B not in A:\n",
        "\n",
        "      return -1\n",
        "\n",
        "    ans = 0\n",
        "\n",
        "    for i in range(0, len(A)):\n",
        "\n",
        "      if B < A[i]:\n",
        "\n",
        "        ans += 1\n",
        "\n",
        "    if ans == 0:\n",
        "\n",
        "      return -1\n",
        "\n",
        "    else:\n",
        "\n",
        "      return ans\n",
        "\n",
        "X = Solution()\n",
        "\n",
        "print(X.solve([1, 2, 3, 4, 5], 3))\n",
        "print(X.solve([1, 2, 4], 3))"
      ],
      "metadata": {
        "colab": {
          "base_uri": "https://localhost:8080/"
        },
        "id": "Cxh7J0Zcg558",
        "outputId": "46da6bca-dc6f-4e1f-e3a0-b98bb82c64e7"
      },
      "execution_count": null,
      "outputs": [
        {
          "output_type": "stream",
          "name": "stdout",
          "text": [
            "2\n",
            "-1\n"
          ]
        }
      ]
    },
    {
      "cell_type": "markdown",
      "source": [
        "**Q7. Problem Description:**\n",
        "\n",
        "You are given an integer array A. You have to find the second largest element/value in the array or report that no such element exists.\n",
        "\n",
        "\n",
        "\n",
        "**Problem Constraints:**\n",
        "\n",
        "1 <= |A| <= 105\n",
        "\n",
        "0 <= A[i] <= 109\n",
        "\n",
        "\n",
        "\n",
        "**Input Format:**\n",
        "\n",
        "The first argument is an integer array A.\n",
        "\n",
        "\n",
        "\n",
        "**Output Format:**\n",
        "\n",
        "Return the second largest element. If no such element exist then return -1."
      ],
      "metadata": {
        "id": "cOOM7PAciuqq"
      }
    },
    {
      "cell_type": "code",
      "source": [
        "class Solution:\n",
        "  # param A : list of integers\n",
        "  # return an integer\n",
        "  def solve(self, A):\n",
        "\n",
        "    mx = max(A)\n",
        "\n",
        "    if len(A) == 1 or max(A) == min(A):\n",
        "\n",
        "      return -1\n",
        "\n",
        "    mx_2nd = -9999999999999\n",
        "\n",
        "    for i in range(len(A)-1, -1, -1):\n",
        "\n",
        "      if A[i] == mx:\n",
        "\n",
        "        continue\n",
        "\n",
        "      if A[i] > mx_2nd:\n",
        "\n",
        "        mx_2nd = A[i]\n",
        "\n",
        "    return mx_2nd\n",
        "\n",
        "\n",
        "X = Solution()\n",
        "\n",
        "print(X.solve([1, 2, 3, 4, 5]))\n",
        "print(X.solve([1, 2, 4]))  "
      ],
      "metadata": {
        "colab": {
          "base_uri": "https://localhost:8080/"
        },
        "id": "R46-wevHi0j-",
        "outputId": "f3b8d814-bc40-4ba3-c982-980a358c2e8d"
      },
      "execution_count": null,
      "outputs": [
        {
          "output_type": "stream",
          "name": "stdout",
          "text": [
            "4\n",
            "2\n"
          ]
        }
      ]
    },
    {
      "cell_type": "markdown",
      "source": [
        "**Q8. Problem Description**\n",
        "\n",
        "You are given an array of integers A of size N.\n",
        "\n",
        "Return the difference between the maximum among all even numbers of A and the minimum among all odd numbers in A.\n",
        "\n",
        "\n",
        "\n",
        "**Problem Constraints**\n",
        "\n",
        "2 <= N <= 1e5\n",
        "\n",
        "-1e9 <= A[i] <= 1e9\n",
        "\n",
        "There is atleast 1 odd and 1 even number in A\n",
        "\n",
        "\n",
        "\n",
        "**Input Format**\n",
        "\n",
        "The first argument given is the integer array, A.\n",
        "\n",
        "\n",
        "\n",
        "**Output Format**\n",
        "\n",
        "Return maximum among all even numbers of A - minimum among all odd numbers in A."
      ],
      "metadata": {
        "id": "IGyFI8QxkQ1D"
      }
    },
    {
      "cell_type": "code",
      "source": [
        "class Solution:\n",
        "  # param A : list of integers\n",
        "  # return an integer\n",
        "  def solve(self, A):\n",
        "\n",
        "    max_even = -9999999999990\n",
        "    min_odd = 9999999999999\n",
        "\n",
        "    for i in range(len(A)-1, -1, -1):\n",
        "\n",
        "      if A[i]%2 == 0 and A[i] > max_even:\n",
        "\n",
        "        max_even = A[i]\n",
        "\n",
        "      if A[i]%2 == 1 and A[i] < min_odd:\n",
        "\n",
        "        min_odd = A[i]\n",
        "\n",
        "    return max_even-min_odd\n",
        "\n",
        "\n",
        "X = Solution()\n",
        "\n",
        "print(X.solve([1, 2, 3, 4, 5]))\n",
        "print(X.solve([1, 2, 4]))"
      ],
      "metadata": {
        "colab": {
          "base_uri": "https://localhost:8080/"
        },
        "id": "37PidlIEkaiI",
        "outputId": "5cde472e-8d44-4776-ea86-cdaceb0321f6"
      },
      "execution_count": null,
      "outputs": [
        {
          "output_type": "stream",
          "name": "stdout",
          "text": [
            "3\n",
            "3\n"
          ]
        }
      ]
    },
    {
      "cell_type": "markdown",
      "source": [
        "**Q8. Problem Description:**\n",
        "\n",
        "You are given an integer T denoting the number of test cases. For each test case, you are given an integer array A.\n",
        "\n",
        "You have to put the odd and even elements of array A in 2 separate arrays and print the new arrays.\n",
        "\n",
        "NOTE: Array elements should have the same relative order as in A.\n",
        "\n",
        "\n",
        "\n",
        "**Problem Constraints:**\n",
        "\n",
        "1 <= T <= 10\n",
        "\n",
        "1 <= |A| <= 105\n",
        "\n",
        "1 <= A[i] <= 109\n",
        "\n",
        "\n",
        "\n",
        "**Input Format:**\n",
        "\n",
        "First line of the input contains a single integer T.\n",
        "\n",
        "For each test case:\n",
        "\n",
        "First line consists of a single integer |A| denoting the length of array.\n",
        "Second line consists of |A| space separated integers denoting the elements of array A.\n",
        "\n",
        "\n",
        "**Output Format:**\n",
        "\n",
        "For each test case:\n",
        "\n",
        "First line should contain an array of space separated integers containing all the odd elements of array A\n",
        "\n",
        "Second line should contain an array of space separated integers containing all the even elements of array A"
      ],
      "metadata": {
        "id": "Ireo8khRmAAq"
      }
    },
    {
      "cell_type": "code",
      "source": [
        "def main():\n",
        "  # YOUR CODE GOES HERE\n",
        "  # Please take input and print output to standard input/output (stdin/stdout)\n",
        "  # E.g. 'input()/raw_input()' for input & 'print' for output\n",
        "\n",
        "  T = int(input())\n",
        "\n",
        "  for i in range(T):\n",
        "\n",
        "    L = int(input())\n",
        "\n",
        "    l = list(map(int, input().split()))\n",
        "\n",
        "    for x in l:\n",
        "\n",
        "      if x%2 == 1:\n",
        "\n",
        "        print(x, end = ' ')\n",
        "\n",
        "    print()\n",
        "\n",
        "    for x in l:\n",
        "\n",
        "      if x%2 == 0:\n",
        "\n",
        "        print(x, end = ' ')\n",
        "\n",
        "    print()\n",
        "\n",
        "  return 0\n",
        "\n",
        "if __name__ == '__main__':\n",
        "    main()"
      ],
      "metadata": {
        "colab": {
          "base_uri": "https://localhost:8080/"
        },
        "id": "7bn00ANimViC",
        "outputId": "e60b6f84-ceb8-49d8-a7d6-dd59d3e077da"
      },
      "execution_count": null,
      "outputs": [
        {
          "output_type": "stream",
          "name": "stdout",
          "text": [
            "2\n",
            "5\n",
            "1 2 3 4 5\n",
            "1 3 5 \n",
            "2 4 \n",
            "2\n",
            "1 2\n",
            "1 \n",
            "2 \n"
          ]
        }
      ]
    }
  ]
}