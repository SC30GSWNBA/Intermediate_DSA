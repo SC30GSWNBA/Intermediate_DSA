{
  "nbformat": 4,
  "nbformat_minor": 0,
  "metadata": {
    "colab": {
      "provenance": [],
      "collapsed_sections": []
    },
    "kernelspec": {
      "name": "python3",
      "display_name": "Python 3"
    },
    "language_info": {
      "name": "python"
    }
  },
  "cells": [
    {
      "cell_type": "markdown",
      "source": [
        "**Q1. Reverse the String**\n",
        "\n",
        "**Problem Description**\n",
        "\n",
        "You are given a string A of size N.\n",
        "\n",
        "Return the string A after reversing the string word by word.\n",
        "\n",
        "**NOTE:**\n",
        "\n",
        "A sequence of non-space characters constitutes a word.\n",
        "Your reversed string should not contain leading or trailing spaces, even if it is present in the input string.\n",
        "If there are multiple spaces between words, reduce them to a single space in the reversed string.\n",
        "\n",
        "**Problem Constraints**\n",
        "\n",
        "    1 <= N <= 3 * 105\n",
        "\n",
        "**Input Format**\n",
        "\n",
        "The only argument given is string A.\n",
        "\n",
        "**Output Format**\n",
        "\n",
        "Return the string A after reversing the string word by word.\n",
        "\n",
        "**Example Input**\n",
        "\n",
        "Input 1:\n",
        "\n",
        "    A = \"the sky is blue\"\n",
        "\n",
        "Input 2:\n",
        "\n",
        "    A = \"this is ib\"\n",
        "\n",
        "**Example Output**\n",
        "\n",
        "Output 1:\n",
        "\n",
        "    \"blue is sky the\"\n",
        "\n",
        "Output 2:\n",
        "\n",
        "    \"ib is this\"    \n",
        "\n",
        "**Example Explanation**\n",
        "\n",
        "Explanation 1:\n",
        "\n",
        "    We reverse the string word by word so the string becomes \"the sky is blue\".\n",
        "\n",
        "Explanation 2:\n",
        "\n",
        "    We reverse the string word by word so the string becomes \"this is ib\"."
      ],
      "metadata": {
        "id": "dLFs-n7LWlnM"
      }
    },
    {
      "cell_type": "code",
      "source": [
        "class Solution:\n",
        "  # param A : string\n",
        "  # return a strings\n",
        "  def solve(self, A):\n",
        "\n",
        "    X = A.split()\n",
        "            \n",
        "    i = 0\n",
        "    j = len(X)-1\n",
        "\n",
        "    while i < j:\n",
        "            \n",
        "      X[i], X[j] = X[j], X[i]\n",
        "\n",
        "      i += 1\n",
        "      j -= 1\n",
        "            \n",
        "    return ' '.join(X)\n",
        "\n",
        "X = Solution()\n",
        "\n",
        "print(X.solve(\"the sky is blue\"))\n",
        "print(X.solve(\"this is ib\"))"
      ],
      "metadata": {
        "colab": {
          "base_uri": "https://localhost:8080/"
        },
        "id": "iZy-_qu4XBks",
        "outputId": "0b4277a4-8916-4f89-8aea-969363bb7b44"
      },
      "execution_count": 1,
      "outputs": [
        {
          "output_type": "stream",
          "name": "stdout",
          "text": [
            "blue is sky the\n",
            "ib is this\n"
          ]
        }
      ]
    },
    {
      "cell_type": "markdown",
      "source": [
        "**Q2. Simple Reverse**\n",
        "\n",
        "**Problem Description**\n",
        "\n",
        "Given a string A, you are asked to reverse the string and return the reversed string.\n",
        "\n",
        "**Problem Constraints**\n",
        "\n",
        "    1 <= |A| <= 105\n",
        "\n",
        "String A consist only of lowercase characters.\n",
        "\n",
        "**Input Format**\n",
        "\n",
        "First and only argument is a string A.\n",
        "\n",
        "**Output Format**\n",
        "\n",
        "Return a string denoting the reversed string.\n",
        "\n",
        "**Example Input**\n",
        "\n",
        "Input 1:\n",
        "\n",
        "    A = \"scaler\"\n",
        "\n",
        "Input 2:\n",
        "\n",
        "    A = \"academy\"\n",
        "\n",
        "**Example Output**\n",
        "\n",
        "Output 1:\n",
        "\n",
        "    \"relacs\"\n",
        "\n",
        "Output 2:\n",
        "\n",
        "    \"ymedaca\"\n",
        "\n",
        "**Example Explanation**\n",
        "\n",
        "Explanation 1:\n",
        "\n",
        "    Reverse the given string."
      ],
      "metadata": {
        "id": "y5eRUuvWXZdS"
      }
    },
    {
      "cell_type": "code",
      "source": [
        "class Solution:\n",
        "  # param A : string\n",
        "  # return a strings\n",
        "  def solve(self, A):\n",
        "\n",
        "    X = A.split()\n",
        "            \n",
        "    i = 0\n",
        "    j = len(X)-1\n",
        "\n",
        "    while i < j:\n",
        "            \n",
        "      X[i], X[j] = X[j], X[i]\n",
        "\n",
        "      i += 1\n",
        "      j -= 1\n",
        "            \n",
        "    return ' '.join(X)\n",
        "\n",
        "X = Solution()\n",
        "\n",
        "print(X.solve(\"scaler\"))\n",
        "print(X.solve(\"academy\"))"
      ],
      "metadata": {
        "colab": {
          "base_uri": "https://localhost:8080/"
        },
        "id": "n3T3N0QmXweR",
        "outputId": "be295fa8-7f51-4e84-f935-532b377bf836"
      },
      "execution_count": 2,
      "outputs": [
        {
          "output_type": "stream",
          "name": "stdout",
          "text": [
            "scaler\n",
            "academy\n"
          ]
        }
      ]
    },
    {
      "cell_type": "markdown",
      "source": [
        "**Q3. tolower()**\n",
        "\n",
        "**Problem Description**\n",
        "\n",
        "You are given a function to_lower() which takes a character array A as an argument.\n",
        "\n",
        "Convert each character of A into lowercase characters if it exists. If the lowercase of a character does not exist, it remains unmodified.\n",
        "The uppercase letters from A to Z are converted to lowercase letters from a to z respectively.\n",
        "\n",
        "Return the lowercase version of the given character array.\n",
        "\n",
        "**Problem Constraints**\n",
        "\n",
        "1 <= |A| <= 105\n",
        "\n",
        "**Input Format**\n",
        "\n",
        "The only argument is a character array A.\n",
        "\n",
        "**Output Format**\n",
        "Return the lowercase version of the given character array.\n",
        "\n",
        "**Example Input**\n",
        "\n",
        "Input 1:\n",
        "\n",
        "    A = ['S', 'c', 'A', 'l', 'e', 'r', 'A', 'c', 'a', 'D', 'e', 'm', 'y']\n",
        "\n",
        "Input 2:\n",
        "\n",
        "    A = ['S', 'c', 'a', 'L', 'e', 'r', '#', '2', '0', '2', '0']\n",
        "\n",
        "**Example Output**\n",
        "\n",
        "Output 1:\n",
        "\n",
        "    ['s', 'c', 'a', 'l', 'e', 'r', 'a', 'c', 'a', 'd', 'e', 'm', 'y']\n",
        "\n",
        "Output 2:\n",
        "\n",
        "    ['s', 'c', 'a', 'l', 'e', 'r', '#', '2', '0', '2', '0']\n",
        "\n",
        "**Example Explanation**\n",
        "\n",
        "Explanation 1:\n",
        "\n",
        " All the characters in the returned array are in lowercase alphabets."
      ],
      "metadata": {
        "id": "mvx7Jmi2X6FI"
      }
    },
    {
      "cell_type": "code",
      "source": [
        "# Solution-1 - Using ASCII Values\n",
        "\n",
        "class Solution:\n",
        "  # param A : list of characters\n",
        "  # return a list of characters\n",
        "  def to_lower(self, A):\n",
        "\n",
        "    for i in range(0, len(A)):\n",
        "            \n",
        "      if ord(A[i]) >= 65 and ord(A[i]) <= 90:\n",
        "                \n",
        "        A[i] = chr(ord(A[i]) + 32)\n",
        "\n",
        "    return A\n",
        "\n",
        "X = Solution()\n",
        "\n",
        "print(X.to_lower(['S', 'c', 'A', 'l', 'e', 'r', 'A', 'c', 'a', 'D', 'e', 'm', 'y']))\n",
        "print(X.to_lower(['S', 'c', 'a', 'L', 'e', 'r', '#', '2', '0', '2', '0']))"
      ],
      "metadata": {
        "colab": {
          "base_uri": "https://localhost:8080/"
        },
        "id": "Nt5yDa94Yexx",
        "outputId": "8dfd7315-bcf9-423e-c035-d2c79090a7e8"
      },
      "execution_count": 3,
      "outputs": [
        {
          "output_type": "stream",
          "name": "stdout",
          "text": [
            "['s', 'c', 'a', 'l', 'e', 'r', 'a', 'c', 'a', 'd', 'e', 'm', 'y']\n",
            "['s', 'c', 'a', 'l', 'e', 'r', '#', '2', '0', '2', '0']\n"
          ]
        }
      ]
    },
    {
      "cell_type": "code",
      "source": [
        "# Solution-2 - Using XOR\n",
        "\n",
        "class Solution:\n",
        "  # param A : list of characters\n",
        "  # return a list of characters\n",
        "  def to_lower(self, A):\n",
        "\n",
        "    for i in range(0, len(A)):\n",
        "            \n",
        "      if ord(A[i]) >= 65 and ord(A[i]) <= 90:\n",
        "                \n",
        "        A[i] = chr(ord(A[i]) ^ (1<<5))\n",
        "\n",
        "    return A\n",
        "\n",
        "X = Solution()\n",
        "\n",
        "print(X.to_lower(['S', 'c', 'A', 'l', 'e', 'r', 'A', 'c', 'a', 'D', 'e', 'm', 'y']))\n",
        "print(X.to_lower(['S', 'c', 'a', 'L', 'e', 'r', '#', '2', '0', '2', '0']))"
      ],
      "metadata": {
        "colab": {
          "base_uri": "https://localhost:8080/"
        },
        "id": "0_LxCtYxYz1R",
        "outputId": "1eee656e-b7c5-4c99-c036-c2e15725d82f"
      },
      "execution_count": 4,
      "outputs": [
        {
          "output_type": "stream",
          "name": "stdout",
          "text": [
            "['s', 'c', 'a', 'l', 'e', 'r', 'a', 'c', 'a', 'd', 'e', 'm', 'y']\n",
            "['s', 'c', 'a', 'l', 'e', 'r', '#', '2', '0', '2', '0']\n"
          ]
        }
      ]
    },
    {
      "cell_type": "markdown",
      "source": [
        "**Q4. toupper()**\n",
        "\n",
        "**Problem Description**\n",
        "\n",
        "You are given a function to_upper() consisting of a character array A.\n",
        "\n",
        "Convert each charater of A into Uppercase character if it exists. If the Uppercase of a character does not exist, it remains unmodified.\n",
        "The lowercase letters from a to z is converted to uppercase letters from A to Z respectively.\n",
        "\n",
        "Return the uppercase version of the given character array.\n",
        "\n",
        "**Problem Constraints**\n",
        "\n",
        "    1 <= |A| <= 105\n",
        "\n",
        "**Input Format**\n",
        "\n",
        "Only argument is a character array A.\n",
        "\n",
        "**Output Format**\n",
        "\n",
        "Return the uppercase version of the given character array.\n",
        "\n",
        "**Example Input**\n",
        "\n",
        "Input 1:\n",
        "\n",
        "    A = ['S', 'c', 'A', 'L', 'E', 'r', 'A', 'c', 'a', 'D', 'e', 'm', 'y']\n",
        "\n",
        "Input 2:\n",
        "\n",
        "    A = ['S', 'c', 'a', 'L', 'e', 'R', '#', '2', '0', '2', '0']\n",
        "\n",
        "**Example Output**\n",
        "\n",
        "Output 1:\n",
        "\n",
        "    ['S', 'C', 'A', 'L', 'E', 'R', 'A', 'C', 'A', 'D', 'E', 'M', 'Y']\n",
        "\n",
        "Output 2:\n",
        "\n",
        "    ['S', 'C', 'A', 'L', 'E', 'R', '#', '2', '0', '2', '0']\n",
        "\n",
        "**Example Explanation**\n",
        "\n",
        "Explanation 1:\n",
        "\n",
        "    All the characters in the returned array are in uppercase alphabets."
      ],
      "metadata": {
        "id": "tI47n8NyZIKx"
      }
    },
    {
      "cell_type": "code",
      "source": [
        "# Solution-1 - Using ASCII Values\n",
        "\n",
        "class Solution:\n",
        "  # param A : list of characters\n",
        "  # return a list of characters\n",
        "  def to_upper(self, A):\n",
        "\n",
        "    for i in range(0, len(A)):\n",
        "            \n",
        "      if ord(A[i]) >= 97 and ord(A[i]) <= 122:\n",
        "                \n",
        "        A[i] = chr(ord(A[i]) - 32)\n",
        "\n",
        "    return A\n",
        "\n",
        "X = Solution()\n",
        "\n",
        "print(X.to_upper(['S', 'c', 'A', 'l', 'e', 'r', 'A', 'c', 'a', 'D', 'e', 'm', 'y']))\n",
        "print(X.to_upper(['S', 'c', 'a', 'L', 'e', 'r', '#', '2', '0', '2', '0']))"
      ],
      "metadata": {
        "colab": {
          "base_uri": "https://localhost:8080/"
        },
        "id": "f8wDaeVkZb8r",
        "outputId": "e48104d6-7999-4c87-bb8e-1200ad8da050"
      },
      "execution_count": 5,
      "outputs": [
        {
          "output_type": "stream",
          "name": "stdout",
          "text": [
            "['S', 'C', 'A', 'L', 'E', 'R', 'A', 'C', 'A', 'D', 'E', 'M', 'Y']\n",
            "['S', 'C', 'A', 'L', 'E', 'R', '#', '2', '0', '2', '0']\n"
          ]
        }
      ]
    },
    {
      "cell_type": "code",
      "source": [
        "# Solution-2 - Using XOR\n",
        "\n",
        "class Solution:\n",
        "  # param A : list of characters\n",
        "  # return a list of characters\n",
        "  def to_upper(self, A):\n",
        "\n",
        "    for i in range(0, len(A)):\n",
        "            \n",
        "      if ord(A[i]) >= 97 and ord(A[i]) <= 122:\n",
        "                \n",
        "        A[i] = chr(ord(A[i]) ^ (1<<5))\n",
        "\n",
        "    return A\n",
        "\n",
        "X = Solution()\n",
        "\n",
        "print(X.to_upper(['S', 'c', 'A', 'l', 'e', 'r', 'A', 'c', 'a', 'D', 'e', 'm', 'y']))\n",
        "print(X.to_upper(['S', 'c', 'a', 'L', 'e', 'r', '#', '2', '0', '2', '0']))"
      ],
      "metadata": {
        "colab": {
          "base_uri": "https://localhost:8080/"
        },
        "id": "_p0EeyiHZo5D",
        "outputId": "27204945-c535-481f-b621-922f453b9b19"
      },
      "execution_count": 6,
      "outputs": [
        {
          "output_type": "stream",
          "name": "stdout",
          "text": [
            "['S', 'C', 'A', 'L', 'E', 'R', 'A', 'C', 'A', 'D', 'E', 'M', 'Y']\n",
            "['S', 'C', 'A', 'L', 'E', 'R', '#', '2', '0', '2', '0']\n"
          ]
        }
      ]
    },
    {
      "cell_type": "markdown",
      "source": [
        "**Q5. Isalnum()**\n",
        "\n",
        "**Problem Description**\n",
        "\n",
        "You are given a function isalpha() consisting of a character array A.\n",
        "\n",
        "Return 1 if all the characters of a character array are alphanumeric (a-z, A-Z, and 0-9) else, return 0.\n",
        "\n",
        "**Problem Constraints**\n",
        "\n",
        "    1 <= |A| <= 105\n",
        "\n",
        "**Input Format**\n",
        "\n",
        "Only argument is a character array A.\n",
        "\n",
        "**Output Format**\n",
        "\n",
        "Return 1 if all the characters of the character array are alphanumeric (a-z, A-Z and 0-9), else return 0.\n",
        "\n",
        "**Example Input**\n",
        "\n",
        "Input 1:\n",
        "\n",
        "    A = ['S', 'c', 'a', 'l', 'e', 'r', 'A', 'c', 'a', 'd', 'e', 'm', 'y', '2', '0', '2', '0']\n",
        "\n",
        "Input 2:\n",
        "\n",
        "    A = ['S', 'c', 'a', 'l', 'e', 'r', '#', '2', '0', '2', '0']\n",
        "\n",
        "**Example Output**\n",
        "\n",
        "Output 1:\n",
        "\n",
        "    1\n",
        "\n",
        "Output 2:\n",
        "\n",
        "    0\n",
        "\n",
        "**Example Explanation**\n",
        "\n",
        "Explanation 1:\n",
        "\n",
        "    All the characters are alphanumeric.\n",
        "\n",
        "Explanation 2:\n",
        "\n",
        "    All the characters are NOT alphabets i.e ('#')."
      ],
      "metadata": {
        "id": "TjT6HfG3Z1hf"
      }
    },
    {
      "cell_type": "code",
      "source": [
        "class Solution:\n",
        "  # param A : list of characters\n",
        "  # return an integer\n",
        "  def solve(self, A):\n",
        "\n",
        "    flag = 1\n",
        "\n",
        "    for i in range(0, len(A)):\n",
        "            \n",
        "      if (ord(A[i]) >= 48 and ord(A[i]) <= 57) or (ord(A[i]) >= 65 and ord(A[i]) <= 90) or (ord(A[i]) >= 97 and ord(A[i]) <= 122):\n",
        "                \n",
        "        continue\n",
        "            \n",
        "      else:\n",
        "                \n",
        "        flag = 0\n",
        "        break\n",
        "\n",
        "    return flag\n",
        "\n",
        "X = Solution()\n",
        "\n",
        "print(X.solve(['S', 'c', 'a', 'l', 'e', 'r', 'A', 'c', 'a', 'd', 'e', 'm', 'y', '2', '0', '2', '0']))\n",
        "print(X.solve(['S', 'c', 'a', 'l', 'e', 'r', '#', '2', '0', '2', '0']))"
      ],
      "metadata": {
        "colab": {
          "base_uri": "https://localhost:8080/"
        },
        "id": "N3pqV2taaYu9",
        "outputId": "58697f1c-8f64-48ec-cf13-e21fccd0d442"
      },
      "execution_count": 7,
      "outputs": [
        {
          "output_type": "stream",
          "name": "stdout",
          "text": [
            "1\n",
            "0\n"
          ]
        }
      ]
    },
    {
      "cell_type": "markdown",
      "source": [
        "**Q6. Isalpha()**\n",
        "\n",
        "P**roblem Description**\n",
        "\n",
        "You are given a function isalpha() consisting of a character array A.\n",
        "\n",
        "Return 1 if all the characters of the character array are alphabetical (a-z and A-Z), else return 0.\n",
        "\n",
        "**Problem Constraints**\n",
        "\n",
        "    1 <= |A| <= 105\n",
        "\n",
        "**Input Format**\n",
        "\n",
        "Only argument is a character array A.\n",
        "\n",
        "**Output Format**\n",
        "\n",
        "Return 1 if all the characters of the character array are alphabetical (a-z and A-Z), else return 0.\n",
        "\n",
        "**Example Input**\n",
        "\n",
        "Input 1:\n",
        "\n",
        " A = ['S', 'c', 'a', 'l', 'e', 'r', 'A', 'c', 'a', 'd', 'e', 'm', 'y']\n",
        "\n",
        "Input 2:\n",
        "\n",
        " A = ['S', 'c', 'a', 'l', 'e', 'r', '#', '2', '0', '2', '0']\n",
        "\n",
        "**Example Output**\n",
        "\n",
        "Output 1:\n",
        "\n",
        " 1\n",
        "\n",
        "Output 2:\n",
        "\n",
        " 0\n",
        "\n",
        "**Example Explanation**\n",
        "\n",
        "Explanation 1:\n",
        "\n",
        " All the characters are alphabets.\n",
        " \n",
        "Explanation 2:\n",
        "\n",
        " All the characters are NOT alphabets i.e ('#', '2', '0', '2', '0')."
      ],
      "metadata": {
        "id": "tY63jVcXapXJ"
      }
    },
    {
      "cell_type": "code",
      "source": [
        "class Solution:\n",
        "  # param A : list of characters\n",
        "  # return an integer\n",
        "  def solve(self, A):\n",
        "\n",
        "    flag = 1\n",
        "\n",
        "    for i in range(0, len(A)):\n",
        "            \n",
        "      if (ord(A[i]) >= 65 and ord(A[i]) <= 90) or (ord(A[i]) >= 97 and ord(A[i]) <= 122):\n",
        "                \n",
        "        continue\n",
        "            \n",
        "      else:\n",
        "                \n",
        "        flag = 0\n",
        "        break\n",
        "\n",
        "    return flag\n",
        "\n",
        "X = Solution()\n",
        "\n",
        "print(X.solve(['S', 'c', 'a', 'l', 'e', 'r', 'A', 'c', 'a', 'd', 'e', 'm', 'y', '2', '0', '2', '0']))\n",
        "print(X.solve(['S', 'c', 'a', 'l', 'e', 'r', '#', '2', '0', '2', '0']))"
      ],
      "metadata": {
        "colab": {
          "base_uri": "https://localhost:8080/"
        },
        "id": "vD-VfCvca6p5",
        "outputId": "c5ac6651-842f-432c-a8dd-28384d2530f8"
      },
      "execution_count": 8,
      "outputs": [
        {
          "output_type": "stream",
          "name": "stdout",
          "text": [
            "0\n",
            "0\n"
          ]
        }
      ]
    },
    {
      "cell_type": "markdown",
      "source": [
        "**Q7. Longest Palindromic Substring**\n",
        "\n",
        "**Problem Description**\n",
        "\n",
        "Given a string A of size N, find and return the longest palindromic substring in A.\n",
        "\n",
        "Substring of string A is A[i...j] where 0 <= i <= j < len(A)\n",
        "\n",
        "**Palindrome string:**\n",
        "\n",
        "A string which reads the same backwards. More formally, A is palindrome if reverse(A) = A.\n",
        "\n",
        "Incase of conflict, return the substring which occurs first ( with the least starting index).\n",
        "\n",
        "**Problem Constraints**\n",
        "\n",
        "    1 <= N <= 6000\n",
        "\n",
        "**Input Format**\n",
        "\n",
        "First and only argument is a string A.\n",
        "\n",
        "**Output Format**\n",
        "\n",
        "Return a string denoting the longest palindromic substring of string A.\n",
        "\n",
        "**Example Input**\n",
        "\n",
        "    A = \"aaaabaaa\"\n",
        "\n",
        "**Example Output**\n",
        "\n",
        "    \"aaabaaa\"\n",
        "\n",
        "**Example Explanation**\n",
        "\n",
        "We can see that longest palindromic substring is of length 7 and the string is \"aaabaaa\"."
      ],
      "metadata": {
        "id": "ixotfpJAbHwH"
      }
    },
    {
      "cell_type": "code",
      "source": [
        "class Solution:\n",
        "  # param A : string\n",
        "  # return a strings\n",
        "  def longestPalindrome(self, A):\n",
        "\n",
        "    # Iterate on every character as center\n",
        "\n",
        "    # Total n centres\n",
        "\n",
        "    n = len(A)\n",
        "\n",
        "    ans = 0\n",
        "\n",
        "    for i in range(n):\n",
        "\n",
        "      # s[i] is the center\n",
        "\n",
        "      l = i-1\n",
        "\n",
        "      r = i+1\n",
        "\n",
        "      curr_len = 1\n",
        "\n",
        "      while l >= 0 and r < n:\n",
        "\n",
        "        if A[l] != A[r]:\n",
        "\n",
        "          break\n",
        "\n",
        "        curr_len += 2\n",
        "\n",
        "        l -= 1\n",
        "\n",
        "        r += 1\n",
        "\n",
        "      ans = max(ans, curr_len)\n",
        "\n",
        "    \n",
        "    # Now considering centres as space between characters\n",
        "\n",
        "    for i in range(n-1):\n",
        "\n",
        "      l = i\n",
        "\n",
        "      r = i+1\n",
        "\n",
        "      curr_len = 0\n",
        "\n",
        "      while l >= 0 and r <= n-1:\n",
        "\n",
        "        if A[l] != A[r]:\n",
        "\n",
        "          break\n",
        "\n",
        "        curr_len += 2\n",
        "\n",
        "        l -= 1\n",
        "\n",
        "        r += 1\n",
        "\n",
        "      ans = max(ans, curr_len)\n",
        "\n",
        "    return ans\n",
        "\n",
        "X = Solution()\n",
        "\n",
        "print(X.longestPalindrome(\"aaaaabaaaaa\"))\n",
        "print(X.longestPalindrome(\"NAMANA\"))"
      ],
      "metadata": {
        "colab": {
          "base_uri": "https://localhost:8080/"
        },
        "id": "EXEYQd8LbZdT",
        "outputId": "79ff22bf-518a-4744-a111-3c2c4d1b1d2d"
      },
      "execution_count": 9,
      "outputs": [
        {
          "output_type": "stream",
          "name": "stdout",
          "text": [
            "11\n",
            "5\n"
          ]
        }
      ]
    },
    {
      "cell_type": "markdown",
      "source": [
        "**Q8. Toggle Case**\n",
        "\n",
        "**Problem Description**\n",
        "\n",
        "You are given a character string A having length N, consisting of only lowercase and uppercase latin letters.\n",
        "\n",
        "You have to toggle case of each character of string A. For e.g 'A' is changed to 'a', 'e' is changed to 'E', etc.\n",
        "\n",
        "**Problem Constraints**\n",
        "\n",
        "    1 <= N <= 105\n",
        "\n",
        "    A[i] ∈ ['a'-'z', 'A'-'Z']\n",
        "\n",
        "**Input Format**\n",
        "\n",
        "First and only argument is a character string A.\n",
        "\n",
        "**Output Format**\n",
        "\n",
        "Return a character string.\n",
        "\n",
        "**Example Input**\n",
        "\n",
        "Input 1:\n",
        "\n",
        " A = \"Hello\"\n",
        "\n",
        "Input 2:\n",
        "\n",
        " A = \"tHiSiSaStRiNg\" \n",
        "\n",
        "**Example Output**\n",
        "\n",
        "Output 1:\n",
        "\n",
        " hELLO \n",
        "\n",
        "Input 2:\n",
        "\n",
        " ThIsIsAsTrInG \n",
        "\n",
        "**Example Explanation**\n",
        "\n",
        "Explanation 1:\n",
        "\n",
        " 'H' changes to 'h'\n",
        " 'e' changes to 'E'\n",
        " 'l' changes to 'L'\n",
        " 'l' changes to 'L'\n",
        " 'o' changes to 'O'\n",
        " \n",
        "Explanation 2:\n",
        "\n",
        " \"tHiSiSaStRiNg\" changes to \"ThIsIsAsTrInG\"."
      ],
      "metadata": {
        "id": "4oS1KAx0eVAx"
      }
    },
    {
      "cell_type": "code",
      "source": [
        "class Solution:\n",
        "  # param A : string\n",
        "  # return a strings\n",
        "  def solve(self, A):\n",
        "\n",
        "    X = [x for x in A]\n",
        "\n",
        "\n",
        "    for i in range(0, len(X)):\n",
        "            \n",
        "      X[i] = chr(ord(X[i]) ^ (1 << 5))\n",
        "            \n",
        "    return ''.join(X)\n",
        "\n",
        "X = Solution()\n",
        "\n",
        "print(X.solve(\"Hello\"))\n",
        "print(X.solve(\"tHiSiSsTrInG\"))"
      ],
      "metadata": {
        "colab": {
          "base_uri": "https://localhost:8080/"
        },
        "id": "cvDT5xIeejTq",
        "outputId": "3726acc8-f366-4f82-b91e-8adf36e40ad5"
      },
      "execution_count": 10,
      "outputs": [
        {
          "output_type": "stream",
          "name": "stdout",
          "text": [
            "hELLO\n",
            "ThIsIsStRiNg\n"
          ]
        }
      ]
    },
    {
      "cell_type": "markdown",
      "source": [
        "**Q9. Is is Palindrome? - II**\n",
        "\n",
        "**Problem Description**\n",
        "\n",
        "You have a string (A) and you have to return 1 if it is palindrome otherwise return 0.\n",
        "\n",
        "**Problem Constraints**\n",
        "\n",
        "    1 <= A.size() <= 1000\n",
        "\n",
        "**Input Format**\n",
        "\n",
        "First argument containing a lowercase string A.\n",
        "\n",
        "**Output Format**\n",
        "\n",
        "You have to return either 0 or 1 as per the question.\n",
        "\n",
        "**Example Input**\n",
        "\n",
        "Input 1:\n",
        "\n",
        "    abcba\n",
        "\n",
        "Input 2:\n",
        "\n",
        "    axax\n",
        "\n",
        "Input 3:\n",
        "\n",
        "    abba\n",
        "\n",
        "Example Output\n",
        "\n",
        "Output 1:\n",
        "\n",
        "    1\n",
        "\n",
        "Output 2:\n",
        "\n",
        "    0\n",
        "\n",
        "Output 3:\n",
        "\n",
        "    1\n",
        "\n",
        "**Example Explanation**\n",
        "\n",
        "Explanation 1:\n",
        "\n",
        "    Clearly, all characters of abcba from backward is similar with characters from forward.\n",
        "\n",
        "Explanation 2:\n",
        "\n",
        "    Clearly, all characters of axax from backward is not similar with characters from forward.\n",
        "\n",
        "Explanation 3:\n",
        "\n",
        "    Clearly, all characters of abba from backward is similar with characters from forward."
      ],
      "metadata": {
        "id": "HxkODUuUe9v_"
      }
    },
    {
      "cell_type": "code",
      "source": [
        "class Solution:\n",
        "  # param A : string\n",
        "  # return an integer\n",
        "  def solve(self, A):\n",
        "\n",
        "    if len(A) == 1:\n",
        "            \n",
        "      return 1\n",
        "            \n",
        "    i = 0\n",
        "    j = len(A)-1\n",
        "\n",
        "    flag = 1\n",
        "\n",
        "    while i < j:\n",
        "            \n",
        "      if A[i] != A[j]:\n",
        "                \n",
        "        flag = 0\n",
        "        break\n",
        "            \n",
        "      i += 1\n",
        "      j -= 1\n",
        "\n",
        "    return flag\n",
        "\n",
        "X = Solution()\n",
        "\n",
        "print(X.solve(\"abcba\"))\n",
        "print(X.solve(\"axax\"))\n",
        "print(X.solve(\"abracadabra\"))"
      ],
      "metadata": {
        "colab": {
          "base_uri": "https://localhost:8080/"
        },
        "id": "HRLum7SvfmYr",
        "outputId": "c0a78275-331a-49ed-bae8-e6a078403c5e"
      },
      "execution_count": 11,
      "outputs": [
        {
          "output_type": "stream",
          "name": "stdout",
          "text": [
            "1\n",
            "0\n",
            "0\n"
          ]
        }
      ]
    },
    {
      "cell_type": "markdown",
      "source": [
        "**Q10. Amazing Subarrays**\n",
        "\n",
        "You are given a string S, and you have to find all the amazing substrings of S.\n",
        "\n",
        "An amazing Substring is one that starts with a vowel (a, e, i, o, u, A, E, I, O, U).\n",
        "\n",
        "**Input**\n",
        "\n",
        "    Only argument given is string S.\n",
        "\n",
        "**Output**\n",
        "\n",
        "    Return a single integer X mod 10003, here X is the number of Amazing Substrings in given the string.\n",
        "\n",
        "**Constraints**\n",
        "\n",
        "    1 <= length(S) <= 1e6\n",
        "    S can have special characters\n",
        "\n",
        "**Example**\n",
        "\n",
        "Input\n",
        "\n",
        "    ABEC\n",
        "\n",
        "Output\n",
        "\n",
        "    6\n",
        "\n",
        "**Explanation**\n",
        "\n",
        "    Amazing substrings of given string are :\n",
        "    1. A\n",
        "    2. AB\n",
        "    3. ABE\n",
        "    4. ABEC\n",
        "    5. E\n",
        "    6. EC\n",
        "    here number of substrings are 6 and 6 % 10003 = 6."
      ],
      "metadata": {
        "id": "tcA_o18-nxvE"
      }
    },
    {
      "cell_type": "code",
      "source": [
        "class Solution:\n",
        "  # param A : string\n",
        "  # return an integer\n",
        "  def solve(self, A):\n",
        "\n",
        "    A = A.lower()\n",
        "\n",
        "    total = 0\n",
        "\n",
        "    for i in range(len(A)):\n",
        "            \n",
        "      if A[i] == 'a' or A[i] == 'e' or A[i] == 'i' or A[i] == 'o' or A[i] == 'u':\n",
        "                \n",
        "        total += len(A)-i\n",
        "        total = total%10003\n",
        "\n",
        "    return total\n",
        "\n",
        "X = Solution()\n",
        "\n",
        "print(X.solve(\"ABEC\"))"
      ],
      "metadata": {
        "colab": {
          "base_uri": "https://localhost:8080/"
        },
        "id": "UXrnOs4FoFxv",
        "outputId": "2c043dc9-20cd-4ef9-d8e8-2c0ea7f1fcf4"
      },
      "execution_count": 12,
      "outputs": [
        {
          "output_type": "stream",
          "name": "stdout",
          "text": [
            "6\n"
          ]
        }
      ]
    },
    {
      "cell_type": "markdown",
      "source": [
        "**Q11. Count Occurrences**\n",
        "\n",
        "**Problem Description**\n",
        "\n",
        "Find the number of occurrences of bob in string A consisting of lowercase English alphabets.\n",
        "\n",
        "**Problem Constraints**\n",
        "\n",
        "1 <= |A| <= 1000\n",
        "\n",
        "**Input Format**\n",
        "\n",
        "The first and only argument contains the string A, consisting of lowercase English alphabets.\n",
        "\n",
        "**Output Format**\n",
        "\n",
        "Return an integer containing the answer.\n",
        "\n",
        "**Example Input**\n",
        "\n",
        "Input 1:\n",
        "\n",
        "    \"abobc\"\n",
        "\n",
        "Input 2:\n",
        "\n",
        "    \"bobob\"\n",
        "\n",
        "**Example Output**\n",
        "\n",
        "Output 1:\n",
        "\n",
        "    1\n",
        "\n",
        "Output 2:\n",
        "\n",
        "    2\n",
        "\n",
        "**Example Explanation**\n",
        "\n",
        "Explanation 1:\n",
        "\n",
        "    The only occurrence is at second position.\n",
        "\n",
        "Explanation 2:\n",
        "\n",
        "    Bob occures at first and third position."
      ],
      "metadata": {
        "id": "1SjZ8BBEohS0"
      }
    },
    {
      "cell_type": "code",
      "source": [
        "class Solution:\n",
        "  # param A : string\n",
        "  # return an integer\n",
        "  def solve(self, A):\n",
        "\n",
        "    cnt = 0\n",
        "\n",
        "    for i in range(1, len(A)-1):\n",
        "            \n",
        "      if A[i-1] == 'b' and A[i] == 'o' and A[i+1] == 'b':\n",
        "                \n",
        "        cnt += 1\n",
        "\n",
        "    return cnt\n",
        "\n",
        "\n",
        "X = Solution()\n",
        "\n",
        "print(X.solve(\"abobc\"))\n",
        "print(X.solve(\"bobob\"))"
      ],
      "metadata": {
        "colab": {
          "base_uri": "https://localhost:8080/"
        },
        "id": "fV-EDoKpp2ue",
        "outputId": "129eeb6f-b4fd-47ac-f17a-f195fdfe047b"
      },
      "execution_count": 13,
      "outputs": [
        {
          "output_type": "stream",
          "name": "stdout",
          "text": [
            "1\n",
            "2\n"
          ]
        }
      ]
    },
    {
      "cell_type": "markdown",
      "source": [
        "**Q12. Change character**\n",
        "\n",
        "**Problem Description**\n",
        "\n",
        "You are given a string A of size N consisting of lowercase alphabets.\n",
        "\n",
        "You can change at most B characters in the given string to any other lowercase alphabet such that the number of distinct characters in the string is minimized.\n",
        "\n",
        "Find the minimum number of distinct characters in the resulting string.\n",
        "\n",
        "**Problem Constraints**\n",
        "\n",
        "    1 <= N <= 100000\n",
        "\n",
        "    0 <= B < N\n",
        "\n",
        "**Input Format**\n",
        "\n",
        "    The first argument is a string A.\n",
        "\n",
        "    The second argument is an integer B.\n",
        "\n",
        "**Output Format**\n",
        "\n",
        "Return an integer denoting the minimum number of distinct characters in the string.\n",
        "\n",
        "Example Input\n",
        "\n",
        "    A = \"abcabbccd\"\n",
        "    B = 3\n",
        "\n",
        "Example Output\n",
        "\n",
        "    2\n",
        "\n",
        "**Example Explanation**\n",
        "\n",
        "We can change both 'a' and one 'd' into 'b'.So the new string becomes \"bbcbbbccb\".\n",
        "\n",
        "So the minimum number of distinct character will be 2."
      ],
      "metadata": {
        "id": "sNF4TBWfqH9T"
      }
    },
    {
      "cell_type": "code",
      "source": [
        "class Solution:\n",
        "  # param A : string\n",
        "  # param B : integer\n",
        "  # return an integer\n",
        "  def solve(self, A, B):\n",
        "\n",
        "    n = len(A)\n",
        "\n",
        "    arr = [0]*26\n",
        "\n",
        "    ans = 0\n",
        "\n",
        "    for i in A:\n",
        "\n",
        "      arr[ord(i)-97] += 1\n",
        "\n",
        "      if(arr[ord(i)-97] == 1):\n",
        "\n",
        "        ans += 1\n",
        "\n",
        "    print(arr)\n",
        "\n",
        "    arr.sort()\n",
        "\n",
        "    for i in range(26):\n",
        "\n",
        "      if(B-arr[i] >= 0 and arr[i] != 0):\n",
        "\n",
        "        ans -= 1\n",
        "\n",
        "        B -= arr[i]\n",
        "\n",
        "    ans = max(ans, 1)\n",
        "\n",
        "    return ans\n",
        "\n",
        "X = Solution()\n",
        "\n",
        "print(X.solve(\"abcabbccd\", 3))"
      ],
      "metadata": {
        "colab": {
          "base_uri": "https://localhost:8080/"
        },
        "id": "UnclvpccqjTH",
        "outputId": "c7c586af-31c1-421b-f919-8cd477a05a77"
      },
      "execution_count": 20,
      "outputs": [
        {
          "output_type": "stream",
          "name": "stdout",
          "text": [
            "[2, 3, 3, 1, 0, 0, 0, 0, 0, 0, 0, 0, 0, 0, 0, 0, 0, 0, 0, 0, 0, 0, 0, 0, 0, 0]\n",
            "2\n"
          ]
        }
      ]
    },
    {
      "cell_type": "markdown",
      "source": [
        "**Q13. String operations**\n",
        "\n",
        "**Problem Description**\n",
        "\n",
        "Akash likes playing with strings. One day he thought of applying following operations on the string in the given order:\n",
        "\n",
        "Concatenate the string with itself.\n",
        "Delete all the uppercase letters.\n",
        "Replace each vowel with '#'.\n",
        "You are given a string A of size N consisting of lowercase and uppercase alphabets. Return the resultant string after applying the above operations.\n",
        "\n",
        "**NOTE:** 'a' , 'e' , 'i' , 'o' , 'u' are defined as vowels.\n",
        "\n",
        "**Problem Constraints**\n",
        "\n",
        "    1<=N<=100000\n",
        "\n",
        "**Input Format**\n",
        "\n",
        "    First argument is a string A of size N.\n",
        "\n",
        "**Output Format**\n",
        "\n",
        "    Return the resultant string.\n",
        "\n",
        "Example Input\n",
        "\n",
        "    A=\"AbcaZeoB\"\n",
        "\n",
        "Example Output\n",
        "\n",
        "    \"bc###bc###\"\n",
        "\n",
        "**Example Explanation**\n",
        "\n",
        "First concatenate the string with itself so string A becomes \"AbcaZeoBAbcaZeoB\".\n",
        "\n",
        "Delete all the uppercase letters so string A becomes \"bcaeobcaeo\".\n",
        "Now replace vowel with '#'.\n",
        "\n",
        "A becomes \"bc###bc###\"."
      ],
      "metadata": {
        "id": "5O-Pgm6jvitM"
      }
    },
    {
      "cell_type": "code",
      "source": [
        "class Solution:\n",
        "  # param A : string\n",
        "  # return a strings\n",
        "  def solve(self, A):\n",
        "\n",
        "\n",
        "    X = [x for x in A if ord(x) >= 97 and ord(x) <= 122]\n",
        "\n",
        "    X = X + X\n",
        "\n",
        "    A=''\n",
        "\n",
        "    for x in X:\n",
        "            \n",
        "      if x != 'a' and x != 'e' and x != 'i' and x != 'o' and x != 'u':\n",
        "                \n",
        "        A += x\n",
        "                \n",
        "      else:\n",
        "                \n",
        "        A += '#'\n",
        "\n",
        "    return ''.join(A)\n",
        "\n",
        "\n",
        "X = Solution()\n",
        "\n",
        "print(X.solve(\"AbcaZeoB\"))"
      ],
      "metadata": {
        "colab": {
          "base_uri": "https://localhost:8080/"
        },
        "id": "yH8iyLjNwDQM",
        "outputId": "e1850cab-1c82-4015-d989-6bfec12beb6a"
      },
      "execution_count": 14,
      "outputs": [
        {
          "output_type": "stream",
          "name": "stdout",
          "text": [
            "bc###bc###\n"
          ]
        }
      ]
    },
    {
      "cell_type": "markdown",
      "source": [
        "**Q14. Longest Common Prefix**\n",
        "\n",
        "**Problem Description**\n",
        "\n",
        "Given the array of strings A, you need to find the longest string S, which is the prefix of ALL the strings in the array.\n",
        "\n",
        "The longest common prefix for a pair of strings S1 and S2 is the longest string S which is the prefix of both S1 and S2.\n",
        "\n",
        "**Example:** the longest common prefix of \"abcdefgh\" and \"abcefgh\" is \"abc\".\n",
        "\n",
        "P**roblem Constraints**\n",
        "\n",
        "    0 <= sum of length of all strings <= 1000000\n",
        "\n",
        "**Input Format**\n",
        "\n",
        "    The only argument given is an array of strings A.\n",
        "\n",
        "**Output Format**\n",
        "\n",
        "    Return the longest common prefix of all strings in A.\n",
        "\n",
        "Example Input\n",
        "\n",
        "Input 1:\n",
        "\n",
        "    A = [\"abcdefgh\", \"aefghijk\", \"abcefgh\"]\n",
        "\n",
        "Input 2:\n",
        "\n",
        "    A = [\"abab\", \"ab\", \"abcd\"];\n",
        "\n",
        "**Example Output**\n",
        "\n",
        "Output 1:\n",
        "\n",
        "\"a\"\n",
        "\n",
        "Output 2:\n",
        "\n",
        "\"ab\"\n",
        "\n",
        "**Example Explanation**\n",
        "\n",
        "Explanation 1:\n",
        "\n",
        "Longest common prefix of all the strings is \"a\".\n",
        "\n",
        "Explanation 2:\n",
        "\n",
        "Longest common prefix of all the strings is \"ab\"."
      ],
      "metadata": {
        "id": "pVo_K7M-wSh0"
      }
    },
    {
      "cell_type": "code",
      "source": [
        "# Solution - 1\n",
        "\n",
        "class Solution:\n",
        "  # param A : list of strings\n",
        "  # return a strings\n",
        "  def longestCommonPrefix(self, A):\n",
        "\n",
        "    from functools import cmp_to_key\n",
        "\n",
        "    if len(A) == 1:\n",
        "            \n",
        "      return A[0]\n",
        "            \n",
        "    def compare(a, b):\n",
        "\n",
        "      if a < b:\n",
        "\n",
        "        return -1\n",
        "\n",
        "      if a > b:\n",
        "\n",
        "        return 1\n",
        "\n",
        "      return 0\n",
        "\n",
        "    A.sort(key=cmp_to_key(compare))\n",
        "\n",
        "    if A[0] == '':\n",
        "            \n",
        "      return A[0]\n",
        "                \n",
        "    x = A[0]\n",
        "\n",
        "    for i in range(1, len(A)):  \n",
        "            \n",
        "      for j in range(len(x)):\n",
        "                \n",
        "        if A[i][j] == x[j]:\n",
        "                    \n",
        "          continue\n",
        "                \n",
        "        else:\n",
        "                    \n",
        "          j = j-1\n",
        "          break\n",
        "       \n",
        "      x = x[:j+1]\n",
        "            \n",
        "    return x\n",
        "\n",
        "X = Solution()\n",
        "\n",
        "print(X.longestCommonPrefix([\"abcdefgh\", \"aefghijk\", \"abcefgh\"]))\n",
        "print(X.longestCommonPrefix([\"abab\", \"ab\", \"abcd\"]))"
      ],
      "metadata": {
        "colab": {
          "base_uri": "https://localhost:8080/"
        },
        "id": "yYOOseVBw8Oi",
        "outputId": "8763c470-b750-4c45-d53a-003a46f694ce"
      },
      "execution_count": 15,
      "outputs": [
        {
          "output_type": "stream",
          "name": "stdout",
          "text": [
            "a\n",
            "ab\n"
          ]
        }
      ]
    },
    {
      "cell_type": "code",
      "source": [
        "# Solution-2\n",
        "\n",
        "class Solution:\n",
        "  # param A : list of strings\n",
        "  # return a strings\n",
        "  def longestCommonPrefix(self, strs):\n",
        "\n",
        "    lcp = ''\n",
        "        \n",
        "    if strs is None or len(strs) == 0:\n",
        "            \n",
        "      return lcp\n",
        "        \n",
        "        \n",
        "    # Finding the array element which is minimum in length\n",
        "        \n",
        "    min_len = len(strs[0]) # Assigning minimum length array to first array element in strs\n",
        "        \n",
        "    for i in range(1, len(strs)):\n",
        "            \n",
        "      min_len = min(min_len, len(strs[i]))\n",
        "        \n",
        "        \n",
        "    # Loop of the min_len of the array to find matchign strings\n",
        "        \n",
        "    for i in range(min_len):\n",
        "            \n",
        "      # Iterating over all the char to check the common characters in the string\n",
        "      string_check = strs[0][i]\n",
        "            \n",
        "      for j in range(0, len(strs)):\n",
        "                \n",
        "        if strs[j][i] != string_check:\n",
        "                    \n",
        "          return lcp\n",
        "                \n",
        "      lcp += string_check\n",
        "            \n",
        "    return lcp\n",
        "\n",
        "X = Solution()\n",
        "\n",
        "print(X.longestCommonPrefix([\"abcdefgh\", \"aefghijk\", \"abcefgh\"]))\n",
        "print(X.longestCommonPrefix([\"abab\", \"sab\", \"abcd\"]))\n",
        "print(X.longestCommonPrefix([\"abab\", \"ab\", \"abcd\"]))"
      ],
      "metadata": {
        "colab": {
          "base_uri": "https://localhost:8080/"
        },
        "id": "1p5M1XOSxwRq",
        "outputId": "557848bc-59c0-4fa8-8d5d-4f38103d65dd"
      },
      "execution_count": 17,
      "outputs": [
        {
          "output_type": "stream",
          "name": "stdout",
          "text": [
            "a\n",
            "\n",
            "ab\n"
          ]
        }
      ]
    }
  ]
}