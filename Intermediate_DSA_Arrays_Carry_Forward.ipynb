{
  "nbformat": 4,
  "nbformat_minor": 0,
  "metadata": {
    "colab": {
      "name": "Intermediate DSA : Arrays - Carry Forward.ipynb",
      "provenance": [],
      "collapsed_sections": []
    },
    "kernelspec": {
      "name": "python3",
      "display_name": "Python 3"
    },
    "language_info": {
      "name": "python"
    }
  },
  "cells": [
    {
      "cell_type": "markdown",
      "source": [
        "**Class Problem1:** Given an array of N elements. Find the number of pairs \"12\" such that arr[i] == 1 and arr[j] == 2 for some (i,j) pair and i < j.\n",
        "\n",
        "arr = [3, 1, 1, 2, 3, 2]\n",
        "\n",
        "4 pairs possible in the abobe array, (1, 3), (1, 5), (2, 3), (2, 5)\n",
        "\n",
        "**Approach to solving the problem:** \n",
        "\n",
        "\n",
        "\n",
        "1.   All the elements in the array other than 1 and 2 are of no use to us\n",
        "2.   Count number of 2's inside the array after the 1 being considered\n",
        "\n"
      ],
      "metadata": {
        "id": "rGbf9y-H9_ZH"
      }
    },
    {
      "cell_type": "code",
      "execution_count": null,
      "metadata": {
        "colab": {
          "base_uri": "https://localhost:8080/"
        },
        "id": "IB-gXJl39ubH",
        "outputId": "178aeeae-15c3-4b4c-c65c-846ef64a7574"
      },
      "outputs": [
        {
          "output_type": "stream",
          "name": "stdout",
          "text": [
            "4\n",
            "3\n"
          ]
        }
      ],
      "source": [
        "# Method 1 - Bruteforce Approach\n",
        "\n",
        "def CountSequence(a):\n",
        "\n",
        "  n = len(a)\n",
        "\n",
        "  cnt = 0\n",
        "\n",
        "  for i in range(n):\n",
        "    if a[i] == 1:\n",
        "      for j in range(i+1, n):\n",
        "        if a[j] == 2:\n",
        "          cnt += 1\n",
        "\n",
        "  return cnt\n",
        "\n",
        "arr = [3, 1, 1, 2, 3, 2]\n",
        "print(CountSequence(arr))\n",
        "arr = [1,2,3,1,2]\n",
        "print(CountSequence(arr))"
      ]
    },
    {
      "cell_type": "markdown",
      "source": [
        "For the above problem, **T.C** -> O(N^2), **S.C** -> O(1)"
      ],
      "metadata": {
        "id": "gUrhxG7sK07p"
      }
    },
    {
      "cell_type": "code",
      "source": [
        "# Method 2 - Suffix Sum\n",
        "\n",
        "def CountSequence(a):\n",
        "\n",
        "  n = len(a)\n",
        "\n",
        "  if n == 1:\n",
        "\n",
        "    return 0 # Length of the array is 1, so there would be 0 \"12\" pairs\n",
        "\n",
        "  cnt = 0\n",
        "\n",
        "  SS = [0] * n\n",
        "\n",
        "  for i in range(n-1, -1, -1):\n",
        "\n",
        "    if a[i] == 2:\n",
        "\n",
        "      cnt += 1\n",
        "      SS[i] = cnt\n",
        "\n",
        "    else:\n",
        "\n",
        "      SS[i] = cnt\n",
        "\n",
        "  print(f'Suffix Sum: {SS}')\n",
        "\n",
        "  cnt = 0\n",
        "\n",
        "  for i in range(0, n-1):\n",
        "\n",
        "    if a[i] == 1:\n",
        "\n",
        "      cnt += SS[i+1]\n",
        "\n",
        "  return cnt\n",
        "\n",
        "arr = [3, 1, 1, 2, 3, 2]\n",
        "print(CountSequence(arr))\n",
        "arr = [1,2,3,1,2]\n",
        "print(CountSequence(arr))\n",
        "arr = [1]\n",
        "print(CountSequence(arr))\n",
        "arr = [1,2]\n",
        "print(CountSequence(arr))\n",
        "arr = [2,1]\n",
        "print(CountSequence(arr))"
      ],
      "metadata": {
        "colab": {
          "base_uri": "https://localhost:8080/"
        },
        "id": "CnAKntihLDYu",
        "outputId": "55479c3a-e8f2-4963-b035-df87454c25e7"
      },
      "execution_count": null,
      "outputs": [
        {
          "output_type": "stream",
          "name": "stdout",
          "text": [
            "Suffix Sum: [2, 2, 2, 2, 1, 1]\n",
            "4\n",
            "Suffix Sum: [2, 2, 1, 1, 1]\n",
            "3\n",
            "0\n",
            "Suffix Sum: [1, 1]\n",
            "1\n",
            "Suffix Sum: [1, 0]\n",
            "0\n"
          ]
        }
      ]
    },
    {
      "cell_type": "markdown",
      "source": [
        "For the above problem, **T.C** -> O(N), **S.C** -> O(N)"
      ],
      "metadata": {
        "id": "H-GTsWXlOfDm"
      }
    },
    {
      "cell_type": "code",
      "source": [
        "# Method 3 - Carry Forward\n",
        "\n",
        "def CountSequence(a):\n",
        "\n",
        "  cnt_2 = 0\n",
        "\n",
        "  for i in range(len(a)):\n",
        "\n",
        "    if a[i] == 2:\n",
        "\n",
        "      cnt_2 += 1\n",
        "\n",
        "  cnt_ans = 0\n",
        "\n",
        "  for i in range(len(a)):\n",
        "\n",
        "    if a[i] == 1:\n",
        "\n",
        "      cnt_ans += cnt_2\n",
        "\n",
        "    if a[i] == 2:\n",
        "\n",
        "      cnt_2 -= 1\n",
        "\n",
        "\n",
        "  return cnt_ans\n",
        "\n",
        "arr = [3, 1, 1, 2, 3, 2]\n",
        "print(CountSequence(arr))\n",
        "arr = [1,2,3,1,2]\n",
        "print(CountSequence(arr))\n",
        "arr = [1]\n",
        "print(CountSequence(arr))\n",
        "arr = [1,2]\n",
        "print(CountSequence(arr))\n",
        "arr = [2,1]\n",
        "print(CountSequence(arr))"
      ],
      "metadata": {
        "colab": {
          "base_uri": "https://localhost:8080/"
        },
        "id": "URy3RnDgQ6Og",
        "outputId": "54a2d073-d76a-40ab-9482-a6abc6fda6e2"
      },
      "execution_count": null,
      "outputs": [
        {
          "output_type": "stream",
          "name": "stdout",
          "text": [
            "4\n",
            "3\n",
            "0\n",
            "1\n",
            "0\n"
          ]
        }
      ]
    },
    {
      "cell_type": "markdown",
      "source": [
        "For the above problem, **T.C** -> O(N), **S.C** -> O(1)"
      ],
      "metadata": {
        "id": "tFLMZJI6SInX"
      }
    },
    {
      "cell_type": "markdown",
      "source": [
        "**Concept:** \n",
        "\n",
        "**\"Leaders in an array\"** - An element is a leader if the element is strictly greater than all the elements on the right.\n",
        "\n",
        "**Note:** Last element in an array is always a leader"
      ],
      "metadata": {
        "id": "xU_baDfTSPGA"
      }
    },
    {
      "cell_type": "markdown",
      "source": [
        "**Class Problem2:** An array of N elements is given. Count the number of leaders in the array.\n",
        "\n",
        "arr = [14, 23, -8, 9, 12, 5, 6, 3, 1]"
      ],
      "metadata": {
        "id": "qn5JkOuLSwtA"
      }
    },
    {
      "cell_type": "code",
      "source": [
        "# Method 1 - Bruteforce Approach\n",
        "\n",
        "def CountLeaders(a):\n",
        "\n",
        "  cnt = 0\n",
        "\n",
        "  n = len(a)\n",
        "\n",
        "  for i in range(n):\n",
        "\n",
        "    is_leader = True\n",
        "\n",
        "    for j in range(i+1, n):\n",
        "\n",
        "      if a[j] > a[i]:\n",
        "\n",
        "        is_leader = False\n",
        "        break\n",
        "\n",
        "    if is_leader:\n",
        "\n",
        "      cnt += 1\n",
        "\n",
        "  return cnt\n",
        "\n",
        "\n",
        "arr = [14, 23, -8, 9, 12, 5, 6, 3, 1]\n",
        "print(CountLeaders(arr))"
      ],
      "metadata": {
        "colab": {
          "base_uri": "https://localhost:8080/"
        },
        "id": "240ZfCSwT2o0",
        "outputId": "3b1f15d9-722c-4448-d997-f2648e745410"
      },
      "execution_count": null,
      "outputs": [
        {
          "output_type": "stream",
          "name": "stdout",
          "text": [
            "5\n"
          ]
        }
      ]
    },
    {
      "cell_type": "markdown",
      "source": [
        "For the above problem, **T.C** -> O(N^2), **S.C** -> O(1)"
      ],
      "metadata": {
        "id": "o5zSBq7OUqRu"
      }
    },
    {
      "cell_type": "code",
      "source": [
        "# Method 1 - Carry Forward Technique\n",
        "\n",
        "def CountLeaders(a):\n",
        "\n",
        "  cnt = 1\n",
        "\n",
        "  n = len(a)\n",
        "\n",
        "  max_ele = a[-1]\n",
        "\n",
        "  for i in range(n-2, -1, -1):\n",
        "\n",
        "    if a[i] > max_ele:\n",
        "\n",
        "      max_ele = a[i]\n",
        "      cnt += 1\n",
        "\n",
        "  return cnt\n",
        "\n",
        "arr = [14, 23, -8, 9, 12, 5, 6, 3, 1]\n",
        "print(CountLeaders(arr))"
      ],
      "metadata": {
        "colab": {
          "base_uri": "https://localhost:8080/"
        },
        "id": "DVGARwT4VKlT",
        "outputId": "4627f765-3166-4836-ae2c-bcdbe5acabd8"
      },
      "execution_count": null,
      "outputs": [
        {
          "output_type": "stream",
          "name": "stdout",
          "text": [
            "5\n"
          ]
        }
      ]
    },
    {
      "cell_type": "markdown",
      "source": [
        "For the above problem, **T.C** -> O(N), **S.C** -> O(1)"
      ],
      "metadata": {
        "id": "y6wgGvppb8Wc"
      }
    },
    {
      "cell_type": "markdown",
      "source": [
        "**Subarray:** Contiguous part of an array\n",
        "\n",
        "arr = [1, 2, 3, 4]\n",
        "\n",
        "For the above array,\n",
        "\n",
        "[1] is a subarray\n",
        "\n",
        "[1, 2] is a subarray\n",
        "\n",
        "[1, 2, 3] is a subarray\n",
        "\n",
        "[1, 2, 3, 4] is a subarray\n",
        "\n",
        "[2] is a subarray\n",
        "\n",
        "[2, 3] is a subarray\n",
        "\n",
        "[2, 3, 4] is a subarray\n",
        "\n",
        "[3] is a subarray\n",
        "\n",
        "[3, 4] is a subaray\n",
        "\n",
        "[4] is a subarray\n",
        "\n",
        "But [1, 3] or [1, 3, 4] are not subarrays because they are not contiguous"
      ],
      "metadata": {
        "id": "uqe56j3HbCXa"
      }
    },
    {
      "cell_type": "markdown",
      "source": [
        "**Class Problem2:** Given an array of N elements. Find length of the smallest subarray which contains both min and max element.\n",
        "\n",
        "arr = [8, 7, 9, 1, 10, 2, 5, 11]\n",
        "\n",
        "Here length of the smallest subarray is 5 i.e [1, 10, 2, 5, 11]\n",
        "\n",
        "arr = [1, 2, 7, 3, 7, 2, 4, 1]\n",
        "\n",
        "Here length of the smallest subarray is 3 i.e [1, 2, 7]"
      ],
      "metadata": {
        "id": "QM7Q9Cs2bqIO"
      }
    },
    {
      "cell_type": "markdown",
      "source": [
        "**Approach to solving the problem:**\n",
        "\n",
        "\n",
        "\n",
        "1.   Find min and max of the array\n",
        "2.   Iterate and try to start at every min\n",
        "\n"
      ],
      "metadata": {
        "id": "HdFCjTYGerR3"
      }
    },
    {
      "cell_type": "code",
      "source": [
        "# Method-1: Bruteforce Approach\n",
        "\n",
        "def LengthOfSubarray(a):\n",
        "\n",
        "  # Find max element in the array\n",
        "\n",
        "  mx = max(a)\n",
        "\n",
        "  # Find min element in the array\n",
        "\n",
        "  mn = min(a)\n",
        "\n",
        "  n = len(a)\n",
        "\n",
        "  # Keeping max as the starting element, find the occurence of the min element on the right of the max occurence, such that length of the subarray is minimum\n",
        "\n",
        "  ans = 999999999999\n",
        "\n",
        "  for i in range(n):\n",
        "    if a[i] == mx:\n",
        "      for j in range(i, n): # Considering i and not i+1 to cover cases where mx == mn for the array\n",
        "        if a[j] == mn:\n",
        "          ans = min(ans, j-i+1)\n",
        "\n",
        "  # Keeping min as the starting element, find the occurence of the max element on the right of the min occurence, such that length of the subarray is minimum\n",
        "\n",
        "  for i in range(n):\n",
        "    if a[i] == mn:\n",
        "      for j in range(i, n): # Considering i and not i+1 to cover cases where mx == mn for the array\n",
        "        if a[j] == mx:\n",
        "          ans = min(ans, j-i+1)\n",
        "\n",
        "  return ans\n",
        "\n",
        "arr = [2, 2, 6, 4, 5, 1, 5, 1, 6, 4, 3, 4, 1, 3]\n",
        "print(LengthOfSubarray(arr))\n",
        "arr = [8, 8, 8, 8, 8, 8]\n",
        "print(LengthOfSubarray(arr))"
      ],
      "metadata": {
        "id": "auLEJFSxcWOa",
        "colab": {
          "base_uri": "https://localhost:8080/"
        },
        "outputId": "e99925d2-440b-42cf-ac41-c724a0e3e2a2"
      },
      "execution_count": null,
      "outputs": [
        {
          "output_type": "stream",
          "name": "stdout",
          "text": [
            "2\n",
            "1\n"
          ]
        }
      ]
    },
    {
      "cell_type": "markdown",
      "source": [
        "For the above problem, **T.C** -> O(N^2), **S.C** -> O(1)"
      ],
      "metadata": {
        "id": "5WOgzTNoS4gR"
      }
    },
    {
      "cell_type": "code",
      "source": [
        "# Method-2: Carry Forward technique\n",
        "\n",
        "def LengthOfSubarray(a):\n",
        "\n",
        "  # Find max element in the array\n",
        "\n",
        "  mx = max(a)\n",
        "\n",
        "  # Find min element in the array\n",
        "\n",
        "  mn = min(a)\n",
        "\n",
        "  if mx == mn:\n",
        "\n",
        "    return 1\n",
        "\n",
        "  n = len(a)\n",
        "\n",
        "  ans = len(a)\n",
        "\n",
        "  # Keeping max as the starting element, find the occurence of the min element on the right of the max occurence, such that length of the subarray is minimum\n",
        "\n",
        "  min_ind = 999999999999\n",
        "\n",
        "  # Considering minimum index element is to the right of the maximum element\n",
        "\n",
        "  for i in range(n-1, -1, -1):\n",
        "    if a[i] == mx:\n",
        "      ans = min(ans, min_ind-i+1)\n",
        "    if a[i] == mn:\n",
        "      min_ind = i\n",
        "\n",
        "  # Considering minimum index element is to the left of the maximum element\n",
        "\n",
        "  max_ind = 999999999999\n",
        "\n",
        "  for i in range(n-1, -1, -1):\n",
        "    if a[i] == mn:\n",
        "      ans = min(ans, max_ind-i+1)\n",
        "    if a[i] == mx:\n",
        "      max_ind = i\n",
        "\n",
        "  return ans\n",
        "\n",
        "arr = [2, 2, 6, 4, 5, 1, 5, 2, 6, 4, 3, 4, 1, 3]\n",
        "print(LengthOfSubarray(arr))\n",
        "arr = [8, 8, 8, 8, 8, 8]\n",
        "print(LengthOfSubarray(arr))"
      ],
      "metadata": {
        "colab": {
          "base_uri": "https://localhost:8080/"
        },
        "id": "bFC_3_ZSVhhz",
        "outputId": "c6bf2c6e-62a6-4034-8648-ce63340aadc0"
      },
      "execution_count": null,
      "outputs": [
        {
          "output_type": "stream",
          "name": "stdout",
          "text": [
            "4\n",
            "1\n"
          ]
        }
      ]
    },
    {
      "cell_type": "markdown",
      "source": [
        "For the above problem, **T.C** -> O(N), **S.C** -> O(1)"
      ],
      "metadata": {
        "id": "jEhqw6gCYkf6"
      }
    }
  ]
}