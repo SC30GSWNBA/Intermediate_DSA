{
  "nbformat": 4,
  "nbformat_minor": 0,
  "metadata": {
    "colab": {
      "name": "Intermediate DSA : Arrays - Carry Forward.ipynb",
      "provenance": [],
      "collapsed_sections": []
    },
    "kernelspec": {
      "name": "python3",
      "display_name": "Python 3"
    },
    "language_info": {
      "name": "python"
    }
  },
  "cells": [
    {
      "cell_type": "markdown",
      "source": [
        "**Class Problem1:** Given an array of N elements. Find the number of pairs \"12\" such that arr[i] == 1 and arr[j] == 2 for some (i,j) pair and i < j.\n",
        "\n",
        "arr = [3, 1, 1, 2, 3, 2]\n",
        "\n",
        "![Carry_Forward.JPG](data:image/jpeg;base64,/9j/4AAQSkZJRgABAQEAYABgAAD/4RD6RXhpZgAATU0AKgAAAAgABAE7AAIAAAAQAAAISodpAAQAAAABAAAIWpydAAEAAAAgAAAQ0uocAAcAAAgMAAAAPgAAAAAc6gAAAAgAAAAAAAAAAAAAAAAAAAAAAAAAAAAAAAAAAAAAAAAAAAAAAAAAAAAAAAAAAAAAAAAAAAAAAAAAAAAAAAAAAAAAAAAAAAAAAAAAAAAAAAAAAAAAAAAAAAAAAAAAAAAAAAAAAAAAAAAAAAAAAAAAAAAAAAAAAAAAAAAAAAAAAAAAAAAAAAAAAAAAAAAAAAAAAAAAAAAAAAAAAAAAAAAAAAAAAAAAAAAAAAAAAAAAAAAAAAAAAAAAAAAAAAAAAAAAAAAAAAAAAAAAAAAAAAAAAAAAAAAAAAAAAAAAAAAAAAAAAAAAAAAAAAAAAAAAAAAAAAAAAAAAAAAAAAAAAAAAAAAAAAAAAAAAAAAAAAAAAAAAAAAAAAAAAAAAAAAAAAAAAAAAAAAAAAAAAAAAAAAAAAAAAAAAAAAAAAAAAAAAAAAAAAAAAAAAAAAAAAAAAAAAAAAAAAAAAAAAAAAAAAAAAAAAAAAAAAAAAAAAAAAAAAAAAAAAAAAAAAAAAAAAAAAAAAAAAAAAAAAAAAAAAAAAAAAAAAAAAAAAAAAAAAAAAAAAAAAAAAAAAAAAAAAAAAAAAAAAAAAAAAAAAAAAAAAAAAAAAAAAAAAAAAAAAAAAAAAAAAAAAAAAAAAAAAAAAAAAAAAAAAAAAAAAAAAAAAAAAAAAAAAAAAAAAAAAAAAAAAAAAAAAAAAAAAAAAAAAAAAAAAAAAAAAAAAAAAAAAAAAAAAAAAAAAAAAAAAAAAAAAAAAAAAAAAAAAAAAAAAAAAAAAAAAAAAAAAAAAAAAAAAAAAAAAAAAAAAAAAAAAAAAAAAAAAAAAAAAAAAAAAAAAAAAAAAAAAAAAAAAAAAAAAAAAAAAAAAAAAAAAAAAAAAAAAAAAAAAAAAAAAAAAAAAAAAAAAAAAAAAAAAAAAAAAAAAAAAAAAAAAAAAAAAAAAAAAAAAAAAAAAAAAAAAAAAAAAAAAAAAAAAAAAAAAAAAAAAAAAAAAAAAAAAAAAAAAAAAAAAAAAAAAAAAAAAAAAAAAAAAAAAAAAAAAAAAAAAAAAAAAAAAAAAAAAAAAAAAAAAAAAAAAAAAAAAAAAAAAAAAAAAAAAAAAAAAAAAAAAAAAAAAAAAAAAAAAAAAAAAAAAAAAAAAAAAAAAAAAAAAAAAAAAAAAAAAAAAAAAAAAAAAAAAAAAAAAAAAAAAAAAAAAAAAAAAAAAAAAAAAAAAAAAAAAAAAAAAAAAAAAAAAAAAAAAAAAAAAAAAAAAAAAAAAAAAAAAAAAAAAAAAAAAAAAAAAAAAAAAAAAAAAAAAAAAAAAAAAAAAAAAAAAAAAAAAAAAAAAAAAAAAAAAAAAAAAAAAAAAAAAAAAAAAAAAAAAAAAAAAAAAAAAAAAAAAAAAAAAAAAAAAAAAAAAAAAAAAAAAAAAAAAAAAAAAAAAAAAAAAAAAAAAAAAAAAAAAAAAAAAAAAAAAAAAAAAAAAAAAAAAAAAAAAAAAAAAAAAAAAAAAAAAAAAAAAAAAAAAAAAAAAAAAAAAAAAAAAAAAAAAAAAAAAAAAAAAAAAAAAAAAAAAAAAAAAAAAAAAAAAAAAAAAAAAAAAAAAAAAAAAAAAAAAAAAAAAAAAAAAAAAAAAAAAAAAAAAAAAAAAAAAAAAAAAAAAAAAAAAAAAAAAAAAAAAAAAAAAAAAAAAAAAAAAAAAAAAAAAAAAAAAAAAAAAAAAAAAAAAAAAAAAAAAAAAAAAAAAAAAAAAAAAAAAAAAAAAAAAAAAAAAAAAAAAAAAAAAAAAAAAAAAAAAAAAAAAAAAAAAAAAAAAAAAAAAAAAAAAAAAAAAAAAAAAAAAAAAAAAAAAAAAAAAAAAAAAAAAAAAAAAAAAAAAAAAAAAAAAAAAAAAAAAAAAAAAAAAAAAAAAAAAAAAAAAAAAAAAAAAAAAAAAAAAAAAAAAAAAAAAAAAAAAAAAAAAAAAAAAAAAAAAAAAAAAAAAAAAAAAAAAAAAAAAAAAAAAAAAAAAAAAAAAAAAAAAAAAAAAAAAAAAAAAAAAAAAAAAAAAAAAAAAAAAAAAAAAAAAAAAAAAAAAAAAAAAAAAAAAAAAAAAAAAAAAAAAAAAAAAAAAAAAAAAAAAAAAAAAAAAAAAAAAAAAAAAAAAAAAAAAAAAAAAAAAAAAAAAAAAAAAAAAAAAAAAAAAAAAAAAAAAAAAAAAAAAAAAAAAAAAAAAAAAAAAAAAAAAAAAAAAAAAAAAAAAAAAAAAAAAAAAAAAAAAAAAAAAAAAAAAAAAAAAAAAAAAAAAAAAAAAAAAAAAAAAAAAAAAAAAAAAAAAAAAAAAAAAAAAAAAAAAAAAAAAAAAAAAAAAAAAAAAAAAAAAAAAAAAAAAAAAAAAAAAAAAAAAAAAAAAAAAAAAAAAAAAAAAAAAAAAAAAAAAAAAAAAAAAAAAAAAAAAAAAAAAAAAAAAAAAAAAAAAAAAAAAAAAAAAAAAAAAAAAAAAAAAAAAAAAAAAAAAAAAAAAAAAAAAAAAAAAAAAAAAAAAAAAAAAAAAAAAAAAAAAAAAAAAAAAAAAAAAAAAAAAAAAAAAAAAAAAAAAAAAAAAAAAAAAAAAAAAAAAAAAAAAAAAAAAAAAAAAAAAAAAAAAAAAAAAAAAAAAAAAAAAAAAAAAAAAAAAAAAAAAAAAAAAAAAAAAAAAAAAAAAAAAAAAAAAAAAAAAAAAAAAAAAAAAAAAAAAAAAAAAAAAAAAAAAAAAAAAAAAAAAAAAAAAAAAAAAAAAAAAAAAAAAAEJpbGxpb25haXJlU1JveQAABZADAAIAAAAUAAAQqJAEAAIAAAAUAAAQvJKRAAIAAAADODAAAJKSAAIAAAADODAAAOocAAcAAAgMAAAInAAAAAAc6gAAAAgAAAAAAAAAAAAAAAAAAAAAAAAAAAAAAAAAAAAAAAAAAAAAAAAAAAAAAAAAAAAAAAAAAAAAAAAAAAAAAAAAAAAAAAAAAAAAAAAAAAAAAAAAAAAAAAAAAAAAAAAAAAAAAAAAAAAAAAAAAAAAAAAAAAAAAAAAAAAAAAAAAAAAAAAAAAAAAAAAAAAAAAAAAAAAAAAAAAAAAAAAAAAAAAAAAAAAAAAAAAAAAAAAAAAAAAAAAAAAAAAAAAAAAAAAAAAAAAAAAAAAAAAAAAAAAAAAAAAAAAAAAAAAAAAAAAAAAAAAAAAAAAAAAAAAAAAAAAAAAAAAAAAAAAAAAAAAAAAAAAAAAAAAAAAAAAAAAAAAAAAAAAAAAAAAAAAAAAAAAAAAAAAAAAAAAAAAAAAAAAAAAAAAAAAAAAAAAAAAAAAAAAAAAAAAAAAAAAAAAAAAAAAAAAAAAAAAAAAAAAAAAAAAAAAAAAAAAAAAAAAAAAAAAAAAAAAAAAAAAAAAAAAAAAAAAAAAAAAAAAAAAAAAAAAAAAAAAAAAAAAAAAAAAAAAAAAAAAAAAAAAAAAAAAAAAAAAAAAAAAAAAAAAAAAAAAAAAAAAAAAAAAAAAAAAAAAAAAAAAAAAAAAAAAAAAAAAAAAAAAAAAAAAAAAAAAAAAAAAAAAAAAAAAAAAAAAAAAAAAAAAAAAAAAAAAAAAAAAAAAAAAAAAAAAAAAAAAAAAAAAAAAAAAAAAAAAAAAAAAAAAAAAAAAAAAAAAAAAAAAAAAAAAAAAAAAAAAAAAAAAAAAAAAAAAAAAAAAAAAAAAAAAAAAAAAAAAAAAAAAAAAAAAAAAAAAAAAAAAAAAAAAAAAAAAAAAAAAAAAAAAAAAAAAAAAAAAAAAAAAAAAAAAAAAAAAAAAAAAAAAAAAAAAAAAAAAAAAAAAAAAAAAAAAAAAAAAAAAAAAAAAAAAAAAAAAAAAAAAAAAAAAAAAAAAAAAAAAAAAAAAAAAAAAAAAAAAAAAAAAAAAAAAAAAAAAAAAAAAAAAAAAAAAAAAAAAAAAAAAAAAAAAAAAAAAAAAAAAAAAAAAAAAAAAAAAAAAAAAAAAAAAAAAAAAAAAAAAAAAAAAAAAAAAAAAAAAAAAAAAAAAAAAAAAAAAAAAAAAAAAAAAAAAAAAAAAAAAAAAAAAAAAAAAAAAAAAAAAAAAAAAAAAAAAAAAAAAAAAAAAAAAAAAAAAAAAAAAAAAAAAAAAAAAAAAAAAAAAAAAAAAAAAAAAAAAAAAAAAAAAAAAAAAAAAAAAAAAAAAAAAAAAAAAAAAAAAAAAAAAAAAAAAAAAAAAAAAAAAAAAAAAAAAAAAAAAAAAAAAAAAAAAAAAAAAAAAAAAAAAAAAAAAAAAAAAAAAAAAAAAAAAAAAAAAAAAAAAAAAAAAAAAAAAAAAAAAAAAAAAAAAAAAAAAAAAAAAAAAAAAAAAAAAAAAAAAAAAAAAAAAAAAAAAAAAAAAAAAAAAAAAAAAAAAAAAAAAAAAAAAAAAAAAAAAAAAAAAAAAAAAAAAAAAAAAAAAAAAAAAAAAAAAAAAAAAAAAAAAAAAAAAAAAAAAAAAAAAAAAAAAAAAAAAAAAAAAAAAAAAAAAAAAAAAAAAAAAAAAAAAAAAAAAAAAAAAAAAAAAAAAAAAAAAAAAAAAAAAAAAAAAAAAAAAAAAAAAAAAAAAAAAAAAAAAAAAAAAAAAAAAAAAAAAAAAAAAAAAAAAAAAAAAAAAAAAAAAAAAAAAAAAAAAAAAAAAAAAAAAAAAAAAAAAAAAAAAAAAAAAAAAAAAAAAAAAAAAAAAAAAAAAAAAAAAAAAAAAAAAAAAAAAAAAAAAAAAAAAAAAAAAAAAAAAAAAAAAAAAAAAAAAAAAAAAAAAAAAAAAAAAAAAAAAAAAAAAAAAAAAAAAAAAAAAAAAAAAAAAAAAAAAAAAAAAAAAAAAAAAAAAAAAAAAAAAAAAAAAAAAAAAAAAAAAAAAAAAAAAAAAAAAAAAAAAAAAAAAAAAAAAAAAAAAAAAAAAAAAAAAAAAAAAAAAAAAAAAAAAAAAAAAAAAAAAAAAAAAAAAAAAAAAAAAAAAAAAAAAAAAAAAAAAAAAAAAAAAAAAAAAAAAAAAAAAAAAAAAAAAAAAAAAAAAAAAAAAAAAAAAAAAAAAAAAAAAAAAAAAAAAAAAAAAAAAAAAAAAAAAAAAAAAAAAAAAAAAAAAAAAAAAAAAAAAAAAAAAAAAAAAAAAAAAAAAAAAAAAAAAAAAAAAAAAAAAAAAAAAAAAAAAAAAAAAAAAAAAAAAAAAAAAAAAAAAAAAAAAAAAAAAAAAAAAAAAAAAAAAAAAAAAAAAAAAAAAAAAAAAAAAAAAAAAAAAAAAAAAAAAAAAAAAAAAAAAAAAAAAAAAAAAAAAAAAAAAAAAAAAAAAAAAAAAAAAAAAAAAAAAAAAAAAAAAAAAAAAAAAAAAAAAAAAAAAAAAAAAAAAAAAAAAAAAAAAAAAAAAAAAAAAAAAAAAAAAAAAAAAAAAAAAAAAAAAAAAAAAAAAAAAAAAAAAAAAAAAAAAAAAAAAAAAAAAAAAAAAAAAAAAAAAAAAAAAAAAAAAAAAAAAAAAAAAAAAAAAAAAAAAAAAAAAAAAAAAAAAAAAAAAAAAAAAAAAAAAAAAAAAAAAAAAAAAAAAAAAAAAAAAAAAAAAAAAAAAAAAAAAAAAAAAAAAAAAAAAAAAAAAAAAAAAAAAAAAAAAAAAAAAAAAAAAAAAAAAAAAAAAAADIwMjI6MDc6MzEgMDg6NTc6MzMAMjAyMjowNzozMSAwODo1NzozMwAAAEIAaQBsAGwAaQBvAG4AYQBpAHIAZQBTAFIAbwB5AAAA/+ELImh0dHA6Ly9ucy5hZG9iZS5jb20veGFwLzEuMC8APD94cGFja2V0IGJlZ2luPSfvu78nIGlkPSdXNU0wTXBDZWhpSHpyZVN6TlRjemtjOWQnPz4NCjx4OnhtcG1ldGEgeG1sbnM6eD0iYWRvYmU6bnM6bWV0YS8iPjxyZGY6UkRGIHhtbG5zOnJkZj0iaHR0cDovL3d3dy53My5vcmcvMTk5OS8wMi8yMi1yZGYtc3ludGF4LW5zIyI+PHJkZjpEZXNjcmlwdGlvbiByZGY6YWJvdXQ9InV1aWQ6ZmFmNWJkZDUtYmEzZC0xMWRhLWFkMzEtZDMzZDc1MTgyZjFiIiB4bWxuczpkYz0iaHR0cDovL3B1cmwub3JnL2RjL2VsZW1lbnRzLzEuMS8iLz48cmRmOkRlc2NyaXB0aW9uIHJkZjphYm91dD0idXVpZDpmYWY1YmRkNS1iYTNkLTExZGEtYWQzMS1kMzNkNzUxODJmMWIiIHhtbG5zOnhtcD0iaHR0cDovL25zLmFkb2JlLmNvbS94YXAvMS4wLyI+PHhtcDpDcmVhdGVEYXRlPjIwMjItMDctMzFUMDg6NTc6MzMuODA0PC94bXA6Q3JlYXRlRGF0ZT48L3JkZjpEZXNjcmlwdGlvbj48cmRmOkRlc2NyaXB0aW9uIHJkZjphYm91dD0idXVpZDpmYWY1YmRkNS1iYTNkLTExZGEtYWQzMS1kMzNkNzUxODJmMWIiIHhtbG5zOmRjPSJodHRwOi8vcHVybC5vcmcvZGMvZWxlbWVudHMvMS4xLyI+PGRjOmNyZWF0b3I+PHJkZjpTZXEgeG1sbnM6cmRmPSJodHRwOi8vd3d3LnczLm9yZy8xOTk5LzAyLzIyLXJkZi1zeW50YXgtbnMjIj48cmRmOmxpPkJpbGxpb25haXJlU1JveTwvcmRmOmxpPjwvcmRmOlNlcT4NCgkJCTwvZGM6Y3JlYXRvcj48L3JkZjpEZXNjcmlwdGlvbj48L3JkZjpSREY+PC94OnhtcG1ldGE+DQogICAgICAgICAgICAgICAgICAgICAgICAgICAgICAgICAgICAgICAgICAgICAgICAgICAgICAgICAgICAgICAgICAgICAgICAgICAgICAgICAgICAgICAgICAgICAgICAgICAgCiAgICAgICAgICAgICAgICAgICAgICAgICAgICAgICAgICAgICAgICAgICAgICAgICAgICAgICAgICAgICAgICAgICAgICAgICAgICAgICAgICAgICAgICAgICAgICAgICAgICAKICAgICAgICAgICAgICAgICAgICAgICAgICAgICAgICAgICAgICAgICAgICAgICAgICAgICAgICAgICAgICAgICAgICAgICAgICAgICAgICAgICAgICAgICAgICAgICAgICAgIAogICAgICAgICAgICAgICAgICAgICAgICAgICAgICAgICAgICAgICAgICAgICAgICAgICAgICAgICAgICAgICAgICAgICAgICAgICAgICAgICAgICAgICAgICAgICAgICAgICAgCiAgICAgICAgICAgICAgICAgICAgICAgICAgICAgICAgICAgICAgICAgICAgICAgICAgICAgICAgICAgICAgICAgICAgICAgICAgICAgICAgICAgICAgICAgICAgICAgICAgICAKICAgICAgICAgICAgICAgICAgICAgICAgICAgICAgICAgICAgICAgICAgICAgICAgICAgICAgICAgICAgICAgICAgICAgICAgICAgICAgICAgICAgICAgICAgICAgICAgICAgIAogICAgICAgICAgICAgICAgICAgICAgICAgICAgICAgICAgICAgICAgICAgICAgICAgICAgICAgICAgICAgICAgICAgICAgICAgICAgICAgICAgICAgICAgICAgICAgICAgICAgCiAgICAgICAgICAgICAgICAgICAgICAgICAgICAgICAgICAgICAgICAgICAgICAgICAgICAgICAgICAgICAgICAgICAgICAgICAgICAgICAgICAgICAgICAgICAgICAgICAgICAKICAgICAgICAgICAgICAgICAgICAgICAgICAgICAgICAgICAgICAgICAgICAgICAgICAgICAgICAgICAgICAgICAgICAgICAgICAgICAgICAgICAgICAgICAgICAgICAgICAgIAogICAgICAgICAgICAgICAgICAgICAgICAgICAgICAgICAgICAgICAgICAgICAgICAgICAgICAgICAgICAgICAgICAgICAgICAgICAgICAgICAgICAgICAgICAgICAgICAgICAgCiAgICAgICAgICAgICAgICAgICAgICAgICAgICAgICAgICAgICAgICAgICAgICAgICAgICAgICAgICAgICAgICAgICAgICAgICAgICAgICAgICAgICAgICAgICAgICAgICAgICAKICAgICAgICAgICAgICAgICAgICAgICAgICAgICAgICAgICAgICAgICAgICAgICAgICAgICAgICAgICAgICAgICAgICAgICAgICAgICAgICAgICAgICAgICAgICAgICAgICAgIAogICAgICAgICAgICAgICAgICAgICAgICAgICAgICAgICAgICAgICAgICAgICAgICAgICAgICAgICAgICAgICAgICAgICAgICAgICAgICAgICAgICAgICAgICAgICAgICAgICAgCiAgICAgICAgICAgICAgICAgICAgICAgICAgICAgICAgICAgICAgICAgICAgICAgICAgICAgICAgICAgICAgICAgICAgICAgICAgICAgICAgICAgICAgICAgICAgICAgICAgICAKICAgICAgICAgICAgICAgICAgICAgICAgICAgICAgICAgICAgICAgICAgICAgICAgICAgICAgICAgICAgICAgICAgICAgICAgICAgICAgICAgICAgICAgICAgICAgICAgICAgIAogICAgICAgICAgICAgICAgICAgICAgICAgICAgICAgICAgICAgICAgICAgICAgICAgICAgICAgICAgICAgICAgICAgICAgICAgICAgICAgICAgICAgICAgICAgICAgICAgICAgCiAgICAgICAgICAgICAgICAgICAgICAgICAgICAgICAgICAgICAgICAgICAgICAgICAgICAgICAgICAgICAgICAgICAgICAgICAgICAgICAgICAgICAgICAgICAgICAgICAgICAKICAgICAgICAgICAgICAgICAgICAgICAgICAgICAgICAgICAgICAgICAgICAgICAgICAgICAgICAgICAgICAgICAgICAgICAgICAgICAgICAgICAgICAgICAgICAgICAgICAgIAogICAgICAgICAgICAgICAgICAgICAgICAgICAgICAgICAgICAgICAgICAgICAgICAgICAgICAgICAgICAgICAgICAgICAgICAgICAgICAgICAgICAgICAgICAgICAgICAgICAgCiAgICAgICAgICAgICAgICAgICAgICAgICAgICAgICAgICAgICAgICAgICAgICAgICAgICAgICAgICAgICAgICAgICAgICAgICAgICAgICAgICAgICAgICAgICAgICAgICAgICAKICAgICAgICAgICAgICAgICAgICAgICAgICAgIDw/eHBhY2tldCBlbmQ9J3cnPz7/2wBDAAcFBQYFBAcGBQYIBwcIChELCgkJChUPEAwRGBUaGRgVGBcbHichGx0lHRcYIi4iJSgpKywrGiAvMy8qMicqKyr/2wBDAQcICAoJChQLCxQqHBgcKioqKioqKioqKioqKioqKioqKioqKioqKioqKioqKioqKioqKioqKioqKioqKioqKir/wAARCAC9AigDASIAAhEBAxEB/8QAHwAAAQUBAQEBAQEAAAAAAAAAAAECAwQFBgcICQoL/8QAtRAAAgEDAwIEAwUFBAQAAAF9AQIDAAQRBRIhMUEGE1FhByJxFDKBkaEII0KxwRVS0fAkM2JyggkKFhcYGRolJicoKSo0NTY3ODk6Q0RFRkdISUpTVFVWV1hZWmNkZWZnaGlqc3R1dnd4eXqDhIWGh4iJipKTlJWWl5iZmqKjpKWmp6ipqrKztLW2t7i5usLDxMXGx8jJytLT1NXW19jZ2uHi4+Tl5ufo6erx8vP09fb3+Pn6/8QAHwEAAwEBAQEBAQEBAQAAAAAAAAECAwQFBgcICQoL/8QAtREAAgECBAQDBAcFBAQAAQJ3AAECAxEEBSExBhJBUQdhcRMiMoEIFEKRobHBCSMzUvAVYnLRChYkNOEl8RcYGRomJygpKjU2Nzg5OkNERUZHSElKU1RVVldYWVpjZGVmZ2hpanN0dXZ3eHl6goOEhYaHiImKkpOUlZaXmJmaoqOkpaanqKmqsrO0tba3uLm6wsPExcbHyMnK0tPU1dbX2Nna4uPk5ebn6Onq8vP09fb3+Pn6/9oADAMBAAIRAxEAPwD5vooopiCiiigAooooAKKKSgBaKSjNAC0UUUAFFFFABSUtJQwHJG8rBI1LE9gK6bTfh/rmpQCWO0dUPdhitTwXbWmmeGr3X7yLzpo5VitUI4ZzxXY3uuyabFp8XiC+eG6vE3eXDwsSds1m2+hLZzQ+D2pHGL21H1esfX/htrWiQmfYl1Eq7meE5wKo6zfX2m6k0Frq888fUOJDjB6VqeFfiDqOj3aRX0rXVq7AOJDnC98Vl+8WtxX6nEkEHBGCKK9O8deErO/0keJPDyDyWGZo16KSeorzGtoyui07hRRRVDCiiigQUUUUAFFFFABRRRQAUUUUDCiiigAooooAKDRRQAUUUUAFFFFABUkMfmzpGeA5Az6VHSqzJyvWlqB6TZfCmG9tI5xrMC71zjPSlf4UCNsJrEBrz1NSvI12x3Mqr6BjThql9/z9S/8AfZrJxqdGZtTZ3v8Awq1++q2/4Gj/AIVaf+gtD+dcJ/a19/z9Tf8AfZpv9rX3/P1L/wB9mly1u5HLU6M73/hVh/6C8FSj4R3JGV1KFvoa89/ta/8A+fqX/vs1Kmu6mn3b2f8A77NHLW7go1O53w+D90eTdxH8aX/hTt3ni6jFcMvijWkGE1G4A/36lHjDXh/zE5/++qlxrdGK1XudvH8GJWP7zUlX6LmrMfwWXcN2qEj02Vwa+N/ECjA1GU/U1OnxB8Rx9L9vxqeSv3Har3O9PwXtxtzqbH1wtWV+D+lpHhrqV29a88X4jeJFOf7QY/gKtxfFPxEkYVp1fB6laFGuupPLVXUq6/4G1LTtUlitbWWaIH5XVeDWG+iajHnfZTDH+wa7iD4xaskYWe1gkIGMkVaj+Mkm7/SNLgkHfir56q3Rac1ujzdrC6QEvbyKPdTUBRh1BFesJ8VNFuAPteioPUYBqWPxb4F1SZFv9IWFcnkLjFHtZLeI+d9jyGg8V7HceDfA+s5bSNRSB35Cb+lY978H9Q5bTruG6TsAeaarwe4+dDfguf8AifX69zbjH51xPiIY8Q34/wCnh/8A0I16Z8NPC2reH/EdzJqVq0URh27uxO4V5t4oG3xPqI/6eX/nShJSqNolazuZNFFFdBsFFFFAC0UUUxBRRRQAUZopKACtrQ/Cmq+Ig50u3MoQ4Y5xisYV6/ouqHwl8Lob6xRRPcHJc+uazlKxLdjz/WfBes6FB51/bFYwOWByBXP17H4T1a78XeHdfOssJ4gBtDdF4zXkMiASsB0BOKItvQaIxRSkYpK0GFBoooATtRRRQwO98A27a1dR2123laVphN3IP7zjpXPeKtbfXfEVzeMflLbU9lHSuvA/4Rb4RRyBP9I1ds7u4UrgV5t1rJasmwuS3Xmhj8tabeHdQTw+NZ8vNoZNm4HpWWTVID074Ua2bn7doGoNvt54sorevTH5VxHiXRv7E167sM58mQge47fpWj8N2H/CwdJU9Gmww9RtNavxagSHxk5jUDfCjH36isU7VbAtzgSMUlOPNNNdLVmUFFFFIAooooAKKKKBhRRRQAUUUUAFFFFABRRRQAUUUUAFFFFABRRRQAUUUUAGKTpW74Y8NSeIL/yyxjgQF5ZMfdUdTR4mj0iG6ittEDMkIKySuf8AWHPWlzLYRh9aSporWad9sMTOfRRmtGLwtrU0fmR6dOV9dlHMkF0ZFLipbi1mtJTHcxNG4PIYYqKne4BS0lFFwFpDRRQAlFGKWgYgoNLRQAlPBO3FNoFAEiSvGQUZlI6EGtTT/FWs6ewFvfzIo7bs1kGkpOMXuibJneH4s+IBAyCRCcYDFa4e5uJLq4knmO6SRizH1JqOilGEY7IFFLYKKKKooKKKKAFooopiCiiigApDS0hoAVevNevWmmf8JX8OrLTdPlQPCfmya8gFWrbULy0GLW5liHojEVlVi5pKPQlnpesXuneCvBM2hWFx5uoXA/fMvbmvLNxJ5p8ssk8heZ2dz1ZjkmoqqCsNIfTGpaQ1YxKKKKBi1a022+26hDbgZMkgUVWrpvh5Atx4509JFDDzOhpVHZCNr4r3oi1a10iDi3tbaMog6DIrgFNdL8Q7hrrx1qO7pFKYh9F4rmQMHiogrREel6Yks/wX1EPysbnA/wCBivMyeTXr9rAbL4JXDy4xcxs4465bivHyKmmKJ1Hw3GfiHpPtMT/46a2Pi+3/ABW5X/p3UdfrWn8GtFUX13rl2FWO0QqhYdCQea4zxnqa6v4tvLtGyhfaue2Bio3rX7D6mGaYadTTXQ3djCiiigYUUUUAFFFFABRRRQA5IpJTiJGc+ijNIyOhw6lT6EV23w61H7HcyW9tYC6vJnUK7LkIvc1U+I7Wh8XTLZbQoUbwg4Dd6jnXNyk31scnSUUuKsoKKKKACiiigAooooAKKKKACikro/A2if254qtrd8eTGwllz0Cg80m7K4G5dOfCPw/S0jJj1HVBvlPdY/7v4iuM08Ws14BqMzxxH7zKMmtnx3q41nxRcSRcQwsYo19FHFc2BzUR+HUk9NtfE9jpVnu8LaA0yRph7iZckn1qqvxc1bcP9GgwOoxXYeGrmyi0GeC0CHTrawR3lYdZWHzDPtXidxt+0yFOhYkfnWMFGbdzNJM9duLXT/iN4TlureNYb63XJCjnf6fSvIJYmhmeJxhkJUj0Ir0n4NTMutXkBJKPDuYfSuO8YQi38X6lGoAUTnGPzqqbtJxCL1sYZxmkpTSVujVBRRRTGBorq7/wzBB8P7TXISTLJLtcdhXKVMZJiuFFFFUMKWkpaBAaSnxQvM+2JSx9hmnm0mH/ACzZu3AzindAQ0VYTT7yQ/JazN9ENRTQS28hjnRo3HVWGCKQxlFFFABRRRQAtBooNMQlFFFAxaKKSgQdKM0UUgFzSUUUAFFFHFAwxRig4pM0wHV1Hw5mjt/HWnvOwVd/U1y9Phle3uI5o+GjYMD9KU9VYR03xEtZLPxxqQkQgSztIhPcE5rl+leqvf6J8RtJiXVbmPT9Ut0EaSno2PWsuX4UXUuf7O1K2uh7NWCqJaMi6Rk3fjq5m8GQaAkSCKOPy2buec1j6Folzr9/Fa2kbHLAO+OFGetdtafCdrcrLrN8kKD5io71sy+LvD3g7TPsegRRyzqpV5AM5PXrUuokrRDmj0F8WapaeDPCn9g2AAu5FHmMDyTXjTOWcsepOauanqVxq2oS3d25eSRiTk9KpGtaceValJC7qM5pKUVoUFFLj2ox7UBoJRS80c+lAhKKKKAClApCaM0AeufD298NaX4fE0l4tvqMmVkZuoFMu9G8BTzyTXGoyPKxJJU9TXk+6gu3qaw9i78yZPLqdF4r0nR9PeObQ703EMhIIbqprnKCxPU0Vsk0tSkgoooNMYUUlLQIKKKKACiiigBK9E8AR/2b4R8Ra192VYBBG3+96V54Dg16TpSlPglqjKfm+0Jn6ZrOo9Aex5zI7PIzOcsTkn3po6ikPJOK2/C+mWms6p9ivJxBvQmNz03elVsg6HpV1bNrXw7tNO8IzwARwhrmEcSOwHP614/PBLbTyRTLtkQ4Yehr17QfD1h4GzquoatFJIiELDG3XPHNeWazejUdYubpQFE0pYAemaxp7tGcDv8A4MwbtYvpj91IMZ+privGE3neL9ScHIM5wa9L+HUC6D8PdT1e54aTLJnjgDg/nXj91Obi6kmf70jFj9SaVLWcmTD4mRGiiiug2CiiigD03wbrmj6l4fTw7rqt5YfchHrWb8S/D+maFeW8OloELJuZc54rldCv49N1u2up1LRxuCwHpVrxZrx8Ra/NfBSkZ+VFPYCs4xakQk1IxKKKK1NAoooAz0oA9O+D9nZT3d7NcqGkjACrjJxg1S8QeMf7N1C6tdO0iKzJkJDyJlq5vw1qOraHqiXWlwyOzYBUKcMK9btotN8eWbLqmkPbXOMliuD+dc02oyu3oYykovU8ofxvrbr/AMfAAzn5UArFvbybULp7m6ffK5yzHvW/428Jv4U1RIBJ5kEy742Irma3jZq6NUFFFFUMKKKKAFooopiHRR+bKEHVuBW+vgnUfLSSR4kV/u5asGGUwzLIOqnIrQvvEF7fACR8YGBt4oNI8ltTXHgDUCoPnw9P7wpf+EA1D/nvD/30K5n7Xcf895P++zR9ruP+e8n/AH0aWpV6fY6f/hAdQ/57w/8AfQo/4QHUP+e8P/fQrmPtdx/z3k/77NH2u4/57yf99mjUfNS7HT/8IBqH/PeH/voVLF8Pbk/6y5jX6MK5P7Zcf895P++zS/a7j/nvJ/32aNRqdJPY7H/hXjD719Ev1IpR4CiT/WalAPT5q4z7Vcd55P8Avo0ovJx/y1Y/U0rM2Vaj/Kdn/wAIHbHrqduB/vUTeA7G0wbrVokzyM1yVncSy3kaM52swB5rpvH4Md9aLH8qi3Tj14o1Nueg6fM4D28LaCvXWEJ/2ab/AGB4dUkHVG/AVxxZ/wC8aNzf3jRZmHtqH8h2cOheG13b9WkX6Crdtb6Laf8AHv4hvI/904rgSWPek+b1osHtqH/Ps9DuDpdzxN4jvHX0Zqzn0Pw2Sc6tKSe+0VxvzetLl/WlYPbUP5DrRonhv/oJy/8AfIpRonhrcP8AiZyYzzla5HL+tGX9adhe2o/ynX/2H4Z/6Ccv/fIpRonhn/oKSf8AfIrj8v60bn9aNRe2o/ynZf2J4Z/6Ckn/AHzR/Ynhn/oKSf8AfIrjNz+tG5/WgftaP8p2q6D4bPTU5f8AvkU7/hH/AA6empyfiBXEiRx3p6SksMk4z60wVSk/snZ/8Iroki5j1MfUkU5PBGmyfc1mH6EisnVdKgtNHguYS2+QZOTxXPeYw6MwP1pamkpUobxO2k8BWgPy6xbH8ajPw+DD93qVu341xxnlHR2/Oj7VOP8Alq//AH1RZkOrQf2TrT8PLofcvLc/8CqJ/h7qQBKSwPjoA3WuaW/ul+7PIP8AgRp41a+Q5W6kB9d1FmS50f5Td/4QHWMcQqfowpjeBNbUZ+y5HswrLTxDqqDC3s2P96pk8T6svAvZfxNLUOaj2LL+CtbTrZt+BqB/Cerp1s5PwFSL4u1hDn7ZIfxq1F481iIf64N/vCizL/2dma3hnVU62cv/AHzULaJqKZ3Wcwx/smt9fiJrA/ijP1Wn/wDCxdWI+YQkf7lF2V7PDP7Ry5068HW3k/75pps7gdYnH/Aa9H8NeJp9cuHhureHCoWyE7is2Xxu0EzxyWMD7Tj7op6j+r0d+Y4cwSDqp/Kk8px1Wu0HjazY/v8ASYWyfSnp4u0SQ/vtGjAxRclYak/tnD7Svauz8A+ILa2a50PWP+QfqIwSeiP0Bq0PEPhRyPM0vB9hTjqfg2TG60kUg5BHaolqEsJF/DNGV4k8Bano13K0ERubPOY5o/mDL61y5WSCQcMjA/SvW9H8baVpMYiS7kkgwR5U3zDBq7LrXgPV2D30MSPng7f8Kz9o47o5J0Zw8zxqS6uJv9bIz/7xzXQeDvB914k1FV8pxbqfmf2r0SOP4eqweIQnHTitC+1u0fTRbaFfQaepGN6gA1DquStFCjSqT0SOZ+JmuWmnaZb+F9IlDRwriUr29j715UeK9BuPAsN5I0x1mF3Y8sW5JrP/AOFeXLNiO9tWHrvrSmlCNjWOEqxWxx1FdkfhvqP8NxbH2D1E/wAPdVQfL5b/AO61a8yK+rVexyVFdLJ4E1pMkW+4exqu3g/WV/5c3P0ouQ8PUXQwqOtaz+GNVQ/NZyf981A+kXqHBt5M/wC6aZPsZroUKKsvY3CfehcfVTURt5V6xsPwpkuEluiOpbac206yqqsVOcMMg03ymHVSKaVI7GlYlpnpOn/FKK0t4lbSYNyKASgAqzN8Ybjf/oWnxxjH8XWvL0BPan7TWPsIPVmTp66mn4i8R3/ia8F1qUgLKNqIOiisantTeK2StojRaCUUUUwCiiigYtFFJTEa+l6E+o2NxdLIFEAyVI61lyJscr6V2Phc7fDGqH0SuRmOZSfWkbyjyxIDS0Ec1Ys7cXFykRbaGOMmmZpXZBtNJXdt4O04IbeK6aS9EPmgA/LiuHmjaGd434ZDg0ky6kHFJkdOxSUtMyDFGKKM0AS27FJ0YdjXZfEJNy6dcdntkx+VcUn3hXdeNf33hbRZx08oLn6Cpe530dcPNehwmaSkozVHDZAaTNLSYoEGaWkxS0BYKKMUUDsFFFFAgooooGFKn+sX6ikpyDMq/WgDsvEPHhuz91rjsV2XikGPw1poPVkzXF7qSOjE6SQ+mGjcaOtBiJRS0UgEpaTNGaAuGaM0lGKonUUGl3UgopAdv8O1D3l57QmuS1Af8TCbP98/zrsfhqoNxqBPaAfzNchqI/4mM/8Avn+dCOmp8ESmaQGnEUmKZz9QJpM0uKTFIWouTQCR0NFFAhwkfH3jSiaQdHb86ZSZoHzMmFzMOkjfnU9vdXkkyxwyyF2OAAapVseFwD4ks+M/vRSZrTlJySuF9NqumXPk3E80cmMkFqZF4j1SH7l5J+Jra+JPPipyeu0VyFJJFTqThJpM3V8Y6yowLtqmXxzrici6P5Cucop2Qvb1e51a/EHWQPmlVvqtTR/EXU0+8kLfVK47FLSsV9Yqdz1PSfE11qWjXV/LbWrC2wCpj5NZS/ES2diJ9Ht2HsopngwGfw3q8AP/ACzBrhWGJGHvTSN6tapGMX3O/wD+E20KQfvdFjJ9gKUeLPDMn+u0YD6Yrz6iixisTJdEd+dZ8ITZJ05k+hoF14JkX5o5EPoM1wIPpxSknPPH4UcpX1tveKO62+CWOfNlH4Vz3iNdFVo/7Ed2OfnyKxd1IecUWMalRT6WEpaKKZiFFFFABQKDSqKYLc7Xwaom0TVYiesea41+ZW9jiuu8EN8t/EP4rdjiuUlXZO4P940kddVe7EjxQG2kYOD2oNKsbuuUQsB1wKZzrQ7nw5HJp2iza7fSl0K+Uo61w91L515NL03uTXT6D4iS3sV0u/tTNbNJkkDkZqDxpoMWk30ctmD9mnG5M1KR0VvegrdDmqKSlqjjFopAaM0ASR/eFd54gHm/DPS3/uNj864OI/MK7zWMn4Y2noHWpe56FH+DI8/oooqjhCiiigApyIzuFQZYnAAptTW0xt7lJV6ocikUjq9D8CXN6Y5dRzbQMMj+8w9hXPa9YJpmtT2kTFkjbAJ711ug6zJq3jC2dnPlquMZ4/Kue8Yj/ip7o+rUkdVWEfZKSMKlpKWqOMKKKKACpIR/pCfWmVLbDddRj1YUikrs7XxqNug6WvpCDXCV3vxEIhh063UcC3BrgsGhHRi/4lgNLRijFBzhRTlGWxWvp3hq/wBRVmiiKoq7izDjFIuMHLYxaKfOnlTFP7pxUdMzejFopKWgQUDtRQO31piO8+Gn+v1H/r3H8zXH6j/yEZ/9812PwzGZtR/69x/M1xupcanP/vn+dJHXV0hArGkoopnOwpKWtjw3oq63qnkPJ5caIXdvQD/9dA4xcnZGN0orutT8Habc6bNdaDdvMbdS0isPT0rhSNrEUh1aUqUrSENFBooMgrc8ILu8TWf/AF0FYlb3gwZ8UWf/AF0FEtjfD61UavxMUDxNn1WuMNdt8TR/xUAP+xXFcZ5pIvEfxWNpa6nR/Bkmp2CXb3MUCSHCBzyxrD1XTn0rUpLSUhmQ9RQZSpyirspUd6KBQQzvvhuPMj1GInho8VxOoR+VqE6f3ZCP1rtPhj819dJ/eSuR1sbdaul9JW/nQtzsrL9xBlGirllpd3fuVtYWkI9BUFxbTWszRXEZR1OCCKo4nCSV2ifSrZrzVbeFV3FpFGPUZrT8Y21va+I5obQBUXGQOxxSeC0DeKrPP9/+lM8XHPii8/36XU6ORKin3ZimkoooOYKKKKACiiigBaKKKYjrfATf8TG5H/Tu1c3fcX0v+8a6PwAN2qXP/Xu1c5f/APH/ADf7xpHbU/hwZBniuh8Ma7Z6TujvrYTI554rnM80tM5lPldz0Q+MPDceHTS8sOQCK5bxN4kfxBcKwj8qKPhEHYVhmk7UrGs8ROceXoJRRRimc4UUYpelADo/vivQ9QTf8JIm7iVf5154n3hXo15/ySKP/roP5mpe534VXpzPN6KKKo4QooooAKOtFWbBoEv4WuRmIOC4HcUioq7sbvgfKeIoWKnnviq/jBS3iGZgDjNek6Vd+H0tEnh8hWUcbjg1x+veKNNm1JwmmQOAfv561PU9WrRUMOk5HEYoq1qFzHd3TSwwrApGAi9BVWrPICiiigAq3pcfm6lAvrIP51UrQ0Q41e2/66CkaU1eaOr+JwxqNiBxi3HFcNXd/E5T/aFm/byK4TNC2NcRpUCiiimYMdC4WdGYfKGGa9gttXin8Izz2aqsaReXwOhxXjo+9wK9F0UGL4Y3T/3pGqWduEdlJM87mJeUk9ajpz/6xvrSVRwS3EooNFAgpwptL2pMD0D4XjNxqH/XuP5muK1YY1a4H/TQ12vwyH+lXXuifzNcVq3GsXf/AF2b+dKJ2V/4cEVaDRQao5RDVqxurizm8y1coxBUkdxVUV3vgrw3p95bLfXsq9SAjHABBoZtQg5z0L3gqGS00bUru+zHFJCxy3APrXm0pzM5HdjXtWsWFnqVmLUXqQxfdZUOAa53/hBdAIzJqaR/8DFQmd+Jw05Wt0PNcUV0HiXR7LSrpY9PuhcJtyTkcVgE1R5coOLsxK3/AAWP+Kos/wDfrA710HgwZ8U2YH9+k9jbC61UbPxOH/E+X/crhj0rvPigANajPcpmuDAJ6ULYeKX71nongGT7Rp8y3DeYluQ0ad8+1cn4kmmutcuZ5oGh3PwpHarmh2mvWSpd6dbuY25yBwwrtrK0fxLayW2t2AtrhUys2OtTszs5XWpKKWx5NRirN/b/AGTUZYOoRytVzVnlSTW53/wrA/tO5z/cFcdr3HiG8/67N/Ou1+FyYmvJT0CCuK1sF/EF4F5JmbH50luehXTWHpnSaV4g+yafaWmmgJcmYb2C8kE074kwrHrEL4AeSIF8etWfCfh0WELavqqELEu5E9TXPeIby71vUnuWgk29FBHQUFzU/Y+8ix4CTd4mtyf4ST+lUPE5z4kuz6vWr4CjZPEkYdSpGeCKyfE3/IxXP+9QY1FahEyc80tNNFUcItFFFIQUUUUALRRSGmB2nw2TfrEw/wCmLA1zGrr5esXKdNshH61ueBdVt9J1WWW7bajRkZ96xNYniu9WuJoc7HbI460up2VGnRj3RSooopnGFJilooASlpMUtABSGlpDQAqffFek6gvl/CWNT3ZW/WvNk+8K9U15I4/htHHxgRI344FS9z0cJ/CmeVUUlFUcAZooooELQDjpSUuKBjhI46MfzpvXrSUUA22FGaMUYp2EGaM0YopALVrTZPL1CFj/AAuD+tVKkhO2QGkzSm7TR6J8R187S7K5XkbQM15vXpWulbz4cwzMcspFebd6SN8V/F0FpabRTOdHUeDYdHk1FhrTKE2/Lu6ZrudS1Xw5YaP9jt5EaBiSUU5ya8fyR9aUuxHJqbHdTxahDl5Tqru78Lyr+4tHRh1w3WuYuTEbhjACI8/KDUQFBFUcU5uTuFFFFMzENApaAOaQHpHwyi/4+pMdlGfxNcFq3/IavP8Ars3869H+GkZOk3TKv8QOfwrznVwV1i5z18wk0onfiVaECpQaTNFUcQVYjuZY49iSsq9cBqr0opblRk47Fg3lwRgzP/31UZmkPVifxqKjNLQrnl3HMxY5NIaTNFPQh6iA103gRfM8VWvsSf0rmcV2fw3iD69vxkopIqZbHRg1++iT/FF/+J1EO/l1wysQeK6/4kyb/EwBPIiFchihbE4mTdZnVaT491LSrGO1iSN44xhdw6VavviRqVzb+WkccbEfeUVxooNFhrE1eW1x0873ExllOWY5JpueabSqMkUznd2z074cR+Vol9cNxk8H6Vw32uO38UNczqJEScsVPfmvRNFiGm/DuSR/kZkJOfevKJmMkzMepOTUo9TFvkjTXVHqY+IukSQeXJbkL/dxxT4vHugFcNaqB/uV5MKOlPlI/tGr1SPSNEv7XU/HrT2ShImQ4AGK4/xMMeILn/eNa3w8b/ipYx/smsrxT/yMNz/vGmia8+enGRi0UUVR5wtFFFIAooooAWkNLRTEApcH0rT0KSwj1FG1QboAOnvW+df8NiRv+JXlc8HNK50wpRkruRxwU+lGw+9dmNf8Nf8AQKP50HXfDLjB0sj3BouX9Xh/Mjiyp9KTB9K7VdU8LOfmsXA+tSi68Ht962kH40XH9Xj/ADHC4PpRg+hrvPtPgvvBL+dH2zwUP+XeWi4fVo/zHB4PpQQfSu9+2+Cv+feWj7Z4K/595aLh9Wj/ADHBDIOcVt3niW9vNLWylIMYAGMeldF9s8Ff8+8tH2zwV/z7y0jSNPkTSlucDigAmvRbO98CxXHmTW0jKBnBrYi8R/DqLA/stWI7letRKbj0OKpDkdjyXyJCMhSfoKVbWdvuxOfopr2L/hNfAcQ/d6Yo+iU6P4h+D42/dWAT38sVl7aX8pjeR499hu/+feX/AL4NL9huv+faX/vg17U3xP8ACqJ8tpuPtGKr/wDC0vDR6WL/APfAo9vP+ULz6I8d+w3X/PtL/wB8GlFhdnpay/8AfBr2H/haHhr/AJ8W/wC+BQPij4c/hs3H/ABR9Yqfyhep2PJU0HU5FyllKR/umnnw9qoBP2Gb/vk161/wtTQscW0gH+6KenxV0L/ng4+qij6xU/lBe07Hjy6LqLNj7HMP+AGnvoGoohY2sgA/2TXr7/FDQW4WIA+pQVE3xK0JlIdFOf8AZqfbVP5TWNOpLseLNEyMQwII65pnQ5r03U9W8Garcea0HlH0QYyaogeCe5kNbqTa1N1h31Zxzatdtp/2Iyt5Gc7aomvQCfBHrJTc+CPWWmnY0lRcndyOBpR9K77Pgj1lpwfwR6yD60XCOHX8yPP8H0NGPavQyvghx9+QfSm/Z/BLHiaRfqaXMV9VTXxI8+/ClxmvQxYeDG6XTUp0bwaw+W8YGjmF9Ufc872UhGK9DGgeFD0v2/OlPhbw0ykrqX60cw3hJdLHnVGK9B/4RTw8emo/qKd/wg2kyrmDU1H1Ip8xP1OqzE8M+L28P2s0OwyLJz16Vzl1cG6upJpOrsTXdn4fW5+5qkGPcikPw8jxxqUH5ikpJGs8PXmkn0OAoruT8O2Y/Lfwn8ad/wAK0uH/ANXewn6mnzIyeDrdjhKK7eT4aXqBs3UPHvVf/hXeon7ro30NPmRH1Wt2OQpa6V/AWtK3FtkeoNN/4QXXO1qT+NLmQnQq9jnKMV0X/CC671+xsfxqKTwdrSAlrJwBTuhexqLdGDitzwxr40G8Mxi80NwRnFRN4a1VetpJ+VRt4f1NetpL+C0DhGpCXMkP8Sav/bWqm7WPywVwBWSKvNo+oL1tZf8Avg0w6ZeY5t5Bj1WgicZSk3Yq0danawulxugcZ/2aT7LMv3o2H1FBPs59iD61PYp5l7Evq4H60x4mH8J/KprGUW19DK65COCaCqa95XPXvE0Yh8DyRqMDygK8W716D4q8YwaroMdnZq25gN+R0rgMEdRRHY68dNSqKwmaSpYbeW4YrDGzkDJAFNkjaNirghh1BqjztTq/h3/yMsf+6ay/FP8AyMNz/vGtT4d8eIkb/ZIrN8VjHiS6Ho5FJbndNfuIMw6KD1oqjhFooopAFFFFAC0UUUxBSHilooAbmjNFFAwzRmiigAzRRTqAG0oFLSGgQYoxSZozQMWkxTqKAG4oxSmkoAMUtIKdQAlFLSGgLhmjNJmjNAwzRTsUYoFcQGjg0hopWAXA9aKSjNAwpaTNKKAuFLnFJRRYLjt5p4lPrTKSiwczJfOb1pPMb+8fzqOiiwc0u5J5rr/G350oupR0kb86ioosHNLuTfapv+er/wDfVH2y4HSZ/wA6hxRRYpVJd2W11S8UDFxJ/wB9U8azfDpcSf8AfRqjRRYftJd2aKa9qSn/AI+pP++qlHibVV6Xcn51k0UWD2ku7N1PF+sIOLuT86ePGetjpeNXP5pCxpcparSXVnSx+Otbj/5emNSr8QdXU5Mgb6iuV3GkzRylfWamyZ6J4f8AiBc3GqxQ6iYI7c53s6/pTLv4mXYvZhbxQmHedmV7V59milylLF1VszvV+J11/Hawt+FKfiSG+/p0RP0rgaUc0ciK+vVu56GvxFsiPn0yPP0FPHj7Sn4l0tCPoK85xSUciKWYVup6R/wl3hyQfvNMUfhTh4i8JuPmsFB/3a81oo5Q+uy/lR6O+reEm5Fr+lNGpeEGHzWxH0FedilyfWjlB45v7KPSbXV/CVnMZreJlkIxnFcV4hvba+1Z5bOPZHnjjrWXS5zTSMKuIdSNrJHa/De0kfVXnIwkY5NYXitt/iS7YdC5NRadr91pKOto23eOazp7iS4maWZizMckmi2o51U6cYroRGiiiqOYWiiikAUUUUALRRRTEFFFFADT1ooPWigYUUUUAFOptOoEFIaWkNACUUUUDHUUUUCENJSmkoGA606mjrTqBBSHrS0h60AJQOtFA60DHUUUUCEPWkpT1pKBhRRRQAUo6UlKOlAC0UUUCCiiigAooooAKKKKACiiigAooooAKKKKACkNLSGgBKKKKBhRRRQAUopKUUAKelNpx6U2gAooooAUdKWkHSloEFHSiigBDSUtIaACiiigYtFFFIAooooA/9k=)\n",
        "\n",
        "4 pairs of indices possible in the above array, (1, 3), (1, 5), (2, 3), (2, 5)\n",
        "\n",
        "**Approach to solving the problem:** \n",
        "\n",
        "\n",
        "\n",
        "1.   All the elements in the array other than 1 and 2 are of no use to us\n",
        "2.   Count number of 2's inside the array after the 1 being considered\n",
        "\n"
      ],
      "metadata": {
        "id": "rGbf9y-H9_ZH"
      }
    },
    {
      "cell_type": "code",
      "execution_count": null,
      "metadata": {
        "colab": {
          "base_uri": "https://localhost:8080/"
        },
        "id": "IB-gXJl39ubH",
        "outputId": "178aeeae-15c3-4b4c-c65c-846ef64a7574"
      },
      "outputs": [
        {
          "output_type": "stream",
          "name": "stdout",
          "text": [
            "4\n",
            "3\n"
          ]
        }
      ],
      "source": [
        "# Method 1 - Bruteforce Approach\n",
        "\n",
        "def CountSequence(a):\n",
        "\n",
        "  n = len(a)\n",
        "\n",
        "  cnt = 0\n",
        "\n",
        "  for i in range(n):\n",
        "    if a[i] == 1:\n",
        "      for j in range(i+1, n):\n",
        "        if a[j] == 2:\n",
        "          cnt += 1\n",
        "\n",
        "  return cnt\n",
        "\n",
        "arr = [3, 1, 1, 2, 3, 2]\n",
        "print(CountSequence(arr))\n",
        "arr = [1,2,3,1,2]\n",
        "print(CountSequence(arr))"
      ]
    },
    {
      "cell_type": "markdown",
      "source": [
        "For the above problem, **T.C** -> O(N^2), **S.C** -> O(1)"
      ],
      "metadata": {
        "id": "gUrhxG7sK07p"
      }
    },
    {
      "cell_type": "code",
      "source": [
        "# Method 2 - Suffix Sum\n",
        "\n",
        "def CountSequence(a):\n",
        "\n",
        "  n = len(a)\n",
        "\n",
        "  if n == 1:\n",
        "\n",
        "    return 0 # Length of the array is 1, so there would be 0 \"12\" pairs\n",
        "\n",
        "  cnt = 0\n",
        "\n",
        "  SS = [0] * n\n",
        "\n",
        "  for i in range(n-1, -1, -1):\n",
        "\n",
        "    if a[i] == 2:\n",
        "\n",
        "      cnt += 1\n",
        "      SS[i] = cnt\n",
        "\n",
        "    else:\n",
        "\n",
        "      SS[i] = cnt\n",
        "\n",
        "  print(f'Suffix Sum: {SS}')\n",
        "\n",
        "  cnt = 0\n",
        "\n",
        "  for i in range(0, n-1):\n",
        "\n",
        "    if a[i] == 1:\n",
        "\n",
        "      cnt += SS[i+1]\n",
        "\n",
        "  return cnt\n",
        "\n",
        "arr = [3, 1, 1, 2, 3, 2]\n",
        "print(CountSequence(arr))\n",
        "arr = [1,2,3,1,2]\n",
        "print(CountSequence(arr))\n",
        "arr = [1]\n",
        "print(CountSequence(arr))\n",
        "arr = [1,2]\n",
        "print(CountSequence(arr))\n",
        "arr = [2,1]\n",
        "print(CountSequence(arr))"
      ],
      "metadata": {
        "colab": {
          "base_uri": "https://localhost:8080/"
        },
        "id": "CnAKntihLDYu",
        "outputId": "55479c3a-e8f2-4963-b035-df87454c25e7"
      },
      "execution_count": null,
      "outputs": [
        {
          "output_type": "stream",
          "name": "stdout",
          "text": [
            "Suffix Sum: [2, 2, 2, 2, 1, 1]\n",
            "4\n",
            "Suffix Sum: [2, 2, 1, 1, 1]\n",
            "3\n",
            "0\n",
            "Suffix Sum: [1, 1]\n",
            "1\n",
            "Suffix Sum: [1, 0]\n",
            "0\n"
          ]
        }
      ]
    },
    {
      "cell_type": "markdown",
      "source": [
        "For the above problem, **T.C** -> O(N), **S.C** -> O(N)"
      ],
      "metadata": {
        "id": "H-GTsWXlOfDm"
      }
    },
    {
      "cell_type": "code",
      "source": [
        "# Method 3 - Carry Forward\n",
        "\n",
        "def CountSequence(a):\n",
        "\n",
        "  cnt_2 = 0\n",
        "\n",
        "  for i in range(len(a)):\n",
        "\n",
        "    if a[i] == 2:\n",
        "\n",
        "      cnt_2 += 1\n",
        "\n",
        "  cnt_ans = 0\n",
        "\n",
        "  for i in range(len(a)):\n",
        "\n",
        "    if a[i] == 1:\n",
        "\n",
        "      cnt_ans += cnt_2\n",
        "\n",
        "    if a[i] == 2:\n",
        "\n",
        "      cnt_2 -= 1\n",
        "\n",
        "\n",
        "  return cnt_ans\n",
        "\n",
        "arr = [3, 1, 1, 2, 3, 2]\n",
        "print(CountSequence(arr))\n",
        "arr = [1,2,3,1,2]\n",
        "print(CountSequence(arr))\n",
        "arr = [1]\n",
        "print(CountSequence(arr))\n",
        "arr = [1,2]\n",
        "print(CountSequence(arr))\n",
        "arr = [2,1]\n",
        "print(CountSequence(arr))"
      ],
      "metadata": {
        "colab": {
          "base_uri": "https://localhost:8080/"
        },
        "id": "URy3RnDgQ6Og",
        "outputId": "54a2d073-d76a-40ab-9482-a6abc6fda6e2"
      },
      "execution_count": null,
      "outputs": [
        {
          "output_type": "stream",
          "name": "stdout",
          "text": [
            "4\n",
            "3\n",
            "0\n",
            "1\n",
            "0\n"
          ]
        }
      ]
    },
    {
      "cell_type": "markdown",
      "source": [
        "For the above problem, **T.C** -> O(N), **S.C** -> O(1)"
      ],
      "metadata": {
        "id": "tFLMZJI6SInX"
      }
    },
    {
      "cell_type": "markdown",
      "source": [
        "**Concept:** \n",
        "\n",
        "**\"Leaders in an array\"** - An element is a leader if the element is strictly greater than all the elements on the right.\n",
        "\n",
        "**Note:** Last element in an array is always a leader"
      ],
      "metadata": {
        "id": "xU_baDfTSPGA"
      }
    },
    {
      "cell_type": "markdown",
      "source": [
        "**Class Problem2:** An array of N elements is given. Count the number of leaders in the array.\n",
        "\n",
        "arr = [14, 23, -8, 9, 12, 5, 6, 3, 1]"
      ],
      "metadata": {
        "id": "qn5JkOuLSwtA"
      }
    },
    {
      "cell_type": "code",
      "source": [
        "# Method 1 - Bruteforce Approach\n",
        "\n",
        "def CountLeaders(a):\n",
        "\n",
        "  cnt = 0\n",
        "\n",
        "  n = len(a)\n",
        "\n",
        "  for i in range(n):\n",
        "\n",
        "    is_leader = True\n",
        "\n",
        "    for j in range(i+1, n):\n",
        "\n",
        "      if a[j] > a[i]:\n",
        "\n",
        "        is_leader = False\n",
        "        break\n",
        "\n",
        "    if is_leader:\n",
        "\n",
        "      cnt += 1\n",
        "\n",
        "  return cnt\n",
        "\n",
        "\n",
        "arr = [14, 23, -8, 9, 12, 5, 6, 3, 1]\n",
        "print(CountLeaders(arr))"
      ],
      "metadata": {
        "colab": {
          "base_uri": "https://localhost:8080/"
        },
        "id": "240ZfCSwT2o0",
        "outputId": "3b1f15d9-722c-4448-d997-f2648e745410"
      },
      "execution_count": null,
      "outputs": [
        {
          "output_type": "stream",
          "name": "stdout",
          "text": [
            "5\n"
          ]
        }
      ]
    },
    {
      "cell_type": "markdown",
      "source": [
        "For the above problem, **T.C** -> O(N^2), **S.C** -> O(1)"
      ],
      "metadata": {
        "id": "o5zSBq7OUqRu"
      }
    },
    {
      "cell_type": "code",
      "source": [
        "# Method 1 - Carry Forward Technique\n",
        "\n",
        "def CountLeaders(a):\n",
        "\n",
        "  cnt = 1\n",
        "\n",
        "  n = len(a)\n",
        "\n",
        "  max_ele = a[-1]\n",
        "\n",
        "  for i in range(n-2, -1, -1):\n",
        "\n",
        "    if a[i] > max_ele:\n",
        "\n",
        "      max_ele = a[i]\n",
        "      cnt += 1\n",
        "\n",
        "  return cnt\n",
        "\n",
        "arr = [14, 23, -8, 9, 12, 5, 6, 3, 1]\n",
        "print(CountLeaders(arr))"
      ],
      "metadata": {
        "colab": {
          "base_uri": "https://localhost:8080/"
        },
        "id": "DVGARwT4VKlT",
        "outputId": "4627f765-3166-4836-ae2c-bcdbe5acabd8"
      },
      "execution_count": null,
      "outputs": [
        {
          "output_type": "stream",
          "name": "stdout",
          "text": [
            "5\n"
          ]
        }
      ]
    },
    {
      "cell_type": "markdown",
      "source": [
        "For the above problem, **T.C** -> O(N), **S.C** -> O(1)"
      ],
      "metadata": {
        "id": "y6wgGvppb8Wc"
      }
    },
    {
      "cell_type": "markdown",
      "source": [
        "**Subarray:** Contiguous part of an array\n",
        "\n",
        "arr = [1, 2, 3, 4]\n",
        "\n",
        "For the above array,\n",
        "\n",
        "[1] is a subarray\n",
        "\n",
        "[1, 2] is a subarray\n",
        "\n",
        "[1, 2, 3] is a subarray\n",
        "\n",
        "[1, 2, 3, 4] is a subarray\n",
        "\n",
        "[2] is a subarray\n",
        "\n",
        "[2, 3] is a subarray\n",
        "\n",
        "[2, 3, 4] is a subarray\n",
        "\n",
        "[3] is a subarray\n",
        "\n",
        "[3, 4] is a subaray\n",
        "\n",
        "[4] is a subarray\n",
        "\n",
        "But [1, 3] or [1, 3, 4] are not subarrays because they are not contiguous"
      ],
      "metadata": {
        "id": "uqe56j3HbCXa"
      }
    },
    {
      "cell_type": "markdown",
      "source": [
        "**Class Problem2:** Given an array of N elements. Find length of the smallest subarray which contains both min and max element.\n",
        "\n",
        "arr = [8, 7, 9, 1, 10, 2, 5, 11]\n",
        "\n",
        "Here length of the smallest subarray is 5 i.e [1, 10, 2, 5, 11]\n",
        "\n",
        "arr = [1, 2, 7, 3, 7, 2, 4, 1]\n",
        "\n",
        "Here length of the smallest subarray is 3 i.e [1, 2, 7]"
      ],
      "metadata": {
        "id": "QM7Q9Cs2bqIO"
      }
    },
    {
      "cell_type": "markdown",
      "source": [
        "**Approach to solving the problem:**\n",
        "\n",
        "\n",
        "\n",
        "1.   Find min and max of the array\n",
        "2.   Iterate and try to start at every min\n",
        "\n"
      ],
      "metadata": {
        "id": "HdFCjTYGerR3"
      }
    },
    {
      "cell_type": "code",
      "source": [
        "# Method-1: Bruteforce Approach\n",
        "\n",
        "def LengthOfSubarray(a):\n",
        "\n",
        "  # Find max element in the array\n",
        "\n",
        "  mx = max(a)\n",
        "\n",
        "  # Find min element in the array\n",
        "\n",
        "  mn = min(a)\n",
        "\n",
        "  n = len(a)\n",
        "\n",
        "  # Keeping max as the starting element, find the occurence of the min element on the right of the max occurence, such that length of the subarray is minimum\n",
        "\n",
        "  ans = 999999999999\n",
        "\n",
        "  for i in range(n):\n",
        "    if a[i] == mx:\n",
        "      for j in range(i, n): # Considering i and not i+1 to cover cases where mx == mn for the array\n",
        "        if a[j] == mn:\n",
        "          ans = min(ans, j-i+1)\n",
        "\n",
        "  # Keeping min as the starting element, find the occurence of the max element on the right of the min occurence, such that length of the subarray is minimum\n",
        "\n",
        "  for i in range(n):\n",
        "    if a[i] == mn:\n",
        "      for j in range(i, n): # Considering i and not i+1 to cover cases where mx == mn for the array\n",
        "        if a[j] == mx:\n",
        "          ans = min(ans, j-i+1)\n",
        "\n",
        "  return ans\n",
        "\n",
        "arr = [2, 2, 6, 4, 5, 1, 5, 1, 6, 4, 3, 4, 1, 3]\n",
        "print(LengthOfSubarray(arr))\n",
        "arr = [8, 8, 8, 8, 8, 8]\n",
        "print(LengthOfSubarray(arr))"
      ],
      "metadata": {
        "id": "auLEJFSxcWOa",
        "colab": {
          "base_uri": "https://localhost:8080/"
        },
        "outputId": "e99925d2-440b-42cf-ac41-c724a0e3e2a2"
      },
      "execution_count": null,
      "outputs": [
        {
          "output_type": "stream",
          "name": "stdout",
          "text": [
            "2\n",
            "1\n"
          ]
        }
      ]
    },
    {
      "cell_type": "markdown",
      "source": [
        "For the above problem, **T.C** -> O(N^2), **S.C** -> O(1)"
      ],
      "metadata": {
        "id": "5WOgzTNoS4gR"
      }
    },
    {
      "cell_type": "code",
      "source": [
        "# Method-2: Carry Forward technique\n",
        "\n",
        "def LengthOfSubarray(a):\n",
        "\n",
        "  # Find max element in the array\n",
        "\n",
        "  mx = max(a)\n",
        "\n",
        "  # Find min element in the array\n",
        "\n",
        "  mn = min(a)\n",
        "\n",
        "  if mx == mn:\n",
        "\n",
        "    return 1\n",
        "\n",
        "  n = len(a)\n",
        "\n",
        "  ans = len(a)\n",
        "\n",
        "  # Keeping max as the starting element, find the occurence of the min element on the right of the max occurence, such that length of the subarray is minimum\n",
        "\n",
        "  min_ind = 999999999999\n",
        "\n",
        "  # Considering minimum index element is to the right of the maximum element\n",
        "\n",
        "  for i in range(n-1, -1, -1):\n",
        "    if a[i] == mx:\n",
        "      ans = min(ans, min_ind-i+1)\n",
        "    if a[i] == mn:\n",
        "      min_ind = i\n",
        "\n",
        "  # Considering minimum index element is to the left of the maximum element\n",
        "\n",
        "  max_ind = 999999999999\n",
        "\n",
        "  for i in range(n-1, -1, -1):\n",
        "    if a[i] == mn:\n",
        "      ans = min(ans, max_ind-i+1)\n",
        "    if a[i] == mx:\n",
        "      max_ind = i\n",
        "\n",
        "  return ans\n",
        "\n",
        "arr = [2, 2, 6, 4, 5, 1, 5, 2, 6, 4, 3, 4, 1, 3]\n",
        "print(LengthOfSubarray(arr))\n",
        "arr = [8, 8, 8, 8, 8, 8]\n",
        "print(LengthOfSubarray(arr))"
      ],
      "metadata": {
        "colab": {
          "base_uri": "https://localhost:8080/"
        },
        "id": "bFC_3_ZSVhhz",
        "outputId": "c6bf2c6e-62a6-4034-8648-ce63340aadc0"
      },
      "execution_count": null,
      "outputs": [
        {
          "output_type": "stream",
          "name": "stdout",
          "text": [
            "4\n",
            "1\n"
          ]
        }
      ]
    },
    {
      "cell_type": "markdown",
      "source": [
        "For the above problem, **T.C** -> O(N), **S.C** -> O(1)"
      ],
      "metadata": {
        "id": "jEhqw6gCYkf6"
      }
    }
  ]
}