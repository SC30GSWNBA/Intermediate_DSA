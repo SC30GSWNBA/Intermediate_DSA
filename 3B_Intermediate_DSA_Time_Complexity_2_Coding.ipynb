{
  "nbformat": 4,
  "nbformat_minor": 0,
  "metadata": {
    "colab": {
      "provenance": [],
      "collapsed_sections": []
    },
    "kernelspec": {
      "name": "python3",
      "display_name": "Python 3"
    },
    "language_info": {
      "name": "python"
    }
  },
  "cells": [
    {
      "cell_type": "markdown",
      "source": [
        "**Q1**. An algorithm consists of two independent piece of code, having complexities f(n) and g(n) respectively. What would be the complexity of the complete algorithm"
      ],
      "metadata": {
        "id": "xFE-UxFQA4uC"
      }
    },
    {
      "cell_type": "markdown",
      "source": [
        "**Ans:** MAX(f(n),g(n))"
      ],
      "metadata": {
        "id": "5Bbg7yoHA-Hq"
      }
    },
    {
      "cell_type": "markdown",
      "source": [
        "**Q2.** To measure Time complexity of an algorithm Big O notation is used which: "
      ],
      "metadata": {
        "id": "G1tzqeYMBF6-"
      }
    },
    {
      "cell_type": "markdown",
      "source": [
        "**Ans:** describes limiting behaviour of the function, characterises a function based on growth of function, upper bound on growth rate of the function"
      ],
      "metadata": {
        "id": "LHot1NT4BPf7"
      }
    },
    {
      "cell_type": "markdown",
      "source": [
        "**Q3**. What will be the Time Complexity of the given code?"
      ],
      "metadata": {
        "id": "7dGhFBEGBXg2"
      }
    },
    {
      "cell_type": "code",
      "source": [
        "def solve():\n",
        "  i = 1\n",
        "  while i < n:\n",
        "    x = i\n",
        "    while x > 0:\n",
        "      # O(1) operation\n",
        "      x -= 1\n",
        "    i += 1"
      ],
      "metadata": {
        "id": "Qt_R3-33BuwQ"
      },
      "execution_count": null,
      "outputs": []
    },
    {
      "cell_type": "markdown",
      "source": [
        "**Ans:** O(N^2)"
      ],
      "metadata": {
        "id": "0pI-bm5kBdKW"
      }
    },
    {
      "cell_type": "markdown",
      "source": [
        "**Q4.** What is the time complexity of the following code snippet?"
      ],
      "metadata": {
        "id": "vx56dvNyCbnA"
      }
    },
    {
      "cell_type": "code",
      "source": [
        "i = 0\n",
        "while i*i <= N:\n",
        "  for j in range(N+1):\n",
        "    for k in range(N+1):\n",
        "      i += 1\n",
        "      # O(1) operation\n",
        "\n",
        "  i += 1"
      ],
      "metadata": {
        "id": "Txuxi2d1Ce72"
      },
      "execution_count": null,
      "outputs": []
    },
    {
      "cell_type": "markdown",
      "source": [
        "**Ans:** O(N^2)"
      ],
      "metadata": {
        "id": "7ONadARWDZoZ"
      }
    },
    {
      "cell_type": "markdown",
      "source": [
        "**Q5**. What is the time complexity of the following code snippet?"
      ],
      "metadata": {
        "id": "5wawqtxcDdgq"
      }
    },
    {
      "cell_type": "code",
      "source": [
        "for i in range(3, n/3, 3):\n",
        "  for j in range(2, n/2, 2):\n",
        "    # O(1) operation"
      ],
      "metadata": {
        "id": "bcRq2yKaEiZ8"
      },
      "execution_count": null,
      "outputs": []
    },
    {
      "cell_type": "markdown",
      "source": [
        "**Ans:** O(N^2)"
      ],
      "metadata": {
        "id": "VJT_n-lKEh30"
      }
    },
    {
      "cell_type": "markdown",
      "source": [
        "**Q6.** Find the Time Complexity of the following function solve :"
      ],
      "metadata": {
        "id": "yY-ith-7Eyrf"
      }
    },
    {
      "cell_type": "code",
      "source": [
        "def solve():\n",
        "  for i in range(2**n):\n",
        "    j = i\n",
        "    while j > 0:\n",
        "      j -= 1"
      ],
      "metadata": {
        "id": "jyKgG39jE387"
      },
      "execution_count": null,
      "outputs": []
    },
    {
      "cell_type": "markdown",
      "source": [
        "**Ans:** O(4^N)"
      ],
      "metadata": {
        "id": "WcvHwwgfFQPK"
      }
    },
    {
      "cell_type": "markdown",
      "source": [
        "**Q7**. Find the Time Complexity of the following function solve :"
      ],
      "metadata": {
        "id": "9uZwebuxFVKW"
      }
    },
    {
      "cell_type": "code",
      "source": [
        "def fun():\n",
        "  i = 1\n",
        "  while i*i <= n:\n",
        "    j = 1\n",
        "    while j*j <= i:\n",
        "      # O(1) operation\n",
        "      j += 1\n",
        "\n",
        "    i += 1"
      ],
      "metadata": {
        "id": "CGijnQhVFbzq"
      },
      "execution_count": null,
      "outputs": []
    },
    {
      "cell_type": "markdown",
      "source": [
        "**Ans:** O(sqrt(N))"
      ],
      "metadata": {
        "id": "TU553X8SFxE3"
      }
    }
  ]
}