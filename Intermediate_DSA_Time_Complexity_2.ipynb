{
  "nbformat": 4,
  "nbformat_minor": 0,
  "metadata": {
    "colab": {
      "name": "Intermediate DSA : Time Complexity - 2.ipynb",
      "provenance": [],
      "collapsed_sections": []
    },
    "kernelspec": {
      "name": "python3",
      "display_name": "Python 3"
    },
    "language_info": {
      "name": "python"
    }
  },
  "cells": [
    {
      "cell_type": "markdown",
      "source": [
        "### Agenda\n",
        "\n",
        "\n",
        "\n",
        "> Comparing two algorithms\n",
        "\n",
        "> Asymptotic Analysis - Big O - How to find out ?\n",
        "\n",
        "> Issues with Big O Notation\n",
        "\n",
        "> Graphs to compare time complexities\n",
        "\n",
        "\n",
        "\n",
        "\n",
        "\n",
        "\n",
        "\n"
      ],
      "metadata": {
        "id": "yHaMTvfuXCmK"
      }
    },
    {
      "cell_type": "markdown",
      "source": [
        "**Trivia1:** How many iterations (for the inner loop in total) will be there in this program (no of times the inner loop runs) ?"
      ],
      "metadata": {
        "id": "ZJ9zCBJqYcL0"
      }
    },
    {
      "cell_type": "code",
      "execution_count": null,
      "metadata": {
        "id": "gXA50TvNW_6R"
      },
      "outputs": [],
      "source": [
        "# Assume N > 0\n",
        "\n",
        "s = 0\n",
        "for i in range(1, N+1, 2):\n",
        "  for j in range(1, i+1):\n",
        "    s += 1"
      ]
    },
    {
      "cell_type": "markdown",
      "source": [
        "**Ans:** (N/2)^2 iterations is n is even, ((N+1)/2)^2 iterations is n is odd"
      ],
      "metadata": {
        "id": "rVAWJfawYvpJ"
      }
    },
    {
      "cell_type": "markdown",
      "source": [
        "**Trivia2:** How many iterations (for the inner loop in total) will be there in this program (no of times the inner loop runs) ?"
      ],
      "metadata": {
        "id": "voPwV77TY7kW"
      }
    },
    {
      "cell_type": "code",
      "source": [
        "# Assume N > 0\n",
        "\n",
        "for i in range(1, N+1):\n",
        "  j = 1\n",
        "  while j <= N:\n",
        "    j = j*2"
      ],
      "metadata": {
        "id": "AfCDPEMoZff8"
      },
      "execution_count": null,
      "outputs": []
    },
    {
      "cell_type": "markdown",
      "source": [
        "**Ans:** N*LogN"
      ],
      "metadata": {
        "id": "ekgjyOIrZu4M"
      }
    },
    {
      "cell_type": "markdown",
      "source": [
        "**Trivia3:** How many iterations will be there in this loop (no of times the loop runs) ?"
      ],
      "metadata": {
        "id": "UPUzBE5aaAJ_"
      }
    },
    {
      "cell_type": "code",
      "source": [
        "s = 0\n",
        "for i in range(1, 2**N + 1):\n",
        "  s += 1"
      ],
      "metadata": {
        "id": "DAZ6c275Zg_u"
      },
      "execution_count": null,
      "outputs": []
    },
    {
      "cell_type": "markdown",
      "source": [
        "**Ans:** 2**N"
      ],
      "metadata": {
        "id": "ZErVkXfeaBiu"
      }
    },
    {
      "cell_type": "markdown",
      "source": [
        "**Trivia4:** How many iterations (for the inner loop in total) will be there in this program (no of times the inner loop runs) ?"
      ],
      "metadata": {
        "id": "Kmg0BA1RaukV"
      }
    },
    {
      "cell_type": "code",
      "source": [
        "s = 0\n",
        "for i in range(1, N+1):\n",
        "  for j in range(1, 2**i):\n",
        "    s += 1"
      ],
      "metadata": {
        "id": "0kF7sQMkaA6b"
      },
      "execution_count": null,
      "outputs": []
    },
    {
      "cell_type": "markdown",
      "source": [
        "**Ans:** 2 * ((2**N-1)/(2-1)) - N"
      ],
      "metadata": {
        "id": "3yMpViz2avIy"
      }
    },
    {
      "cell_type": "markdown",
      "source": [
        "**Iterations taken to complete an algorithm defines how good or bad it is**"
      ],
      "metadata": {
        "id": "ZNJUjyO_bMIr"
      }
    },
    {
      "cell_type": "markdown",
      "source": [
        "**Order of Time Complexities:** \n",
        "\n",
        "logN < sqrt(N) < N < (N * LogN) < (N * sqrt(N)) < N^2 < (N^2 * sqrt(N)) < N^3 < 2^N < 3^N"
      ],
      "metadata": {
        "id": "FimMc29Ychg6"
      }
    },
    {
      "cell_type": "markdown",
      "source": [
        "**Steps for Big O Notation:**\n",
        "\n",
        "\n",
        "\n",
        "> Count the no. of iterations\n",
        "\n",
        "> Drop the lower order terms\n",
        "\n",
        "> Drop the constraints\n",
        "\n",
        "**Example :** X = N^3 + NlogN + 1000000000\n",
        "\n",
        "O(X) = N^3\n",
        "\n",
        "\n",
        "\n",
        "\n",
        "\n",
        "\n",
        "\n"
      ],
      "metadata": {
        "id": "vd-Xf0wKdbuE"
      }
    },
    {
      "cell_type": "markdown",
      "source": [
        "**Quiz1:** Given F(N) = N^2 + 10*N1\n",
        "\n",
        "**Q.** Which is the following is the correct Big-O for F(N)?\n",
        "\n",
        "**Ans:** O(N) = O(N^2)"
      ],
      "metadata": {
        "id": "LdbsyZc0d-bi"
      }
    },
    {
      "cell_type": "markdown",
      "source": [
        "**Quiz2:** Given F(N) = N^3 + 10*N^2 + 8\n",
        "\n",
        "**Q.** Which is the following is the correct Big-O for F(N)?\n",
        "\n",
        "**Ans:** O(N) = O(N^3)"
      ],
      "metadata": {
        "id": "97luER-iela1"
      }
    },
    {
      "cell_type": "markdown",
      "source": [
        "**Quiz3:** Given F(N) = 4N+ 3N * log(N) + 10^6\n",
        "\n",
        "**Q.** O(F(N)) = ?\n",
        "\n",
        "**Ans:** O(N*Log(N))"
      ],
      "metadata": {
        "id": "NwxALHTVe83n"
      }
    },
    {
      "cell_type": "markdown",
      "source": [
        "**Quiz4:** Given F(N) = 3nsqrt(n) + 4logn + 2nlogn\n",
        "\n",
        "**Q.** O(F(N)) = ?\n",
        "\n",
        "**Ans:** O(nsqrt(n))"
      ],
      "metadata": {
        "id": "vN1A6OlVfJzR"
      }
    },
    {
      "cell_type": "markdown",
      "source": [
        "**Quiz5:** If we have f(N) = 2(2n),\n",
        "\n",
        "**Q:** Which of the following statements are true:\n",
        "1. f(N) = 4N\n",
        "2. f(N) is O(2n)\n",
        "3. f(N) is O(4n)\n",
        "\n",
        "**Ans:** 1 & 3"
      ],
      "metadata": {
        "id": "wt2RjxFwfbE7"
      }
    }
  ]
}