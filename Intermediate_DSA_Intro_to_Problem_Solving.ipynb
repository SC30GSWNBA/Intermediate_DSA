{
  "nbformat": 4,
  "nbformat_minor": 0,
  "metadata": {
    "colab": {
      "name": "Intermediate DSA - Intro to Problem Solving.ipynb",
      "provenance": [],
      "collapsed_sections": []
    },
    "kernelspec": {
      "name": "python3",
      "display_name": "Python 3"
    },
    "language_info": {
      "name": "python"
    }
  },
  "cells": [
    {
      "cell_type": "markdown",
      "source": [
        "### Agenda -\n",
        "\n",
        "> Need for Problem Solving\n",
        "\n",
        "> Some Fun Problems\n",
        "\n",
        "> Real World Experiences"
      ],
      "metadata": {
        "id": "jes9e2W6Ubm9"
      }
    },
    {
      "cell_type": "markdown",
      "source": [
        "**What is a Prime Number ?**\n",
        "\n",
        "Natural Numbers >=2 with factors = 2 are prime numbers."
      ],
      "metadata": {
        "id": "5YopuY8dVC9X"
      }
    },
    {
      "cell_type": "markdown",
      "source": [
        "**Quiz1:** What is the smallest prime number ?\n",
        "\n",
        "**Ans :** 2"
      ],
      "metadata": {
        "id": "UphIOFJoVOqu"
      }
    },
    {
      "cell_type": "markdown",
      "source": [
        "**Algorithm for prime number:**\n",
        "\n",
        "> Count number of factors of a given number\n",
        "\n",
        "> Check if count of factors of a given number = 2"
      ],
      "metadata": {
        "id": "TaL_061fEoVx"
      }
    },
    {
      "cell_type": "code",
      "execution_count": null,
      "metadata": {
        "id": "Wcppp6QeUQqR",
        "colab": {
          "base_uri": "https://localhost:8080/"
        },
        "outputId": "17bfd6cd-a977-4a17-e890-22b58a881c60"
      },
      "outputs": [
        {
          "output_type": "execute_result",
          "data": {
            "text/plain": [
              "True"
            ]
          },
          "metadata": {},
          "execution_count": 4
        }
      ],
      "source": [
        "# Bruteforce approach \n",
        "# No of iterations = N\n",
        "\n",
        "def IsPrime(N):\n",
        "  cnt = 0\n",
        "  for i in range(1, N+1):\n",
        "    if N%i == 0:\n",
        "      cnt += 1\n",
        "\n",
        "  return cnt == 2\n",
        "\n",
        "IsPrime(7)"
      ]
    },
    {
      "cell_type": "markdown",
      "source": [
        "**Quiz 2:** What is the count of numbers from 2 to 10?\n",
        "\n",
        "Ans: 9"
      ],
      "metadata": {
        "id": "WOFCeW-sIEWo"
      }
    },
    {
      "cell_type": "markdown",
      "source": [
        "**Factors of a number always appear in pairs**\n",
        "\n",
        "Factors of 1000 -\n",
        "\n",
        "*   (1, 1000)\n",
        "*   (2, 500)\n",
        "*   (4, 250)\n",
        "*   (5, 200)\n",
        "*   (8, 125)\n",
        "*   (10, 100)\n",
        "*   (20, 50)\n",
        "*   (25, 40)\n",
        "\n",
        "1.   If N//x == y, then both 'x' and 'y' are factors of the number, provided the number is not a perfect square.\n",
        "2.   Perfect Squares have odd number of factors."
      ],
      "metadata": {
        "id": "ljt-Pe9mIcMJ"
      }
    },
    {
      "cell_type": "code",
      "source": [
        "import math\n",
        "\n",
        "# 1 <= N <= infinity\n",
        "\n",
        "def IsPrimeOptimized(N):\n",
        "  cnt = 0\n",
        "  #print(math.floor(math.sqrt(N))+1)\n",
        "  for i in range(1, math.floor(math.sqrt(N))+1):\n",
        "    if i*i == N:\n",
        "      cnt += 1 # Handling perfect squares\n",
        "      #print(cnt)\n",
        "    elif N%i == 0:\n",
        "      cnt += 2\n",
        "      #print(cnt)\n",
        "    else:\n",
        "      pass\n",
        "\n",
        "  #print(cnt)\n",
        "\n",
        "  if cnt == 2:\n",
        "    return True\n",
        "  else:\n",
        "    return False"
      ],
      "metadata": {
        "id": "Agf3ep7_IK_h"
      },
      "execution_count": null,
      "outputs": []
    },
    {
      "cell_type": "code",
      "source": [
        "IsPrimeOptimized(31)"
      ],
      "metadata": {
        "colab": {
          "base_uri": "https://localhost:8080/"
        },
        "id": "_XCqPqOmLLfd",
        "outputId": "c5f1c56a-cd96-4de0-8322-0de549a86354"
      },
      "execution_count": null,
      "outputs": [
        {
          "output_type": "execute_result",
          "data": {
            "text/plain": [
              "True"
            ]
          },
          "metadata": {},
          "execution_count": 36
        }
      ]
    },
    {
      "cell_type": "markdown",
      "source": [
        "**Given a number N, find the perfect square of number N.**\n",
        "\n",
        "Please note you cannot use standard functions like sqrt() or (N ** 0.5)"
      ],
      "metadata": {
        "id": "5VjqbQrJOsPS"
      }
    },
    {
      "cell_type": "code",
      "source": [
        "# Function to check if a number has integral perfect square or not\n",
        "\n",
        "def FindPerfectSquare(N):\n",
        "  i = 1\n",
        "  while i * i < N:\n",
        "    i += 1\n",
        "\n",
        "  return i*i == N\n",
        "\n",
        "FindPerfectSquare(120)"
      ],
      "metadata": {
        "colab": {
          "base_uri": "https://localhost:8080/"
        },
        "id": "UupVEMcjQpin",
        "outputId": "cc24d2e7-83ed-4ecc-aa70-d1143c9e764e"
      },
      "execution_count": null,
      "outputs": [
        {
          "output_type": "execute_result",
          "data": {
            "text/plain": [
              "False"
            ]
          },
          "metadata": {},
          "execution_count": 40
        }
      ]
    },
    {
      "cell_type": "code",
      "source": [
        "# Function to find square root of perfect squares using binary search\n",
        "\n",
        "def FindPerfectSquare(N):\n",
        "  lb = 1 # Lower Bound = 1\n",
        "  ub = N # Upper Bound = N\n",
        "  ans = None\n",
        "\n",
        "  while lb <= ub:\n",
        "\n",
        "    mid_val = int((lb+ub)/2)\n",
        "\n",
        "    if mid_val*mid_val == N:\n",
        "      ans = mid_val\n",
        "      break\n",
        "\n",
        "      return mid_val\n",
        "\n",
        "    elif mid_val*mid_val < N:\n",
        "\n",
        "      lb = mid_val + 1\n",
        "      ans = mid_val\n",
        "\n",
        "    else:\n",
        "\n",
        "      ub = mid_val - 1\n",
        "\n",
        "  \n",
        "  # For computing fractional part of the square root upto 3 decimal places\n",
        "\n",
        "  step_size = 0.1\n",
        "  precision = 3\n",
        "  for i in range(0, precision): # Upto 3 decimal places\n",
        "    while ans * ans < N:\n",
        "      ans += step_size\n",
        "    \n",
        "    ans = ans - step_size\n",
        "    step_size = step_size/10\n",
        "\n",
        "  return ans\n",
        "\n",
        "\n",
        "round(FindPerfectSquare(961),2)"
      ],
      "metadata": {
        "colab": {
          "base_uri": "https://localhost:8080/"
        },
        "id": "mbh7pY24PAym",
        "outputId": "26fa0855-dea2-416a-d8cd-dcd3c220755f"
      },
      "execution_count": null,
      "outputs": [
        {
          "output_type": "execute_result",
          "data": {
            "text/plain": [
              "31.0"
            ]
          },
          "metadata": {},
          "execution_count": 52
        }
      ]
    }
  ]
}