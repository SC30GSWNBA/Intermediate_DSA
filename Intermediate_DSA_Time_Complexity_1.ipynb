{
  "nbformat": 4,
  "nbformat_minor": 0,
  "metadata": {
    "colab": {
      "name": "Intermediate DSA - Time Complexity - 1.ipynb",
      "provenance": [],
      "collapsed_sections": []
    },
    "kernelspec": {
      "name": "python3",
      "display_name": "Python 3"
    },
    "language_info": {
      "name": "python"
    }
  },
  "cells": [
    {
      "cell_type": "markdown",
      "source": [
        "### Agenda\n",
        "\n",
        "\n",
        "\n",
        "> What is Time Limit Exceeded(TLE) ? Why TLE occurs -> User Code is not optimized\n",
        "\n",
        "> Time and Space Complexities\n",
        "\n",
        "> Asymptomatic Analysis [Big O Notation]\n",
        "\n",
        "> Worst Case, Best Case, Average Case\n",
        "\n",
        "> What are iterations/counting ?\n",
        "\n",
        "\n",
        "\n",
        "\n",
        "\n",
        "\n"
      ],
      "metadata": {
        "id": "ME0vLXK_jn4b"
      }
    },
    {
      "cell_type": "markdown",
      "source": [
        "**Halving a number till 1 takes Log N Steps**\n",
        "\n",
        "2^k, 2^(k-1),........2^3, 2^2, 2^1, 2^0 - It takes exactly - log K steps to get from 2^k to 1"
      ],
      "metadata": {
        "id": "dZ-sWSyclMGk"
      }
    },
    {
      "cell_type": "markdown",
      "source": [
        "**Quiz 1:** How many times we need to divide N by 2 to reduce it to 1?\n",
        "\n",
        "**Ans :** Log N"
      ],
      "metadata": {
        "id": "vXRmgGeFlyob"
      }
    },
    {
      "cell_type": "markdown",
      "source": [
        "**Quiz2:** How many numbers are there in this range [3,10] ?\n",
        "\n",
        "**Ans:** 8\n",
        "\n",
        "**Note:** There are b-a+1 numbers in the range - [a,b], but when we write range(0, N), it is [a,b) i.e b-a numbers in the range(0, N)"
      ],
      "metadata": {
        "id": "dccRmgIOmIvx"
      }
    },
    {
      "cell_type": "markdown",
      "source": [
        "**Quiz3:** log(a^x) base a = ?\n",
        "\n",
        "**Ans:** x"
      ],
      "metadata": {
        "id": "jlEgzynnm0eW"
      }
    },
    {
      "cell_type": "markdown",
      "source": [
        "**Arithmetic Progression**\n",
        "\n",
        "Consider an Arithmetic Progression (A.P) - a, a+d, a+2d, .......... a+(n-1)d, with 1st term = a, common difference = d and number of terms = n\n",
        "\n",
        "Nth term of the A.P - a + (n-1)d\n",
        "\n",
        "Sum of the A.P - (n * (2*a + (n-1)*d))/2"
      ],
      "metadata": {
        "id": "gUMoj5BYm8wY"
      }
    },
    {
      "cell_type": "markdown",
      "source": [
        "**Geometric Progression**\n",
        "\n",
        "Consider a Geometric Progression (G.P) - a, ar, ar^2,.......ar^(n-1), with 1st term = a, common ratio = r and number of terms = n\n",
        "\n",
        "Nth term of the G.P - a * r^(n-1)\n",
        "\n",
        "Sum of the G.P - (a * (r^n - 1))/(r - 1)"
      ],
      "metadata": {
        "id": "PPhA9GCApHIg"
      }
    },
    {
      "cell_type": "markdown",
      "source": [
        "**Quiz4:** How many iterations will be there in this loop (no of times the loop runs) ?"
      ],
      "metadata": {
        "id": "X14zpfK_0O8A"
      }
    },
    {
      "cell_type": "code",
      "source": [
        "for(i=0;i<=100;i++) {...}"
      ],
      "metadata": {
        "id": "a_CxbBfH0PFQ"
      },
      "execution_count": null,
      "outputs": []
    },
    {
      "cell_type": "markdown",
      "source": [
        "**Ans:** 101"
      ],
      "metadata": {
        "id": "Ug_1cLiw0PNf"
      }
    },
    {
      "cell_type": "markdown",
      "source": [
        "**Quiz5:** How many iterations will be there in this loop (no of times the loop runs) ?"
      ],
      "metadata": {
        "id": "A99wmaevuLd8"
      }
    },
    {
      "cell_type": "code",
      "source": [
        "s = 0\n",
        "for i in range(0, 101):\n",
        "    s = s + i"
      ],
      "metadata": {
        "id": "QW5fM6j2lToG"
      },
      "execution_count": null,
      "outputs": []
    },
    {
      "cell_type": "markdown",
      "source": [
        "**Ans:** 101"
      ],
      "metadata": {
        "id": "8DJJAWcwwhbP"
      }
    },
    {
      "cell_type": "markdown",
      "source": [
        "**Quiz6:** How many iterations will be there in this loop (no of times the loop runs) ?"
      ],
      "metadata": {
        "id": "Ylwo4udZwmzO"
      }
    },
    {
      "cell_type": "code",
      "source": [
        "# Assume N > 0\n",
        "\n",
        "s = 0\n",
        "for i in range(1, N+1):\n",
        "    s = s + i"
      ],
      "metadata": {
        "id": "vdGvGv3_w3UJ"
      },
      "execution_count": null,
      "outputs": []
    },
    {
      "cell_type": "markdown",
      "source": [
        "**Ans:** N"
      ],
      "metadata": {
        "id": "x0-5YDjOw36w"
      }
    },
    {
      "cell_type": "markdown",
      "source": [
        "**Quiz7:** How many iterations will be there in this loop (no of times the loop runs) ?"
      ],
      "metadata": {
        "id": "BN1Zj7TayX2Z"
      }
    },
    {
      "cell_type": "code",
      "source": [
        "# Assume N > 0\n",
        "\n",
        "i = 1\n",
        "while i*i <= N:\n",
        "    i += 1"
      ],
      "metadata": {
        "id": "JZ2O3IvxyYh6"
      },
      "execution_count": null,
      "outputs": []
    },
    {
      "cell_type": "markdown",
      "source": [
        "**Ans:** sqrt(N)"
      ],
      "metadata": {
        "id": "6Rg-Kj35yZ0S"
      }
    },
    {
      "cell_type": "markdown",
      "source": [
        "**Quiz8:** How many iterations will be there in this loop (no of times the loop runs) ?"
      ],
      "metadata": {
        "id": "glvHST1Ky6h9"
      }
    },
    {
      "cell_type": "code",
      "source": [
        "# Assume N > 0\n",
        "\n",
        "i = N\n",
        "while i > 1:\n",
        "    i = i // 2"
      ],
      "metadata": {
        "id": "kkvNm3SfzdHk"
      },
      "execution_count": null,
      "outputs": []
    },
    {
      "cell_type": "markdown",
      "source": [
        "**Ans:** Log N"
      ],
      "metadata": {
        "id": "IGyphOcMzxcu"
      }
    },
    {
      "cell_type": "markdown",
      "source": [
        "**Quiz9:** How many iterations will be there in this loop (no of times the loop runs) ?"
      ],
      "metadata": {
        "id": "HoYrkh6q1Cje"
      }
    },
    {
      "cell_type": "code",
      "source": [
        "# Assume N > 0\n",
        "\n",
        "i = 0\n",
        "while i <= N:\n",
        "    i *= 2"
      ],
      "metadata": {
        "id": "aC6V3nse1C-H"
      },
      "execution_count": null,
      "outputs": []
    },
    {
      "cell_type": "markdown",
      "source": [
        "**Ans:** Infinite"
      ],
      "metadata": {
        "id": "kE8D6rfE1DFJ"
      }
    },
    {
      "cell_type": "markdown",
      "source": [
        "**Quiz10:** How many iterations will be there in this loop (no of times the loop runs) ?"
      ],
      "metadata": {
        "id": "MPLKDBwN1QyL"
      }
    },
    {
      "cell_type": "code",
      "source": [
        "# Assume N > 0\n",
        "\n",
        "i = 1\n",
        "while i <= N:\n",
        "    i *= 2"
      ],
      "metadata": {
        "id": "D986cZri1RS9"
      },
      "execution_count": null,
      "outputs": []
    },
    {
      "cell_type": "markdown",
      "source": [
        "**Ans:** Log N"
      ],
      "metadata": {
        "id": "gBfHQzJi1Thf"
      }
    },
    {
      "cell_type": "markdown",
      "source": [
        "**Quiz11:** How many iterations (for the inner loop in total) will be there in this program (no of times the inner loop runs) ?"
      ],
      "metadata": {
        "id": "P2lpOADJ1bfW"
      }
    },
    {
      "cell_type": "code",
      "source": [
        "# Assume N > 0\n",
        "\n",
        "s = 0\n",
        "for i in range(1, 11):\n",
        "  for j in range(1, N + 1):\n",
        "    s += 1"
      ],
      "metadata": {
        "id": "LXIX2SJ91b4n"
      },
      "execution_count": null,
      "outputs": []
    },
    {
      "cell_type": "markdown",
      "source": [
        "**Ans:** 10N"
      ],
      "metadata": {
        "id": "2lpTuYWl1cBI"
      }
    },
    {
      "cell_type": "markdown",
      "source": [
        "**Quiz12:** How many iterations (for the inner loop in total) will be there in this program (no of times the inner loop runs) ?"
      ],
      "metadata": {
        "id": "qE3wUZo514kA"
      }
    },
    {
      "cell_type": "code",
      "source": [
        "# Assume N > 0\n",
        "\n",
        "s = 0\n",
        "for i in range(0, N):\n",
        "  for j in range(0, N):\n",
        "    s += 1"
      ],
      "metadata": {
        "id": "g12dRhZK143A"
      },
      "execution_count": null,
      "outputs": []
    },
    {
      "cell_type": "markdown",
      "source": [
        "**Ans:** N^2"
      ],
      "metadata": {
        "id": "wWdWB4Tb1491"
      }
    },
    {
      "cell_type": "markdown",
      "source": [
        "**Quiz13:** How many iterations (for the inner loop in total) will be there in this program (no of times the inner loop runs) ?"
      ],
      "metadata": {
        "id": "4p7haGD-2OGf"
      }
    },
    {
      "cell_type": "code",
      "source": [
        "# Assume N > 0\n",
        "\n",
        "s = 0\n",
        "for i in range(0, N):\n",
        "  for j in range(0, i + 1):\n",
        "    s += 1"
      ],
      "metadata": {
        "id": "7ZmCOeEs2R3n"
      },
      "execution_count": null,
      "outputs": []
    },
    {
      "cell_type": "markdown",
      "source": [
        "**Ans:** (N * (N + 1))/2"
      ],
      "metadata": {
        "id": "44n15Ger2R-S"
      }
    }
  ]
}