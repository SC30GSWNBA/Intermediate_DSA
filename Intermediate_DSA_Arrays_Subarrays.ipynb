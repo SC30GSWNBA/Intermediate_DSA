{
  "nbformat": 4,
  "nbformat_minor": 0,
  "metadata": {
    "colab": {
      "name": "Intermediate DSA : Arrays : Subarrays.ipynb",
      "provenance": [],
      "collapsed_sections": []
    },
    "kernelspec": {
      "name": "python3",
      "display_name": "Python 3"
    },
    "language_info": {
      "name": "python"
    }
  },
  "cells": [
    {
      "cell_type": "markdown",
      "source": [
        "# Agenda\n",
        "\n",
        "\n",
        "\n",
        "1.   Introduction to Subarrays - Definition, Number of subarrays, Generating subarrays\n",
        "2.   Maximum subarray sum\n",
        "\n",
        "1.   Number of subarrays with length K\n",
        "\n",
        "1.   Maximum subarray sum with length K\n",
        "\n",
        "1.   Total max subarray sum\n",
        "\n",
        "\n"
      ],
      "metadata": {
        "id": "1Vf96rJB_Q6C"
      }
    },
    {
      "cell_type": "markdown",
      "source": [
        "**Subarray:** It is contiguous segment/section of an array\n",
        "\n",
        "**Please Note:** An array is a subarray of itself. i.e [1,2,3] is a subarray of [1,2,3]\n",
        "\n",
        "[1],[1,2],[2,3] are subarray of [1,2,3] because they are contiguous section of an array but [1,3] is not a subarray of [1,2,3], because it is not a contiguous section of an array.\n",
        "\n",
        "**Please Note:** A subarray cannot be empty i.e [ ] is not a valid subarray\n",
        "\n"
      ],
      "metadata": {
        "id": "2sut9M6DGsI6"
      }
    },
    {
      "cell_type": "markdown",
      "source": [
        "**Representation of a subarray:** Subarrays are represented by start index and end index i.e [s,e], where s <= i <= e, i is inside the subarray."
      ],
      "metadata": {
        "id": "O2ai3H6FIc44"
      }
    },
    {
      "cell_type": "markdown",
      "source": [
        "**Total number of subarrays:** Total number of subarrays for a given array of length N is ((N+1)*N)/2\n",
        "\n",
        "**For Example:** [1,2,3] has 6 subarrays -> [1],[2],[3],[1,2],[2,3],[1,2,3]"
      ],
      "metadata": {
        "id": "ggbNitk2J0k9"
      }
    },
    {
      "cell_type": "markdown",
      "source": [
        "**Quiz1:** Number of subarrays in the given array? [4, 2, 10, 3, 12, -2, 15]\n",
        "\n",
        "**Ans:** 28"
      ],
      "metadata": {
        "id": "2rfybjt2KQPF"
      }
    },
    {
      "cell_type": "markdown",
      "source": [
        "**Class Question1:** Given an array with starting index and end index, find the subarray."
      ],
      "metadata": {
        "id": "_VQ8ijC7MgG-"
      }
    },
    {
      "cell_type": "code",
      "source": [
        "arr =  [4, 2, 10, 3, 12, -2, 15]\n",
        "start = 1 # start index\n",
        "end = 5 # end index\n",
        "\n",
        "def PrintSubarray(a, s, e):\n",
        "\n",
        "  for i in range(s, e+1):\n",
        "\n",
        "    print(a[i], end = ' ')\n",
        "\n",
        "PrintSubarray(arr, start, end)\n"
      ],
      "metadata": {
        "colab": {
          "base_uri": "https://localhost:8080/"
        },
        "id": "js8PriyLKPLp",
        "outputId": "13676372-77a8-4091-fb0e-788c365c80d4"
      },
      "execution_count": 2,
      "outputs": [
        {
          "output_type": "stream",
          "name": "stdout",
          "text": [
            "2 10 3 12 -2 "
          ]
        }
      ]
    },
    {
      "cell_type": "markdown",
      "source": [
        "For the above problem, **T.C** -> O(N), **S.C** -> O(1)"
      ],
      "metadata": {
        "id": "HQ4ScuXZPGCD"
      }
    },
    {
      "cell_type": "markdown",
      "source": [
        "**Class Question2:** Print all possible subarrays of [4, 2, 10, 3, 12, -2, 15]"
      ],
      "metadata": {
        "id": "EM_4Y8ufOPgG"
      }
    },
    {
      "cell_type": "code",
      "execution_count": 3,
      "metadata": {
        "colab": {
          "base_uri": "https://localhost:8080/"
        },
        "id": "Qr2m2lvA_Fq7",
        "outputId": "ea570446-5f2e-4c89-f47b-bdd763d74ab2"
      },
      "outputs": [
        {
          "output_type": "stream",
          "name": "stdout",
          "text": [
            "4 \n",
            "4 2 \n",
            "4 2 10 \n",
            "4 2 10 3 \n",
            "4 2 10 3 12 \n",
            "4 2 10 3 12 -2 \n",
            "4 2 10 3 12 -2 15 \n",
            "------------------\n",
            "2 \n",
            "2 10 \n",
            "2 10 3 \n",
            "2 10 3 12 \n",
            "2 10 3 12 -2 \n",
            "2 10 3 12 -2 15 \n",
            "------------------\n",
            "10 \n",
            "10 3 \n",
            "10 3 12 \n",
            "10 3 12 -2 \n",
            "10 3 12 -2 15 \n",
            "------------------\n",
            "3 \n",
            "3 12 \n",
            "3 12 -2 \n",
            "3 12 -2 15 \n",
            "------------------\n",
            "12 \n",
            "12 -2 \n",
            "12 -2 15 \n",
            "------------------\n",
            "-2 \n",
            "-2 15 \n",
            "------------------\n",
            "15 \n",
            "------------------\n"
          ]
        }
      ],
      "source": [
        "n = len(arr) #Length of the subarray\n",
        "\n",
        "for i in range(0, n):\n",
        "  for j in range(i, n):\n",
        "    # Calling the PrintSubarray Function to print all possible subarrays\n",
        "    PrintSubarray(arr, i, j)\n",
        "    print('')\n",
        "  print('------------------')"
      ]
    },
    {
      "cell_type": "markdown",
      "source": [
        "For the above problem, **T.C** -> O(N^3), **S.C** -> O(1)"
      ],
      "metadata": {
        "id": "XK1Xbz5eQYth"
      }
    },
    {
      "cell_type": "markdown",
      "source": [
        "**Quiz2:** What will be the time complexity of printing all the subarrays?\n",
        "\n",
        "**Ans:** O(N^3)"
      ],
      "metadata": {
        "id": "Zx5ekiK6RVnv"
      }
    },
    {
      "cell_type": "markdown",
      "source": [
        "**Class Question3:** What is the maximum possible subarray sum for the array [4, 2, 10, 3, 12, -2, 15] ?"
      ],
      "metadata": {
        "id": "jGhhGw4-QcNd"
      }
    },
    {
      "cell_type": "code",
      "source": [
        "# Method1: Bruteforce Approach\n",
        "\n",
        "def MaxSubarraySum(a):\n",
        "\n",
        "  max_sum = -999999999999999\n",
        "\n",
        "  n = len(a)\n",
        "\n",
        "  for i in range(n):\n",
        "\n",
        "    for j in range(i, n):\n",
        "\n",
        "      subarray_sum = 0\n",
        "\n",
        "      for k in range(i, j+1):\n",
        "\n",
        "        subarray_sum += a[k]\n",
        "\n",
        "      max_sum = max(subarray_sum, max_sum)\n",
        "\n",
        "\n",
        "  return max_sum\n",
        "\n",
        "\n",
        "print(MaxSubarraySum([4, 2, 10, 3, 12, -2, 15]))"
      ],
      "metadata": {
        "colab": {
          "base_uri": "https://localhost:8080/"
        },
        "id": "Vi3MKE84RLEu",
        "outputId": "6b9a26bf-eb94-434f-8869-dc0c5bfdede6"
      },
      "execution_count": 4,
      "outputs": [
        {
          "output_type": "stream",
          "name": "stdout",
          "text": [
            "44\n"
          ]
        }
      ]
    },
    {
      "cell_type": "markdown",
      "source": [
        "For the above problem, **T.C** -> O(N^3), **S.C** -> O(1)"
      ],
      "metadata": {
        "id": "Ci6Sr-JtS_TV"
      }
    },
    {
      "cell_type": "code",
      "source": [
        "# Method2: Prefix Sum Approach\n",
        "\n",
        "def MaxSubarraySum(a):\n",
        "\n",
        "  max_sum = -999999999999999\n",
        "\n",
        "  n = len(a)\n",
        "\n",
        "  total = 0\n",
        "\n",
        "  PS = []\n",
        "\n",
        "  for i in range(n):\n",
        "\n",
        "    total += a[i]\n",
        "    PS.append(total)\n",
        "\n",
        "  print(f'Prefix Sum Array : {PS}')\n",
        "\n",
        "  for i in range(n):\n",
        "\n",
        "    for j in range(i, n):\n",
        "\n",
        "      if i == 0:\n",
        "        \n",
        "        subarray_sum = PS[j]\n",
        "\n",
        "      else:\n",
        "\n",
        "        subarray_sum = PS[j] - PS[i-1]\n",
        "\n",
        "      max_sum = max(subarray_sum, max_sum)\n",
        "\n",
        "  return max_sum\n",
        "\n",
        "\n",
        "print(MaxSubarraySum([4, 2, 10, 3, 12, -2, 15]))"
      ],
      "metadata": {
        "colab": {
          "base_uri": "https://localhost:8080/"
        },
        "id": "8D-LSof7U7b2",
        "outputId": "48952682-364d-487e-aaa5-123acc16d652"
      },
      "execution_count": 5,
      "outputs": [
        {
          "output_type": "stream",
          "name": "stdout",
          "text": [
            "Prefix Sum Array : [4, 6, 16, 19, 31, 29, 44]\n",
            "44\n"
          ]
        }
      ]
    },
    {
      "cell_type": "markdown",
      "source": [
        "For the above problem, **T.C** -> O(N^2), **S.C** -> O(N)"
      ],
      "metadata": {
        "id": "mAqKJWN8WUKh"
      }
    },
    {
      "cell_type": "code",
      "source": [
        "# Method 3 - Carry Forward Approach\n",
        "\n",
        "def MaxSubarraySum(a):\n",
        "\n",
        "  max_sum = -999999999999999\n",
        "\n",
        "  n = len(a)\n",
        "\n",
        "  for i in range(n):\n",
        "\n",
        "    subarray_sum = 0\n",
        "\n",
        "    for j in range(i, n):\n",
        "\n",
        "      subarray_sum += a[j]\n",
        "\n",
        "      max_sum = max(subarray_sum, max_sum)\n",
        "\n",
        "  return max_sum\n",
        "\n",
        "\n",
        "print(MaxSubarraySum([4, 2, 10, 3, 12, -2, 15]))"
      ],
      "metadata": {
        "colab": {
          "base_uri": "https://localhost:8080/"
        },
        "id": "xwXKIk-bUQXM",
        "outputId": "c1dcee11-6ad0-45a7-83ff-17b0688d7f66"
      },
      "execution_count": 6,
      "outputs": [
        {
          "output_type": "stream",
          "name": "stdout",
          "text": [
            "44\n"
          ]
        }
      ]
    },
    {
      "cell_type": "code",
      "source": [
        "# Method 4 - Cadense Algorithm\n",
        "\n",
        "def MaxSubarraySum(a):\n",
        "\n",
        "  max_sum = -999999999999999\n",
        "\n",
        "  n = len(a)\n",
        "\n",
        "  check_sum = 0\n",
        "\n",
        "  for i in range(n):\n",
        "\n",
        "    check_sum += a[i]\n",
        "\n",
        "    if check_sum > max_sum:\n",
        "\n",
        "      max_sum = check_sum\n",
        "\n",
        "    if check_sum < 0:\n",
        "\n",
        "      check_sum = 0\n",
        "\n",
        "  return max_sum\n",
        "\n",
        "\n",
        "print(MaxSubarraySum([-4, -2, -10, -3, -12, -2, -15]))\n",
        "print(MaxSubarraySum([4, 2, -10, 3, 12, -2, 15]))\n",
        "print(MaxSubarraySum([-4, -2, -10, -3, 12, -2, 15]))\n",
        "print(MaxSubarraySum([4, 2, 10, 3, 12, -2, 15]))"
      ],
      "metadata": {
        "colab": {
          "base_uri": "https://localhost:8080/"
        },
        "id": "07mz5Kap2kWZ",
        "outputId": "7c07fac7-8d47-402e-a48c-3cd2f5adf72a"
      },
      "execution_count": 9,
      "outputs": [
        {
          "output_type": "stream",
          "name": "stdout",
          "text": [
            "-2\n",
            "28\n",
            "25\n",
            "44\n"
          ]
        }
      ]
    },
    {
      "cell_type": "markdown",
      "source": [
        "For the above problem, **T.C** -> O(N), **S.C** -> O(1)"
      ],
      "metadata": {
        "id": "sb0z5f_hU2F8"
      }
    },
    {
      "cell_type": "markdown",
      "source": [
        "**Class Question4:** Given an array [1, 2, 3, 4, 5, 6], find how many subarrays will have 2 in it ?\n",
        "\n",
        "**Ans:** 10\n",
        "\n",
        "**Please Note:** Any element at ith index will occur in **(i+1)** * **(n-i)** subarrays of the array, where n is the length of the array."
      ],
      "metadata": {
        "id": "qflLPvyGYqwt"
      }
    },
    {
      "cell_type": "markdown",
      "source": [
        "**Class Question5:** Given an array [1, 2, 3, 4, 5, 6], find the sum of all possible subarrays.\n",
        "\n",
        "**Please Note:** For any array with n elements, sum of all possible subarrays = summation of product of the element at index i and the number of times the element occurs in all possible subarrays i.e"
      ],
      "metadata": {
        "id": "UO_H2LJLakr5"
      }
    },
    {
      "cell_type": "markdown",
      "source": [
        "![Sum of all possible subarrays.JPG](data:image/jpeg;base64,/9j/4AAQSkZJRgABAQEAYABgAAD/4RD6RXhpZgAATU0AKgAAAAgABAE7AAIAAAAQAAAISodpAAQAAAABAAAIWpydAAEAAAAgAAAQ0uocAAcAAAgMAAAAPgAAAAAc6gAAAAgAAAAAAAAAAAAAAAAAAAAAAAAAAAAAAAAAAAAAAAAAAAAAAAAAAAAAAAAAAAAAAAAAAAAAAAAAAAAAAAAAAAAAAAAAAAAAAAAAAAAAAAAAAAAAAAAAAAAAAAAAAAAAAAAAAAAAAAAAAAAAAAAAAAAAAAAAAAAAAAAAAAAAAAAAAAAAAAAAAAAAAAAAAAAAAAAAAAAAAAAAAAAAAAAAAAAAAAAAAAAAAAAAAAAAAAAAAAAAAAAAAAAAAAAAAAAAAAAAAAAAAAAAAAAAAAAAAAAAAAAAAAAAAAAAAAAAAAAAAAAAAAAAAAAAAAAAAAAAAAAAAAAAAAAAAAAAAAAAAAAAAAAAAAAAAAAAAAAAAAAAAAAAAAAAAAAAAAAAAAAAAAAAAAAAAAAAAAAAAAAAAAAAAAAAAAAAAAAAAAAAAAAAAAAAAAAAAAAAAAAAAAAAAAAAAAAAAAAAAAAAAAAAAAAAAAAAAAAAAAAAAAAAAAAAAAAAAAAAAAAAAAAAAAAAAAAAAAAAAAAAAAAAAAAAAAAAAAAAAAAAAAAAAAAAAAAAAAAAAAAAAAAAAAAAAAAAAAAAAAAAAAAAAAAAAAAAAAAAAAAAAAAAAAAAAAAAAAAAAAAAAAAAAAAAAAAAAAAAAAAAAAAAAAAAAAAAAAAAAAAAAAAAAAAAAAAAAAAAAAAAAAAAAAAAAAAAAAAAAAAAAAAAAAAAAAAAAAAAAAAAAAAAAAAAAAAAAAAAAAAAAAAAAAAAAAAAAAAAAAAAAAAAAAAAAAAAAAAAAAAAAAAAAAAAAAAAAAAAAAAAAAAAAAAAAAAAAAAAAAAAAAAAAAAAAAAAAAAAAAAAAAAAAAAAAAAAAAAAAAAAAAAAAAAAAAAAAAAAAAAAAAAAAAAAAAAAAAAAAAAAAAAAAAAAAAAAAAAAAAAAAAAAAAAAAAAAAAAAAAAAAAAAAAAAAAAAAAAAAAAAAAAAAAAAAAAAAAAAAAAAAAAAAAAAAAAAAAAAAAAAAAAAAAAAAAAAAAAAAAAAAAAAAAAAAAAAAAAAAAAAAAAAAAAAAAAAAAAAAAAAAAAAAAAAAAAAAAAAAAAAAAAAAAAAAAAAAAAAAAAAAAAAAAAAAAAAAAAAAAAAAAAAAAAAAAAAAAAAAAAAAAAAAAAAAAAAAAAAAAAAAAAAAAAAAAAAAAAAAAAAAAAAAAAAAAAAAAAAAAAAAAAAAAAAAAAAAAAAAAAAAAAAAAAAAAAAAAAAAAAAAAAAAAAAAAAAAAAAAAAAAAAAAAAAAAAAAAAAAAAAAAAAAAAAAAAAAAAAAAAAAAAAAAAAAAAAAAAAAAAAAAAAAAAAAAAAAAAAAAAAAAAAAAAAAAAAAAAAAAAAAAAAAAAAAAAAAAAAAAAAAAAAAAAAAAAAAAAAAAAAAAAAAAAAAAAAAAAAAAAAAAAAAAAAAAAAAAAAAAAAAAAAAAAAAAAAAAAAAAAAAAAAAAAAAAAAAAAAAAAAAAAAAAAAAAAAAAAAAAAAAAAAAAAAAAAAAAAAAAAAAAAAAAAAAAAAAAAAAAAAAAAAAAAAAAAAAAAAAAAAAAAAAAAAAAAAAAAAAAAAAAAAAAAAAAAAAAAAAAAAAAAAAAAAAAAAAAAAAAAAAAAAAAAAAAAAAAAAAAAAAAAAAAAAAAAAAAAAAAAAAAAAAAAAAAAAAAAAAAAAAAAAAAAAAAAAAAAAAAAAAAAAAAAAAAAAAAAAAAAAAAAAAAAAAAAAAAAAAAAAAAAAAAAAAAAAAAAAAAAAAAAAAAAAAAAAAAAAAAAAAAAAAAAAAAAAAAAAAAAAAAAAAAAAAAAAAAAAAAAAAAAAAAAAAAAAAAAAAAAAAAAAAAAAAAAAAAAAAAAAAAAAAAAAAAAAAAAAAAAAAAAAAAAAAAAAAAAAAAAAAAAAAAAAAAAAAAAAAAAAAAAAAAAAAAAAAAAAAAAAAAAAAAAAAAAAAAAAAAAAAAAAAAAAAAAAAAAAAAAAAAAAAAAAAAAAAAAAAAAAAAAAAAAAAAAAAAAAAAAAAAAAAAAAAAAAAAAAAAAAAAAAAAAAAAAAAAAAAAAAAAAAAAAAAAAAAAAAAAAAAAAAAAAAAAAAAAAAAAAAAAAAAAAAAAAAAAAAAAAAAAAAAAAAAAAAAAAAAAAAAAAAAAAAAAAAAAAAAAAAAAAAAAAAAAAAAAAAAAAAAAAAAAAAAAAAAAAAAAAAAAAAAAAAAAAAAAAAAAAAAAAAAAAAAAAAAAAAAAAAAAAAAAAAAAAAAAAAAAAAAAAAAAAAAAAAAAAAAAAAAAAAAAAAAAAAAAAAAAAAAAAAAAAAAAAAAAAAAAAAAAAAAAAAAAAAAAAAAAAAAAAAAAAAAAAAAAAAAAAAAAAAAAAAAAAAAAAAAAAAAAAAAAAAAAAAAAAAAAAAAAAAAAAAAAAAAAAAAAAAAAAAAAAAAAAAAAAAAAAAAAAAAAAAAAAAAAAAAAAAAAAAAAAAAAAAAAAAAAAAAAAAAAAAAAAAAAAAAAAAAAAAAAAAAAAAAAAAAAAAAAAAAAAAAAAAAAAAAAAAAAAAAAAAAAAAAAAAAAAAAAAAAAAAAAAAAAAAAAAAAAAAAAAAAAAAAAAAAAAAAAAAAAAAAAAAAAAAAAAAAAAAAAAAAAAAAAAAAAAAAAAAAAAAAAAAAAAAAAAAAAAAAAAAAAAAAAAAAAAAAAAAAAAAAAAAAAAAAAAAAAAAAAAAAAAAAAAAAAAAAAAAAAAAAAAAAAAAAEJpbGxpb25haXJlU1JveQAABZADAAIAAAAUAAAQqJAEAAIAAAAUAAAQvJKRAAIAAAADMjcAAJKSAAIAAAADMjcAAOocAAcAAAgMAAAInAAAAAAc6gAAAAgAAAAAAAAAAAAAAAAAAAAAAAAAAAAAAAAAAAAAAAAAAAAAAAAAAAAAAAAAAAAAAAAAAAAAAAAAAAAAAAAAAAAAAAAAAAAAAAAAAAAAAAAAAAAAAAAAAAAAAAAAAAAAAAAAAAAAAAAAAAAAAAAAAAAAAAAAAAAAAAAAAAAAAAAAAAAAAAAAAAAAAAAAAAAAAAAAAAAAAAAAAAAAAAAAAAAAAAAAAAAAAAAAAAAAAAAAAAAAAAAAAAAAAAAAAAAAAAAAAAAAAAAAAAAAAAAAAAAAAAAAAAAAAAAAAAAAAAAAAAAAAAAAAAAAAAAAAAAAAAAAAAAAAAAAAAAAAAAAAAAAAAAAAAAAAAAAAAAAAAAAAAAAAAAAAAAAAAAAAAAAAAAAAAAAAAAAAAAAAAAAAAAAAAAAAAAAAAAAAAAAAAAAAAAAAAAAAAAAAAAAAAAAAAAAAAAAAAAAAAAAAAAAAAAAAAAAAAAAAAAAAAAAAAAAAAAAAAAAAAAAAAAAAAAAAAAAAAAAAAAAAAAAAAAAAAAAAAAAAAAAAAAAAAAAAAAAAAAAAAAAAAAAAAAAAAAAAAAAAAAAAAAAAAAAAAAAAAAAAAAAAAAAAAAAAAAAAAAAAAAAAAAAAAAAAAAAAAAAAAAAAAAAAAAAAAAAAAAAAAAAAAAAAAAAAAAAAAAAAAAAAAAAAAAAAAAAAAAAAAAAAAAAAAAAAAAAAAAAAAAAAAAAAAAAAAAAAAAAAAAAAAAAAAAAAAAAAAAAAAAAAAAAAAAAAAAAAAAAAAAAAAAAAAAAAAAAAAAAAAAAAAAAAAAAAAAAAAAAAAAAAAAAAAAAAAAAAAAAAAAAAAAAAAAAAAAAAAAAAAAAAAAAAAAAAAAAAAAAAAAAAAAAAAAAAAAAAAAAAAAAAAAAAAAAAAAAAAAAAAAAAAAAAAAAAAAAAAAAAAAAAAAAAAAAAAAAAAAAAAAAAAAAAAAAAAAAAAAAAAAAAAAAAAAAAAAAAAAAAAAAAAAAAAAAAAAAAAAAAAAAAAAAAAAAAAAAAAAAAAAAAAAAAAAAAAAAAAAAAAAAAAAAAAAAAAAAAAAAAAAAAAAAAAAAAAAAAAAAAAAAAAAAAAAAAAAAAAAAAAAAAAAAAAAAAAAAAAAAAAAAAAAAAAAAAAAAAAAAAAAAAAAAAAAAAAAAAAAAAAAAAAAAAAAAAAAAAAAAAAAAAAAAAAAAAAAAAAAAAAAAAAAAAAAAAAAAAAAAAAAAAAAAAAAAAAAAAAAAAAAAAAAAAAAAAAAAAAAAAAAAAAAAAAAAAAAAAAAAAAAAAAAAAAAAAAAAAAAAAAAAAAAAAAAAAAAAAAAAAAAAAAAAAAAAAAAAAAAAAAAAAAAAAAAAAAAAAAAAAAAAAAAAAAAAAAAAAAAAAAAAAAAAAAAAAAAAAAAAAAAAAAAAAAAAAAAAAAAAAAAAAAAAAAAAAAAAAAAAAAAAAAAAAAAAAAAAAAAAAAAAAAAAAAAAAAAAAAAAAAAAAAAAAAAAAAAAAAAAAAAAAAAAAAAAAAAAAAAAAAAAAAAAAAAAAAAAAAAAAAAAAAAAAAAAAAAAAAAAAAAAAAAAAAAAAAAAAAAAAAAAAAAAAAAAAAAAAAAAAAAAAAAAAAAAAAAAAAAAAAAAAAAAAAAAAAAAAAAAAAAAAAAAAAAAAAAAAAAAAAAAAAAAAAAAAAAAAAAAAAAAAAAAAAAAAAAAAAAAAAAAAAAAAAAAAAAAAAAAAAAAAAAAAAAAAAAAAAAAAAAAAAAAAAAAAAAAAAAAAAAAAAAAAAAAAAAAAAAAAAAAAAAAAAAAAAAAAAAAAAAAAAAAAAAAAAAAAAAAAAAAAAAAAAAAAAAAAAAAAAAAAAAAAAAAAAAAAAAAAAAAAAAAAAAAAAAAAAAAAAAAAAAAAAAAAAAAAAAAAAAAAAAAAAAAAAAAAAAAAAAAAAAAAAAAAAAAAAAAAAAAAAAAAAAAAAAAAAAAAAAAAAAAAAAAAAAAAAAAAAAAAAAAAAAAAAAAAAAAAAAAAAAAAAAAAAAAAAAAAAAAAAAAAAAAAAAAAAAAAAAAAAAAAAAAAAAAAAAAAAAAAAAAAAAAAAAAAAAAAAAAAAAAAAAAAAAAAAAAAAAAAAAAAAAAAAAAAAAAAAAAAAAAAAAAAAAAAAAAAAAAAAAAAAAAAAAAAAAAAAAAAAAAAAAAAAAAAAAAAAAAAAAAAAAAAAAAAAAAAAAAAAAAAAAAAAAAAAAAAAAAAAAAAAAAAAAAAAAAAAAAAAAAAAAAAAAAAAAAAAAAAAAAAAAAAAAAAAAAAAAAAAAAAAAAAAAAAAAAAAAAAAAAAAAAAAAAAAAAAAAAAAAAAAAAAAAAAAAAAAAAAAAAAAAAAAAAAAAAAAAAAAAAAAAAAAAAAAAAAAAAAAAAAAAAAAAAAAAAAAAAAAAAAAAAAAAAAAAAAAAAAAAAAAAAAAAAAAAAAAAAAAAAAAAAAAAAAAAAAAAAAAAAAAAAAAAAAAAAAAAAAAAAAAAAAAAAAAAAAAAAAAAAAAAAAAAAAAAAAAAAAAAAAAAAAAAAAAAAAAAAAAAAAAAAAAAAAAAAAAAAAAAAAAAAAAAAAAAAAAAAAAAAAAAAAAAAAAAAAAAAAAAAAAAAAAAAAAAAAAAAAAAAAAAAAAAAAAAAAAAAAAAAAAAAAAAAAAAAAAAAAAAAAAAAAAAAAAAAAAAAAAAAAAAAAAAAAAAAAAAAAAAAAAAAAAAAAAAAADIwMjI6MDc6MDcgMDc6NDY6MDQAMjAyMjowNzowNyAwNzo0NjowNAAAAEIAaQBsAGwAaQBvAG4AYQBpAHIAZQBTAFIAbwB5AAAA/+ELImh0dHA6Ly9ucy5hZG9iZS5jb20veGFwLzEuMC8APD94cGFja2V0IGJlZ2luPSfvu78nIGlkPSdXNU0wTXBDZWhpSHpyZVN6TlRjemtjOWQnPz4NCjx4OnhtcG1ldGEgeG1sbnM6eD0iYWRvYmU6bnM6bWV0YS8iPjxyZGY6UkRGIHhtbG5zOnJkZj0iaHR0cDovL3d3dy53My5vcmcvMTk5OS8wMi8yMi1yZGYtc3ludGF4LW5zIyI+PHJkZjpEZXNjcmlwdGlvbiByZGY6YWJvdXQ9InV1aWQ6ZmFmNWJkZDUtYmEzZC0xMWRhLWFkMzEtZDMzZDc1MTgyZjFiIiB4bWxuczpkYz0iaHR0cDovL3B1cmwub3JnL2RjL2VsZW1lbnRzLzEuMS8iLz48cmRmOkRlc2NyaXB0aW9uIHJkZjphYm91dD0idXVpZDpmYWY1YmRkNS1iYTNkLTExZGEtYWQzMS1kMzNkNzUxODJmMWIiIHhtbG5zOnhtcD0iaHR0cDovL25zLmFkb2JlLmNvbS94YXAvMS4wLyI+PHhtcDpDcmVhdGVEYXRlPjIwMjItMDctMDdUMDc6NDY6MDQuMjY1PC94bXA6Q3JlYXRlRGF0ZT48L3JkZjpEZXNjcmlwdGlvbj48cmRmOkRlc2NyaXB0aW9uIHJkZjphYm91dD0idXVpZDpmYWY1YmRkNS1iYTNkLTExZGEtYWQzMS1kMzNkNzUxODJmMWIiIHhtbG5zOmRjPSJodHRwOi8vcHVybC5vcmcvZGMvZWxlbWVudHMvMS4xLyI+PGRjOmNyZWF0b3I+PHJkZjpTZXEgeG1sbnM6cmRmPSJodHRwOi8vd3d3LnczLm9yZy8xOTk5LzAyLzIyLXJkZi1zeW50YXgtbnMjIj48cmRmOmxpPkJpbGxpb25haXJlU1JveTwvcmRmOmxpPjwvcmRmOlNlcT4NCgkJCTwvZGM6Y3JlYXRvcj48L3JkZjpEZXNjcmlwdGlvbj48L3JkZjpSREY+PC94OnhtcG1ldGE+DQogICAgICAgICAgICAgICAgICAgICAgICAgICAgICAgICAgICAgICAgICAgICAgICAgICAgICAgICAgICAgICAgICAgICAgICAgICAgICAgICAgICAgICAgICAgICAgICAgICAgCiAgICAgICAgICAgICAgICAgICAgICAgICAgICAgICAgICAgICAgICAgICAgICAgICAgICAgICAgICAgICAgICAgICAgICAgICAgICAgICAgICAgICAgICAgICAgICAgICAgICAKICAgICAgICAgICAgICAgICAgICAgICAgICAgICAgICAgICAgICAgICAgICAgICAgICAgICAgICAgICAgICAgICAgICAgICAgICAgICAgICAgICAgICAgICAgICAgICAgICAgIAogICAgICAgICAgICAgICAgICAgICAgICAgICAgICAgICAgICAgICAgICAgICAgICAgICAgICAgICAgICAgICAgICAgICAgICAgICAgICAgICAgICAgICAgICAgICAgICAgICAgCiAgICAgICAgICAgICAgICAgICAgICAgICAgICAgICAgICAgICAgICAgICAgICAgICAgICAgICAgICAgICAgICAgICAgICAgICAgICAgICAgICAgICAgICAgICAgICAgICAgICAKICAgICAgICAgICAgICAgICAgICAgICAgICAgICAgICAgICAgICAgICAgICAgICAgICAgICAgICAgICAgICAgICAgICAgICAgICAgICAgICAgICAgICAgICAgICAgICAgICAgIAogICAgICAgICAgICAgICAgICAgICAgICAgICAgICAgICAgICAgICAgICAgICAgICAgICAgICAgICAgICAgICAgICAgICAgICAgICAgICAgICAgICAgICAgICAgICAgICAgICAgCiAgICAgICAgICAgICAgICAgICAgICAgICAgICAgICAgICAgICAgICAgICAgICAgICAgICAgICAgICAgICAgICAgICAgICAgICAgICAgICAgICAgICAgICAgICAgICAgICAgICAKICAgICAgICAgICAgICAgICAgICAgICAgICAgICAgICAgICAgICAgICAgICAgICAgICAgICAgICAgICAgICAgICAgICAgICAgICAgICAgICAgICAgICAgICAgICAgICAgICAgIAogICAgICAgICAgICAgICAgICAgICAgICAgICAgICAgICAgICAgICAgICAgICAgICAgICAgICAgICAgICAgICAgICAgICAgICAgICAgICAgICAgICAgICAgICAgICAgICAgICAgCiAgICAgICAgICAgICAgICAgICAgICAgICAgICAgICAgICAgICAgICAgICAgICAgICAgICAgICAgICAgICAgICAgICAgICAgICAgICAgICAgICAgICAgICAgICAgICAgICAgICAKICAgICAgICAgICAgICAgICAgICAgICAgICAgICAgICAgICAgICAgICAgICAgICAgICAgICAgICAgICAgICAgICAgICAgICAgICAgICAgICAgICAgICAgICAgICAgICAgICAgIAogICAgICAgICAgICAgICAgICAgICAgICAgICAgICAgICAgICAgICAgICAgICAgICAgICAgICAgICAgICAgICAgICAgICAgICAgICAgICAgICAgICAgICAgICAgICAgICAgICAgCiAgICAgICAgICAgICAgICAgICAgICAgICAgICAgICAgICAgICAgICAgICAgICAgICAgICAgICAgICAgICAgICAgICAgICAgICAgICAgICAgICAgICAgICAgICAgICAgICAgICAKICAgICAgICAgICAgICAgICAgICAgICAgICAgICAgICAgICAgICAgICAgICAgICAgICAgICAgICAgICAgICAgICAgICAgICAgICAgICAgICAgICAgICAgICAgICAgICAgICAgIAogICAgICAgICAgICAgICAgICAgICAgICAgICAgICAgICAgICAgICAgICAgICAgICAgICAgICAgICAgICAgICAgICAgICAgICAgICAgICAgICAgICAgICAgICAgICAgICAgICAgCiAgICAgICAgICAgICAgICAgICAgICAgICAgICAgICAgICAgICAgICAgICAgICAgICAgICAgICAgICAgICAgICAgICAgICAgICAgICAgICAgICAgICAgICAgICAgICAgICAgICAKICAgICAgICAgICAgICAgICAgICAgICAgICAgICAgICAgICAgICAgICAgICAgICAgICAgICAgICAgICAgICAgICAgICAgICAgICAgICAgICAgICAgICAgICAgICAgICAgICAgIAogICAgICAgICAgICAgICAgICAgICAgICAgICAgICAgICAgICAgICAgICAgICAgICAgICAgICAgICAgICAgICAgICAgICAgICAgICAgICAgICAgICAgICAgICAgICAgICAgICAgCiAgICAgICAgICAgICAgICAgICAgICAgICAgICAgICAgICAgICAgICAgICAgICAgICAgICAgICAgICAgICAgICAgICAgICAgICAgICAgICAgICAgICAgICAgICAgICAgICAgICAKICAgICAgICAgICAgICAgICAgICAgICAgICAgIDw/eHBhY2tldCBlbmQ9J3cnPz7/2wBDAAcFBQYFBAcGBQYIBwcIChELCgkJChUPEAwRGBUaGRgVGBcbHichGx0lHRcYIi4iJSgpKywrGiAvMy8qMicqKyr/2wBDAQcICAoJChQLCxQqHBgcKioqKioqKioqKioqKioqKioqKioqKioqKioqKioqKioqKioqKioqKioqKioqKioqKir/wAARCACPAnADASIAAhEBAxEB/8QAHwAAAQUBAQEBAQEAAAAAAAAAAAECAwQFBgcICQoL/8QAtRAAAgEDAwIEAwUFBAQAAAF9AQIDAAQRBRIhMUEGE1FhByJxFDKBkaEII0KxwRVS0fAkM2JyggkKFhcYGRolJicoKSo0NTY3ODk6Q0RFRkdISUpTVFVWV1hZWmNkZWZnaGlqc3R1dnd4eXqDhIWGh4iJipKTlJWWl5iZmqKjpKWmp6ipqrKztLW2t7i5usLDxMXGx8jJytLT1NXW19jZ2uHi4+Tl5ufo6erx8vP09fb3+Pn6/8QAHwEAAwEBAQEBAQEBAQAAAAAAAAECAwQFBgcICQoL/8QAtREAAgECBAQDBAcFBAQAAQJ3AAECAxEEBSExBhJBUQdhcRMiMoEIFEKRobHBCSMzUvAVYnLRChYkNOEl8RcYGRomJygpKjU2Nzg5OkNERUZHSElKU1RVVldYWVpjZGVmZ2hpanN0dXZ3eHl6goOEhYaHiImKkpOUlZaXmJmaoqOkpaanqKmqsrO0tba3uLm6wsPExcbHyMnK0tPU1dbX2Nna4uPk5ebn6Onq8vP09fb3+Pn6/9oADAMBAAIRAxEAPwD07w58M/CN/wCFdKvLvSfMnuLKGWV/tMo3MyAk4D4HJ7Vp/wDCqPBf/QG/8mpv/i62PCH/ACI+hf8AYOt//Ra1rt90/SodlG9jCFGk4r3V9xyH/CqPBf8A0Bv/ACam/wDi6P8AhVHgv/oDf+TU3/xdeYfDfVdZj8K/DvQdJ1V9Nt9WbVRdSRQRyP8Au5Syld6sAeo5BHJyDxjX8P8AjjxL4iPhPSbrWjp8t4NRN5qUFvCHuDbOUVQrqyLkfM2B24xzVSik7ev4bluhSV/dW9tvO36HX2Hw5+H2qWoutMsbe8tyxUTW9/LIhIOCMhyMggg1Z/4VR4L/AOgN/wCTU3/xdeT+BvFGtWXhDwdoOiNdkardalNNcaatt58gjkYhYvtJ8oZLbjnJwOPWtvxb488d+C/DGiX9+ofVna8gn0qWKJ3uIVVjHeMYd23YArOqnacnp2Gklf8Ar+r/ANW1D2FJu3KvuO9/4VR4L/6A3/k1N/8AF0f8Ko8F/wDQG/8AJqb/AOLrd8NSyT+FtMmn1IarJLaxyNfBFUXBZQd4CgAA54GOladOUFF2JVKk1flX3I8jh8I+GJIEc6Db5ZQTi4uPT/rpRL4T8JwQvLNoltHHGpZ3e6nAUDqSfM4FasH/AB5Rf9cx/KvJ/BOkovwtn1BtC0mMnT7vbqSNm6c/OMMPKGBjI++eAPwh2SbtsXHD0m17q37HoUHhXwldW8c9to1rNDKoeOSO6nZXU8ggiTBHvUn/AAh3hf8A6AMH/gRcf/HK8+0vXddkt9B0HRvt0ax+HILoGxW1MkjsAoJ+0EDYMc7ecnrVu91/xZJqc9jc339kXNv4b/tCWKCKKTbcqzAjLBhtPcZPQYI5JucYxb+f4X/yJjQpu3urp072/wAztv8AhDvC/wD0AYP/AAIuP/jlH/CHeF/+gDB/4EXH/wAcrhrfxnr2nxxXl1dDUFu/DT6sLcwKiwzLg4UqAxXDchiTxnI6VNZ634vTw/c6pKbyS0bRJbr7VdCz2x3ATchhEJJKHJ4cE8DnrScUr3W3/B/yYRoUna0Vr5en+Z2f/CHeF/8AoAwf+BFx/wDHKP8AhDvC/wD0AYP/AAIuP/jlcHNq+u3Vq1je6tJcR6r4YkvyFt4lMMoAyEwv3SGxhtx9CK7D4ewvD8PtF8y7lud9lC6mQIPLBRfkG1RwPfJ9SafItfL/ADa/QXsaWnur7vJP9SzD4R8MSQI50G3yygnFxcen/XSmXfhnwdYWr3N9pNnbQRjLyzXk6KvbkmXAo8U/8k71f/sFzf8Aoo157qGkpZ/A68ujoWk6e8um2+LmybdLOCUJMn7pMHoerc/nSUU76dvxuUsPSuvdWvl6f5npA8H+FyMjQYMf9fNx/wDHKP8AhDvC/wD0AYP/AAIuP/jlcdqHiDxVfeJNcsfD0V2X0lYFtoIBa+XIzJvJn85g+1ugMeOAe9U9f8VeJbd/F1xbambQaGbSSG2EETq3mKpdHJXJGc8gg89ego5V2EqFN/ZX3He/8Id4X/6AMH/gRcf/AByj/hDvC/8A0AYP/Ai4/wDjlcPrPi/X/DieJ7c3v9oSWcVnJbTzQxoYTOdrZ27VKg8jd07k1Nq+ueL9D8M63eS/bIooVtmsrrUVtGl3tKFkQrASpXBGCQDyeemDlT6B7Gl/KvuOy/4Q7wv/ANAGD/wIuP8A45R/wh3hf/oAwf8AgRcf/HK858a3mrSaF4y0W+1Wa8hsba0uYpDDEj4c/Mh2qAVyMg4DD1NdR4+uNQ0f4W3L2eoXUkyiJZL35VlWNpFDMDGqgYUkZA6fnS5VYPYUr/Cvu9P8ze/4Q7wv/wBAGD/wIuP/AI5R/wAId4X/AOgDB/4EXH/xyuM1ew0zwz4v8KP4RtYbeWcTCeKzXH2m2WLdl8fe5AIY5571D/wletQ/Di38RNrqSXeqBQIXgj8uz3zKhdAAGIQNg7y3O36F8qfTyF7Gl/KvuO5/4Q7wv/0AYP8AwIuP/jlH/CHeF/8AoAwf+BFx/wDHKwptV1DSfHGhaRLrhvbW5F155mjiVyUjR1ViigAjJbgLwRnPU874f8U+IvED+GLf+2mhGpNf/aJ4oISzLE/ybcqVBxxnB4J6nBoUU2h+xpJXcV9x3/8Awh3hf/oAwf8AgRcf/HKP+EO8L/8AQBg/8CLj/wCOVz/h7XtV/wCEym03X7qZzdtcSWAiWB7WSFGUAqyfvA4zyHyOuMVu6vqP+h6nDqFtqWm2MVtIz6pFJEAqheWTa7SBhyRlO30pWVkwVCle3KvuH/8ACHeF/wDoAwf+BFx/8cqlc6P4EszcC7stNgNqqtP5t/KvlBjhS2ZflBPTPWqvgXUPEd8k39tRzy6eFza3l7aLa3Mp3tkNErMMABcMQhP905zXI3t06eCfiHqmIJbn+2HixNCkqhY2jVAVcEHA55FPlV7W/q6X6jVCk/sre2x6KPB/hcjI0GDH/Xzcf/HKP+EO8L/9AGD/AMCLj/45VXxjrF9ovhC9u9MtLiadLSR1nh8rbbkJkOwdhkewDdOlWNJuLrXvCy/bIb3TJri3CGUvEJDuQfvEKMwHXjOCMdKOVa2WxKo0rJuK18iO78NeDrC3NxfaTZ20KkAyTXk6KCTgDJlxySBUp8H+FgCToVuAOpNzcf8AxyuB8O6db/8ACsPHNgxbyI76/UNIxYjaowSTyTwDk12ek23/AAk3w50lNQkIa5sreWRwiP8ANtVs4cMOo69R1BBwaXKrXS7fiP2NK+sV16dixB4W8I3VvHPa6NaTQyKGSSO7nZWB6EESYIpsHhrwddPMlrpNnM0D+XKsd5OxjbGdrYl4PI4NO8K+GYvCmirYwzm4bCl5DCke5goXPyjJ6dWLH3xiuA0LVdRsvhz4dudMvFt7rWteZLuYRK+fNklDcNnkbRj6DtxVcsb2Xl+LD2FK1+Vfd5Nnof8Awh3hf/oAwf8AgRcf/HKP+EO8L/8AQBg/8CLj/wCOVneDdV1G7/t201K4a/k0vUZLeKYoiSSJtVlDBQq5+bGQAK3dPvJ723d7nTbrTmVsCO5aJmYY6jy3cY+pzU2Vr+Vw9jS/lX3GNb6P4Duzbi0s9NnN0HMHlahK3m7fvbcS/NjvjpVp/CPhhXjA0G3+ZsH/AEi49Cf+entXnltdO/gnwXqWIIriLxF5KCGBIl2PNLGyhUAAyvXA5xk16zL/AKyD/fP/AKCarlVr+f8Ak/1B0KSduVfd5tfoZn/CHeF/+gDB/wCBFx/8co/4Q7wv/wBAGD/wIuP/AI5UHjbSptc8J3WmWl/HYz3W1I3lYhZDkHy2xzhsbTjsTwelcTYeJ7jTmstLs9NttBmh8Qw2GoxWe17aYPGSTHkYTdgHAwR3OSaSim7f10X6g6NJK/Kvu+f6He/8Id4X/wCgDB/4EXH/AMco/wCEO8L/APQBg/8AAi4/+OVwUvjLXZr2WG11RVRvFY0xHWGNtkBT7o45IPOTk5HORxSx+JPElp5s82tNcpY+JF0pontol+0QsRy5VQQw3DBXaOOQc0RipW03t+Nv/kkDoUl9lfd6/wCTO8/4Q7wv/wBAGD/wIuP/AI5VW/0DwTpVv9o1TTrCyhLBfMuL6aNcnoMtKBmq/iPUtRPjDQ9Csb19Ngvo55pbqKNGkby1GI13hlH3sn5ScDjHNcWb7U/Ecng65vdSmSVdYuLVbi3jiAmEayKJgGQjcQMH+HrgDsKKbWm/+dgdGkk3yr7vK56MPB/hcjI0GDH/AF83H/xyobbw14OvPN+yaTZz+TIYpPKvJ22OOqnEvBHp1rC8aWk0/wAQvBpi1C5tA0tyoaJYzsPkk5G9G5PTnIx0APNc7p+oapor6jf2OoMsL+MHtZbMwoUlSRwrEsRuDcjBBA45BojFN2t/V0v1B0KSV+Vfd6/5Hov/AAh3hf8A6AMH/gRcf/HKP+EO8L/9AGD/AMCLj/45XG2HiLxbrOrXlxplvdyRWmsNaNbD7KtssCMFfeWbzhJjLZHHTgitjxlruqWfiLQ9G0oXSDUBNJLJZiDzmEaghE88+X3yc5OBxSsmk7b/AOVw9hSu1yrTyNSXw14OguYLefSbOOa4JEMT3k4aUgZO0GXJwOeKm/4Q7wv/ANAGD/wIuP8A45XFyz60fEXgh/EduyX8dxfgqSm6RRC2xiIyVDFcZAOM5xTvCfiHxbrkWmav5V1LZXbTG7V/si20KfNt8ra3nblIUEPnPzcDiiytcPYUv5V93qdl/wAId4X/AOgDB/4EXH/xyj/hDvC//QBg/wDAi4/+OV5/oPiHxPqkPhGSfX5F/t0XMVwFtYf3flAkOnycMduDnK8/dp1n418Q39l4csd9xJc3st4lxc2Mdus03kMVAQTERgngtx0HAFPlSdrB7Glvyr7v67Hff8Id4X/6AMH/AIEXH/xyj/hDvC//AEAYP/Ai4/8AjlcmNV8WHUfDGkancyaXcX7XiXLrHA8jpGAY343IrkdQMjJPHTGJa3mqeItT8DXeoapPFdfar62aeCKJcmNXXfhkIDMBgjp6AHmhRTsHsaSV+Vfd6/5HoEvhvwbBdQW0+lWUVxc7vIie8mDy7RltoMuTgcnHSp/+EO8L/wDQBg/8CLj/AOOVleJbl4fHnhGJEhImlugzPAjOAISflYjK8jnaRnoa53wx4n8QXB8I3moaqbqPWpLiC4tjbxoq7AxVlKqGDfLzzg56ChRT6A6FJfZX3ev+R2//AAh3hf8A6AMH/gRcf/HKpz6L4Ftjci5stNhNoFa48y/lXyQ33S+Zflz2z1rA+Ifiy/0f7f8A2LeXiT6daxzyJDBB5K73wPNaU7m3YwBGMjnOcjHPeL5PNX4iyEYL2OnNj0zmhJPoNYele3Kvu9P8z0weD/C5GRoMGP8Ar5uP/jlH/CHeF/8AoAwf+BFx/wDHKyfHOsX2j6bop06+SxN5qcNrLM8auFjdWz97jqAfw/Cud/4SvXhcyaMupM4/4SFdMGrmGIusZTeVwB5fmZ+TO3HtmhRTdrf1p/mifY0rJuK77ev+TO4/4Q7wv/0AYP8AwIuP/jlH/CHeF/8AoAwf+BFx/wDHK4uTX/FLpqNhY3rXn9m6v5D3MQt0up7cR73CB1ERdMgH5Rx7806TxlqBn0nV1v7lvD01vbh5YIYDIJ5JNv8ApEbfMFI7xnrnGaFFO3y/FXX+XqDo0l9ldei6O39eR0o0fwGSQLPTCRcfZT/xMJf9d/zy/wBb9/8A2etT3PhrwdZrGbzSbOASyLFGZbydd7noozLyT2FedarcyT71MkFp5XjlY0ljgjTb8n3mwAGbJ+82Se+as6pqt/fIllf3Zvl0zxfaW0N2yIrSLkMVbYAu5ScHAFEYqVtN7fjy/wDyQ5UKSv7q69P8X+R6F/wh3hf/AKAMH/gRcf8Axyj/AIQ7wv8A9AGD/wACLj/45XG2HiLxbrOrXlxplvdyRWmsNaNbD7KtssCMFfeWbzhJjLZHHTgitfx5rGr6RNa3NjPNHplvDLPqH2IQNcKoA2tsl4KZznbg+9K0bJ9/8rh7CldrlX3fI2/+EO8L/wDQBg/8CLj/AOOVDF4a8HTXU1tDpNnJPb7fOiS8nLR7hkbh5uRkcjNcbrfjfVLXTPGtxa6kkZ08WbaeTEg2CVFJ4Yc5yfvZqhqOqX+l65451ew1YWdxZwWNx5RjjYXB8oDa24E7TnHy4OT17U+VdUCoUntFfd6f5no//CHeF/8AoAwf+BFx/wDHKP8AhDvC/wD0AYP/AAIuP/jlcXrXjXUodYtJLC4vVjXUrWyuoWggW2UyKC0ZLEzNJhs7l+UcehJr3fiXxLH4T8Q61HrBEtnq7WNrD9ni8tUE6LlvlyThivUce/NHKu39af5oXsaVr8q+71/yZ3n/AAh3hf8A6AMH/gRcf/HKP+EO8L/9AGD/AMCLj/45XF+NfEmq+HbK7h0/WNRur3TLWO4mkFtaiLLyEDzSwBIOMKIgCO5JPBqfivX7TxJN4cjuyt5qdzay6ZN5Cnyrd+Zh93B2bGGTk/NQopuy/r+v0G6NJa8q+47T/hDvC/8A0AYP/Ai4/wDjlR2vhrRrHx54WGnWP2QXMl6swiuJfmCQAryXJH3j0IrD8Pa9qv8AwmU2na/cysbtriSwESwPayQIygFWT94HGcEPkdeldgv/ACPng7/rtqH/AKTpSsrJmdSlTjtFXTXTzRt+HfEEFj4T0a3ktrh2TTrbLIEwcxKe7A960f8AhK7X/nzu/wAo/wD4uuT03/kBaV/2DrX/ANEpVimtjaHwo07W78OWX2T7H4cS3+w7/svlWsC/Z9/39mD8u7vjGe9RTnwpc2EVjc+Fbea0hlM0dvJZQNGkhJJcKTgMSTz15NUazdd1f+xdLNysBuZnljgggDbfMkdgqgnsMnk84GTg9KZZ0Ny/ha800add+F4J7FZTMLWWzgaISEkl9hONxLNz15PrS2svhiw8r7D4YhtvJieGLybOBPLjc5ZFweFJOSBwTXNaLq8+oy3trf2iWl7YyiOWOKfzUIZQysrFVJBB7qOQfrWrQBuWOuaVpllHZ6bpElnawjEcFvFFGiDOcBQ2Byasf8JXbf8APnd/lH/8XXN0UAVreRhaxDyJCNg5BXnj61m2/hnQLSZpbTwzYQSMrIzxWkKkqwwwyOxBwR3rWtv+PSH/AHF/lUtAGTd6Fo9/bW9vfeH7S5gtV2wRTW0TrCMAYUHhRgDp6CpE0vTozmPRoFP2f7L8sMY/c/8APP8A3P8AZ6VpVBeTS29q8lvbPdSDG2JGVS2TjqxAAHU+w4BPFDArxWNnbywyQaVHFJBD5ELpFGDHH/cUg8LwOBxxVW28OaHZNM1n4bsbczxtFKYrWFfMQ9VbHUHuDU/h7Vm1zw/aak8At2uELGIPvCnJGN2Bnp6CtKgCillZxSxSx6VGkkMPkROscYKR/wBwHPC8DgccUlhY2elW5g0vSo7KEsXMdtFHGpY98KQM8VfooApqq3GnCC4tDNDJFsdHCsrqRgggnkEdjVCHwzoFtHNHb+GdPiSddkqx2cKiRc5wwHUZAOD6VrW3/HpD/uL/ACqWgDJ1DQtH1adZtV8P2l7Ki7FkubaKRlXrgFs8cnipJdL06YXQm0aCQXm37SHhjPn7fu7/AO9jtnpWlRQBRaxs3kuHfSo2e6jEU7GOMmZACArc/MME8H1qpB4d0O1tpre28OWMMFxt86KO1hVZNpyu4Dg4PIz0rZooAoSWNnK9w8ulRO11GIrhmijJmQAgK3PzDk8H1p1ta21lYrZWempb2qgqIIkRUAPUbQcdzV2igDL07RtL0d5H0jQrawaQAObW3iiLAdM7cZoj0fS4TdmLQ7ZDfAi6228Q+0Zznf8A3up656mtSigDIbQNGewisX8PWbWkL+ZFbm2iMcbf3lXoDyeR61NDpthbyxSQaPDFJCXMTpDGDGXOXKkHjd3x171o0UAZ1vpthZ3017aaPDBd3H+uuIoY1kk5z8zA5PPrVzzX/wCfeT81/wAazfEfiCDw7p8U85h3zyiGETziGPcQTl3OdqgKSTg9OATgVZ0e/fU9Khu3Nm3m5IayuvtERGcZWTaufyo6AWfNf/n3k/Nf8awbPw1Db6lrclxCLuw1eVJpLKeFGVZAoDHJYhgcKcEcEV0dFAFadEubZ7e5sjNDIpR4pAjKyngggnBHtSSQxS2bWktgHtmTy2hZUKFcY27c4xjjFWqKAOW1Pwbps+hX+n6Hpdrost9D5Etza2cQbyyfmHylc5GR1461v2qCztIbaC2kWKGNY0GV4UDA7+1WqKAIvNf/AJ95PzX/ABrA0PwzDpFpLaTwC9txfve2iSwpm1LHdgEsckEthuDzXSUUdbh5FSCCG1eZ7XTxC07+ZK0aIpkbGNzYPJ4HJqbzX/595PzX/GpaKAObvvDMN1f6M1vALOx0q4e6FnBCirJKQQpyGAGCzHpyTW3LK5kh/cSD5/VeflPvVmopf9ZB/vn/ANBNAeZDdwQ39q9rfaeLm3kGHimVHRh7gnBqr/YukjSjpg0G1/s8tuNp9ni8rOc52dM556Vq0UAZaaNpcSosehWyCOVZkC28Q2yKNquPRgAAD1Ap50zT2Vw2jwEPOLlwYY/mlHSQ+rcD5uvFaNFAGfqGn2WrwLBq2kxX0StvWO5ijkUN0zhieeTSixswlqo0qMLZ4+zDyo8QYGBs5+XjjjtV+igChf2FnqsKRappUV7Gjh1S4ijkCt6gMTg89ab/AGZp5jZDo0Gxp/tLL5MeDLnPmEf3s/xda0aKAMmbQtHudSGo3Hh+0lvgysLqS2iaUFcbTvPORgY9MVPqFhZatbi31XSYr6FW3iO5ijkUN0zhiRnk/nV+ijyAzbfStOtFtltdFt4VsyxthHBGogLfeKY+7nJzjrmoo9B0eHUjqMXh+zS+ZmY3K20QlJbO47uuTk59c1r0UAZ0Omafbrai30aCIWZY2wSGNfI3fe2Y+7nJzjrUc2iaTcWC2NxoNrLaLIZRbvbxNGHOcttPGeTz7mtWigDNt9K060FsLTRbeAWm77OIoI18nd97Zj7ue+OtMl0XSZ7JLObQbWS2jkMqQPbxFFc5JYL0B5PPXk1q0UAVJYIJ7iCefT1kmtyTDI6IWiyMHaScjI44qGLTNPgS2WDR4I1tGZrcJDGBCTnJTH3ScnOPWtGub17xfDpGrR6ZE+nLdNGJWOo6gLSMKxKqFO1izEqeAOg5PTJ5B0L99oulapcrcaloVreTqnlrLcW8UjBeflyeccnj3NPl0vTpxcCfRoJBdKq3AeGM+cF+6Gz94DtnpWiM7RuABxyAc0tAHP8Aibw+PEsOnRTK0cVlfR3bI0aSLMFDAoRuGAd3Xn6VcGjaUulHTF0K1Gnk5NoLeLyic5zs6deelalFAGS+iaRJpaaa+gWjWEbbktTbxGJTknIToDknt3p8mkaZLc21xLolu89ooW3laCItCB0CHqoHtWnRQBmvpWmypIsmi27rJMZ3DQRENIRtLn1YjjPXFJFpGmQWcNpBolvHbQSiaKFIIgkcgOQ6qOA2ecjmtOigDJm0LR7nUhqNx4ftJb4MrC6ktomlBXG07zzkYGPTFS3+m2Gq+V/amjw3vktui+0wxybD6jcTg8dq0aKAMu70bStQujc3+hWt1cGPyjLNbxO5Tn5cnnHJ496SfRNJurgT3Wg2s0yuJBJJbxMwYAANk85AAAPsK1aKAMqbRNJuNQN/caDay3jFSbh7eJpCVxt+Y88bRj0wPSpG0zT2tZbZtGgNvNL50sRhj2PJnO8joWyAcnnIrRooAyr7RdK1S5W41LQrW8nVPLWW4t4pGC8/Lk845PHuapXHh83Pjax16TPl2Fo8EFsIkBDORl9+70GMY/Guioo2DczrfTbCzvpr200eGC7uP9dcRQxrJJzn5mByefWplkb/AITjwe3lPkTX/wAuRk/6OnvirdV1/wCR88Hf9dtQ/wDSdKT2Mq3w/Nfmg03/AJAWlf8AYOtf/RKVYqnp8KvomlEl8/2da9HYf8sE9DU/2dPWT/v63+NC2Kh8CJayvEelTatpaR2jolzb3EVzD5mdjPG4YKxGSAcYzg4znBxitD7OnrJ/39b/ABo+zp6yf9/W/wAaZZmaHp17b3WoahqggS6v5VYw28jSJEqIFUBmVSx4JJ2jrjHGTsVF9nT1k/7+t/jR9nT1k/7+t/jQBLRUX2dPWT/v63+NH2dPWT/v63+NABbf8ekP+4v8qlqtbwIbWIkycoOkjDt9ak+zp6yf9/W/xoAlqC9a6SzdtPhhnuONkc8xiQ885YKxHHsad9nT1k/7+t/jR9nT1k/7+t/jQBj+D9O1PSPD0GnavFaI9uNqPa3DShwSTk7kXHXpzW7UX2dPWT/v63+NH2dPWT/v63+NAEtFRfZ09ZP+/rf40fZ09ZP+/rf40AFt/wAekP8AuL/KparW8CG1iJMnKDpIw7fWpPs6esn/AH9b/GgCWiovs6esn/f1v8aPs6esn/f1v8aAJaKi+zp6yf8Af1v8aPs6esn/AH9b/GgCWiovs6esn/f1v8aPs6esn/f1v8aAJaKi+zp6yf8Af1v8aPs6esn/AH9b/GgCWiovs6esn/f1v8aPs6esn/f1v8aAMrxDpV1fvp15pwge7026+0Rx3DlEkBRkZSwVivDkg4PIFP8ADWkz6TpsqXjQ/aLm5lupUgyY42kYttUkAkD1wMnJwM4rS+zp6yf9/W/xo+zp6yf9/W/xoWn9f12B6/1/XcloqL7OnrJ/39b/ABo+zp6yf9/W/wAaAJaKi+zp6yf9/W/xo+zp6yf9/W/xoAloqL7OnrJ/39b/ABo+zp6yf9/W/wAaAJaKi+zp6yf9/W/xo+zp6yf9/W/xoAloqL7OnrJ/39b/ABo+zp6yf9/W/wAaAJail/1kH++f/QTR9nT1k/7+t/jUcsCCSHmTl/8Ano390+9AFmiovs6esn/f1v8AGj7OnrJ/39b/ABoAloqL7OnrJ/39b/Gj7OnrJ/39b/GgCWiovs6esn/f1v8AGj7OnrJ/39b/ABoAloqL7OnrJ/39b/Gj7OnrJ/39b/GgCWiovs6esn/f1v8AGj7OnrJ/39b/ABoAloqL7OnrJ/39b/Gj7OnrJ/39b/GgCWiovs6esn/f1v8AGj7OnrJ/39b/ABoAloqL7OnrJ/39b/Gj7OnrJ/39b/GgCWuU8QeHNSvNQ1GbSlsZE1awFjc/a5GXyQC+HUBTv4kb5SV6Dmum+zp6yf8Af1v8aPs6esn/AH9b/Gk1fcabQlpbi1s4bcMXEMaoGbqcDGTU1RfZ09ZP+/rf40fZ09ZP+/rf41Td3dkpWVkS0VF9nT1k/wC/rf40fZ09ZP8Av63+NIZLRUX2dPWT/v63+NH2dPWT/v63+NAEtFRfZ09ZP+/rf40fZ09ZP+/rf40AS0VF9nT1k/7+t/jR9nT1k/7+t/jQBLRUX2dPWT/v63+NH2dPWT/v63+NAEtFRfZ09ZP+/rf40fZ09ZP+/rf40AS0VF9nT1k/7+t/jR9nT1k/7+t/jQBLVdf+R88Hf9dtQ/8ASdKf9nT1k/7+t/jUKxL/AMJx4PTL4M1//Gc/8e6d85pPYyrfD81+aH6b/wAgLSv+wda/+iUqxVPT5GXRNKAhdh/Z1ryCv/PBPU1P5r/8+8n5r/jQtiofAiWoLy0ivrR7e43+W+NwSRkJwc4ypBxxyO44PBp3mv8A8+8n5r/jUN5bwajaPa6hpy3VvJjfDOiOjYORkE4PIzQ9UWY/w/VU8BaUqAKqxEAAYAG410dZ2naZp+jxvHpGjQWKSHc62sMcQY+pC4zVzzX/AOfeT81/xqmBLRUXmv8A8+8n5r/jR5r/APPvJ+a/40gC2/49If8AcX+VS1Wt5XFrEBBIfkHIK88fWpPNf/n3k/Nf8aAJaoa4NMOjTnXTGNPUBphK2EIBBww7gnA2856YOcVa81/+feT81/xqvfWttqdo1rqWmpd27EFobhEkQ4ORkE460mNGT4M0w6fYXkqWn9n2t5dNPa2GwJ9mjKqANo4UsVLlR0LY65ro6zdN0vTtHWRdI0aCwWQguLWGOIOR0ztxmrvmv/z7yfmv+NUSS0VF5r/8+8n5r/jR5r/8+8n5r/jSGFt/x6Q/7i/yqWq1vK4tYgIJD8g5BXnj61J5r/8APvJ+a/40AS0VF5r/APPvJ+a/40ea/wDz7yfmv+NAEtFRea//AD7yfmv+NHmv/wA+8n5r/jQBLRUXmv8A8+8n5r/jR5r/APPvJ+a/40AS0VF5r/8APvJ+a/40ea//AD7yfmv+NAEtFRea/wDz7yfmv+NHmv8A8+8n5r/jQByn2RbH4halJYo5uJdH83Luzsz+a2BliePReg6ACszwpaWdreeFbnTUUXOo6ZLNfyr9+5O2MmSQ9WYOx5OcbiOK6tfD+ipqX9op4dslvd5k+0i1hEm89W3dc+9WLTTrHT7me4sNIhtp7lt08sMUaNKck5Yg5Y5J6+tEdFb+uv8An+AS1d/66f5fiaFFRea//PvJ+a/40ea//PvJ+a/40AS0VF5r/wDPvJ+a/wCNHmv/AM+8n5r/AI0AS0VF5r/8+8n5r/jR5r/8+8n5r/jQBLRUXmv/AM+8n5r/AI0ea/8Az7yfmv8AjQBLRUXmv/z7yfmv+NHmv/z7yfmv+NAEtRS/6yD/AHz/AOgmjzX/AOfeT81/xqOWVzJD+4kHz+q8/KfegCzRUXmv/wA+8n5r/jR5r/8APvJ+a/40AS0VF5r/APPvJ+a/40ea/wDz7yfmv+NAEtFRea//AD7yfmv+NHmv/wA+8n5r/jQBLRUXmv8A8+8n5r/jR5r/APPvJ+a/40AS0VF5r/8APvJ+a/40ea//AD7yfmv+NAEtFRea/wDz7yfmv+NHmv8A8+8n5r/jQBLRUXmv/wA+8n5r/jR5r/8APvJ+a/40AS0VF5r/APPvJ+a/40ea/wDz7yfmv+NADb1LeSwnS9YJbNGwlYyFAExydwIxx3zXnFzp1slheXulWi6b4f1O9sbbyIY/KSeLzcSSlRjarhwnQblGTwRXotwkd3bSW93Y+fBKpWSKVUZXB6ggnBFZ9r4d0OxWZbLw5Y263EZimEVrCgkQ9VbHUexoW9w6WKXha2t7DWvEFjpsUcFhBcxeVDCAscTmJS6qo4XqCQMcn3rpqp2VrbaZaLa6dpqWluhJWGBEjRcnJwAcdan81/8An3k/Nf8AGgCWiovNf/n3k/Nf8aPNf/n3k/Nf8aAJaKi81/8An3k/Nf8AGjzX/wCfeT81/wAaAJaKi81/+feT81/xo81/+feT81/xoAloqLzX/wCfeT81/wAaPNf/AJ95PzX/ABoAloqLzX/595PzX/GjzX/595PzX/GgCWiovNf/AJ95PzX/ABo81/8An3k/Nf8AGgCWiovNf/n3k/Nf8aPNf/n3k/Nf8aAJarr/AMj54O/67ah/6TpT/Nf/AJ95PzX/ABqFZG/4Tjwe3lPkTX/y5GT/AKOnvik9jKt8PzX5ofpv/IC0r/sHWv8A6JSrFV9N/wCQFpX/AGDrX/0SlWKFsVD4EFV76W5hs3ewtVurjICRNKI1JJxktg4A6nAJ44B6VYqhrY1VtHnXw+bVdQYARNdswjXnknAJyBnHHXGaGaIg0HWZtV+3Q3lolrd2Fz9nmSKbzYydiuCrlVJGHHUAg1rVjeGbC803Tmtr60t4CGL+ZFetctO7cs7s0afMT6Aj6AAVs1RIUUUUhkVt/wAekP8AuL/Kpaitv+PSH/cX+VS0AFV72W5hs3extlubjgJE8vlqSTjJbBwB1OATgcAnirFUtXgnutKmgtra0u2kAVre9yIpVz8ysQGxkZ7H6GkwRX0DWH1m1uWnt0t57W5ktpkil82PcvUq+1dw59Bg5HatWsPwto91o9ndJdLbwLPcGSGytHZobRNoGxCVXgkFjhVGWPHc7lUwCiiikBFbf8ekP+4v8qlqK2/49If9xf5VLQAUUUUAFFFFABRRRQAUUUUAFFFFAGNa67PP4oudIm057dYrbz45XmUtKN5X7oyADjIy2fUCorHXr9/EEWl6tpcVm9xbPcwNFd+cdqMoZXGxdrfOvQsOvPrAtjrw8byaobPTfsbW32Uf6dJ5m0OWD7fJxk5xt3ceppnh7T/EFvq0174gtdNkuLkbZLq3vpG8tBkpHHE0QAXnn5skkk54AI9L+f62/QJbv5fpf9TqKKKKACiiigAooooAKKKKACiiigAqKX/WQf75/wDQTUtRS/6yD/fP/oJoAlooooAKKKKACiiigAooooAKKKKACiiigAooooAKKKKAI53kitpHhiM0ioSkQYAuccDJ4GfeubPjI2Nrqx1uzhtrjTGiV0trrzY3MuNg3sqbTk85AABBzg10V2s7WUy2giM5jIjEwOwtjgNjnHrXGL4MvpLK/EdvpulB5Laa006zkZrZJYX8ze3yLgucKcJ0UH5ulHUZ0nh/V31rT2umbTXUSFFbTb/7XGcAdX2Lg89MGtWsTQNLvbS81PUNTFvFc6jMshgtXZ0jCoEHzFVLE4yTtHYdsnbpkhRRRSGFFFFABRRRQAUUUUAFFFFABRRRQAUUUUAFV1/5Hzwd/wBdtQ/9J0qxVdf+R88Hf9dtQ/8ASdKT2Mq3w/NfmiPT4VfRNKJL5/s616Ow/wCWCehqf7OnrJ/39b/Gmab/AMgLSv8AsHWv/olKsULYqHwIi+zp6yf9/W/xo+zp6yf9/W/xqWqGtQQ3WkzQXMNvcLJhVguZTHHK2RtRiAeCcDGDnOMHOKZZa+zp6yf9/W/xo+zp6yf9/W/xrm/AiLbWmq2PlR272uoyK1tb/wCot9yq4SI8ZXDAnhfmLfKK6mmBF9nT1k/7+t/jR9nT1k/7+t/jUtFICtbwIbWIkycoOkjDt9ak+zp6yf8Af1v8aLb/AI9If9xf5VLQBF9nT1k/7+t/jR9nT1k/7+t/jUtY3inUbnTtGzZRXDTXEggEtvbSTmANnMhRAWOADjjrgHGc0mM1Ps6esn/f1v8AGj7OnrJ/39b/ABrkfhq9omk6naWEdykVvqUwX7RbyRkqTxkuoy3HPcHrjNdnT6Iki+zp6yf9/W/xo+zp6yf9/W/xqWigZWt4ENrESZOUHSRh2+tSfZ09ZP8Av63+NFt/x6Q/7i/yqWgCL7OnrJ/39b/Gj7OnrJ/39b/GpaKAIvs6esn/AH9b/Gj7OnrJ/wB/W/xqWigCL7OnrJ/39b/Gj7OnrJ/39b/GpaKAIvs6esn/AH9b/Gj7OnrJ/wB/W/xqWigCL7OnrJ/39b/Gj7OnrJ/39b/GpaKAIvs6esn/AH9b/Gj7OnrJ/wB/W/xrmrSygtfifdmEPun0tXkZ5GZiTM3ckkAdgOB2xUHh3TNObxXJqXhu1ittMhtntpbiFcC/mLg7s9ZNm0jec5Lnk4NC1t8/wv8A5A9L/L8bHWfZ09ZP+/rf40fZ09ZP+/rf41LRQBF9nT1k/wC/rf40fZ09ZP8Av63+NS0UARfZ09ZP+/rf40fZ09ZP+/rf41LRQBF9nT1k/wC/rf40fZ09ZP8Av63+NS0UARfZ09ZP+/rf40fZ09ZP+/rf41LRQBF9nT1k/wC/rf41HLAgkh5k5f8A56N/dPvVmopf9ZB/vn/0E0AH2dPWT/v63+NH2dPWT/v63+NS0UARfZ09ZP8Av63+NH2dPWT/AL+t/jUtFAEX2dPWT/v63+NH2dPWT/v63+NS0UARfZ09ZP8Av63+NH2dPWT/AL+t/jUtFAEX2dPWT/v63+NH2dPWT/v63+NS0UARfZ09ZP8Av63+NH2dPWT/AL+t/jUtFAEX2dPWT/v63+NH2dPWT/v63+NS0UARfZ09ZP8Av63+NH2dPWT/AL+t/jUtFAEX2dPWT/v63+NH2dPWT/v63+NVNc1CbS9Euby2tZbuaNf3cMUbOWYkAcKC2ATk4BOAeK8yt5LRbfxLp8b3rz3lzZAyXWnyxrcTOUBEgkC4R2OCpIOwnGRS62GesfZ09ZP+/rf40fZ09ZP+/rf41zPgeKO0bWbH7LDZTwXgMtpaY+zQ7o1KiLGOCuCchTuJ4HGerpiIvs6esn/f1v8AGj7OnrJ/39b/ABqWigCL7OnrJ/39b/Gj7OnrJ/39b/GpaKAIvs6esn/f1v8AGj7OnrJ/39b/ABqWigCL7OnrJ/39b/Gj7OnrJ/39b/GpaKAIvs6esn/f1v8AGj7OnrJ/39b/ABqWigCL7OnrJ/39b/Gj7OnrJ/39b/GpaKAIvs6esn/f1v8AGj7OnrJ/39b/ABqWigCL7OnrJ/39b/GoViX/AITjwemXwZr/APjOf+PdO+c1bquv/I+eDv8ArtqH/pOlJ7GVb4fmvzRHp8jLomlAQuw/s615BX/ngnqan81/+feT81/xpmm/8gLSv+wda/8AolKsULYqHwIi81/+feT81/xqG7ghv7V7W+08XNvIMPFMqOjD3BODVuoL28g06xmvLt9kMCF3b2H9aHtqWRWVrbaZaLa6dpqWluhJWGBEjRcnJwAcdan81/8An3k/Nf8AGszwzrk2v6bNc3NibCWG4kgeBpN5Uqe5wOfbt6mtimBF5r/8+8n5r/jR5r/8+8n5r/jUtFAFa3lcWsQEEh+Qcgrzx9ak81/+feT81/xotv8Aj0h/3F/lUtAEXmv/AM+8n5r/AI0ea/8Az7yfmv8AjUtZfiPWP7A0C41Ly45fJ2DbLL5SfMwXLPg7QM5JwelF7BuW4US3Di3svKEjmR9gRdzHqxweSfWpPNf/AJ95PzX/ABqnoWpvq+lrdu1g4diFbT7z7VEwHHD7F5znjHFaNGwEXmv/AM+8n5r/AI0ea/8Az7yfmv8AjUtFAFa3lcWsQEEh+Qcgrzx9ak81/wDn3k/Nf8aLb/j0h/3F/lUtAEXmv/z7yfmv+NHmv/z7yfmv+NS0UARea/8Az7yfmv8AjR5r/wDPvJ+a/wCNS0UARea//PvJ+a/40ea//PvJ+a/41LRQBF5r/wDPvJ+a/wCNHmv/AM+8n5r/AI1LRQBF5r/8+8n5r/jR5r/8+8n5r/jUtFAGMPDuiDUDfjw5ZC8Zy5uPssPmFj1bd1yc9aLHw7oemXS3Wm+HLGzuFBCy29rDG4B68jmmw+IJG8SXemXdg1rFb2v2lZ3lVi67ypO1c4HGRzn1Aqroviq51K8sUvNMWzt9Ut2uLGQXPmOyLg4kTaNjFWBwCw6jPHIvL+t/8mD8zoPNf/n3k/Nf8aPNf/n3k/Nf8alooAi81/8An3k/Nf8AGjzX/wCfeT81/wAalooAi81/+feT81/xo81/+feT81/xqWigCLzX/wCfeT81/wAaPNf/AJ95PzX/ABqWigCLzX/595PzX/GjzX/595PzX/GpaKAIvNf/AJ95PzX/ABqOWVzJD+4kHz+q8/KferNRS/6yD/fP/oJoAPNf/n3k/Nf8aPNf/n3k/Nf8alooAi81/wDn3k/Nf8aPNf8A595PzX/GpaKAIvNf/n3k/Nf8aPNf/n3k/Nf8alooAi81/wDn3k/Nf8aPNf8A595PzX/GpaKAIvNf/n3k/Nf8aPNf/n3k/Nf8alooAi81/wDn3k/Nf8aPNf8A595PzX/GpaKAIvNf/n3k/Nf8aPNf/n3k/Nf8alooAi81/wDn3k/Nf8aPNf8A595PzX/GpaKAIvNf/n3k/Nf8arT2Nncx3CXOlRzJdAC4WSKNhNgYG7J+bHvUmp3v9m6ReX3l+Z9mgebZuxu2qTjPbpXO2vjVp/DsmpiHTbp2mit7eHTdS+0B5ZCAEdvLXYQWGeDgZPsTfT+tQ2N6ws7XS7UW2maXHZwAlhFbxxxqCepwCBVnzX/595PzX/Gs/RdXn1GW9tb+0S0vbGURyxxT+ahDKGVlYqpIIPdRyD9a1aAIvNf/AJ95PzX/ABo81/8An3k/Nf8AGpaKAIvNf/n3k/Nf8aPNf/n3k/Nf8alooAi81/8An3k/Nf8AGjzX/wCfeT81/wAalooAi81/+feT81/xo81/+feT81/xqWigCLzX/wCfeT81/wAaPNf/AJ95PzX/ABqWigCLzX/595PzX/GjzX/595PzX/GpaKAIvNf/AJ95PzX/ABo81/8An3k/Nf8AGpaKAIvNf/n3k/Nf8ahWRv8AhOPB7eU+RNf/AC5GT/o6e+Kt1XX/AJHzwd/121D/ANJ0pPYyrfD81+aDTf8AkBaV/wBg61/9EpViqenwq+iaUSXz/Z1r0dh/ywT0NT/Z09ZP+/rf40LYqHwIlrN1vRl1u1hha8ubMwzpOr24jJLL0yHVlIBweR1AParv2dPWT/v63+NH2dPWT/v63+NMsxfCug3mhR6gt9qMl8bq8knTeE+UMc5O1F+Y9xyOOMVv1F9nT1k/7+t/jR9nT1k/7+t/jR0AloqL7OnrJ/39b/Gj7OnrJ/39b/GgAtv+PSH/AHF/lUtVreBDaxEmTlB0kYdvrUn2dPWT/v63+NAEtVNRbUEtQ2kxW004YZjuZGjVl7/MqsQe/wB0+nfIm+zp6yf9/W/xo+zp6yf9/W/xoAy/D2lXVg+o3eoeQlzqNz9okhtmLRxYRUADEAscICWwMk9OK2ai+zp6yf8Af1v8aPs6esn/AH9b/GgCWiovs6esn/f1v8aPs6esn/f1v8aAC2/49If9xf5VLVa3gQ2sRJk5QdJGHb61J9nT1k/7+t/jQBLRUX2dPWT/AL+t/jR9nT1k/wC/rf40AS0VF9nT1k/7+t/jR9nT1k/7+t/jQBLRUX2dPWT/AL+t/jR9nT1k/wC/rf40AS0VF9nT1k/7+t/jR9nT1k/7+t/jQBLRUX2dPWT/AL+t/jR9nT1k/wC/rf40Ac4+l63ceMJ76e008afNaGyJW+cy7N7Nv2+VjOD93dx6mm6F4f1W1utKXVXtPs+jWrW1u8EjM9wSFUO6lQE+Vfugty3Xjnpfs6esn/f1v8aPs6esn/f1v8aForf11/zYPV3/AK/rREtFRfZ09ZP+/rf40fZ09ZP+/rf40AS0VF9nT1k/7+t/jR9nT1k/7+t/jQBLRUX2dPWT/v63+NH2dPWT/v63+NAEtFRfZ09ZP+/rf40fZ09ZP+/rf40AS0VF9nT1k/7+t/jR9nT1k/7+t/jQBLUUv+sg/wB8/wDoJo+zp6yf9/W/xqOWBBJDzJy//PRv7p96ALNFRfZ09ZP+/rf40fZ09ZP+/rf40AS0VF9nT1k/7+t/jR9nT1k/7+t/jQBLRUX2dPWT/v63+NH2dPWT/v63+NAEtFRfZ09ZP+/rf40fZ09ZP+/rf40AS0VF9nT1k/7+t/jR9nT1k/7+t/jQBLRUX2dPWT/v63+NH2dPWT/v63+NAEtFRfZ09ZP+/rf40fZ09ZP+/rf40AS0VF9nT1k/7+t/jR9nT1k/7+t/jQA29N2LOQ6csLXIGY1nJCMfQkAkZ9cHHoelcpd+FtV1S5vNVuvsVpqLNatb28MrSRfuJDIN7lFJLFiudvyjGM9K637OnrJ/39b/ABo+zp6yf9/W/wAaOtw6WMzQ9Ovbe61DUNUECXV/KrGG3kaRIlRAqgMyqWPBJO0dcY4ydiovs6esn/f1v8aPs6esn/f1v8aAJaKi+zp6yf8Af1v8aPs6esn/AH9b/GgCWiovs6esn/f1v8aPs6esn/f1v8aAJaKi+zp6yf8Af1v8aPs6esn/AH9b/GgCWiovs6esn/f1v8aPs6esn/f1v8aAJaKi+zp6yf8Af1v8aPs6esn/AH9b/GgCWiovs6esn/f1v8aPs6esn/f1v8aAJaKi+zp6yf8Af1v8aPs6esn/AH9b/GgCWq6/8j54O/67ah/6TpT/ALOnrJ/39b/GoViX/hOPB6ZfBmv/AOM5/wCPdO+c0nsZVvh+a/ND9N/5AWlf9g61/wDRKVYrkLD4i+H4NJsYLhNTEtvaQwvsto2XckaqcEyDIyPQVP8A8LJ8Nf3dV/8AAWP/AOO0lJWMoYiiopcx1FZPibTI9a0GXTJLiGA3TIqGePzFYhg+0pkbs7Txnpms3/hZPhr+7qv/AICx/wDx2q99458HanaNa6lZ313bsQWhuLCGRDg5GQZcdaTlFlrFUf5i54NZYYdS01LPT7f+z7wws+m2/kQzEorZCZO1hu2kZPI69h0lchZ+PPCGn2iWthaaha28f3IYbGFEXnPAEuBzU/8Awsnw1/d1X/wFj/8AjtVzruL6zR/mOoorl/8AhZPhr+7qv/gLH/8AHaP+Fk+Gv7uq/wDgLH/8dpcyD6zR/mOjtv8Aj0h/3F/lUtcpF8RvDUcKJjVTtUDP2SPn/wAi0/8A4WT4a/u6r/4Cx/8Ax2jmQfWaP8x1Fc746muYfCsgtJPJM1xBDJKc4SN5UVycEHG0nOCDg9R1qH/hZPhr+7qv/gLH/wDHajn+IPhS6t5ILmDUpoZFKPHJZRMrqeoIMuCKOaI1iqP8xJ4NVLObV9KSy0y3NjcorSaXa/Z4pS0atymWwwzg/MeMV1FcdY+OPBumWottNsr6zt1JIit7CGNAT14EuKs/8LJ8Nf3dV/8AAWP/AOO0+ddxfWaP8x1FFcv/AMLJ8Nf3dV/8BY//AI7R/wALJ8Nf3dV/8BY//jtLmQfWaP8AMdHbf8ekP+4v8qlrlIviN4ajhRMaqdqgZ+yR8/8AkWn/APCyfDX93Vf/AAFj/wDjtHMg+s0f5jqKK5f/AIWT4a/u6r/4Cx//AB2j/hZPhr+7qv8A4Cx//HaOZB9Zo/zHUUVy/wDwsnw1/d1X/wABY/8A47R/wsnw1/d1X/wFj/8AjtHMg+s0f5jqKK5f/hZPhr+7qv8A4Cx//HaP+Fk+Gv7uq/8AgLH/APHaOZB9Zo/zHUUVy/8Awsnw1/d1X/wFj/8AjtH/AAsnw1/d1X/wFj/+O0cyD6zR/mOoorl/+Fk+Gv7uq/8AgLH/APHaP+Fk+Gv7uq/+Asf/AMdo5kH1mj/MJ44W5uV0bToXhSG+vxFObiMyRMoidgjoGXcpZV4yAeh44qz4LmSTQZIY7SytRa3c9tiwh8qByjkb0XJxnuMnnPNZ97468H6laPa6jZ393bvjdDPYwujYORkGXB5p9t4/8J2dtHb2dvqMEES7Y4orKJVQegAlwBQpJXB4mi7e9/Wv9fI62iuX/wCFk+Gv7uq/+Asf/wAdo/4WT4a/u6r/AOAsf/x2jmQfWaP8x1FFcv8A8LJ8Nf3dV/8AAWP/AOO0f8LJ8Nf3dV/8BY//AI7RzIPrNH+Y6iiuX/4WT4a/u6r/AOAsf/x2j/hZPhr+7qv/AICx/wDx2jmQfWaP8x1FFcv/AMLJ8Nf3dV/8BY//AI7R/wALJ8Nf3dV/8BY//jtHMg+s0f5jqKK5f/hZPhr+7qv/AICx/wDx2j/hZPhr+7qv/gLH/wDHaOZB9Zo/zHUVFL/rIP8AfP8A6Ca5z/hZPhr+7qv/AICx/wDx2mP8RvDTMhxqo2Nn/j0j54I/56+9HMg+s0f5jq6K5f8A4WT4a/u6r/4Cx/8Ax2j/AIWT4a/u6r/4Cx//AB2jmQfWaP8AMdRRXL/8LJ8Nf3dV/wDAWP8A+O0f8LJ8Nf3dV/8AAWP/AOO0cyD6zR/mOoorl/8AhZPhr+7qv/gLH/8AHaP+Fk+Gv7uq/wDgLH/8do5kH1mj/MdRRXL/APCyfDX93Vf/AAFj/wDjtH/CyfDX93Vf/AWP/wCO0cyD6zR/mOoorl/+Fk+Gv7uq/wDgLH/8do/4WT4a/u6r/wCAsf8A8do5kH1mj/MdRRXL/wDCyfDX93Vf/AWP/wCO0f8ACyfDX93Vf/AWP/47RzIPrNH+Y6iiuX/4WT4a/u6r/wCAsf8A8do/4WT4a/u6r/4Cx/8Ax2jmQfWaP8x1FFcv/wALJ8Nf3dV/8BY//jtH/CyfDX93Vf8AwFj/APjtHMg+s0f5job4Qtp9wt0yrA0bCQtIYwFI5yw6fXtXmdyk+j2+v6da21ppEk01gXttPJNtbxSSCNn3AIdzANu+VONuCetdRL8RPC08LxTRanJHIpV0eziIYHqCPN5FU7XxX4DsrGaystJuLe0nz5tvFpkCRyZGDuUSYPHHNHNG4/rVH+Yv+DVSzm1fSkstMtzY3KK0ml2v2eKUtGrcplsMM4PzHjFdRXHWPjjwbplqLbTbK+s7dSSIrewhjQE9eBLirP8Awsnw1/d1X/wFj/8AjtPnXcX1mj/MdRRXL/8ACyfDX93Vf/AWP/47R/wsnw1/d1X/AMBY/wD47S5kH1mj/MdRRXL/APCyfDX93Vf/AAFj/wDjtH/CyfDX93Vf/AWP/wCO0cyD6zR/mOoorl/+Fk+Gv7uq/wDgLH/8do/4WT4a/u6r/wCAsf8A8do5kH1mj/MdRRXL/wDCyfDX93Vf/AWP/wCO0f8ACyfDX93Vf/AWP/47RzIPrNH+Y6iiuX/4WT4a/u6r/wCAsf8A8do/4WT4a/u6r/4Cx/8Ax2jmQfWaP8x1FFcv/wALJ8Nf3dV/8BY//jtH/CyfDX93Vf8AwFj/APjtHMg+s0f5jqKK5f8A4WT4a/u6r/4Cx/8Ax2j/AIWT4a/u6r/4Cx//AB2jmQfWaP8AMdRVdf8AkfPB3/XbUP8A0nSuf/4WT4a/u6r/AOAsf/x2kk8aEfEjQrWz021kgWS3NtNKJBMq3UUXmEgSbNxDY5BA/Wk5IzqYilKKSfVfnc//2Q==)"
      ],
      "metadata": {
        "id": "6xVZ6neVca0x"
      }
    },
    {
      "cell_type": "markdown",
      "source": [
        "So, **Total Sum** = 6 + 20 + 36 + 48 + 50 + 36 = 196"
      ],
      "metadata": {
        "id": "WfszN5cFcdbB"
      }
    },
    {
      "cell_type": "code",
      "source": [
        "# Sum of all possible subarrays\n",
        "\n",
        "def SumOfAllPossibleSubarrays(a):\n",
        "\n",
        "  total_sum = 0\n",
        "\n",
        "  n = len(a)\n",
        "\n",
        "  for i in range(n):\n",
        "\n",
        "    total_sum += a[i]*(i+1)*(n-i)\n",
        "\n",
        "\n",
        "  return total_sum\n",
        "\n",
        "\n",
        "SumOfAllPossibleSubarrays([1, 2, 3, 4, 5, 6])"
      ],
      "metadata": {
        "colab": {
          "base_uri": "https://localhost:8080/"
        },
        "id": "USbawm4LdMG8",
        "outputId": "d85ea9f4-653f-4ed2-a853-b196a2325c58"
      },
      "execution_count": 7,
      "outputs": [
        {
          "output_type": "execute_result",
          "data": {
            "text/plain": [
              "196"
            ]
          },
          "metadata": {},
          "execution_count": 7
        }
      ]
    }
  ]
}